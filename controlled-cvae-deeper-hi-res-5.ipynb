{
 "cells": [
  {
   "cell_type": "code",
   "execution_count": 1,
   "metadata": {},
   "outputs": [
    {
     "data": {
      "text/html": [
       "<style>.container { width:100% !important; }</style>"
      ],
      "text/plain": [
       "<IPython.core.display.HTML object>"
      ]
     },
     "metadata": {},
     "output_type": "display_data"
    }
   ],
   "source": [
    "from IPython.core.display import display, HTML\n",
    "display(HTML(\"<style>.container { width:100% !important; }</style>\"))"
   ]
  },
  {
   "cell_type": "code",
   "execution_count": 2,
   "metadata": {},
   "outputs": [],
   "source": [
    "import tensorflow as tf\n",
    "from tensorflow.keras.preprocessing.image import ImageDataGenerator\n",
    "from tensorflow.keras.layers import Add, Concatenate, Dropout, GaussianNoise, UpSampling2D, Conv2DTranspose, Conv2D, Dense, Lambda, Input, Flatten, Reshape, BatchNormalization, ReLU, LeakyReLU, MaxPooling2D\n",
    "from tensorflow.keras.models import Model, load_model\n",
    "import tensorflow.keras.layers as layers\n",
    "import tensorflow.keras.backend as K\n",
    "from tensorflow.keras.losses import mse, binary_crossentropy\n",
    "from tensorflow.keras.datasets import mnist\n",
    "from tensorflow.keras.optimizers import Adam\n",
    "import matplotlib.pyplot as plt\n",
    "import pandas as pd\n",
    "import numpy as np\n",
    "\n",
    "\n",
    "\n",
    "\n",
    "import os\n",
    "import glob"
   ]
  },
  {
   "cell_type": "code",
   "execution_count": 3,
   "metadata": {},
   "outputs": [],
   "source": [
    "import numpy as np\n",
    "def sampling(args):\n",
    "    \"\"\"Reparameterization trick by sampling from an isotropic unit Gaussian.\n",
    "\n",
    "    # Arguments\n",
    "        args (tensor): mean and log of variance of Q(z|X)\n",
    "\n",
    "    # Returns\n",
    "        z (tensor): sampled latent vector\n",
    "    \"\"\"\n",
    "    z_mean, z_log_var = args\n",
    "    batch = K.shape(z_mean)[0]\n",
    "    dim = K.int_shape(z_mean)[1]\n",
    "    # by default, random_normal has mean = 0 and std = 1.0\n",
    "    epsilon = K.random_normal(shape=(batch, dim))\n",
    "    return z_mean + K.exp(0.5 * z_log_var) * epsilon\n"
   ]
  },
  {
   "cell_type": "code",
   "execution_count": 4,
   "metadata": {},
   "outputs": [
    {
     "name": "stdout",
     "output_type": "stream",
     "text": [
      "Model: \"encoder\"\n",
      "__________________________________________________________________________________________________\n",
      "Layer (type)                    Output Shape         Param #     Connected to                     \n",
      "==================================================================================================\n",
      "encoder_input (InputLayer)      [(None, 64, 64, 3)]  0                                            \n",
      "__________________________________________________________________________________________________\n",
      "conv2d (Conv2D)                 (None, 32, 32, 32)   896         encoder_input[0][0]              \n",
      "__________________________________________________________________________________________________\n",
      "batch_normalization (BatchNorma (None, 32, 32, 32)   128         conv2d[0][0]                     \n",
      "__________________________________________________________________________________________________\n",
      "leaky_re_lu (LeakyReLU)         (None, 32, 32, 32)   0           batch_normalization[0][0]        \n",
      "__________________________________________________________________________________________________\n",
      "conv2d_1 (Conv2D)               (None, 16, 16, 64)   18496       leaky_re_lu[0][0]                \n",
      "__________________________________________________________________________________________________\n",
      "batch_normalization_1 (BatchNor (None, 16, 16, 64)   256         conv2d_1[0][0]                   \n",
      "__________________________________________________________________________________________________\n",
      "leaky_re_lu_1 (LeakyReLU)       (None, 16, 16, 64)   0           batch_normalization_1[0][0]      \n",
      "__________________________________________________________________________________________________\n",
      "conv2d_2 (Conv2D)               (None, 8, 8, 128)    73856       leaky_re_lu_1[0][0]              \n",
      "__________________________________________________________________________________________________\n",
      "batch_normalization_2 (BatchNor (None, 8, 8, 128)    512         conv2d_2[0][0]                   \n",
      "__________________________________________________________________________________________________\n",
      "leaky_re_lu_2 (LeakyReLU)       (None, 8, 8, 128)    0           batch_normalization_2[0][0]      \n",
      "__________________________________________________________________________________________________\n",
      "conv2d_3 (Conv2D)               (None, 4, 4, 256)    295168      leaky_re_lu_2[0][0]              \n",
      "__________________________________________________________________________________________________\n",
      "batch_normalization_3 (BatchNor (None, 4, 4, 256)    1024        conv2d_3[0][0]                   \n",
      "__________________________________________________________________________________________________\n",
      "leaky_re_lu_3 (LeakyReLU)       (None, 4, 4, 256)    0           batch_normalization_3[0][0]      \n",
      "__________________________________________________________________________________________________\n",
      "flatten (Flatten)               (None, 4096)         0           leaky_re_lu_3[0][0]              \n",
      "__________________________________________________________________________________________________\n",
      "encoder_cond_input (InputLayer) [(None, 40)]         0                                            \n",
      "__________________________________________________________________________________________________\n",
      "concatenate (Concatenate)       (None, 4136)         0           flatten[0][0]                    \n",
      "                                                                 encoder_cond_input[0][0]         \n",
      "__________________________________________________________________________________________________\n",
      "z_mean (Dense)                  (None, 100)          413700      concatenate[0][0]                \n",
      "__________________________________________________________________________________________________\n",
      "z_log_var (Dense)               (None, 100)          413700      concatenate[0][0]                \n",
      "__________________________________________________________________________________________________\n",
      "z (Lambda)                      (None, 100)          0           z_mean[0][0]                     \n",
      "                                                                 z_log_var[0][0]                  \n",
      "==================================================================================================\n",
      "Total params: 1,217,736\n",
      "Trainable params: 1,216,776\n",
      "Non-trainable params: 960\n",
      "__________________________________________________________________________________________________\n",
      "Model: \"decoder\"\n",
      "__________________________________________________________________________________________________\n",
      "Layer (type)                    Output Shape         Param #     Connected to                     \n",
      "==================================================================================================\n",
      "z_sampling (InputLayer)         [(None, 100)]        0                                            \n",
      "__________________________________________________________________________________________________\n",
      "decoder_condition (InputLayer)  [(None, 40)]         0                                            \n",
      "__________________________________________________________________________________________________\n",
      "concatenate_1 (Concatenate)     (None, 140)          0           z_sampling[0][0]                 \n",
      "                                                                 decoder_condition[0][0]          \n",
      "__________________________________________________________________________________________________\n",
      "dense (Dense)                   (None, 4096)         577536      concatenate_1[0][0]              \n",
      "__________________________________________________________________________________________________\n",
      "leaky_re_lu_4 (LeakyReLU)       (None, 4096)         0           dense[0][0]                      \n",
      "__________________________________________________________________________________________________\n",
      "reshape (Reshape)               (None, 4, 4, 256)    0           leaky_re_lu_4[0][0]              \n",
      "__________________________________________________________________________________________________\n",
      "up_sampling2d (UpSampling2D)    (None, 8, 8, 256)    0           reshape[0][0]                    \n",
      "__________________________________________________________________________________________________\n",
      "conv2d_4 (Conv2D)               (None, 8, 8, 256)    590080      up_sampling2d[0][0]              \n",
      "__________________________________________________________________________________________________\n",
      "batch_normalization_4 (BatchNor (None, 8, 8, 256)    1024        conv2d_4[0][0]                   \n",
      "__________________________________________________________________________________________________\n",
      "leaky_re_lu_5 (LeakyReLU)       (None, 8, 8, 256)    0           batch_normalization_4[0][0]      \n",
      "__________________________________________________________________________________________________\n",
      "up_sampling2d_1 (UpSampling2D)  (None, 16, 16, 256)  0           leaky_re_lu_5[0][0]              \n",
      "__________________________________________________________________________________________________\n",
      "conv2d_5 (Conv2D)               (None, 16, 16, 128)  295040      up_sampling2d_1[0][0]            \n",
      "__________________________________________________________________________________________________\n",
      "batch_normalization_5 (BatchNor (None, 16, 16, 128)  512         conv2d_5[0][0]                   \n",
      "__________________________________________________________________________________________________\n",
      "leaky_re_lu_6 (LeakyReLU)       (None, 16, 16, 128)  0           batch_normalization_5[0][0]      \n",
      "__________________________________________________________________________________________________\n",
      "up_sampling2d_2 (UpSampling2D)  (None, 32, 32, 128)  0           leaky_re_lu_6[0][0]              \n",
      "__________________________________________________________________________________________________\n",
      "conv2d_6 (Conv2D)               (None, 32, 32, 64)   73792       up_sampling2d_2[0][0]            \n",
      "__________________________________________________________________________________________________\n",
      "batch_normalization_6 (BatchNor (None, 32, 32, 64)   256         conv2d_6[0][0]                   \n",
      "__________________________________________________________________________________________________\n",
      "leaky_re_lu_7 (LeakyReLU)       (None, 32, 32, 64)   0           batch_normalization_6[0][0]      \n",
      "__________________________________________________________________________________________________\n",
      "up_sampling2d_3 (UpSampling2D)  (None, 64, 64, 64)   0           leaky_re_lu_7[0][0]              \n",
      "__________________________________________________________________________________________________\n",
      "conv2d_7 (Conv2D)               (None, 64, 64, 32)   18464       up_sampling2d_3[0][0]            \n",
      "__________________________________________________________________________________________________\n",
      "batch_normalization_7 (BatchNor (None, 64, 64, 32)   128         conv2d_7[0][0]                   \n",
      "__________________________________________________________________________________________________\n",
      "leaky_re_lu_8 (LeakyReLU)       (None, 64, 64, 32)   0           batch_normalization_7[0][0]      \n",
      "__________________________________________________________________________________________________\n",
      "conv2d_8 (Conv2D)               (None, 64, 64, 3)    2403        leaky_re_lu_8[0][0]              \n",
      "==================================================================================================\n",
      "Total params: 1,559,235\n",
      "Trainable params: 1,558,275\n",
      "Non-trainable params: 960\n",
      "__________________________________________________________________________________________________\n"
     ]
    }
   ],
   "source": [
    "# network parameters\n",
    "width = 64\n",
    "height = 64\n",
    "latent_dim = 100\n",
    "\n",
    "n_conds = 40\n",
    "h = 0\n",
    "w = 0\n",
    "c = 0\n",
    "\n",
    "\n",
    "\n",
    "# VAE model = encoder + decoder\n",
    "def build_encoder():\n",
    "    global h\n",
    "    global w\n",
    "    global c\n",
    "    # build encoder model\n",
    "    inputs = Input(shape=(width,height,3), name='encoder_input')\n",
    "    condition_inputs = Input(shape=(n_conds,), name='encoder_cond_input')\n",
    "\n",
    "\n",
    "    # x = GaussianNoise(1)(inputs) #Noise layer for denoising VAE\n",
    "    x = Conv2D(32, 3, strides=2, padding='same')(inputs)\n",
    "    x = BatchNormalization()(x)\n",
    "    x = LeakyReLU(0.2)(x)\n",
    "    x = Conv2D(64, 3, strides=2, padding='same')(x)\n",
    "    x = BatchNormalization()(x)\n",
    "    x = LeakyReLU(0.2)(x)\n",
    "    x = Conv2D(128, 3, strides=2, padding='same')(x)\n",
    "    x = BatchNormalization()(x)\n",
    "    x = LeakyReLU(0.2)(x)\n",
    "    x = Conv2D(256, 3, strides=2, padding='same')(x)\n",
    "    x = BatchNormalization()(x)\n",
    "    x = LeakyReLU(0.2)(x)\n",
    "\n",
    "    (_,h,w,c) = x.shape\n",
    "\n",
    "    x = Flatten()(x)\n",
    "    x = Concatenate()([x, condition_inputs])\n",
    "\n",
    "\n",
    "    z_mean = Dense(latent_dim, name='z_mean')(x)\n",
    "    z_log_var = Dense(latent_dim, name='z_log_var')(x)\n",
    "\n",
    "    # use reparameterization trick to push the sampling out as input\n",
    "    # note that \"output_shape\" isn't necessary with the TensorFlow backend\n",
    "    z = Lambda(sampling, output_shape=(latent_dim,), name='z')([z_mean, z_log_var])\n",
    "\n",
    "    # instantiate encoder model\n",
    "    return Model([inputs,condition_inputs], [z_mean, z_log_var, z], name='encoder')\n",
    "encoder = build_encoder()\n",
    "encoder.summary()\n",
    "\n",
    "\n",
    "def build_decoder():\n",
    "    # build decoder model\n",
    "    latent_inputs = Input(shape=(latent_dim,), name='z_sampling')\n",
    "    decoder_condition = Input(shape=(n_conds,), name='decoder_condition')\n",
    "\n",
    "\n",
    "\n",
    "    x = Concatenate()([latent_inputs,decoder_condition])\n",
    "    x = Dense(h*w*c)(x)\n",
    "    x = LeakyReLU(0.2)(x)\n",
    "    x = Reshape((h,w,c))(x)\n",
    "\n",
    "\n",
    "    x = UpSampling2D()(x)\n",
    "    x = Conv2D(256,3, strides=1, padding='same')(x)\n",
    "    x = BatchNormalization()(x)\n",
    "    x = LeakyReLU(0.2)(x)\n",
    "\n",
    "    x = UpSampling2D()(x)\n",
    "    x = Conv2D(128,3, strides=1, padding='same')(x)\n",
    "    x = BatchNormalization()(x)\n",
    "    x = LeakyReLU(0.2)(x)\n",
    "    # \n",
    "\n",
    "\n",
    "\n",
    "    x = UpSampling2D()(x)\n",
    "    x = Conv2D(64,3, strides=1, padding='same')(x)\n",
    "    x = BatchNormalization()(x)\n",
    "    x = LeakyReLU(0.2)(x)\n",
    "    # x = UpSampling2D()(x)\n",
    "\n",
    "\n",
    "\n",
    "    x = UpSampling2D()(x)\n",
    "    x = Conv2D(32,3, strides=1, padding='same')(x)\n",
    "    x = BatchNormalization()(x)\n",
    "    x = LeakyReLU(0.2)(x)\n",
    "\n",
    "\n",
    "\n",
    "\n",
    "\n",
    "\n",
    "    outputs_hi = Conv2D(3,5, strides=1, activation='tanh', padding='same')(x)\n",
    "\n",
    "\n",
    "    # # instantiate decoder model\n",
    "    return Model([latent_inputs,decoder_condition], outputs_hi, name='decoder')\n",
    "decoder = build_decoder()\n",
    "decoder.summary()\n",
    "\n",
    "\n",
    "\n",
    "\n",
    "\n",
    "\n"
   ]
  },
  {
   "cell_type": "code",
   "execution_count": 5,
   "metadata": {},
   "outputs": [],
   "source": [
    "from tensorflow.keras.applications.vgg19 import VGG19\n",
    "from tensorflow.keras.applications.vgg19 import preprocess_input"
   ]
  },
  {
   "cell_type": "code",
   "execution_count": 6,
   "metadata": {},
   "outputs": [
    {
     "name": "stdout",
     "output_type": "stream",
     "text": [
      "Model: \"vgg19\"\n",
      "_________________________________________________________________\n",
      "Layer (type)                 Output Shape              Param #   \n",
      "=================================================================\n",
      "input_1 (InputLayer)         [(None, 64, 64, 3)]       0         \n",
      "_________________________________________________________________\n",
      "block1_conv1 (Conv2D)        (None, 64, 64, 64)        1792      \n",
      "_________________________________________________________________\n",
      "block1_conv2 (Conv2D)        (None, 64, 64, 64)        36928     \n",
      "_________________________________________________________________\n",
      "block1_pool (MaxPooling2D)   (None, 32, 32, 64)        0         \n",
      "_________________________________________________________________\n",
      "block2_conv1 (Conv2D)        (None, 32, 32, 128)       73856     \n",
      "_________________________________________________________________\n",
      "block2_conv2 (Conv2D)        (None, 32, 32, 128)       147584    \n",
      "_________________________________________________________________\n",
      "block2_pool (MaxPooling2D)   (None, 16, 16, 128)       0         \n",
      "_________________________________________________________________\n",
      "block3_conv1 (Conv2D)        (None, 16, 16, 256)       295168    \n",
      "_________________________________________________________________\n",
      "block3_conv2 (Conv2D)        (None, 16, 16, 256)       590080    \n",
      "_________________________________________________________________\n",
      "block3_conv3 (Conv2D)        (None, 16, 16, 256)       590080    \n",
      "_________________________________________________________________\n",
      "block3_conv4 (Conv2D)        (None, 16, 16, 256)       590080    \n",
      "_________________________________________________________________\n",
      "block3_pool (MaxPooling2D)   (None, 8, 8, 256)         0         \n",
      "_________________________________________________________________\n",
      "block4_conv1 (Conv2D)        (None, 8, 8, 512)         1180160   \n",
      "_________________________________________________________________\n",
      "block4_conv2 (Conv2D)        (None, 8, 8, 512)         2359808   \n",
      "_________________________________________________________________\n",
      "block4_conv3 (Conv2D)        (None, 8, 8, 512)         2359808   \n",
      "_________________________________________________________________\n",
      "block4_conv4 (Conv2D)        (None, 8, 8, 512)         2359808   \n",
      "_________________________________________________________________\n",
      "block4_pool (MaxPooling2D)   (None, 4, 4, 512)         0         \n",
      "_________________________________________________________________\n",
      "block5_conv1 (Conv2D)        (None, 4, 4, 512)         2359808   \n",
      "_________________________________________________________________\n",
      "block5_conv2 (Conv2D)        (None, 4, 4, 512)         2359808   \n",
      "_________________________________________________________________\n",
      "block5_conv3 (Conv2D)        (None, 4, 4, 512)         2359808   \n",
      "_________________________________________________________________\n",
      "block5_conv4 (Conv2D)        (None, 4, 4, 512)         2359808   \n",
      "_________________________________________________________________\n",
      "block5_pool (MaxPooling2D)   (None, 2, 2, 512)         0         \n",
      "=================================================================\n",
      "Total params: 20,024,384\n",
      "Trainable params: 20,024,384\n",
      "Non-trainable params: 0\n",
      "_________________________________________________________________\n"
     ]
    }
   ],
   "source": [
    "vgg19 = VGG19(include_top=False, weights='imagenet', input_shape=(64,64,3))\n",
    "vgg19.summary()"
   ]
  },
  {
   "cell_type": "code",
   "execution_count": 7,
   "metadata": {},
   "outputs": [
    {
     "name": "stdout",
     "output_type": "stream",
     "text": [
      "Model: \"dfc_lo_model\"\n",
      "_________________________________________________________________\n",
      "Layer (type)                 Output Shape              Param #   \n",
      "=================================================================\n",
      "input_1 (InputLayer)         [(None, 64, 64, 3)]       0         \n",
      "_________________________________________________________________\n",
      "block1_conv1 (Conv2D)        (None, 64, 64, 64)        1792      \n",
      "_________________________________________________________________\n",
      "block1_conv2 (Conv2D)        (None, 64, 64, 64)        36928     \n",
      "_________________________________________________________________\n",
      "block1_pool (MaxPooling2D)   (None, 32, 32, 64)        0         \n",
      "_________________________________________________________________\n",
      "block2_conv1 (Conv2D)        (None, 32, 32, 128)       73856     \n",
      "_________________________________________________________________\n",
      "block2_conv2 (Conv2D)        (None, 32, 32, 128)       147584    \n",
      "_________________________________________________________________\n",
      "block2_pool (MaxPooling2D)   (None, 16, 16, 128)       0         \n",
      "_________________________________________________________________\n",
      "block3_conv1 (Conv2D)        (None, 16, 16, 256)       295168    \n",
      "=================================================================\n",
      "Total params: 555,328\n",
      "Trainable params: 555,328\n",
      "Non-trainable params: 0\n",
      "_________________________________________________________________\n"
     ]
    }
   ],
   "source": [
    "# Rough feature model\n",
    "dfc_lo_layers = [\"block3_conv1\"]\n",
    "#dfc_layer_weights = [1.0/3.0, 1.0/3.0, 1.0/3.0]\n",
    "\n",
    "dfc_lo_outputs = [vgg19.get_layer(l).output for l in dfc_lo_layers]\n",
    "dfc_lo_loss_model = Model(vgg19.input, dfc_lo_outputs, name=\"dfc_lo_model\")\n",
    "dfc_lo_loss_model.summary()"
   ]
  },
  {
   "cell_type": "code",
   "execution_count": 8,
   "metadata": {},
   "outputs": [
    {
     "name": "stdout",
     "output_type": "stream",
     "text": [
      "Model: \"dfc_med_model\"\n",
      "_________________________________________________________________\n",
      "Layer (type)                 Output Shape              Param #   \n",
      "=================================================================\n",
      "input_1 (InputLayer)         [(None, 64, 64, 3)]       0         \n",
      "_________________________________________________________________\n",
      "block1_conv1 (Conv2D)        (None, 64, 64, 64)        1792      \n",
      "_________________________________________________________________\n",
      "block1_conv2 (Conv2D)        (None, 64, 64, 64)        36928     \n",
      "_________________________________________________________________\n",
      "block1_pool (MaxPooling2D)   (None, 32, 32, 64)        0         \n",
      "_________________________________________________________________\n",
      "block2_conv1 (Conv2D)        (None, 32, 32, 128)       73856     \n",
      "=================================================================\n",
      "Total params: 112,576\n",
      "Trainable params: 112,576\n",
      "Non-trainable params: 0\n",
      "_________________________________________________________________\n"
     ]
    }
   ],
   "source": [
    "# Medium feature model\n",
    "\n",
    "dfc_med_layers = [\"block2_conv1\"]\n",
    "#dfc_layer_weights = [1.0/3.0, 1.0/3.0, 1.0/3.0]\n",
    "\n",
    "dfc_med_outputs = [vgg19.get_layer(l).output for l in dfc_med_layers]\n",
    "dfc_med_loss_model = Model(vgg19.input, dfc_med_outputs, name=\"dfc_med_model\")\n",
    "dfc_med_loss_model.summary()"
   ]
  },
  {
   "cell_type": "code",
   "execution_count": 9,
   "metadata": {},
   "outputs": [
    {
     "name": "stdout",
     "output_type": "stream",
     "text": [
      "Model: \"dfc_hi_model\"\n",
      "_________________________________________________________________\n",
      "Layer (type)                 Output Shape              Param #   \n",
      "=================================================================\n",
      "input_1 (InputLayer)         [(None, 64, 64, 3)]       0         \n",
      "_________________________________________________________________\n",
      "block1_conv1 (Conv2D)        (None, 64, 64, 64)        1792      \n",
      "=================================================================\n",
      "Total params: 1,792\n",
      "Trainable params: 1,792\n",
      "Non-trainable params: 0\n",
      "_________________________________________________________________\n"
     ]
    }
   ],
   "source": [
    "# Fine feature model\n",
    "dfc_hi_layers = [\"block1_conv1\"]\n",
    "#dfc_layer_weights = [1.0/3.0, 1.0/3.0, 1.0/3.0]\n",
    "\n",
    "dfc_hi_outputs = [vgg19.get_layer(l).output for l in dfc_hi_layers]\n",
    "dfc_hi_loss_model = Model(vgg19.input, dfc_hi_outputs, name=\"dfc_hi_model\")\n",
    "dfc_hi_loss_model.summary()"
   ]
  },
  {
   "cell_type": "code",
   "execution_count": 10,
   "metadata": {},
   "outputs": [
    {
     "name": "stdout",
     "output_type": "stream",
     "text": [
      "Model: \"dfc_model\"\n",
      "_________________________________________________________________\n",
      "Layer (type)                 Output Shape              Param #   \n",
      "=================================================================\n",
      "input_1 (InputLayer)         [(None, 64, 64, 3)]       0         \n",
      "_________________________________________________________________\n",
      "block1_conv1 (Conv2D)        (None, 64, 64, 64)        1792      \n",
      "_________________________________________________________________\n",
      "block1_conv2 (Conv2D)        (None, 64, 64, 64)        36928     \n",
      "_________________________________________________________________\n",
      "block1_pool (MaxPooling2D)   (None, 32, 32, 64)        0         \n",
      "_________________________________________________________________\n",
      "block2_conv1 (Conv2D)        (None, 32, 32, 128)       73856     \n",
      "_________________________________________________________________\n",
      "block2_conv2 (Conv2D)        (None, 32, 32, 128)       147584    \n",
      "_________________________________________________________________\n",
      "block2_pool (MaxPooling2D)   (None, 16, 16, 128)       0         \n",
      "_________________________________________________________________\n",
      "block3_conv1 (Conv2D)        (None, 16, 16, 256)       295168    \n",
      "=================================================================\n",
      "Total params: 555,328\n",
      "Trainable params: 555,328\n",
      "Non-trainable params: 0\n",
      "_________________________________________________________________\n"
     ]
    }
   ],
   "source": [
    "# Fine feature model\n",
    "dfc_layers = [\"block1_conv1\",\"block2_conv1\",\"block3_conv1\"]\n",
    "#dfc_layer_weights = [1.0/3.0, 1.0/3.0, 1.0/3.0]\n",
    "\n",
    "dfc_outputs = [vgg19.get_layer(l).output for l in dfc_layers]\n",
    "dfc_loss_model = Model(vgg19.input, dfc_outputs, name=\"dfc_model\")\n",
    "dfc_loss_model.summary()"
   ]
  },
  {
   "cell_type": "code",
   "execution_count": 173,
   "metadata": {},
   "outputs": [],
   "source": [
    "\n"
   ]
  },
  {
   "cell_type": "code",
   "execution_count": 6,
   "metadata": {},
   "outputs": [],
   "source": [
    "def normalize_for_tanh(img):\n",
    "    return (img - 127.5) / 127.5\n",
    "\n",
    "def unnormalize_tanh(img):\n",
    "    return (img + 1) / 2"
   ]
  },
  {
   "cell_type": "code",
   "execution_count": 7,
   "metadata": {},
   "outputs": [],
   "source": [
    "df = pd.read_csv('./celeba-attribs.csv')"
   ]
  },
  {
   "cell_type": "code",
   "execution_count": 8,
   "metadata": {},
   "outputs": [
    {
     "name": "stdout",
     "output_type": "stream",
     "text": [
      "Found 202599 validated image filenames.\n"
     ]
    }
   ],
   "source": [
    "training_data_generator = ImageDataGenerator(\n",
    "    validation_split=0.0,\n",
    "    horizontal_flip=False,\n",
    "    preprocessing_function=normalize_for_tanh)\n",
    "\n",
    "\n",
    "training_generator = training_data_generator.flow_from_dataframe(\n",
    "    dataframe=df,\n",
    "    directory='../celeba-clean-64/',\n",
    "    x_col=\"img\",\n",
    "    y_col=list(df.columns[1:]),\n",
    "    target_size=(64, 64),\n",
    "    subset='training',\n",
    "    shuffle=True,\n",
    "    batch_size=10000,\n",
    "    class_mode='raw')"
   ]
  },
  {
   "cell_type": "code",
   "execution_count": 9,
   "metadata": {},
   "outputs": [],
   "source": [
    "def encode_to_attribs(encoded):\n",
    "    for present, attrib in zip(encoded, list(df.columns[1:])):\n",
    "        if present > 0:\n",
    "            print(attrib, present)"
   ]
  },
  {
   "cell_type": "code",
   "execution_count": 10,
   "metadata": {},
   "outputs": [],
   "source": [
    "training_data = training_generator.next()"
   ]
  },
  {
   "cell_type": "code",
   "execution_count": 23,
   "metadata": {},
   "outputs": [],
   "source": [
    "bce = tf.keras.losses.BinaryCrossentropy()\n",
    "bce_smooth = tf.keras.losses.BinaryCrossentropy(label_smoothing=0.1)\n",
    "\n",
    "@tf.function\n",
    "def prep_for_vgg19(imgs):\n",
    "    return ((imgs + 1) / 2)\n",
    "\n",
    "@tf.function\n",
    "def tanh_cross_entropy(y_true, y_pred):\n",
    "    return -K.mean( (y_true+1)/2 * K.log( (y_pred+1)/2 + K.epsilon()) + (1 - (y_true+1)/2) * K.log(1 - (y_pred+1)/2 + K.epsilon()))\n",
    "    \n",
    "\n",
    "@tf.function\n",
    "def kullback_leibler_divergence_loss(z_mean, z_log_var):\n",
    "    kl_loss = 1 + z_log_var - K.square(z_mean) - K.exp(z_log_var)\n",
    "    kl_loss = K.sum(kl_loss, axis=-1)\n",
    "    kl_loss *= -0.5\n",
    "    return K.mean(kl_loss)\n",
    "\n",
    "@tf.function\n",
    "def discriminator_loss(real_output, decoded_output, fake_output):\n",
    "    real_loss = bce(K.random_uniform(K.int_shape(real_output), minval=0.9, maxval=1.0), real_output)\n",
    "    decoded_loss = bce(K.random_uniform(K.int_shape(decoded_output), minval=0.0, maxval=0.1), decoded_output)\n",
    "    fake_loss = bce(K.random_uniform(K.int_shape(fake_output), minval=0.0, maxval=0.1), fake_output)\n",
    "    total_loss = real_loss + fake_loss + decoded_loss\n",
    "    return K.mean(total_loss)\n",
    "\n",
    "@tf.function\n",
    "def generator_loss(decoded_output, fake_output):\n",
    "    decoded_loss = bce(K.ones_like(decoded_output), decoded_output)\n",
    "    fake_loss = bce(K.ones_like(fake_output), fake_output)\n",
    "    total_loss = fake_loss + decoded_loss\n",
    "    return K.mean(total_loss)\n",
    "\n",
    "@tf.function\n",
    "def attribute_loss(true_attributes, predicted_attributes):\n",
    "    total_loss = tanh_cross_entropy(true_attributes, predicted_attributes)    \n",
    "    return K.mean(total_loss)\n",
    "\n",
    "@tf.function\n",
    "def discriminator_attrib_loss(true_attribs, real_attribs, decoded_attribs, fake_attribs):\n",
    "    smoothing = K.random_uniform(K.int_shape(true_attribs), minval=0.9, maxval=1.0)\n",
    "    real_loss = tanh_cross_entropy(true_attribs * smoothing, real_attribs)\n",
    "    decoded_loss = tanh_cross_entropy(-true_attribs * smoothing, decoded_attribs)\n",
    "    fake_loss = tanh_cross_entropy(-true_attribs * smoothing, fake_attribs)\n",
    "    total_loss = real_loss + fake_loss + decoded_loss\n",
    "    return K.mean(total_loss)\n",
    "\n",
    "@tf.function\n",
    "def generator_attrib_loss(true_attribs, decoded_attribs, fake_attribs):\n",
    "    decoded_loss = tanh_cross_entropy(true_attribs, decoded_attribs)\n",
    "    fake_loss = tanh_cross_entropy(true_attribs, fake_attribs)\n",
    "    total_loss = fake_loss + decoded_loss\n",
    "    return K.mean(total_loss)\n",
    "\n",
    "\n",
    "@tf.function\n",
    "def reconstruction_loss(y_true, y_pred):\n",
    "    return K.mean(mse(y_true, y_pred))\n",
    "\n",
    "\n",
    "@tf.function\n",
    "def perceptual_loss(real_image, predicted_image, dfc_loss_model):\n",
    "\n",
    "    h1_hi, h1_med, h1_lo = dfc_loss_model(real_image)\n",
    "    h2_hi, h2_med, h2_lo = dfc_loss_model(predicted_image)\n",
    "    \n",
    "\n",
    "    \n",
    "\n",
    "    h1_hi = K.batch_flatten(h1_hi)\n",
    "    h2_hi = K.batch_flatten(h2_hi)        \n",
    "    rc_loss_hi = mse(h1_hi, h2_hi)\n",
    "    \n",
    "    h1_med = K.batch_flatten(h1_med)\n",
    "    h2_med = K.batch_flatten(h2_med)        \n",
    "    rc_loss_med = mse(h1_med, h2_med)\n",
    "    \n",
    "    h1_lo = K.batch_flatten(h1_lo)\n",
    "    h2_lo = K.batch_flatten(h2_lo)        \n",
    "    rc_loss_lo = mse(h1_lo, h2_lo)\n",
    "    \n",
    "\n",
    "    \n",
    "    return K.mean(rc_loss_hi), K.mean(rc_loss_med), K.mean(rc_loss_lo)       \n",
    "\n"
   ]
  },
  {
   "cell_type": "code",
   "execution_count": 65,
   "metadata": {},
   "outputs": [],
   "source": [
    "\n",
    "\n",
    "@tf.function\n",
    "def train_step(images, attributes, beta):\n",
    "    \n",
    "\n",
    "\n",
    "    rl_scalar = 1.0\n",
    "    kl_scalar =  beta\n",
    "\n",
    "    \n",
    "    with tf.GradientTape() as dec_tape, tf.GradientTape() as enc_tape:\n",
    "\n",
    "     \n",
    "        dec_tape.watch(decoder.trainable_variables)\n",
    "        enc_tape.watch(encoder.trainable_variables)\n",
    "\n",
    "        \n",
    "        z_mean, z_log_var, z = encoder([images,attributes], training=True)        \n",
    "        decoded_images = decoder([z, attributes], training=True)\n",
    "        \n",
    "        kl_loss = kullback_leibler_divergence_loss(z_mean, z_log_var)\n",
    "        \n",
    "\n",
    "        rl_loss = reconstruction_loss(decoded_images, images)\n",
    "        \n",
    "          \n",
    "\n",
    "        \n",
    "        decoder_loss = rl_loss * rl_scalar \n",
    "\n",
    "        encoder_loss = kl_loss * beta + rl_loss * rl_scalar\n",
    "        \n",
    "\n",
    "\n",
    "\n",
    "\n",
    "\n",
    "    gradients_of_encoder = enc_tape.gradient(encoder_loss, encoder.trainable_variables)\n",
    "    gradients_of_decoder = dec_tape.gradient(decoder_loss, decoder.trainable_variables)\n",
    "    \n",
    "    \n",
    "    encoder_optimizer.apply_gradients(zip(gradients_of_encoder, encoder.trainable_variables))\n",
    "    decoder_optimizer.apply_gradients(zip(gradients_of_decoder, decoder.trainable_variables))\n",
    "\n",
    "\n",
    "    \n",
    "\n",
    "    \n",
    "\n",
    "    return rl_loss, kl_loss\n",
    "\n"
   ]
  },
  {
   "cell_type": "code",
   "execution_count": 64,
   "metadata": {},
   "outputs": [],
   "source": [
    "encoder = build_encoder()\n",
    "decoder = build_decoder()\n",
    "decoder_optimizer = tf.keras.optimizers.Adam(2e-4)\n",
    "encoder_optimizer = tf.keras.optimizers.Adam(2e-4)\n"
   ]
  },
  {
   "cell_type": "code",
   "execution_count": 66,
   "metadata": {
    "scrolled": true
   },
   "outputs": [
    {
     "name": "stdout",
     "output_type": "stream",
     "text": [
      "Epoch [0/49]...     ...7.692(s) Reconstruction: 0.22632 - KL: 98.20634 - \n",
      "High_Cheekbones 1\n",
      "Mouth_Slightly_Open 1\n",
      "No_Beard 1\n",
      "Oval_Face 1\n",
      "Young 1\n"
     ]
    },
    {
     "data": {
      "image/png": "[encoded data removed]",
      "text/plain": [
       "<Figure size 432x288 with 1 Axes>"
      ]
     },
     "metadata": {
      "needs_background": "light"
     },
     "output_type": "display_data"
    },
    {
     "data": {
      "image/png": "[encoded data removed]",
      "text/plain": [
       "<Figure size 432x288 with 1 Axes>"
      ]
     },
     "metadata": {
      "needs_background": "light"
     },
     "output_type": "display_data"
    },
    {
     "name": "stdout",
     "output_type": "stream",
     "text": [
      "Epoch [1/49]...     ...5.821(s) Reconstruction: 0.17560 - KL: 77.94254 - \n",
      "Epoch [2/49]...     ...5.821(s) Reconstruction: 0.12307 - KL: 67.54451 - \n",
      "Epoch [3/49]...     ...5.849(s) Reconstruction: 0.10678 - KL: 99.66614 - \n",
      "Epoch [4/49]...     ...5.843(s) Reconstruction: 0.09573 - KL: 128.36200 - \n",
      "Epoch [5/49]...     ...5.840(s) Reconstruction: 0.12336 - KL: 127.92047 - \n",
      "Epoch [6/49]...     ...5.824(s) Reconstruction: 0.12370 - KL: 75.85053 - \n",
      "Epoch [7/49]...     ...5.809(s) Reconstruction: 0.09152 - KL: 114.31388 - \n",
      "Epoch [8/49]...     ...5.836(s) Reconstruction: 0.10499 - KL: 93.21902 - \n",
      "Epoch [9/49]...     ...5.843(s) Reconstruction: 0.08545 - KL: 115.68391 - \n",
      "Epoch [10/49]...    ...5.882(s) Reconstruction: 0.09970 - KL: 87.68249 - \n",
      "High_Cheekbones 1\n",
      "Mouth_Slightly_Open 1\n",
      "No_Beard 1\n",
      "Oval_Face 1\n",
      "Young 1\n"
     ]
    },
    {
     "data": {
      "image/png": "[encoded data removed]",
      "text/plain": [
       "<Figure size 432x288 with 1 Axes>"
      ]
     },
     "metadata": {
      "needs_background": "light"
     },
     "output_type": "display_data"
    },
    {
     "data": {
      "image/png": "[encoded data removed]",
      "text/plain": [
       "<Figure size 432x288 with 1 Axes>"
      ]
     },
     "metadata": {
      "needs_background": "light"
     },
     "output_type": "display_data"
    },
    {
     "name": "stdout",
     "output_type": "stream",
     "text": [
      "Epoch [11/49]...    ...5.827(s) Reconstruction: 0.07775 - KL: 110.31736 - \n",
      "Epoch [12/49]...    ...5.837(s) Reconstruction: 0.08926 - KL: 90.74076 - \n",
      "Epoch [13/49]...    ...5.833(s) Reconstruction: 0.07311 - KL: 106.55614 - \n",
      "Epoch [14/49]...    ...5.826(s) Reconstruction: 0.08306 - KL: 97.80781 - \n",
      "Epoch [15/49]...    ...5.800(s) Reconstruction: 0.07106 - KL: 100.69010 - \n",
      "Epoch [16/49]...    ...5.849(s) Reconstruction: 0.08005 - KL: 99.04393 - \n",
      "Epoch [17/49]...    ...5.839(s) Reconstruction: 0.06877 - KL: 108.32993 - \n",
      "Epoch [18/49]...    ...5.838(s) Reconstruction: 0.07530 - KL: 88.85702 - \n",
      "Epoch [19/49]...    ...5.820(s) Reconstruction: 0.06443 - KL: 105.51824 - \n",
      "Epoch [20/49]...    ...5.825(s) Reconstruction: 0.07230 - KL: 99.41386 - \n",
      "High_Cheekbones 1\n",
      "Mouth_Slightly_Open 1\n",
      "No_Beard 1\n",
      "Oval_Face 1\n",
      "Young 1\n"
     ]
    },
    {
     "data": {
      "image/png": "[encoded data removed]",
      "text/plain": [
       "<Figure size 432x288 with 1 Axes>"
      ]
     },
     "metadata": {
      "needs_background": "light"
     },
     "output_type": "display_data"
    },
    {
     "data": {
      "image/png": "[encoded data removed]",
      "text/plain": [
       "<Figure size 432x288 with 1 Axes>"
      ]
     },
     "metadata": {
      "needs_background": "light"
     },
     "output_type": "display_data"
    },
    {
     "name": "stdout",
     "output_type": "stream",
     "text": [
      "Epoch [21/49]...    ...5.723(s) Reconstruction: 0.06277 - KL: 93.05802 - \n",
      "Epoch [22/49]...    ...5.784(s) Reconstruction: 0.07005 - KL: 111.11526 - \n",
      "Epoch [23/49]...    ...5.808(s) Reconstruction: 0.06354 - KL: 94.85308 - \n",
      "Epoch [24/49]...    ...5.849(s) Reconstruction: 0.06210 - KL: 99.91437 - \n",
      "Epoch [25/49]...    ...5.819(s) Reconstruction: 0.06128 - KL: 89.88328 - \n",
      "Epoch [26/49]...    ...5.811(s) Reconstruction: 0.06263 - KL: 114.74582 - \n",
      "Epoch [27/49]...    ...5.805(s) Reconstruction: 0.08470 - KL: 103.19440 - \n",
      "Epoch [28/49]...    ...5.853(s) Reconstruction: 0.25250 - KL: 98.38806 - \n",
      "Epoch [29/49]...    ...5.818(s) Reconstruction: 0.16330 - KL: 61.06747 - \n",
      "Epoch [30/49]...    ...5.797(s) Reconstruction: 0.11829 - KL: 89.37449 - \n",
      "High_Cheekbones 1\n",
      "Mouth_Slightly_Open 1\n",
      "No_Beard 1\n",
      "Oval_Face 1\n",
      "Young 1\n"
     ]
    },
    {
     "data": {
      "image/png": "[encoded data removed]",
      "text/plain": [
       "<Figure size 432x288 with 1 Axes>"
      ]
     },
     "metadata": {
      "needs_background": "light"
     },
     "output_type": "display_data"
    },
    {
     "data": {
      "image/png": "[encoded data removed]",
      "text/plain": [
       "<Figure size 432x288 with 1 Axes>"
      ]
     },
     "metadata": {
      "needs_background": "light"
     },
     "output_type": "display_data"
    },
    {
     "name": "stdout",
     "output_type": "stream",
     "text": [
      "Epoch [31/49]...    ...5.792(s) Reconstruction: 0.10263 - KL: 113.17555 - \n",
      "Epoch [32/49]...    ...5.825(s) Reconstruction: 0.09078 - KL: 134.73440 - \n",
      "Epoch [33/49]...    ...5.803(s) Reconstruction: 0.10957 - KL: 99.93880 - \n",
      "Epoch [34/49]...    ...5.807(s) Reconstruction: 0.08536 - KL: 90.55768 - \n",
      "Epoch [35/49]...    ...5.821(s) Reconstruction: 0.07681 - KL: 85.18174 - \n",
      "Epoch [36/49]...    ...5.832(s) Reconstruction: 0.06877 - KL: 108.69663 - \n",
      "Epoch [37/49]...    ...5.775(s) Reconstruction: 0.07328 - KL: 113.84673 - \n",
      "Epoch [38/49]...    ...5.799(s) Reconstruction: 0.06965 - KL: 84.17433 - \n",
      "Epoch [39/49]...    ...5.837(s) Reconstruction: 0.06260 - KL: 97.41567 - \n",
      "Epoch [40/49]...    ...5.835(s) Reconstruction: 0.06028 - KL: 112.35285 - \n",
      "High_Cheekbones 1\n",
      "Mouth_Slightly_Open 1\n",
      "No_Beard 1\n",
      "Oval_Face 1\n",
      "Young 1\n"
     ]
    },
    {
     "data": {
      "image/png": "[encoded data removed]",
      "text/plain": [
       "<Figure size 432x288 with 1 Axes>"
      ]
     },
     "metadata": {
      "needs_background": "light"
     },
     "output_type": "display_data"
    },
    {
     "data": {
      "image/png": "[encoded data removed]",
      "text/plain": [
       "<Figure size 432x288 with 1 Axes>"
      ]
     },
     "metadata": {
      "needs_background": "light"
     },
     "output_type": "display_data"
    },
    {
     "name": "stdout",
     "output_type": "stream",
     "text": [
      "Epoch [41/49]...    ...5.806(s) Reconstruction: 0.06884 - KL: 98.04598 - \n",
      "Epoch [42/49]...    ...5.829(s) Reconstruction: 0.06099 - KL: 89.85600 - \n",
      "Epoch [43/49]...    ...5.860(s) Reconstruction: 0.05794 - KL: 106.10498 - \n",
      "Epoch [44/49]...    ...5.812(s) Reconstruction: 0.06070 - KL: 111.36186 - \n",
      "Epoch [45/49]...    ...5.830(s) Reconstruction: 0.06102 - KL: 87.84121 - \n",
      "Epoch [46/49]...    ...5.820(s) Reconstruction: 0.05648 - KL: 106.30755 - \n",
      "Epoch [47/49]...    ...5.832(s) Reconstruction: 0.06121 - KL: 99.88584 - \n",
      "Epoch [48/49]...    ...5.852(s) Reconstruction: 0.05710 - KL: 94.13927 - \n",
      "Epoch [49/49]...    ...5.801(s) Reconstruction: 0.05452 - KL: 113.27368 - \n"
     ]
    }
   ],
   "source": [
    "import time\n",
    "from pathlib import Path\n",
    "\n",
    "epochs = 50\n",
    "batch_size = 64\n",
    "\n",
    "# control vae params\n",
    "k_p = 0.01\n",
    "k_i = 0.0001\n",
    "i_t = 0\n",
    "beta_max = 1.0 \n",
    "beta_min = 0.0\n",
    "desired_kl = 100\n",
    "beta = 0.0\n",
    "\n",
    "\n",
    "\n",
    "\n",
    "model_type = f'10kimgs-controlled-kl-cvae-{desired_kl}kl'\n",
    "\n",
    "\n",
    "\n",
    "\n",
    "#create base dir\n",
    "base_model_path = Path(f'./models/{model_type}')\n",
    "base_model_path.mkdir(parents=True, exist_ok=True)\n",
    "\n",
    "#create figure dir\n",
    "figure_model_path = base_model_path / 'figures'\n",
    "figure_model_path.mkdir(parents=True, exist_ok=True)\n",
    "\n",
    "#create checkpoint dir\n",
    "checkpoints_model_path = base_model_path / 'checkpoints'\n",
    "checkpoints_model_path.mkdir(parents=True, exist_ok=True)\n",
    "\n",
    "\n",
    "with tf.device('gpu:0'):\n",
    "    training_imgs = training_data[0]\n",
    "    training_attribs = training_data[1]\n",
    "    training_attribs  = np.cast['float32'](training_attribs )\n",
    "\n",
    "    num_batches = len(training_imgs) // batch_size\n",
    "\n",
    "    # losses\n",
    "    rl_loss_list = [] \n",
    "    kl_loss_list = []\n",
    "\n",
    "    \n",
    "    test_attribute = training_data[1][0]\n",
    "    test_img = training_data[0][0]\n",
    "    mu, sigma = 0, 1 #mean and standard deviation\n",
    "    s = np.random.normal(mu, sigma, latent_dim)\n",
    "    \n",
    "\n",
    "    \n",
    "\n",
    "    \n",
    "\n",
    "\n",
    "    for epoch in range(0,epochs):\n",
    "        start = time.time()\n",
    "        print(f'Epoch [{epoch}/{epochs-1}]...'.ljust(20), end = '')\n",
    "\n",
    "\n",
    "        \n",
    "        idxs = np.arange(0,len(training_imgs))\n",
    "        np.random.shuffle(idxs)\n",
    "        \n",
    "        img_input = training_imgs[idxs]\n",
    "        attribute_input = training_attribs[idxs]\n",
    "\n",
    "\n",
    "\n",
    "        rl_loss_total = 0\n",
    "        kl_loss_total = 0\n",
    "\n",
    "         \n",
    "\n",
    "        \n",
    "        \n",
    "        for index in range(num_batches):\n",
    "            img_batch = img_input[index*batch_size: batch_size*(index+1)]\n",
    "            attribute_batch = attribute_input[index*batch_size: batch_size*(index+1)] \n",
    "            \n",
    "\n",
    "            rl_loss, kl_loss = train_step(img_batch , attribute_batch, tf.constant(beta, dtype=tf.float32))\n",
    "\n",
    "\n",
    "\n",
    "            rl_loss_total += K.get_value(rl_loss)\n",
    "            kl_loss_total += K.get_value(kl_loss)\n",
    "\n",
    "\n",
    "#             print(f'kl: { K.get_value(kl_loss):.5f} beta: {K.get_value(beta_var):.5f}')\n",
    "#             control vae \n",
    "            error_t = desired_kl - K.get_value(kl_loss)\n",
    "            p_t = k_p / (1+np.exp(error_t))\n",
    "\n",
    "            if beta_min <= beta and beta <= beta_max:\n",
    "                i_t = i_t - k_i*error_t\n",
    "\n",
    "            beta = p_t + i_t + beta_min\n",
    "\n",
    "            beta = min(beta, beta_max)\n",
    "            beta = max(beta, beta_min)\n",
    "\n",
    "\n",
    "        \n",
    "        \n",
    "       \n",
    "        \n",
    " \n",
    "        rl_loss_list.append(rl_loss_total/num_batches)\n",
    "        kl_loss_list.append(kl_loss_total/num_batches)\n",
    "\n",
    "\n",
    "\n",
    "        print(f'...{time.time()-start:.3f}(s) '  , end='')\n",
    "       \n",
    "        \n",
    "\n",
    "        print(f'Reconstruction: {rl_loss_total/num_batches:.5f} - ', end='') \n",
    "        \n",
    "        print(f'KL: {kl_loss_total/num_batches:.5f} - ')\n",
    "#         print(f'beta: {K.get_value(beta_var)}')\n",
    "        \n",
    "\n",
    "        if epoch % 10 == 0:\n",
    "            encode_to_attribs(test_attribute)\n",
    "            _, _, z = encoder.predict([training_data[0][0].reshape(1,width, height,3), test_attribute.reshape(1,-1)])\n",
    "            dec_img = unnormalize_tanh( decoder.predict([z, test_attribute.reshape(1,n_conds)])[0])\n",
    "            plt.imshow(dec_img)\n",
    "            plt.title(\"Decoded Image\")\n",
    "            ax = plt.gca()\n",
    "            ax.get_xaxis().set_visible(False)\n",
    "            ax.get_yaxis().set_visible(False)\n",
    "            plt.savefig(figure_model_path / f'decoded-{epoch}.png')\n",
    "            plt.show()\n",
    "            \n",
    "            gen_img = unnormalize_tanh( decoder.predict([np.array([s]),np.array([test_attribute])])[0])        \n",
    "            plt.imshow(gen_img)\n",
    "            plt.title(\"Generated Image\")\n",
    "            ax = plt.gca()\n",
    "            ax.get_xaxis().set_visible(False)\n",
    "            ax.get_yaxis().set_visible(False)\n",
    "            plt.savefig(figure_model_path / f'generated-{epoch}.png')\n",
    "            plt.show()\n",
    "\n",
    "\n",
    "#         if epoch % 100 == 0 and epoch != 0:        \n",
    "#             print(f'checkpointing at epoch: {epoch}')\n",
    "#             decoder.save_weights((checkpoints_model_path / f'epoch-{epoch}-{model_type}-decoder-weights.h5').as_posix())\n",
    "#             decoder.save((checkpoints_model_path / f'epoch-{epoch}-{model_type}-decoder.h5').as_posix())\n",
    "#             encoder.save_weights((checkpoints_model_path / f'epoch-{epoch}-{model_type}-encoder-weights.h5').as_posix())\n",
    "#             encoder.save((checkpoints_model_path / f'epoch-{epoch}-{model_type}-encoder.h5').as_posix())\n",
    "            "
   ]
  },
  {
   "cell_type": "code",
   "execution_count": 78,
   "metadata": {},
   "outputs": [],
   "source": [
    "def normalize(loss_list):\n",
    "    loss_list = np.array(loss_list)\n",
    "    return (loss_list - loss_list.min()) / (loss_list.max() - loss_list.min())"
   ]
  },
  {
   "cell_type": "code",
   "execution_count": 67,
   "metadata": {},
   "outputs": [
    {
     "data": {
      "image/png": "[encoded data removed]",
      "text/plain": [
       "<Figure size 432x288 with 1 Axes>"
      ]
     },
     "metadata": {
      "needs_background": "light"
     },
     "output_type": "display_data"
    },
    {
     "data": {
      "image/png": "[encoded data removed]",
      "text/plain": [
       "<Figure size 432x288 with 1 Axes>"
      ]
     },
     "metadata": {
      "needs_background": "light"
     },
     "output_type": "display_data"
    }
   ],
   "source": [
    "\n",
    "\n",
    "plt.plot(rl_loss_list)\n",
    "plt.title(\"Reconstruction loss\")\n",
    "plt.savefig(figure_model_path / 'reconstruction_loss.png')\n",
    "plt.show()\n",
    " \n",
    "plt.plot(kl_loss_list)\n",
    "plt.title(\"KL loss\")\n",
    "plt.savefig(figure_model_path / 'encoder_loss.png')\n",
    "plt.show()\n"
   ]
  },
  {
   "cell_type": "code",
   "execution_count": 29,
   "metadata": {},
   "outputs": [],
   "source": [
    "from __future__ import print_function\n",
    "from ipywidgets import interact, interactive, fixed, interact_manual\n",
    "import ipywidgets as widgets\n",
    "from IPython.display import display\n",
    "from ipywidgets import HBox, Label"
   ]
  },
  {
   "cell_type": "code",
   "execution_count": 30,
   "metadata": {},
   "outputs": [
    {
     "name": "stdout",
     "output_type": "stream",
     "text": [
      "5oClockShadow=1, Arched_Eyebrows=1, Attractive=1, Bags_Under_Eyes=1, Bald=1, Bangs=1, Big_Lips=1, Big_Nose=1, Black_Hair=1, Blond_Hair=1, Blurry=1, Brown_Hair=1, Bushy_Eyebrows=1, Chubby=1, Double_Chin=1, Eyeglasses=1, Goatee=1, Gray_Hair=1, Heavy_Makeup=1, High_Cheekbones=1, Male=1, Mouth_Slightly_Open=1, Mustache=1, Narrow_Eyes=1, No_Beard=1, Oval_Face=1, Pale_Skin=1, Pointy_Nose=1, Receding_Hairline=1, Rosy_Cheeks=1, Sideburns=1, Smiling=1, Straight_Hair=1, Wavy_Hair=1, Wearing_Earrings=1, Wearing_Hat=1, Wearing_Lipstick=1, Wearing_Necklace=1, Wearing_Necktie=1, Young\n"
     ]
    }
   ],
   "source": [
    "attribs = '''5oClockShadow=1, Arched_Eyebrows=1, Attractive=1, Bags_Under_Eyes=1, Bald=1, Bangs=1, Big_Lips=1, Big_Nose=1, Black_Hair=1, Blond_Hair=1, Blurry=1, Brown_Hair=1, Bushy_Eyebrows=1, Chubby=1, Double_Chin=1, Eyeglasses=1, Goatee=1, Gray_Hair=1, Heavy_Makeup=1, High_Cheekbones=1, Male=1, Mouth_Slightly_Open=1, Mustache=1, Narrow_Eyes=1, No_Beard=1, Oval_Face=1, Pale_Skin=1, Pointy_Nose=1, Receding_Hairline=1, Rosy_Cheeks=1, Sideburns=1, Smiling=1, Straight_Hair=1, Wavy_Hair=1, Wearing_Earrings=1, Wearing_Hat=1, Wearing_Lipstick=1, Wearing_Necklace=1, Wearing_Necktie=1, Young'''\n",
    "attribs = attribs.split('=1,')\n",
    "attribs = [attrib.strip() for attrib in attribs]\n",
    "print(f\"=1, \".join(attribs))"
   ]
  },
  {
   "cell_type": "code",
   "execution_count": 31,
   "metadata": {},
   "outputs": [],
   "source": [
    "attrib_dict = {attrib:i for i,attrib in enumerate(attribs)}"
   ]
  },
  {
   "cell_type": "code",
   "execution_count": 32,
   "metadata": {},
   "outputs": [],
   "source": [
    "def generate(decoder, noise, attribute):\n",
    "    gen_img = unnormalize_tanh( decoder.predict([np.array([noise]),np.array([attribute])])[0])        \n",
    "    plt.imshow(gen_img)\n",
    "    ax = plt.gca()\n",
    "    ax.get_xaxis().set_visible(False)\n",
    "    ax.get_yaxis().set_visible(False)\n",
    "    plt.show()"
   ]
  },
  {
   "cell_type": "code",
   "execution_count": 33,
   "metadata": {
    "scrolled": true
   },
   "outputs": [
    {
     "data": {
      "application/vnd.jupyter.widget-view+json": {
       "model_id": "94043f1bb4534c5190c8b7f2330d5340",
       "version_major": 2,
       "version_minor": 0
      },
      "text/plain": [
       "Label(value='5oClockShadow')"
      ]
     },
     "metadata": {},
     "output_type": "display_data"
    },
    {
     "data": {
      "application/vnd.jupyter.widget-view+json": {
       "model_id": "67af8f31bd914832b434ae674f332e8b",
       "version_major": 2,
       "version_minor": 0
      },
      "text/plain": [
       "FloatSlider(value=-1.0, max=10.0, min=-10.0, step=0.5)"
      ]
     },
     "metadata": {},
     "output_type": "display_data"
    },
    {
     "data": {
      "application/vnd.jupyter.widget-view+json": {
       "model_id": "296865f3190044a48effe32bee2d9c08",
       "version_major": 2,
       "version_minor": 0
      },
      "text/plain": [
       "Label(value='Arched_Eyebrows')"
      ]
     },
     "metadata": {},
     "output_type": "display_data"
    },
    {
     "data": {
      "application/vnd.jupyter.widget-view+json": {
       "model_id": "b238eadeacf54e3186ecd98e13eccb19",
       "version_major": 2,
       "version_minor": 0
      },
      "text/plain": [
       "FloatSlider(value=-1.0, max=10.0, min=-10.0, step=0.5)"
      ]
     },
     "metadata": {},
     "output_type": "display_data"
    },
    {
     "data": {
      "application/vnd.jupyter.widget-view+json": {
       "model_id": "f32e0b03a7c740f69c8d2b1f5b092107",
       "version_major": 2,
       "version_minor": 0
      },
      "text/plain": [
       "Label(value='Attractive')"
      ]
     },
     "metadata": {},
     "output_type": "display_data"
    },
    {
     "data": {
      "application/vnd.jupyter.widget-view+json": {
       "model_id": "91b440052599443a8d17ed17fae2a152",
       "version_major": 2,
       "version_minor": 0
      },
      "text/plain": [
       "FloatSlider(value=-1.0, max=10.0, min=-10.0, step=0.5)"
      ]
     },
     "metadata": {},
     "output_type": "display_data"
    },
    {
     "data": {
      "application/vnd.jupyter.widget-view+json": {
       "model_id": "5b4e26d1eb9a4071b7c92a452f2c1af2",
       "version_major": 2,
       "version_minor": 0
      },
      "text/plain": [
       "Label(value='Bags_Under_Eyes')"
      ]
     },
     "metadata": {},
     "output_type": "display_data"
    },
    {
     "data": {
      "application/vnd.jupyter.widget-view+json": {
       "model_id": "48ae14e151fd4012bbaf93f73b0e5166",
       "version_major": 2,
       "version_minor": 0
      },
      "text/plain": [
       "FloatSlider(value=-1.0, max=10.0, min=-10.0, step=0.5)"
      ]
     },
     "metadata": {},
     "output_type": "display_data"
    },
    {
     "data": {
      "application/vnd.jupyter.widget-view+json": {
       "model_id": "c08485a4457a4149b3a7dd24cf8520af",
       "version_major": 2,
       "version_minor": 0
      },
      "text/plain": [
       "Label(value='Bald')"
      ]
     },
     "metadata": {},
     "output_type": "display_data"
    },
    {
     "data": {
      "application/vnd.jupyter.widget-view+json": {
       "model_id": "85191f28f9a24b5e92bbd2bd22b7be23",
       "version_major": 2,
       "version_minor": 0
      },
      "text/plain": [
       "FloatSlider(value=-1.0, max=10.0, min=-10.0, step=0.5)"
      ]
     },
     "metadata": {},
     "output_type": "display_data"
    },
    {
     "data": {
      "application/vnd.jupyter.widget-view+json": {
       "model_id": "fd1554aad3494080bec894fd7a71c50a",
       "version_major": 2,
       "version_minor": 0
      },
      "text/plain": [
       "Label(value='Bangs')"
      ]
     },
     "metadata": {},
     "output_type": "display_data"
    },
    {
     "data": {
      "application/vnd.jupyter.widget-view+json": {
       "model_id": "fa85169a35aa4b69a11bb1d8e5a102b1",
       "version_major": 2,
       "version_minor": 0
      },
      "text/plain": [
       "FloatSlider(value=-1.0, max=10.0, min=-10.0, step=0.5)"
      ]
     },
     "metadata": {},
     "output_type": "display_data"
    },
    {
     "data": {
      "application/vnd.jupyter.widget-view+json": {
       "model_id": "89bc6496b2a24b72ac102c7c30136dcd",
       "version_major": 2,
       "version_minor": 0
      },
      "text/plain": [
       "Label(value='Big_Lips')"
      ]
     },
     "metadata": {},
     "output_type": "display_data"
    },
    {
     "data": {
      "application/vnd.jupyter.widget-view+json": {
       "model_id": "bc498df2c2e64ff8aa9c0eaf05420992",
       "version_major": 2,
       "version_minor": 0
      },
      "text/plain": [
       "FloatSlider(value=-1.0, max=10.0, min=-10.0, step=0.5)"
      ]
     },
     "metadata": {},
     "output_type": "display_data"
    },
    {
     "data": {
      "application/vnd.jupyter.widget-view+json": {
       "model_id": "a9677c88d7ab416cade0e876f8383a98",
       "version_major": 2,
       "version_minor": 0
      },
      "text/plain": [
       "Label(value='Big_Nose')"
      ]
     },
     "metadata": {},
     "output_type": "display_data"
    },
    {
     "data": {
      "application/vnd.jupyter.widget-view+json": {
       "model_id": "7db60c7aa41e427ba01423c9af6b89f8",
       "version_major": 2,
       "version_minor": 0
      },
      "text/plain": [
       "FloatSlider(value=-1.0, max=10.0, min=-10.0, step=0.5)"
      ]
     },
     "metadata": {},
     "output_type": "display_data"
    },
    {
     "data": {
      "application/vnd.jupyter.widget-view+json": {
       "model_id": "f4b9fd358397447eb52596b7ea711221",
       "version_major": 2,
       "version_minor": 0
      },
      "text/plain": [
       "Label(value='Black_Hair')"
      ]
     },
     "metadata": {},
     "output_type": "display_data"
    },
    {
     "data": {
      "application/vnd.jupyter.widget-view+json": {
       "model_id": "8f0c481f4cf4482cabec62f392ba6885",
       "version_major": 2,
       "version_minor": 0
      },
      "text/plain": [
       "FloatSlider(value=-1.0, max=10.0, min=-10.0, step=0.5)"
      ]
     },
     "metadata": {},
     "output_type": "display_data"
    },
    {
     "data": {
      "application/vnd.jupyter.widget-view+json": {
       "model_id": "aeca140ca54b4e898a27989aa44ae636",
       "version_major": 2,
       "version_minor": 0
      },
      "text/plain": [
       "Label(value='Blond_Hair')"
      ]
     },
     "metadata": {},
     "output_type": "display_data"
    },
    {
     "data": {
      "application/vnd.jupyter.widget-view+json": {
       "model_id": "08085c2abd6c42f1a26a1673b80da335",
       "version_major": 2,
       "version_minor": 0
      },
      "text/plain": [
       "FloatSlider(value=-1.0, max=10.0, min=-10.0, step=0.5)"
      ]
     },
     "metadata": {},
     "output_type": "display_data"
    },
    {
     "data": {
      "application/vnd.jupyter.widget-view+json": {
       "model_id": "b2ad04dfb36149eba8d5d4183469968c",
       "version_major": 2,
       "version_minor": 0
      },
      "text/plain": [
       "Label(value='Blurry')"
      ]
     },
     "metadata": {},
     "output_type": "display_data"
    },
    {
     "data": {
      "application/vnd.jupyter.widget-view+json": {
       "model_id": "15a8940d612e48bd91f42c5caa0d3559",
       "version_major": 2,
       "version_minor": 0
      },
      "text/plain": [
       "FloatSlider(value=-1.0, max=10.0, min=-10.0, step=0.5)"
      ]
     },
     "metadata": {},
     "output_type": "display_data"
    },
    {
     "data": {
      "application/vnd.jupyter.widget-view+json": {
       "model_id": "3f187bd939df4d7790544815b8367ebd",
       "version_major": 2,
       "version_minor": 0
      },
      "text/plain": [
       "Label(value='Brown_Hair')"
      ]
     },
     "metadata": {},
     "output_type": "display_data"
    },
    {
     "data": {
      "application/vnd.jupyter.widget-view+json": {
       "model_id": "819076c0c11f40b08348315f3d4f4eed",
       "version_major": 2,
       "version_minor": 0
      },
      "text/plain": [
       "FloatSlider(value=-1.0, max=10.0, min=-10.0, step=0.5)"
      ]
     },
     "metadata": {},
     "output_type": "display_data"
    },
    {
     "data": {
      "application/vnd.jupyter.widget-view+json": {
       "model_id": "46e992baee664271ab34c6697c8c0012",
       "version_major": 2,
       "version_minor": 0
      },
      "text/plain": [
       "Label(value='Bushy_Eyebrows')"
      ]
     },
     "metadata": {},
     "output_type": "display_data"
    },
    {
     "data": {
      "application/vnd.jupyter.widget-view+json": {
       "model_id": "985870d321244006ba389c872adce8ed",
       "version_major": 2,
       "version_minor": 0
      },
      "text/plain": [
       "FloatSlider(value=-1.0, max=10.0, min=-10.0, step=0.5)"
      ]
     },
     "metadata": {},
     "output_type": "display_data"
    },
    {
     "data": {
      "application/vnd.jupyter.widget-view+json": {
       "model_id": "53cfbdb41c58415ca164b0a3d7a2ce6a",
       "version_major": 2,
       "version_minor": 0
      },
      "text/plain": [
       "Label(value='Chubby')"
      ]
     },
     "metadata": {},
     "output_type": "display_data"
    },
    {
     "data": {
      "application/vnd.jupyter.widget-view+json": {
       "model_id": "9b88d30a3bf9428480f0075616e7e063",
       "version_major": 2,
       "version_minor": 0
      },
      "text/plain": [
       "FloatSlider(value=-1.0, max=10.0, min=-10.0, step=0.5)"
      ]
     },
     "metadata": {},
     "output_type": "display_data"
    },
    {
     "data": {
      "application/vnd.jupyter.widget-view+json": {
       "model_id": "42cdc86998ef40af8d19570536685d17",
       "version_major": 2,
       "version_minor": 0
      },
      "text/plain": [
       "Label(value='Double_Chin')"
      ]
     },
     "metadata": {},
     "output_type": "display_data"
    },
    {
     "data": {
      "application/vnd.jupyter.widget-view+json": {
       "model_id": "a4c8f33948c043ed9cebcc9ab882e3c4",
       "version_major": 2,
       "version_minor": 0
      },
      "text/plain": [
       "FloatSlider(value=-1.0, max=10.0, min=-10.0, step=0.5)"
      ]
     },
     "metadata": {},
     "output_type": "display_data"
    },
    {
     "data": {
      "application/vnd.jupyter.widget-view+json": {
       "model_id": "2271f866b88b44be9d04935759e616d5",
       "version_major": 2,
       "version_minor": 0
      },
      "text/plain": [
       "Label(value='Eyeglasses')"
      ]
     },
     "metadata": {},
     "output_type": "display_data"
    },
    {
     "data": {
      "application/vnd.jupyter.widget-view+json": {
       "model_id": "281b16dc4cf443d7acc2010fb067c9c4",
       "version_major": 2,
       "version_minor": 0
      },
      "text/plain": [
       "FloatSlider(value=-1.0, max=10.0, min=-10.0, step=0.5)"
      ]
     },
     "metadata": {},
     "output_type": "display_data"
    },
    {
     "data": {
      "application/vnd.jupyter.widget-view+json": {
       "model_id": "46de054cffb44095bb5491dfa1670ca6",
       "version_major": 2,
       "version_minor": 0
      },
      "text/plain": [
       "Label(value='Goatee')"
      ]
     },
     "metadata": {},
     "output_type": "display_data"
    },
    {
     "data": {
      "application/vnd.jupyter.widget-view+json": {
       "model_id": "94938758a82c415490025df3ac467739",
       "version_major": 2,
       "version_minor": 0
      },
      "text/plain": [
       "FloatSlider(value=-1.0, max=10.0, min=-10.0, step=0.5)"
      ]
     },
     "metadata": {},
     "output_type": "display_data"
    },
    {
     "data": {
      "application/vnd.jupyter.widget-view+json": {
       "model_id": "898f504698b9404db6abc0ae2243357f",
       "version_major": 2,
       "version_minor": 0
      },
      "text/plain": [
       "Label(value='Gray_Hair')"
      ]
     },
     "metadata": {},
     "output_type": "display_data"
    },
    {
     "data": {
      "application/vnd.jupyter.widget-view+json": {
       "model_id": "facfd8a1e6ae4139a40e332621f7e461",
       "version_major": 2,
       "version_minor": 0
      },
      "text/plain": [
       "FloatSlider(value=-1.0, max=10.0, min=-10.0, step=0.5)"
      ]
     },
     "metadata": {},
     "output_type": "display_data"
    },
    {
     "data": {
      "application/vnd.jupyter.widget-view+json": {
       "model_id": "1f8e155ebf174c44be01a2cbed9856ef",
       "version_major": 2,
       "version_minor": 0
      },
      "text/plain": [
       "Label(value='Heavy_Makeup')"
      ]
     },
     "metadata": {},
     "output_type": "display_data"
    },
    {
     "data": {
      "application/vnd.jupyter.widget-view+json": {
       "model_id": "a9bf62b09b434073a60d28ac548a1de0",
       "version_major": 2,
       "version_minor": 0
      },
      "text/plain": [
       "FloatSlider(value=-1.0, max=10.0, min=-10.0, step=0.5)"
      ]
     },
     "metadata": {},
     "output_type": "display_data"
    },
    {
     "data": {
      "application/vnd.jupyter.widget-view+json": {
       "model_id": "9e7e8b3f8c454f5bb12459ee06aad1ca",
       "version_major": 2,
       "version_minor": 0
      },
      "text/plain": [
       "Label(value='High_Cheekbones')"
      ]
     },
     "metadata": {},
     "output_type": "display_data"
    },
    {
     "data": {
      "application/vnd.jupyter.widget-view+json": {
       "model_id": "49dbc4216a3d494f9fd0bd48f5b40183",
       "version_major": 2,
       "version_minor": 0
      },
      "text/plain": [
       "FloatSlider(value=-1.0, max=10.0, min=-10.0, step=0.5)"
      ]
     },
     "metadata": {},
     "output_type": "display_data"
    },
    {
     "data": {
      "application/vnd.jupyter.widget-view+json": {
       "model_id": "be8d8bfb9d1e4e4489111f6afa0c88df",
       "version_major": 2,
       "version_minor": 0
      },
      "text/plain": [
       "Label(value='Male')"
      ]
     },
     "metadata": {},
     "output_type": "display_data"
    },
    {
     "data": {
      "application/vnd.jupyter.widget-view+json": {
       "model_id": "db8b81c090db48f6a186960b75189c0e",
       "version_major": 2,
       "version_minor": 0
      },
      "text/plain": [
       "FloatSlider(value=-1.0, max=10.0, min=-10.0, step=0.5)"
      ]
     },
     "metadata": {},
     "output_type": "display_data"
    },
    {
     "data": {
      "application/vnd.jupyter.widget-view+json": {
       "model_id": "1d43f4d2a0ff4bfbb836c402ef6966a7",
       "version_major": 2,
       "version_minor": 0
      },
      "text/plain": [
       "Label(value='Mouth_Slightly_Open')"
      ]
     },
     "metadata": {},
     "output_type": "display_data"
    },
    {
     "data": {
      "application/vnd.jupyter.widget-view+json": {
       "model_id": "49f71a13416048cc807a977d4a75540c",
       "version_major": 2,
       "version_minor": 0
      },
      "text/plain": [
       "FloatSlider(value=-1.0, max=10.0, min=-10.0, step=0.5)"
      ]
     },
     "metadata": {},
     "output_type": "display_data"
    },
    {
     "data": {
      "application/vnd.jupyter.widget-view+json": {
       "model_id": "4036ea0fb42f49f8b739ae9213a13516",
       "version_major": 2,
       "version_minor": 0
      },
      "text/plain": [
       "Label(value='Mustache')"
      ]
     },
     "metadata": {},
     "output_type": "display_data"
    },
    {
     "data": {
      "application/vnd.jupyter.widget-view+json": {
       "model_id": "087680c88ad64a7aad71efb7bd07ac3d",
       "version_major": 2,
       "version_minor": 0
      },
      "text/plain": [
       "FloatSlider(value=-1.0, max=10.0, min=-10.0, step=0.5)"
      ]
     },
     "metadata": {},
     "output_type": "display_data"
    },
    {
     "data": {
      "application/vnd.jupyter.widget-view+json": {
       "model_id": "d74c8ffd0510410381e139566de0e70b",
       "version_major": 2,
       "version_minor": 0
      },
      "text/plain": [
       "Label(value='Narrow_Eyes')"
      ]
     },
     "metadata": {},
     "output_type": "display_data"
    },
    {
     "data": {
      "application/vnd.jupyter.widget-view+json": {
       "model_id": "1d654634a62a445abfcd90f064a77d83",
       "version_major": 2,
       "version_minor": 0
      },
      "text/plain": [
       "FloatSlider(value=-1.0, max=10.0, min=-10.0, step=0.5)"
      ]
     },
     "metadata": {},
     "output_type": "display_data"
    },
    {
     "data": {
      "application/vnd.jupyter.widget-view+json": {
       "model_id": "5e700bfa0e394104858e8a7a2c33d065",
       "version_major": 2,
       "version_minor": 0
      },
      "text/plain": [
       "Label(value='No_Beard')"
      ]
     },
     "metadata": {},
     "output_type": "display_data"
    },
    {
     "data": {
      "application/vnd.jupyter.widget-view+json": {
       "model_id": "3742d5e3264545078f2c5bfa8c0c6e5a",
       "version_major": 2,
       "version_minor": 0
      },
      "text/plain": [
       "FloatSlider(value=-1.0, max=10.0, min=-10.0, step=0.5)"
      ]
     },
     "metadata": {},
     "output_type": "display_data"
    },
    {
     "data": {
      "application/vnd.jupyter.widget-view+json": {
       "model_id": "c1a3d2d05af54d7999cb0397a0552f50",
       "version_major": 2,
       "version_minor": 0
      },
      "text/plain": [
       "Label(value='Oval_Face')"
      ]
     },
     "metadata": {},
     "output_type": "display_data"
    },
    {
     "data": {
      "application/vnd.jupyter.widget-view+json": {
       "model_id": "b83f79a7b14248449b106def9b31a8af",
       "version_major": 2,
       "version_minor": 0
      },
      "text/plain": [
       "FloatSlider(value=-1.0, max=10.0, min=-10.0, step=0.5)"
      ]
     },
     "metadata": {},
     "output_type": "display_data"
    },
    {
     "data": {
      "application/vnd.jupyter.widget-view+json": {
       "model_id": "3167044de8d5444797bd22eb49cc161f",
       "version_major": 2,
       "version_minor": 0
      },
      "text/plain": [
       "Label(value='Pale_Skin')"
      ]
     },
     "metadata": {},
     "output_type": "display_data"
    },
    {
     "data": {
      "application/vnd.jupyter.widget-view+json": {
       "model_id": "96a21443f71c4436ae429750d1159e56",
       "version_major": 2,
       "version_minor": 0
      },
      "text/plain": [
       "FloatSlider(value=-1.0, max=10.0, min=-10.0, step=0.5)"
      ]
     },
     "metadata": {},
     "output_type": "display_data"
    },
    {
     "data": {
      "application/vnd.jupyter.widget-view+json": {
       "model_id": "4593426efe8d4f0aae031af0c4116696",
       "version_major": 2,
       "version_minor": 0
      },
      "text/plain": [
       "Label(value='Pointy_Nose')"
      ]
     },
     "metadata": {},
     "output_type": "display_data"
    },
    {
     "data": {
      "application/vnd.jupyter.widget-view+json": {
       "model_id": "86ca9a4914734626b7d833a1a5216b58",
       "version_major": 2,
       "version_minor": 0
      },
      "text/plain": [
       "FloatSlider(value=-1.0, max=10.0, min=-10.0, step=0.5)"
      ]
     },
     "metadata": {},
     "output_type": "display_data"
    },
    {
     "data": {
      "application/vnd.jupyter.widget-view+json": {
       "model_id": "549c869202664bc8b7f118c8cb0a3152",
       "version_major": 2,
       "version_minor": 0
      },
      "text/plain": [
       "Label(value='Receding_Hairline')"
      ]
     },
     "metadata": {},
     "output_type": "display_data"
    },
    {
     "data": {
      "application/vnd.jupyter.widget-view+json": {
       "model_id": "6fe64fc30883434ca7c9711c9fec9833",
       "version_major": 2,
       "version_minor": 0
      },
      "text/plain": [
       "FloatSlider(value=-1.0, max=10.0, min=-10.0, step=0.5)"
      ]
     },
     "metadata": {},
     "output_type": "display_data"
    },
    {
     "data": {
      "application/vnd.jupyter.widget-view+json": {
       "model_id": "0331098b93ca4827b0b776c014c50b50",
       "version_major": 2,
       "version_minor": 0
      },
      "text/plain": [
       "Label(value='Rosy_Cheeks')"
      ]
     },
     "metadata": {},
     "output_type": "display_data"
    },
    {
     "data": {
      "application/vnd.jupyter.widget-view+json": {
       "model_id": "7477803f97614a57999ec72b12847f1f",
       "version_major": 2,
       "version_minor": 0
      },
      "text/plain": [
       "FloatSlider(value=-1.0, max=10.0, min=-10.0, step=0.5)"
      ]
     },
     "metadata": {},
     "output_type": "display_data"
    },
    {
     "data": {
      "application/vnd.jupyter.widget-view+json": {
       "model_id": "6426e4a423924f00bd31c249c83acf1e",
       "version_major": 2,
       "version_minor": 0
      },
      "text/plain": [
       "Label(value='Sideburns')"
      ]
     },
     "metadata": {},
     "output_type": "display_data"
    },
    {
     "data": {
      "application/vnd.jupyter.widget-view+json": {
       "model_id": "afc7fee1fb8d4b289a0a970e4706fbed",
       "version_major": 2,
       "version_minor": 0
      },
      "text/plain": [
       "FloatSlider(value=-1.0, max=10.0, min=-10.0, step=0.5)"
      ]
     },
     "metadata": {},
     "output_type": "display_data"
    },
    {
     "data": {
      "application/vnd.jupyter.widget-view+json": {
       "model_id": "03e5acc5ffc4456d869912cecedcbe06",
       "version_major": 2,
       "version_minor": 0
      },
      "text/plain": [
       "Label(value='Smiling')"
      ]
     },
     "metadata": {},
     "output_type": "display_data"
    },
    {
     "data": {
      "application/vnd.jupyter.widget-view+json": {
       "model_id": "a1e4eb4d28fe46c88d8ba898e423c873",
       "version_major": 2,
       "version_minor": 0
      },
      "text/plain": [
       "FloatSlider(value=-1.0, max=10.0, min=-10.0, step=0.5)"
      ]
     },
     "metadata": {},
     "output_type": "display_data"
    },
    {
     "data": {
      "application/vnd.jupyter.widget-view+json": {
       "model_id": "54423db3d7da407bbc3b91271b8cc94a",
       "version_major": 2,
       "version_minor": 0
      },
      "text/plain": [
       "Label(value='Straight_Hair')"
      ]
     },
     "metadata": {},
     "output_type": "display_data"
    },
    {
     "data": {
      "application/vnd.jupyter.widget-view+json": {
       "model_id": "bb0eb643ed034c9aaeef1883d5df9938",
       "version_major": 2,
       "version_minor": 0
      },
      "text/plain": [
       "FloatSlider(value=-1.0, max=10.0, min=-10.0, step=0.5)"
      ]
     },
     "metadata": {},
     "output_type": "display_data"
    },
    {
     "data": {
      "application/vnd.jupyter.widget-view+json": {
       "model_id": "225af221b8c24eb48b54945a77c1ced1",
       "version_major": 2,
       "version_minor": 0
      },
      "text/plain": [
       "Label(value='Wavy_Hair')"
      ]
     },
     "metadata": {},
     "output_type": "display_data"
    },
    {
     "data": {
      "application/vnd.jupyter.widget-view+json": {
       "model_id": "e570a4acc5394028a95c11f92c92b9be",
       "version_major": 2,
       "version_minor": 0
      },
      "text/plain": [
       "FloatSlider(value=-1.0, max=10.0, min=-10.0, step=0.5)"
      ]
     },
     "metadata": {},
     "output_type": "display_data"
    },
    {
     "data": {
      "application/vnd.jupyter.widget-view+json": {
       "model_id": "65d2871fcfdb420e9c890b45272a554c",
       "version_major": 2,
       "version_minor": 0
      },
      "text/plain": [
       "Label(value='Wearing_Earrings')"
      ]
     },
     "metadata": {},
     "output_type": "display_data"
    },
    {
     "data": {
      "application/vnd.jupyter.widget-view+json": {
       "model_id": "b4fe196e42374368897b306b682b0bd3",
       "version_major": 2,
       "version_minor": 0
      },
      "text/plain": [
       "FloatSlider(value=-1.0, max=10.0, min=-10.0, step=0.5)"
      ]
     },
     "metadata": {},
     "output_type": "display_data"
    },
    {
     "data": {
      "application/vnd.jupyter.widget-view+json": {
       "model_id": "fc4c9546ce874861bb8099b4bd66c493",
       "version_major": 2,
       "version_minor": 0
      },
      "text/plain": [
       "Label(value='Wearing_Hat')"
      ]
     },
     "metadata": {},
     "output_type": "display_data"
    },
    {
     "data": {
      "application/vnd.jupyter.widget-view+json": {
       "model_id": "7d938bf0f6454577af36186a8d83d933",
       "version_major": 2,
       "version_minor": 0
      },
      "text/plain": [
       "FloatSlider(value=-1.0, max=10.0, min=-10.0, step=0.5)"
      ]
     },
     "metadata": {},
     "output_type": "display_data"
    },
    {
     "data": {
      "application/vnd.jupyter.widget-view+json": {
       "model_id": "5e515e3c43544c4b81e990b19184be0e",
       "version_major": 2,
       "version_minor": 0
      },
      "text/plain": [
       "Label(value='Wearing_Lipstick')"
      ]
     },
     "metadata": {},
     "output_type": "display_data"
    },
    {
     "data": {
      "application/vnd.jupyter.widget-view+json": {
       "model_id": "70bda2b070104bf188e228f610c2fe2c",
       "version_major": 2,
       "version_minor": 0
      },
      "text/plain": [
       "FloatSlider(value=-1.0, max=10.0, min=-10.0, step=0.5)"
      ]
     },
     "metadata": {},
     "output_type": "display_data"
    },
    {
     "data": {
      "application/vnd.jupyter.widget-view+json": {
       "model_id": "1863f04c62c94a9aba44efa7f7ed646b",
       "version_major": 2,
       "version_minor": 0
      },
      "text/plain": [
       "Label(value='Wearing_Necklace')"
      ]
     },
     "metadata": {},
     "output_type": "display_data"
    },
    {
     "data": {
      "application/vnd.jupyter.widget-view+json": {
       "model_id": "5522ff4af7824b2da67d65c35fca92d4",
       "version_major": 2,
       "version_minor": 0
      },
      "text/plain": [
       "FloatSlider(value=-1.0, max=10.0, min=-10.0, step=0.5)"
      ]
     },
     "metadata": {},
     "output_type": "display_data"
    },
    {
     "data": {
      "application/vnd.jupyter.widget-view+json": {
       "model_id": "ccb32e7b89df4dc68d85ffe24373a01a",
       "version_major": 2,
       "version_minor": 0
      },
      "text/plain": [
       "Label(value='Wearing_Necktie')"
      ]
     },
     "metadata": {},
     "output_type": "display_data"
    },
    {
     "data": {
      "application/vnd.jupyter.widget-view+json": {
       "model_id": "bf89805c4803450b8e81c1d20632d221",
       "version_major": 2,
       "version_minor": 0
      },
      "text/plain": [
       "FloatSlider(value=-1.0, max=10.0, min=-10.0, step=0.5)"
      ]
     },
     "metadata": {},
     "output_type": "display_data"
    },
    {
     "data": {
      "application/vnd.jupyter.widget-view+json": {
       "model_id": "3c458f9abde84da4bc777515a439ad28",
       "version_major": 2,
       "version_minor": 0
      },
      "text/plain": [
       "Label(value='Young')"
      ]
     },
     "metadata": {},
     "output_type": "display_data"
    },
    {
     "data": {
      "application/vnd.jupyter.widget-view+json": {
       "model_id": "a35bde9fb5494862a997c7738ad01c77",
       "version_major": 2,
       "version_minor": 0
      },
      "text/plain": [
       "FloatSlider(value=-1.0, max=10.0, min=-10.0, step=0.5)"
      ]
     },
     "metadata": {},
     "output_type": "display_data"
    }
   ],
   "source": [
    "sliders = []\n",
    "labels = []\n",
    "for attrib in attribs:\n",
    "    slider = widgets.FloatSlider(\n",
    "        min=-10,\n",
    "        max=10,\n",
    "        step=0.5,\n",
    "        value=-1    )\n",
    "    labels.append(Label(attrib))\n",
    "    sliders.append(slider)\n",
    "for label, slider in zip(labels,sliders):\n",
    "    display(label)\n",
    "    display(slider)"
   ]
  },
  {
   "cell_type": "code",
   "execution_count": 76,
   "metadata": {
    "scrolled": false
   },
   "outputs": [
    {
     "name": "stdout",
     "output_type": "stream",
     "text": [
      "Attractive 1.0\n",
      "Bangs 1.0\n",
      "Big_Lips 1.0\n",
      "Black_Hair 1.0\n",
      "Brown_Hair 1.0\n",
      "Heavy_Makeup 1.0\n",
      "High_Cheekbones 1.0\n",
      "No_Beard 1.0\n",
      "Wearing_Earrings 1.0\n",
      "Wearing_Lipstick 1.0\n",
      "Young 1.0\n"
     ]
    },
    {
     "data": {
      "image/png": "[encoded data removed]",
      "text/plain": [
       "<Figure size 432x288 with 1 Axes>"
      ]
     },
     "metadata": {
      "needs_background": "light"
     },
     "output_type": "display_data"
    }
   ],
   "source": [
    "conditions = np.array([slider.value for slider in sliders])\n",
    "# conditions = test_attribute\n",
    "conditions = training_attribs[101]\n",
    "encode_to_attribs(conditions)\n",
    "mu, sigma = 0, 1 #mean and standard deviation\n",
    "noise = np.random.normal(mu, sigma,100)\n",
    "generate(decoder,noise,conditions)\n"
   ]
  },
  {
   "cell_type": "code",
   "execution_count": null,
   "metadata": {},
   "outputs": [],
   "source": []
  }
 ],
 "metadata": {
  "kernelspec": {
   "display_name": "Python 3",
   "language": "python",
   "name": "python3"
  },
  "language_info": {
   "codemirror_mode": {
    "name": "ipython",
    "version": 3
   },
   "file_extension": ".py",
   "mimetype": "text/x-python",
   "name": "python",
   "nbconvert_exporter": "python",
   "pygments_lexer": "ipython3",
   "version": "3.7.7"
  }
 },
 "nbformat": 4,
 "nbformat_minor": 4
}
