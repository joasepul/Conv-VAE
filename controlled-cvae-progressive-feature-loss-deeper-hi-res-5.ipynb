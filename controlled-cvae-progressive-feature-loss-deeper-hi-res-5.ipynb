{
 "cells": [
  {
   "cell_type": "code",
   "execution_count": 13,
   "metadata": {},
   "outputs": [
    {
     "data": {
      "text/html": [
       "<style>.container { width:100% !important; }</style>"
      ],
      "text/plain": [
       "<IPython.core.display.HTML object>"
      ]
     },
     "metadata": {},
     "output_type": "display_data"
    }
   ],
   "source": [
    "from IPython.core.display import display, HTML\n",
    "display(HTML(\"<style>.container { width:100% !important; }</style>\"))"
   ]
  },
  {
   "cell_type": "code",
   "execution_count": 14,
   "metadata": {},
   "outputs": [],
   "source": [
    "import tensorflow as tf\n",
    "from tensorflow.keras.preprocessing.image import ImageDataGenerator\n",
    "from tensorflow.keras.layers import Add, Concatenate, Dropout, GaussianNoise, UpSampling2D, Conv2DTranspose, Conv2D, Dense, Lambda, Input, Flatten, Reshape, BatchNormalization, ReLU, LeakyReLU, MaxPooling2D\n",
    "from tensorflow.keras.models import Model, load_model\n",
    "import tensorflow.keras.layers as layers\n",
    "import tensorflow.keras.backend as K\n",
    "from tensorflow.keras.losses import mse, binary_crossentropy\n",
    "from tensorflow.keras.datasets import mnist\n",
    "from tensorflow.keras.optimizers import Adam\n",
    "import matplotlib.pyplot as plt\n",
    "import pandas as pd\n",
    "import numpy as np\n",
    "\n",
    "\n",
    "\n",
    "\n",
    "import os\n",
    "import glob"
   ]
  },
  {
   "cell_type": "code",
   "execution_count": 15,
   "metadata": {},
   "outputs": [],
   "source": [
    "import numpy as np\n",
    "def sampling(args):\n",
    "    \"\"\"Reparameterization trick by sampling from an isotropic unit Gaussian.\n",
    "\n",
    "    # Arguments\n",
    "        args (tensor): mean and log of variance of Q(z|X)\n",
    "\n",
    "    # Returns\n",
    "        z (tensor): sampled latent vector\n",
    "    \"\"\"\n",
    "    z_mean, z_log_var = args\n",
    "    batch = K.shape(z_mean)[0]\n",
    "    dim = K.int_shape(z_mean)[1]\n",
    "    # by default, random_normal has mean = 0 and std = 1.0\n",
    "    epsilon = K.random_normal(shape=(batch, dim))\n",
    "    return z_mean + K.exp(0.5 * z_log_var) * epsilon\n"
   ]
  },
  {
   "cell_type": "code",
   "execution_count": 16,
   "metadata": {},
   "outputs": [
    {
     "name": "stdout",
     "output_type": "stream",
     "text": [
      "Model: \"encoder\"\n",
      "__________________________________________________________________________________________________\n",
      "Layer (type)                    Output Shape         Param #     Connected to                     \n",
      "==================================================================================================\n",
      "encoder_input (InputLayer)      [(None, 64, 64, 3)]  0                                            \n",
      "__________________________________________________________________________________________________\n",
      "conv2d_10 (Conv2D)              (None, 32, 32, 32)   896         encoder_input[0][0]              \n",
      "__________________________________________________________________________________________________\n",
      "batch_normalization_10 (BatchNo (None, 32, 32, 32)   128         conv2d_10[0][0]                  \n",
      "__________________________________________________________________________________________________\n",
      "leaky_re_lu_11 (LeakyReLU)      (None, 32, 32, 32)   0           batch_normalization_10[0][0]     \n",
      "__________________________________________________________________________________________________\n",
      "conv2d_11 (Conv2D)              (None, 16, 16, 64)   18496       leaky_re_lu_11[0][0]             \n",
      "__________________________________________________________________________________________________\n",
      "batch_normalization_11 (BatchNo (None, 16, 16, 64)   256         conv2d_11[0][0]                  \n",
      "__________________________________________________________________________________________________\n",
      "leaky_re_lu_12 (LeakyReLU)      (None, 16, 16, 64)   0           batch_normalization_11[0][0]     \n",
      "__________________________________________________________________________________________________\n",
      "conv2d_12 (Conv2D)              (None, 8, 8, 128)    73856       leaky_re_lu_12[0][0]             \n",
      "__________________________________________________________________________________________________\n",
      "batch_normalization_12 (BatchNo (None, 8, 8, 128)    512         conv2d_12[0][0]                  \n",
      "__________________________________________________________________________________________________\n",
      "leaky_re_lu_13 (LeakyReLU)      (None, 8, 8, 128)    0           batch_normalization_12[0][0]     \n",
      "__________________________________________________________________________________________________\n",
      "conv2d_13 (Conv2D)              (None, 4, 4, 256)    295168      leaky_re_lu_13[0][0]             \n",
      "__________________________________________________________________________________________________\n",
      "batch_normalization_13 (BatchNo (None, 4, 4, 256)    1024        conv2d_13[0][0]                  \n",
      "__________________________________________________________________________________________________\n",
      "leaky_re_lu_14 (LeakyReLU)      (None, 4, 4, 256)    0           batch_normalization_13[0][0]     \n",
      "__________________________________________________________________________________________________\n",
      "flatten_1 (Flatten)             (None, 4096)         0           leaky_re_lu_14[0][0]             \n",
      "__________________________________________________________________________________________________\n",
      "encoder_cond_input (InputLayer) [(None, 40)]         0                                            \n",
      "__________________________________________________________________________________________________\n",
      "concatenate_2 (Concatenate)     (None, 4136)         0           flatten_1[0][0]                  \n",
      "                                                                 encoder_cond_input[0][0]         \n",
      "__________________________________________________________________________________________________\n",
      "z_mean (Dense)                  (None, 100)          413700      concatenate_2[0][0]              \n",
      "__________________________________________________________________________________________________\n",
      "z_log_var (Dense)               (None, 100)          413700      concatenate_2[0][0]              \n",
      "__________________________________________________________________________________________________\n",
      "z (Lambda)                      (None, 100)          0           z_mean[0][0]                     \n",
      "                                                                 z_log_var[0][0]                  \n",
      "==================================================================================================\n",
      "Total params: 1,217,736\n",
      "Trainable params: 1,216,776\n",
      "Non-trainable params: 960\n",
      "__________________________________________________________________________________________________\n",
      "Model: \"decoder\"\n",
      "__________________________________________________________________________________________________\n",
      "Layer (type)                    Output Shape         Param #     Connected to                     \n",
      "==================================================================================================\n",
      "z_sampling (InputLayer)         [(None, 100)]        0                                            \n",
      "__________________________________________________________________________________________________\n",
      "decoder_condition (InputLayer)  [(None, 40)]         0                                            \n",
      "__________________________________________________________________________________________________\n",
      "concatenate_3 (Concatenate)     (None, 140)          0           z_sampling[0][0]                 \n",
      "                                                                 decoder_condition[0][0]          \n",
      "__________________________________________________________________________________________________\n",
      "dense_1 (Dense)                 (None, 4096)         577536      concatenate_3[0][0]              \n",
      "__________________________________________________________________________________________________\n",
      "leaky_re_lu_15 (LeakyReLU)      (None, 4096)         0           dense_1[0][0]                    \n",
      "__________________________________________________________________________________________________\n",
      "reshape_1 (Reshape)             (None, 4, 4, 256)    0           leaky_re_lu_15[0][0]             \n",
      "__________________________________________________________________________________________________\n",
      "up_sampling2d_4 (UpSampling2D)  (None, 8, 8, 256)    0           reshape_1[0][0]                  \n",
      "__________________________________________________________________________________________________\n",
      "conv2d_14 (Conv2D)              (None, 8, 8, 256)    590080      up_sampling2d_4[0][0]            \n",
      "__________________________________________________________________________________________________\n",
      "batch_normalization_14 (BatchNo (None, 8, 8, 256)    1024        conv2d_14[0][0]                  \n",
      "__________________________________________________________________________________________________\n",
      "leaky_re_lu_16 (LeakyReLU)      (None, 8, 8, 256)    0           batch_normalization_14[0][0]     \n",
      "__________________________________________________________________________________________________\n",
      "up_sampling2d_5 (UpSampling2D)  (None, 16, 16, 256)  0           leaky_re_lu_16[0][0]             \n",
      "__________________________________________________________________________________________________\n",
      "conv2d_15 (Conv2D)              (None, 16, 16, 128)  295040      up_sampling2d_5[0][0]            \n",
      "__________________________________________________________________________________________________\n",
      "batch_normalization_15 (BatchNo (None, 16, 16, 128)  512         conv2d_15[0][0]                  \n",
      "__________________________________________________________________________________________________\n",
      "leaky_re_lu_17 (LeakyReLU)      (None, 16, 16, 128)  0           batch_normalization_15[0][0]     \n",
      "__________________________________________________________________________________________________\n",
      "up_sampling2d_6 (UpSampling2D)  (None, 32, 32, 128)  0           leaky_re_lu_17[0][0]             \n",
      "__________________________________________________________________________________________________\n",
      "conv2d_16 (Conv2D)              (None, 32, 32, 64)   73792       up_sampling2d_6[0][0]            \n",
      "__________________________________________________________________________________________________\n",
      "batch_normalization_16 (BatchNo (None, 32, 32, 64)   256         conv2d_16[0][0]                  \n",
      "__________________________________________________________________________________________________\n",
      "leaky_re_lu_18 (LeakyReLU)      (None, 32, 32, 64)   0           batch_normalization_16[0][0]     \n",
      "__________________________________________________________________________________________________\n",
      "up_sampling2d_7 (UpSampling2D)  (None, 64, 64, 64)   0           leaky_re_lu_18[0][0]             \n",
      "__________________________________________________________________________________________________\n",
      "conv2d_17 (Conv2D)              (None, 64, 64, 32)   18464       up_sampling2d_7[0][0]            \n",
      "__________________________________________________________________________________________________\n",
      "batch_normalization_17 (BatchNo (None, 64, 64, 32)   128         conv2d_17[0][0]                  \n",
      "__________________________________________________________________________________________________\n",
      "leaky_re_lu_19 (LeakyReLU)      (None, 64, 64, 32)   0           batch_normalization_17[0][0]     \n",
      "__________________________________________________________________________________________________\n",
      "output_lo (Conv2D)              (None, 64, 64, 3)    2403        leaky_re_lu_19[0][0]             \n",
      "__________________________________________________________________________________________________\n",
      "conv2d_18 (Conv2D)              (None, 64, 64, 16)   64          output_lo[0][0]                  \n",
      "__________________________________________________________________________________________________\n",
      "batch_normalization_18 (BatchNo (None, 64, 64, 16)   64          conv2d_18[0][0]                  \n",
      "__________________________________________________________________________________________________\n",
      "leaky_re_lu_20 (LeakyReLU)      (None, 64, 64, 16)   0           batch_normalization_18[0][0]     \n",
      "__________________________________________________________________________________________________\n",
      "output_med (Conv2D)             (None, 64, 64, 3)    1203        leaky_re_lu_20[0][0]             \n",
      "__________________________________________________________________________________________________\n",
      "conv2d_19 (Conv2D)              (None, 64, 64, 8)    32          output_med[0][0]                 \n",
      "__________________________________________________________________________________________________\n",
      "batch_normalization_19 (BatchNo (None, 64, 64, 8)    32          conv2d_19[0][0]                  \n",
      "__________________________________________________________________________________________________\n",
      "leaky_re_lu_21 (LeakyReLU)      (None, 64, 64, 8)    0           batch_normalization_19[0][0]     \n",
      "__________________________________________________________________________________________________\n",
      "output_hi (Conv2D)              (None, 64, 64, 3)    603         leaky_re_lu_21[0][0]             \n",
      "==================================================================================================\n",
      "Total params: 1,561,233\n",
      "Trainable params: 1,560,225\n",
      "Non-trainable params: 1,008\n",
      "__________________________________________________________________________________________________\n"
     ]
    }
   ],
   "source": [
    "# network parameters\n",
    "width = 64\n",
    "height = 64\n",
    "latent_dim = 100\n",
    "\n",
    "n_conds = 40\n",
    "h = 0\n",
    "w = 0\n",
    "c = 0\n",
    "\n",
    "# VAE model = encoder + decoder\n",
    "def build_encoder():\n",
    "    global h\n",
    "    global w\n",
    "    global c\n",
    "    # build encoder model\n",
    "    inputs = Input(shape=(width,height,3), name='encoder_input')\n",
    "    condition_inputs = Input(shape=(n_conds,), name='encoder_cond_input')\n",
    "\n",
    "\n",
    "    # x = GaussianNoise(1)(inputs) #Noise layer for denoising VAE\n",
    "    x = Conv2D(32, 3, strides=2, padding='same')(inputs)\n",
    "    x = BatchNormalization()(x)\n",
    "    x = LeakyReLU(0.2)(x)\n",
    "    x = Conv2D(64, 3, strides=2, padding='same')(x)\n",
    "    x = BatchNormalization()(x)\n",
    "    x = LeakyReLU(0.2)(x)\n",
    "    x = Conv2D(128, 3, strides=2, padding='same')(x)\n",
    "    x = BatchNormalization()(x)\n",
    "    x = LeakyReLU(0.2)(x)\n",
    "    x = Conv2D(256, 3, strides=2, padding='same')(x)\n",
    "    x = BatchNormalization()(x)\n",
    "    x = LeakyReLU(0.2)(x)\n",
    "\n",
    "    (_,h,w,c) = x.shape\n",
    "\n",
    "    x = Flatten()(x)\n",
    "    x = Concatenate()([x, condition_inputs])\n",
    "\n",
    "\n",
    "    z_mean = Dense(latent_dim, name='z_mean')(x)\n",
    "    z_log_var = Dense(latent_dim, name='z_log_var')(x)\n",
    "\n",
    "    # use reparameterization trick to push the sampling out as input\n",
    "    # note that \"output_shape\" isn't necessary with the TensorFlow backend\n",
    "    z = Lambda(sampling, output_shape=(latent_dim,), name='z')([z_mean, z_log_var])\n",
    "\n",
    "    # instantiate encoder model\n",
    "    return Model([inputs,condition_inputs], [z_mean, z_log_var, z], name='encoder')\n",
    "encoder = build_encoder()\n",
    "encoder.summary()\n",
    "\n",
    "\n",
    "def build_decoder():\n",
    "    # build decoder model\n",
    "    latent_inputs = Input(shape=(latent_dim,), name='z_sampling')\n",
    "    decoder_condition = Input(shape=(n_conds,), name='decoder_condition')\n",
    "\n",
    "\n",
    "\n",
    "    x = Concatenate()([latent_inputs,decoder_condition])\n",
    "    x = Dense(h*w*c)(x)\n",
    "    x = LeakyReLU(0.2)(x)\n",
    "    x = Reshape((h,w,c))(x)\n",
    "\n",
    "    \n",
    "    x = UpSampling2D()(x)\n",
    "    x = Conv2D(256,3, strides=1, padding='same')(x)\n",
    "    x = BatchNormalization()(x)\n",
    "    x = LeakyReLU(0.2)(x)\n",
    "\n",
    "    x = UpSampling2D()(x)\n",
    "    x = Conv2D(128,3, strides=1, padding='same')(x)\n",
    "    x = BatchNormalization()(x)\n",
    "    x = LeakyReLU(0.2)(x)\n",
    "     \n",
    "    x = UpSampling2D()(x)\n",
    "    x = Conv2D(64,3, strides=1, padding='same')(x)\n",
    "    x = BatchNormalization()(x)\n",
    "    x = LeakyReLU(0.2)(x)\n",
    "\n",
    "    x = UpSampling2D()(x)\n",
    "    x = Conv2D(32,3, strides=1, padding='same')(x)\n",
    "    x = BatchNormalization()(x)\n",
    "    x = LeakyReLU(0.2)(x)\n",
    "    outputs_lo = Conv2D(3,5, strides=1, activation='tanh', padding='same', name='output_lo')(x)\n",
    "\n",
    "\n",
    "    x = Conv2D(16,1, strides=1, padding='same')(outputs_lo)\n",
    "    x = BatchNormalization()(x)\n",
    "    x = LeakyReLU(0.2)(x)\n",
    "    outputs_med = Conv2D(3,5, strides=1, activation='tanh', padding='same', name='output_med')(x)\n",
    "\n",
    "\n",
    "    x = Conv2D(8,1, strides=1, padding='same')(outputs_med)\n",
    "    x = BatchNormalization()(x)\n",
    "    x = LeakyReLU(0.2)(x)\n",
    "    outputs_hi = Conv2D(3,5, strides=1, activation='tanh', padding='same', name='output_hi')(x)\n",
    "\n",
    "\n",
    "    # # instantiate decoder model\n",
    "    return Model([latent_inputs,decoder_condition], [outputs_lo, outputs_med ,outputs_hi], name='decoder')\n",
    "\n",
    "decoder = build_decoder()\n",
    "decoder.summary()\n",
    "\n",
    "\n",
    "\n",
    "\n",
    "\n",
    "\n"
   ]
  },
  {
   "cell_type": "code",
   "execution_count": 17,
   "metadata": {},
   "outputs": [],
   "source": [
    "from tensorflow.keras.applications.vgg19 import VGG19\n",
    "from tensorflow.keras.applications.vgg19 import preprocess_input"
   ]
  },
  {
   "cell_type": "code",
   "execution_count": 18,
   "metadata": {},
   "outputs": [
    {
     "name": "stdout",
     "output_type": "stream",
     "text": [
      "Model: \"vgg19\"\n",
      "_________________________________________________________________\n",
      "Layer (type)                 Output Shape              Param #   \n",
      "=================================================================\n",
      "input_2 (InputLayer)         [(None, 64, 64, 3)]       0         \n",
      "_________________________________________________________________\n",
      "block1_conv1 (Conv2D)        (None, 64, 64, 64)        1792      \n",
      "_________________________________________________________________\n",
      "block1_conv2 (Conv2D)        (None, 64, 64, 64)        36928     \n",
      "_________________________________________________________________\n",
      "block1_pool (MaxPooling2D)   (None, 32, 32, 64)        0         \n",
      "_________________________________________________________________\n",
      "block2_conv1 (Conv2D)        (None, 32, 32, 128)       73856     \n",
      "_________________________________________________________________\n",
      "block2_conv2 (Conv2D)        (None, 32, 32, 128)       147584    \n",
      "_________________________________________________________________\n",
      "block2_pool (MaxPooling2D)   (None, 16, 16, 128)       0         \n",
      "_________________________________________________________________\n",
      "block3_conv1 (Conv2D)        (None, 16, 16, 256)       295168    \n",
      "_________________________________________________________________\n",
      "block3_conv2 (Conv2D)        (None, 16, 16, 256)       590080    \n",
      "_________________________________________________________________\n",
      "block3_conv3 (Conv2D)        (None, 16, 16, 256)       590080    \n",
      "_________________________________________________________________\n",
      "block3_conv4 (Conv2D)        (None, 16, 16, 256)       590080    \n",
      "_________________________________________________________________\n",
      "block3_pool (MaxPooling2D)   (None, 8, 8, 256)         0         \n",
      "_________________________________________________________________\n",
      "block4_conv1 (Conv2D)        (None, 8, 8, 512)         1180160   \n",
      "_________________________________________________________________\n",
      "block4_conv2 (Conv2D)        (None, 8, 8, 512)         2359808   \n",
      "_________________________________________________________________\n",
      "block4_conv3 (Conv2D)        (None, 8, 8, 512)         2359808   \n",
      "_________________________________________________________________\n",
      "block4_conv4 (Conv2D)        (None, 8, 8, 512)         2359808   \n",
      "_________________________________________________________________\n",
      "block4_pool (MaxPooling2D)   (None, 4, 4, 512)         0         \n",
      "_________________________________________________________________\n",
      "block5_conv1 (Conv2D)        (None, 4, 4, 512)         2359808   \n",
      "_________________________________________________________________\n",
      "block5_conv2 (Conv2D)        (None, 4, 4, 512)         2359808   \n",
      "_________________________________________________________________\n",
      "block5_conv3 (Conv2D)        (None, 4, 4, 512)         2359808   \n",
      "_________________________________________________________________\n",
      "block5_conv4 (Conv2D)        (None, 4, 4, 512)         2359808   \n",
      "_________________________________________________________________\n",
      "block5_pool (MaxPooling2D)   (None, 2, 2, 512)         0         \n",
      "=================================================================\n",
      "Total params: 20,024,384\n",
      "Trainable params: 20,024,384\n",
      "Non-trainable params: 0\n",
      "_________________________________________________________________\n"
     ]
    }
   ],
   "source": [
    "vgg19 = VGG19(include_top=False, weights='imagenet', input_shape=(64,64,3))\n",
    "vgg19.summary()"
   ]
  },
  {
   "cell_type": "code",
   "execution_count": 19,
   "metadata": {},
   "outputs": [
    {
     "name": "stdout",
     "output_type": "stream",
     "text": [
      "Model: \"dfc_lo_model\"\n",
      "_________________________________________________________________\n",
      "Layer (type)                 Output Shape              Param #   \n",
      "=================================================================\n",
      "input_2 (InputLayer)         [(None, 64, 64, 3)]       0         \n",
      "_________________________________________________________________\n",
      "block1_conv1 (Conv2D)        (None, 64, 64, 64)        1792      \n",
      "_________________________________________________________________\n",
      "block1_conv2 (Conv2D)        (None, 64, 64, 64)        36928     \n",
      "_________________________________________________________________\n",
      "block1_pool (MaxPooling2D)   (None, 32, 32, 64)        0         \n",
      "_________________________________________________________________\n",
      "block2_conv1 (Conv2D)        (None, 32, 32, 128)       73856     \n",
      "_________________________________________________________________\n",
      "block2_conv2 (Conv2D)        (None, 32, 32, 128)       147584    \n",
      "_________________________________________________________________\n",
      "block2_pool (MaxPooling2D)   (None, 16, 16, 128)       0         \n",
      "_________________________________________________________________\n",
      "block3_conv1 (Conv2D)        (None, 16, 16, 256)       295168    \n",
      "=================================================================\n",
      "Total params: 555,328\n",
      "Trainable params: 555,328\n",
      "Non-trainable params: 0\n",
      "_________________________________________________________________\n"
     ]
    }
   ],
   "source": [
    "# Rough feature model\n",
    "dfc_lo_layers = [\"block3_conv1\"]\n",
    "#dfc_layer_weights = [1.0/3.0, 1.0/3.0, 1.0/3.0]\n",
    "\n",
    "dfc_lo_outputs = [vgg19.get_layer(l).output for l in dfc_lo_layers]\n",
    "dfc_lo_loss_model = Model(vgg19.input, dfc_lo_outputs, name=\"dfc_lo_model\")\n",
    "dfc_lo_loss_model.summary()"
   ]
  },
  {
   "cell_type": "code",
   "execution_count": 20,
   "metadata": {},
   "outputs": [
    {
     "name": "stdout",
     "output_type": "stream",
     "text": [
      "Model: \"dfc_med_model\"\n",
      "_________________________________________________________________\n",
      "Layer (type)                 Output Shape              Param #   \n",
      "=================================================================\n",
      "input_2 (InputLayer)         [(None, 64, 64, 3)]       0         \n",
      "_________________________________________________________________\n",
      "block1_conv1 (Conv2D)        (None, 64, 64, 64)        1792      \n",
      "_________________________________________________________________\n",
      "block1_conv2 (Conv2D)        (None, 64, 64, 64)        36928     \n",
      "_________________________________________________________________\n",
      "block1_pool (MaxPooling2D)   (None, 32, 32, 64)        0         \n",
      "_________________________________________________________________\n",
      "block2_conv1 (Conv2D)        (None, 32, 32, 128)       73856     \n",
      "=================================================================\n",
      "Total params: 112,576\n",
      "Trainable params: 112,576\n",
      "Non-trainable params: 0\n",
      "_________________________________________________________________\n"
     ]
    }
   ],
   "source": [
    "# Medium feature model\n",
    "\n",
    "dfc_med_layers = [\"block2_conv1\"]\n",
    "#dfc_layer_weights = [1.0/3.0, 1.0/3.0, 1.0/3.0]\n",
    "\n",
    "dfc_med_outputs = [vgg19.get_layer(l).output for l in dfc_med_layers]\n",
    "dfc_med_loss_model = Model(vgg19.input, dfc_med_outputs, name=\"dfc_med_model\")\n",
    "dfc_med_loss_model.summary()"
   ]
  },
  {
   "cell_type": "code",
   "execution_count": 21,
   "metadata": {},
   "outputs": [
    {
     "name": "stdout",
     "output_type": "stream",
     "text": [
      "Model: \"dfc_hi_model\"\n",
      "_________________________________________________________________\n",
      "Layer (type)                 Output Shape              Param #   \n",
      "=================================================================\n",
      "input_2 (InputLayer)         [(None, 64, 64, 3)]       0         \n",
      "_________________________________________________________________\n",
      "block1_conv1 (Conv2D)        (None, 64, 64, 64)        1792      \n",
      "=================================================================\n",
      "Total params: 1,792\n",
      "Trainable params: 1,792\n",
      "Non-trainable params: 0\n",
      "_________________________________________________________________\n"
     ]
    }
   ],
   "source": [
    "# Fine feature model\n",
    "dfc_hi_layers = [\"block1_conv1\"]\n",
    "#dfc_layer_weights = [1.0/3.0, 1.0/3.0, 1.0/3.0]\n",
    "\n",
    "dfc_hi_outputs = [vgg19.get_layer(l).output for l in dfc_hi_layers]\n",
    "dfc_hi_loss_model = Model(vgg19.input, dfc_hi_outputs, name=\"dfc_hi_model\")\n",
    "dfc_hi_loss_model.summary()"
   ]
  },
  {
   "cell_type": "code",
   "execution_count": 22,
   "metadata": {},
   "outputs": [],
   "source": [
    "def normalize_for_tanh(img):\n",
    "    return (img - 127.5) / 127.5\n",
    "\n",
    "def unnormalize_tanh(img):\n",
    "    return (img + 1) / 2"
   ]
  },
  {
   "cell_type": "code",
   "execution_count": 23,
   "metadata": {},
   "outputs": [],
   "source": [
    "df = pd.read_csv('./celeba-attribs.csv')"
   ]
  },
  {
   "cell_type": "code",
   "execution_count": 24,
   "metadata": {},
   "outputs": [
    {
     "name": "stdout",
     "output_type": "stream",
     "text": [
      "Found 202599 validated image filenames.\n"
     ]
    }
   ],
   "source": [
    "training_data_generator = ImageDataGenerator(\n",
    "    validation_split=0.0,\n",
    "    horizontal_flip=False,\n",
    "    preprocessing_function=normalize_for_tanh)\n",
    "\n",
    "\n",
    "training_generator = training_data_generator.flow_from_dataframe(\n",
    "    dataframe=df,\n",
    "    directory='../celeba-clean-64/',\n",
    "    x_col=\"img\",\n",
    "    y_col=list(df.columns[1:]),\n",
    "    target_size=(64, 64),\n",
    "    subset='training',\n",
    "    shuffle=True,\n",
    "    batch_size=202599,\n",
    "    class_mode='raw')"
   ]
  },
  {
   "cell_type": "code",
   "execution_count": 25,
   "metadata": {},
   "outputs": [],
   "source": [
    "def encode_to_attribs(encoded):\n",
    "    for present, attrib in zip(encoded, list(df.columns[1:])):\n",
    "        if present > 0:\n",
    "            print(attrib, present)"
   ]
  },
  {
   "cell_type": "code",
   "execution_count": 26,
   "metadata": {},
   "outputs": [],
   "source": [
    "training_data = training_generator.next()"
   ]
  },
  {
   "cell_type": "code",
   "execution_count": 27,
   "metadata": {},
   "outputs": [],
   "source": [
    "bce = tf.keras.losses.BinaryCrossentropy()\n",
    "bce_smooth = tf.keras.losses.BinaryCrossentropy(label_smoothing=0.1)\n",
    "\n",
    "@tf.function\n",
    "def prep_for_vgg19(imgs):\n",
    "    return ((imgs + 1) / 2)\n",
    "\n",
    "@tf.function\n",
    "def tanh_cross_entropy(y_true, y_pred):\n",
    "    return -K.mean( (y_true+1)/2 * K.log( (y_pred+1)/2 + K.epsilon()) + (1 - (y_true+1)/2) * K.log(1 - (y_pred+1)/2 + K.epsilon()))\n",
    "    \n",
    "\n",
    "@tf.function\n",
    "def kullback_leibler_divergence_loss(z_mean, z_log_var):\n",
    "    kl_loss = 1 + z_log_var - K.square(z_mean) - K.exp(z_log_var)\n",
    "    kl_loss = K.sum(kl_loss, axis=-1)\n",
    "    kl_loss *= -0.5\n",
    "    return K.mean(kl_loss)\n",
    "\n",
    "@tf.function\n",
    "def discriminator_loss(real_output, decoded_output, fake_output):\n",
    "    real_loss = bce(K.random_uniform(K.int_shape(real_output), minval=0.9, maxval=1.0), real_output)\n",
    "    decoded_loss = bce(K.random_uniform(K.int_shape(decoded_output), minval=0.0, maxval=0.1), decoded_output)\n",
    "    fake_loss = bce(K.random_uniform(K.int_shape(fake_output), minval=0.0, maxval=0.1), fake_output)\n",
    "    total_loss = real_loss + fake_loss + decoded_loss\n",
    "    return K.mean(total_loss)\n",
    "\n",
    "@tf.function\n",
    "def generator_loss(decoded_output, fake_output):\n",
    "    decoded_loss = bce(K.ones_like(decoded_output), decoded_output)\n",
    "    fake_loss = bce(K.ones_like(fake_output), fake_output)\n",
    "    total_loss = fake_loss + decoded_loss\n",
    "    return K.mean(total_loss)\n",
    "\n",
    "@tf.function\n",
    "def attribute_loss(true_attributes, predicted_attributes):\n",
    "    total_loss = tanh_cross_entropy(true_attributes, predicted_attributes)    \n",
    "    return K.mean(total_loss)\n",
    "\n",
    "@tf.function\n",
    "def discriminator_attrib_loss(true_attribs, real_attribs, decoded_attribs, fake_attribs):\n",
    "    smoothing = K.random_uniform(K.int_shape(true_attribs), minval=0.9, maxval=1.0)\n",
    "    real_loss = tanh_cross_entropy(true_attribs * smoothing, real_attribs)\n",
    "    decoded_loss = tanh_cross_entropy(-true_attribs * smoothing, decoded_attribs)\n",
    "    fake_loss = tanh_cross_entropy(-true_attribs * smoothing, fake_attribs)\n",
    "    total_loss = real_loss + fake_loss + decoded_loss\n",
    "    return K.mean(total_loss)\n",
    "\n",
    "@tf.function\n",
    "def generator_attrib_loss(true_attribs, decoded_attribs, fake_attribs):\n",
    "    decoded_loss = tanh_cross_entropy(true_attribs, decoded_attribs)\n",
    "    fake_loss = tanh_cross_entropy(true_attribs, fake_attribs)\n",
    "    total_loss = fake_loss + decoded_loss\n",
    "    return K.mean(total_loss)\n",
    "\n",
    "\n",
    "@tf.function\n",
    "def reconstruction_loss(y_true, y_pred):\n",
    "    return tanh_cross_entropy(y_true, y_pred)\n",
    "\n",
    "\n",
    "@tf.function\n",
    "def perceptual_loss(real_image, predicted_image, dfc_loss_model):\n",
    "\n",
    "    h1 = dfc_loss_model(real_image)\n",
    "    h2 = dfc_loss_model(predicted_image)\n",
    "\n",
    "    h1 = K.batch_flatten(h1)\n",
    "    h2 = K.batch_flatten(h2)        \n",
    "    rc_loss = mse(h1, h2)\n",
    "    \n",
    "    return K.mean(rc_loss)       \n",
    "\n"
   ]
  },
  {
   "cell_type": "code",
   "execution_count": 38,
   "metadata": {},
   "outputs": [],
   "source": [
    "\n",
    "\n",
    "@tf.function\n",
    "def train_step(images, attributes, beta):\n",
    "    \n",
    "\n",
    "\n",
    "    rl_scalar = 1.0\n",
    "    kl_scalar =  beta\n",
    "\n",
    "    \n",
    "    with tf.GradientTape() as dec_tape, tf.GradientTape() as enc_tape:\n",
    "\n",
    "     \n",
    "        dec_tape.watch(decoder.trainable_variables)\n",
    "        enc_tape.watch(encoder.trainable_variables)\n",
    "\n",
    "        \n",
    "        z_mean, z_log_var, z = encoder([images,attributes], training=True)        \n",
    "        decoded_images_lo, decoded_images_med, decoded_images_hi  = decoder([z, attributes], training=True)\n",
    "        \n",
    "        kl_loss = kullback_leibler_divergence_loss(z_mean, z_log_var)\n",
    "        \n",
    "\n",
    "\n",
    "        rl_lo = perceptual_loss(decoded_images_lo,  images, dfc_lo_loss_model)\n",
    "        rl_med = perceptual_loss(decoded_images_med,  images, dfc_med_loss_model)\n",
    "        rl_hi = perceptual_loss(decoded_images_hi,  images, dfc_hi_loss_model)\n",
    "         \n",
    "        # for balance\n",
    "        rl_hi = 8.0 * rl_hi\n",
    "        rl_med = 0.2 * rl_med\n",
    "        rl_lo = 0.1 * rl_lo\n",
    "        \n",
    "        rl_loss = rl_lo +  rl_med + rl_hi\n",
    "        \n",
    "          \n",
    "\n",
    "        \n",
    "        decoder_loss = rl_loss * rl_scalar \n",
    "\n",
    "        encoder_loss = kl_loss * beta + rl_loss * rl_scalar\n",
    "        \n",
    "\n",
    "\n",
    "\n",
    "\n",
    "\n",
    "    gradients_of_encoder = enc_tape.gradient(encoder_loss, encoder.trainable_variables)\n",
    "    gradients_of_decoder = dec_tape.gradient(decoder_loss, decoder.trainable_variables)\n",
    "    \n",
    "    \n",
    "    encoder_optimizer.apply_gradients(zip(gradients_of_encoder, encoder.trainable_variables))\n",
    "    decoder_optimizer.apply_gradients(zip(gradients_of_decoder, decoder.trainable_variables))\n",
    "\n",
    "\n",
    "    \n",
    "\n",
    "    \n",
    "\n",
    "    return rl_lo, rl_med, rl_hi, kl_loss, beta\n",
    "\n"
   ]
  },
  {
   "cell_type": "code",
   "execution_count": 37,
   "metadata": {},
   "outputs": [],
   "source": [
    "encoder = build_encoder()\n",
    "decoder = build_decoder()\n",
    "decoder_optimizer = tf.keras.optimizers.Adam(2e-4)\n",
    "encoder_optimizer = tf.keras.optimizers.Adam(2e-4)\n"
   ]
  },
  {
   "cell_type": "code",
   "execution_count": null,
   "metadata": {
    "scrolled": true
   },
   "outputs": [
    {
     "name": "stdout",
     "output_type": "stream",
     "text": [
      "Epoch [0/200]...    ...368.840(s) feat_lo: 1.37542 - feat_med: 1.15273 - feat_hi: 0.98705 - KL: 74.97144 - \n",
      "Attractive 1\n",
      "Bangs 1\n",
      "Blond_Hair 1\n",
      "Heavy_Makeup 1\n",
      "High_Cheekbones 1\n",
      "Mouth_Slightly_Open 1\n",
      "No_Beard 1\n",
      "Oval_Face 1\n",
      "Smiling 1\n",
      "Wearing_Lipstick 1\n",
      "Wearing_Necklace 1\n",
      "Young 1\n"
     ]
    },
    {
     "data": {
      "image/png": "[encoded data removed]",
      "text/plain": [
       "<Figure size 1080x288 with 3 Axes>"
      ]
     },
     "metadata": {
      "needs_background": "light"
     },
     "output_type": "display_data"
    },
    {
     "data": {
      "image/png": "[encoded data removed]",
      "text/plain": [
       "<Figure size 1080x288 with 3 Axes>"
      ]
     },
     "metadata": {
      "needs_background": "light"
     },
     "output_type": "display_data"
    },
    {
     "name": "stdout",
     "output_type": "stream",
     "text": [
      "Epoch [1/200]...    "
     ]
    }
   ],
   "source": [
    "import time\n",
    "from pathlib import Path\n",
    "\n",
    "epochs = 200\n",
    "batch_size = 64\n",
    "checkpoint_at_every = 50\n",
    "\n",
    "# control vae params\n",
    "k_p = 0.01\n",
    "k_i = 0.0001\n",
    "i_t = 0\n",
    "beta_max = 1.0 \n",
    "beta_min = 0.0\n",
    "desired_kl = 75\n",
    "beta = 0.0\n",
    "\n",
    "\n",
    "\n",
    "\n",
    "model_type = f'200kimgs-controlled-kl-progressive-conv-cvae-{desired_kl}kl'\n",
    "\n",
    "\n",
    "\n",
    "\n",
    "#create base dir\n",
    "base_model_path = Path(f'./models/{model_type}')\n",
    "base_model_path.mkdir(parents=True, exist_ok=True)\n",
    "\n",
    "#create figure dir\n",
    "figure_model_path = base_model_path / 'figures'\n",
    "figure_model_path.mkdir(parents=True, exist_ok=True)\n",
    "\n",
    "#create checkpoint dir\n",
    "checkpoints_model_path = base_model_path / 'checkpoints'\n",
    "checkpoints_model_path.mkdir(parents=True, exist_ok=True)\n",
    "\n",
    "\n",
    "with tf.device('gpu:0'):\n",
    "    training_imgs = training_data[0]\n",
    "    training_attribs = training_data[1]\n",
    "    training_attribs  = np.cast['float32'](training_attribs )\n",
    "\n",
    "    num_batches = len(training_imgs) // batch_size\n",
    "\n",
    "    # losses\n",
    "    rl_lo_loss_list = [] \n",
    "    rl_med_loss_list = [] \n",
    "    rl_hi_loss_list = [] \n",
    "    kl_loss_list = []\n",
    "\n",
    "    \n",
    "    test_attribute = training_data[1][0]\n",
    "    test_img = training_data[0][0]\n",
    "    mu, sigma = 0, 1 #mean and standard deviation\n",
    "    s = np.random.normal(mu, sigma, latent_dim)\n",
    "    \n",
    "\n",
    "    \n",
    "\n",
    "    \n",
    "\n",
    "\n",
    "    for epoch in range(0,epochs+1):\n",
    "        start = time.time()\n",
    "        print(f'Epoch [{epoch}/{epochs}]...'.ljust(20), end = '')\n",
    "\n",
    "\n",
    "        \n",
    "        idxs = np.arange(0,len(training_imgs))\n",
    "        np.random.shuffle(idxs)\n",
    "        \n",
    "        img_input = training_imgs[idxs]\n",
    "        attribute_input = training_attribs[idxs]\n",
    "\n",
    "\n",
    "        rl_lo_loss_total = 0\n",
    "        rl_med_loss_total = 0\n",
    "        rl_hi_loss_total = 0\n",
    "        kl_loss_total = 0\n",
    "\n",
    "         \n",
    "\n",
    "        \n",
    "        \n",
    "        for index in range(num_batches):\n",
    "            img_batch = img_input[index*batch_size: batch_size*(index+1)]\n",
    "            attribute_batch = attribute_input[index*batch_size: batch_size*(index+1)] \n",
    "            \n",
    "\n",
    "            rl_lo_loss, rl_med_loss, rl_hi_loss, kl_loss, beta_num = train_step(img_batch , attribute_batch, tf.constant(beta, dtype=tf.float32))\n",
    "\n",
    "\n",
    "            rl_lo_loss_total += K.get_value(rl_lo_loss)\n",
    "            rl_med_loss_total += K.get_value(rl_med_loss)\n",
    "            rl_hi_loss_total += K.get_value(rl_hi_loss)\n",
    "            kl_loss_total += K.get_value(kl_loss)\n",
    "\n",
    "\n",
    "\n",
    "            error_t = desired_kl - K.get_value(kl_loss)\n",
    "            p_t = k_p / (1+np.exp(error_t))\n",
    "\n",
    "            if beta_min <= beta and beta <= beta_max:\n",
    "                i_t = i_t - k_i*error_t\n",
    "\n",
    "            beta = p_t + i_t + beta_min\n",
    "\n",
    "            beta = min(beta, beta_max)\n",
    "            beta = max(beta, beta_min)\n",
    "\n",
    "\n",
    "        \n",
    "        \n",
    "       \n",
    "        \n",
    "        rl_lo_loss_list.append(rl_lo_loss_total/num_batches) \n",
    "        rl_med_loss_list.append(rl_med_loss_total/num_batches) \n",
    "        rl_hi_loss_list.append(rl_hi_loss_total/num_batches)\n",
    "        kl_loss_list.append(kl_loss_total/num_batches)\n",
    "\n",
    "\n",
    "\n",
    "        print(f'...{time.time()-start:.3f}(s) '  , end='')\n",
    "       \n",
    "        \n",
    "        print(f'feat_lo: {rl_lo_loss_total/num_batches:.5f} - ', end='') \n",
    "        print(f'feat_med: {rl_med_loss_total/num_batches:.5f} - ', end='') \n",
    "        print(f'feat_hi: {rl_hi_loss_total/num_batches:.5f} - ', end='') \n",
    "        \n",
    "        print(f'KL: {kl_loss_total/num_batches:.5f} - ')\n",
    "\n",
    "        \n",
    "\n",
    "        if epoch % 10 == 0:\n",
    "            encode_to_attribs(test_attribute)\n",
    "            _, _, z = encoder.predict([training_data[0][0].reshape(1,width, height,3), test_attribute.reshape(1,-1)])\n",
    "            dec_img = unnormalize_tanh( decoder.predict([z, test_attribute.reshape(1,n_conds)])[0])\n",
    "            \n",
    "            (dec_img_lo, dec_img_med, dec_img_hi) = decoder.predict([z,test_attribute.reshape(1,n_conds)])\n",
    "            dec_img_lo = unnormalize_tanh(dec_img_lo).reshape((64,64,3))\n",
    "            dec_img_med = unnormalize_tanh(dec_img_med).reshape((64,64,3))\n",
    "            dec_img_hi = unnormalize_tanh(dec_img_hi).reshape((64,64,3))\n",
    "            \n",
    "            fig, ax = plt.subplots(nrows=1, ncols=3)\n",
    "            fig.tight_layout() \n",
    "            fig.set_figwidth(15)\n",
    "            ax[0].imshow(dec_img_lo)\n",
    "            ax[0].set_title('Low Feature Decoded')\n",
    "            ax[0].get_yaxis().set_visible(False)\n",
    "            ax[0].get_xaxis().set_visible(False)\n",
    "            ax[1].imshow(dec_img_med)\n",
    "            ax[1].get_yaxis().set_visible(False)\n",
    "            ax[1].get_xaxis().set_visible(False)\n",
    "            ax[1].set_title('Medium Feature Decoded')\n",
    "            ax[2].imshow(dec_img_hi)\n",
    "            ax[2].get_yaxis().set_visible(False)\n",
    "            ax[2].get_xaxis().set_visible(False)\n",
    "            ax[2].set_title('High Feature Decoded')\n",
    "            plt.savefig(figure_model_path / f'decoded-{epoch}.png')\n",
    "            plt.show()\n",
    "            \n",
    "            \n",
    "            (gen_img_lo, gen_img_med, gen_img_hi) = decoder.predict([np.array([s]),test_attribute.reshape(1,n_conds)])\n",
    "            gen_img_lo = unnormalize_tanh(gen_img_lo).reshape((64,64,3))\n",
    "            gen_img_med = unnormalize_tanh(gen_img_med).reshape((64,64,3))\n",
    "            gen_img_hi = unnormalize_tanh(gen_img_hi).reshape((64,64,3))\n",
    "            fig, ax = plt.subplots(nrows=1, ncols=3)\n",
    "            fig.tight_layout() \n",
    "            fig.set_figwidth(15)\n",
    "            ax[0].imshow(gen_img_lo)\n",
    "            ax[0].set_title('Low Feature Generated')\n",
    "            ax[0].get_yaxis().set_visible(False)\n",
    "            ax[0].get_xaxis().set_visible(False)\n",
    "            ax[1].imshow(gen_img_med)\n",
    "            ax[1].get_yaxis().set_visible(False)\n",
    "            ax[1].get_xaxis().set_visible(False)\n",
    "            ax[1].set_title('Medium Feature Generated')\n",
    "            ax[2].imshow(gen_img_hi)\n",
    "            ax[2].get_yaxis().set_visible(False)\n",
    "            ax[2].get_xaxis().set_visible(False)\n",
    "            ax[2].set_title('High Feature Generated')\n",
    "            plt.savefig(figure_model_path / f'generated-{epoch}.png')\n",
    "            plt.show()\n",
    "\n",
    "\n",
    "        if epoch % checkpoint_at_every == 0 and epoch != 0:        \n",
    "            print(f'checkpointing at epoch: {epoch}')\n",
    "            decoder.save_weights((checkpoints_model_path / f'epoch-{epoch}-{model_type}-decoder-weights.h5').as_posix())\n",
    "            decoder.save((checkpoints_model_path / f'epoch-{epoch}-{model_type}-decoder.h5').as_posix())\n",
    "            encoder.save_weights((checkpoints_model_path / f'epoch-{epoch}-{model_type}-encoder-weights.h5').as_posix())\n",
    "            encoder.save((checkpoints_model_path / f'epoch-{epoch}-{model_type}-encoder.h5').as_posix())\n",
    "            "
   ]
  },
  {
   "cell_type": "code",
   "execution_count": 28,
   "metadata": {},
   "outputs": [],
   "source": [
    "def normalize(loss_list):\n",
    "    loss_list = np.array(loss_list)\n",
    "    return (loss_list - loss_list.min()) / (loss_list.max() - loss_list.min())"
   ]
  },
  {
   "cell_type": "code",
   "execution_count": 185,
   "metadata": {},
   "outputs": [
    {
     "data": {
      "image/png": "[encoded data removed]",
      "text/plain": [
       "<Figure size 432x288 with 1 Axes>"
      ]
     },
     "metadata": {
      "needs_background": "light"
     },
     "output_type": "display_data"
    },
    {
     "data": {
      "image/png": "[encoded data removed]",
      "text/plain": [
       "<Figure size 432x288 with 1 Axes>"
      ]
     },
     "metadata": {
      "needs_background": "light"
     },
     "output_type": "display_data"
    }
   ],
   "source": [
    "\n",
    "\n",
    "plt.plot(rl_lo_loss_list, label=\"lo\")\n",
    "plt.plot(rl_med_loss_list, label=\"med\")\n",
    "plt.plot(rl_hi_loss_list, label=\"hi\")\n",
    "plt.title(\"Feature loss\")\n",
    "plt.legend()\n",
    "plt.savefig(figure_model_path / 'feature_loss.png')\n",
    "plt.show()\n",
    " \n",
    "plt.plot(kl_loss_list)\n",
    "plt.title(\"KL loss\")\n",
    "plt.savefig(figure_model_path / 'encoder_loss.png')\n",
    "plt.show()\n"
   ]
  },
  {
   "cell_type": "code",
   "execution_count": 30,
   "metadata": {},
   "outputs": [],
   "source": [
    "from __future__ import print_function\n",
    "from ipywidgets import interact, interactive, fixed, interact_manual\n",
    "import ipywidgets as widgets\n",
    "from IPython.display import display\n",
    "from ipywidgets import HBox, Label"
   ]
  },
  {
   "cell_type": "code",
   "execution_count": 31,
   "metadata": {},
   "outputs": [
    {
     "name": "stdout",
     "output_type": "stream",
     "text": [
      "5oClockShadow=1, Arched_Eyebrows=1, Attractive=1, Bags_Under_Eyes=1, Bald=1, Bangs=1, Big_Lips=1, Big_Nose=1, Black_Hair=1, Blond_Hair=1, Blurry=1, Brown_Hair=1, Bushy_Eyebrows=1, Chubby=1, Double_Chin=1, Eyeglasses=1, Goatee=1, Gray_Hair=1, Heavy_Makeup=1, High_Cheekbones=1, Male=1, Mouth_Slightly_Open=1, Mustache=1, Narrow_Eyes=1, No_Beard=1, Oval_Face=1, Pale_Skin=1, Pointy_Nose=1, Receding_Hairline=1, Rosy_Cheeks=1, Sideburns=1, Smiling=1, Straight_Hair=1, Wavy_Hair=1, Wearing_Earrings=1, Wearing_Hat=1, Wearing_Lipstick=1, Wearing_Necklace=1, Wearing_Necktie=1, Young\n"
     ]
    }
   ],
   "source": [
    "attribs = '''5oClockShadow=1, Arched_Eyebrows=1, Attractive=1, Bags_Under_Eyes=1, Bald=1, Bangs=1, Big_Lips=1, Big_Nose=1, Black_Hair=1, Blond_Hair=1, Blurry=1, Brown_Hair=1, Bushy_Eyebrows=1, Chubby=1, Double_Chin=1, Eyeglasses=1, Goatee=1, Gray_Hair=1, Heavy_Makeup=1, High_Cheekbones=1, Male=1, Mouth_Slightly_Open=1, Mustache=1, Narrow_Eyes=1, No_Beard=1, Oval_Face=1, Pale_Skin=1, Pointy_Nose=1, Receding_Hairline=1, Rosy_Cheeks=1, Sideburns=1, Smiling=1, Straight_Hair=1, Wavy_Hair=1, Wearing_Earrings=1, Wearing_Hat=1, Wearing_Lipstick=1, Wearing_Necklace=1, Wearing_Necktie=1, Young'''\n",
    "attribs = attribs.split('=1,')\n",
    "attribs = [attrib.strip() for attrib in attribs]\n",
    "print(f\"=1, \".join(attribs))"
   ]
  },
  {
   "cell_type": "code",
   "execution_count": 32,
   "metadata": {},
   "outputs": [],
   "source": [
    "attrib_dict = {attrib:i for i,attrib in enumerate(attribs)}"
   ]
  },
  {
   "cell_type": "code",
   "execution_count": 35,
   "metadata": {},
   "outputs": [],
   "source": [
    "def generate(decoder, noise, attribute):\n",
    "    (gen_img_lo, gen_img_med, gen_img_hi) = decoder.predict([np.array([noise]),np.array([attribute])])\n",
    "    gen_img_lo = unnormalize_tanh(gen_img_lo).reshape((64,64,3))\n",
    "    # plt.imshow(gen_img_lo)\n",
    "    # plt.show()\n",
    "    gen_img_med = unnormalize_tanh(gen_img_med).reshape((64,64,3))\n",
    "    # plt.imshow(gen_img_med)\n",
    "    # plt.show()\n",
    "    gen_img_hi = unnormalize_tanh(gen_img_hi).reshape((64,64,3))\n",
    "    # plt.imshow(gen_img_hi)\n",
    "    # plt.show()\n",
    "\n",
    "    fig, ax = plt.subplots(nrows=1, ncols=3)\n",
    "    fig.tight_layout() \n",
    "\n",
    "    fig.set_figwidth(15)\n",
    "\n",
    "    ax[0].imshow(gen_img_lo)\n",
    "    ax[0].set_title('Low Feature Output')\n",
    "    ax[0].get_yaxis().set_visible(False)\n",
    "    ax[0].get_xaxis().set_visible(False)\n",
    "    ax[1].imshow(gen_img_med)\n",
    "    ax[1].get_yaxis().set_visible(False)\n",
    "    ax[1].get_xaxis().set_visible(False)\n",
    "    ax[1].set_title('Medium Feature Output')\n",
    "    ax[2].imshow(gen_img_hi)\n",
    "    ax[2].get_yaxis().set_visible(False)\n",
    "    ax[2].get_xaxis().set_visible(False)\n",
    "    ax[2].set_title('High Feature Output')\n",
    "    plt.show()"
   ]
  },
  {
   "cell_type": "code",
   "execution_count": 34,
   "metadata": {
    "scrolled": true
   },
   "outputs": [
    {
     "data": {
      "application/vnd.jupyter.widget-view+json": {
       "model_id": "320e93ab71a541899ec1c5cfe76121d1",
       "version_major": 2,
       "version_minor": 0
      },
      "text/plain": [
       "Label(value='5oClockShadow')"
      ]
     },
     "metadata": {},
     "output_type": "display_data"
    },
    {
     "data": {
      "application/vnd.jupyter.widget-view+json": {
       "model_id": "0272f9b0671045538a7ec8a6d7e2afb2",
       "version_major": 2,
       "version_minor": 0
      },
      "text/plain": [
       "FloatSlider(value=-1.0, max=10.0, min=-10.0, step=0.5)"
      ]
     },
     "metadata": {},
     "output_type": "display_data"
    },
    {
     "data": {
      "application/vnd.jupyter.widget-view+json": {
       "model_id": "ad0c26910b45434e86fda84f344490c1",
       "version_major": 2,
       "version_minor": 0
      },
      "text/plain": [
       "Label(value='Arched_Eyebrows')"
      ]
     },
     "metadata": {},
     "output_type": "display_data"
    },
    {
     "data": {
      "application/vnd.jupyter.widget-view+json": {
       "model_id": "12cfe59a3867430da490e21f21c87597",
       "version_major": 2,
       "version_minor": 0
      },
      "text/plain": [
       "FloatSlider(value=-1.0, max=10.0, min=-10.0, step=0.5)"
      ]
     },
     "metadata": {},
     "output_type": "display_data"
    },
    {
     "data": {
      "application/vnd.jupyter.widget-view+json": {
       "model_id": "797d0a7b365145aa8beddd312bfda6b8",
       "version_major": 2,
       "version_minor": 0
      },
      "text/plain": [
       "Label(value='Attractive')"
      ]
     },
     "metadata": {},
     "output_type": "display_data"
    },
    {
     "data": {
      "application/vnd.jupyter.widget-view+json": {
       "model_id": "60ee860d9bdf47519be74c81da32e958",
       "version_major": 2,
       "version_minor": 0
      },
      "text/plain": [
       "FloatSlider(value=-1.0, max=10.0, min=-10.0, step=0.5)"
      ]
     },
     "metadata": {},
     "output_type": "display_data"
    },
    {
     "data": {
      "application/vnd.jupyter.widget-view+json": {
       "model_id": "deba024284714d3587931d09c665e081",
       "version_major": 2,
       "version_minor": 0
      },
      "text/plain": [
       "Label(value='Bags_Under_Eyes')"
      ]
     },
     "metadata": {},
     "output_type": "display_data"
    },
    {
     "data": {
      "application/vnd.jupyter.widget-view+json": {
       "model_id": "234af93ae0cf4021b63140b5938ce35f",
       "version_major": 2,
       "version_minor": 0
      },
      "text/plain": [
       "FloatSlider(value=-1.0, max=10.0, min=-10.0, step=0.5)"
      ]
     },
     "metadata": {},
     "output_type": "display_data"
    },
    {
     "data": {
      "application/vnd.jupyter.widget-view+json": {
       "model_id": "77e570daaa6e4adb84838e6e463e316f",
       "version_major": 2,
       "version_minor": 0
      },
      "text/plain": [
       "Label(value='Bald')"
      ]
     },
     "metadata": {},
     "output_type": "display_data"
    },
    {
     "data": {
      "application/vnd.jupyter.widget-view+json": {
       "model_id": "856e71bd24324225983e22e63d52e7b0",
       "version_major": 2,
       "version_minor": 0
      },
      "text/plain": [
       "FloatSlider(value=-1.0, max=10.0, min=-10.0, step=0.5)"
      ]
     },
     "metadata": {},
     "output_type": "display_data"
    },
    {
     "data": {
      "application/vnd.jupyter.widget-view+json": {
       "model_id": "e2ffeaa97132412ea13fe856014c47f6",
       "version_major": 2,
       "version_minor": 0
      },
      "text/plain": [
       "Label(value='Bangs')"
      ]
     },
     "metadata": {},
     "output_type": "display_data"
    },
    {
     "data": {
      "application/vnd.jupyter.widget-view+json": {
       "model_id": "1071cdbe8ab04f91abe7adb43bfc3d3b",
       "version_major": 2,
       "version_minor": 0
      },
      "text/plain": [
       "FloatSlider(value=-1.0, max=10.0, min=-10.0, step=0.5)"
      ]
     },
     "metadata": {},
     "output_type": "display_data"
    },
    {
     "data": {
      "application/vnd.jupyter.widget-view+json": {
       "model_id": "197c38cea83a496d9fea10885628abef",
       "version_major": 2,
       "version_minor": 0
      },
      "text/plain": [
       "Label(value='Big_Lips')"
      ]
     },
     "metadata": {},
     "output_type": "display_data"
    },
    {
     "data": {
      "application/vnd.jupyter.widget-view+json": {
       "model_id": "eaf463ddd94d40d3bcf6f1ae4b41a7d4",
       "version_major": 2,
       "version_minor": 0
      },
      "text/plain": [
       "FloatSlider(value=-1.0, max=10.0, min=-10.0, step=0.5)"
      ]
     },
     "metadata": {},
     "output_type": "display_data"
    },
    {
     "data": {
      "application/vnd.jupyter.widget-view+json": {
       "model_id": "46fb7fd4a21b4f088a64c1e73d8aa6a8",
       "version_major": 2,
       "version_minor": 0
      },
      "text/plain": [
       "Label(value='Big_Nose')"
      ]
     },
     "metadata": {},
     "output_type": "display_data"
    },
    {
     "data": {
      "application/vnd.jupyter.widget-view+json": {
       "model_id": "daa23bd3f3a94d398e6e36ec6d3755fa",
       "version_major": 2,
       "version_minor": 0
      },
      "text/plain": [
       "FloatSlider(value=-1.0, max=10.0, min=-10.0, step=0.5)"
      ]
     },
     "metadata": {},
     "output_type": "display_data"
    },
    {
     "data": {
      "application/vnd.jupyter.widget-view+json": {
       "model_id": "547cc0fbb0104aed9200c9aca1b549aa",
       "version_major": 2,
       "version_minor": 0
      },
      "text/plain": [
       "Label(value='Black_Hair')"
      ]
     },
     "metadata": {},
     "output_type": "display_data"
    },
    {
     "data": {
      "application/vnd.jupyter.widget-view+json": {
       "model_id": "089de787e45c42ef8b58d0f60c931c8d",
       "version_major": 2,
       "version_minor": 0
      },
      "text/plain": [
       "FloatSlider(value=-1.0, max=10.0, min=-10.0, step=0.5)"
      ]
     },
     "metadata": {},
     "output_type": "display_data"
    },
    {
     "data": {
      "application/vnd.jupyter.widget-view+json": {
       "model_id": "9648bd27a16049a2a66921cbee03c4ca",
       "version_major": 2,
       "version_minor": 0
      },
      "text/plain": [
       "Label(value='Blond_Hair')"
      ]
     },
     "metadata": {},
     "output_type": "display_data"
    },
    {
     "data": {
      "application/vnd.jupyter.widget-view+json": {
       "model_id": "2ea840f62b2948189b0f866c32cb6dd2",
       "version_major": 2,
       "version_minor": 0
      },
      "text/plain": [
       "FloatSlider(value=-1.0, max=10.0, min=-10.0, step=0.5)"
      ]
     },
     "metadata": {},
     "output_type": "display_data"
    },
    {
     "data": {
      "application/vnd.jupyter.widget-view+json": {
       "model_id": "c7bb3e6a33fb42158d1c9f3311a11a6c",
       "version_major": 2,
       "version_minor": 0
      },
      "text/plain": [
       "Label(value='Blurry')"
      ]
     },
     "metadata": {},
     "output_type": "display_data"
    },
    {
     "data": {
      "application/vnd.jupyter.widget-view+json": {
       "model_id": "32760dbf0acf467da089fd25ed29d4b5",
       "version_major": 2,
       "version_minor": 0
      },
      "text/plain": [
       "FloatSlider(value=-1.0, max=10.0, min=-10.0, step=0.5)"
      ]
     },
     "metadata": {},
     "output_type": "display_data"
    },
    {
     "data": {
      "application/vnd.jupyter.widget-view+json": {
       "model_id": "3672df5b4b2d438e97598650abca2781",
       "version_major": 2,
       "version_minor": 0
      },
      "text/plain": [
       "Label(value='Brown_Hair')"
      ]
     },
     "metadata": {},
     "output_type": "display_data"
    },
    {
     "data": {
      "application/vnd.jupyter.widget-view+json": {
       "model_id": "7c0d97255dae442b943b8692306df5dc",
       "version_major": 2,
       "version_minor": 0
      },
      "text/plain": [
       "FloatSlider(value=-1.0, max=10.0, min=-10.0, step=0.5)"
      ]
     },
     "metadata": {},
     "output_type": "display_data"
    },
    {
     "data": {
      "application/vnd.jupyter.widget-view+json": {
       "model_id": "38b3cd8d2a744b13bee15b923e2996f5",
       "version_major": 2,
       "version_minor": 0
      },
      "text/plain": [
       "Label(value='Bushy_Eyebrows')"
      ]
     },
     "metadata": {},
     "output_type": "display_data"
    },
    {
     "data": {
      "application/vnd.jupyter.widget-view+json": {
       "model_id": "a9f305e357de4531b8ff699e72b5aec8",
       "version_major": 2,
       "version_minor": 0
      },
      "text/plain": [
       "FloatSlider(value=-1.0, max=10.0, min=-10.0, step=0.5)"
      ]
     },
     "metadata": {},
     "output_type": "display_data"
    },
    {
     "data": {
      "application/vnd.jupyter.widget-view+json": {
       "model_id": "26daacba0db043e0bc4dcdd92f10d8ad",
       "version_major": 2,
       "version_minor": 0
      },
      "text/plain": [
       "Label(value='Chubby')"
      ]
     },
     "metadata": {},
     "output_type": "display_data"
    },
    {
     "data": {
      "application/vnd.jupyter.widget-view+json": {
       "model_id": "3fdf3b08822b43dc894dfd082f8ea0d6",
       "version_major": 2,
       "version_minor": 0
      },
      "text/plain": [
       "FloatSlider(value=-1.0, max=10.0, min=-10.0, step=0.5)"
      ]
     },
     "metadata": {},
     "output_type": "display_data"
    },
    {
     "data": {
      "application/vnd.jupyter.widget-view+json": {
       "model_id": "3f27c70d5f624e9aa1e764808ae4e6ec",
       "version_major": 2,
       "version_minor": 0
      },
      "text/plain": [
       "Label(value='Double_Chin')"
      ]
     },
     "metadata": {},
     "output_type": "display_data"
    },
    {
     "data": {
      "application/vnd.jupyter.widget-view+json": {
       "model_id": "362242568286422ba730b6828b03b253",
       "version_major": 2,
       "version_minor": 0
      },
      "text/plain": [
       "FloatSlider(value=-1.0, max=10.0, min=-10.0, step=0.5)"
      ]
     },
     "metadata": {},
     "output_type": "display_data"
    },
    {
     "data": {
      "application/vnd.jupyter.widget-view+json": {
       "model_id": "f644570c15cd43e797b9b51bd8cd6b88",
       "version_major": 2,
       "version_minor": 0
      },
      "text/plain": [
       "Label(value='Eyeglasses')"
      ]
     },
     "metadata": {},
     "output_type": "display_data"
    },
    {
     "data": {
      "application/vnd.jupyter.widget-view+json": {
       "model_id": "78b0d1941f304d39a7fdc1af1b8c13ef",
       "version_major": 2,
       "version_minor": 0
      },
      "text/plain": [
       "FloatSlider(value=-1.0, max=10.0, min=-10.0, step=0.5)"
      ]
     },
     "metadata": {},
     "output_type": "display_data"
    },
    {
     "data": {
      "application/vnd.jupyter.widget-view+json": {
       "model_id": "fae08755f2154fbb8f36c0ca68d68fd4",
       "version_major": 2,
       "version_minor": 0
      },
      "text/plain": [
       "Label(value='Goatee')"
      ]
     },
     "metadata": {},
     "output_type": "display_data"
    },
    {
     "data": {
      "application/vnd.jupyter.widget-view+json": {
       "model_id": "d5282b04e4a6427492f2bd92242e8dba",
       "version_major": 2,
       "version_minor": 0
      },
      "text/plain": [
       "FloatSlider(value=-1.0, max=10.0, min=-10.0, step=0.5)"
      ]
     },
     "metadata": {},
     "output_type": "display_data"
    },
    {
     "data": {
      "application/vnd.jupyter.widget-view+json": {
       "model_id": "cc9ccc6ec0624f8f816bb264ad8b6a0a",
       "version_major": 2,
       "version_minor": 0
      },
      "text/plain": [
       "Label(value='Gray_Hair')"
      ]
     },
     "metadata": {},
     "output_type": "display_data"
    },
    {
     "data": {
      "application/vnd.jupyter.widget-view+json": {
       "model_id": "c47a02c3b25749d0a400191926c05de6",
       "version_major": 2,
       "version_minor": 0
      },
      "text/plain": [
       "FloatSlider(value=-1.0, max=10.0, min=-10.0, step=0.5)"
      ]
     },
     "metadata": {},
     "output_type": "display_data"
    },
    {
     "data": {
      "application/vnd.jupyter.widget-view+json": {
       "model_id": "87faa157a8474746b09b7d34ca71621a",
       "version_major": 2,
       "version_minor": 0
      },
      "text/plain": [
       "Label(value='Heavy_Makeup')"
      ]
     },
     "metadata": {},
     "output_type": "display_data"
    },
    {
     "data": {
      "application/vnd.jupyter.widget-view+json": {
       "model_id": "45d06115ec9645269eac0926f49f7fe2",
       "version_major": 2,
       "version_minor": 0
      },
      "text/plain": [
       "FloatSlider(value=-1.0, max=10.0, min=-10.0, step=0.5)"
      ]
     },
     "metadata": {},
     "output_type": "display_data"
    },
    {
     "data": {
      "application/vnd.jupyter.widget-view+json": {
       "model_id": "4cb8bfe91dc94f38aad4183328c56086",
       "version_major": 2,
       "version_minor": 0
      },
      "text/plain": [
       "Label(value='High_Cheekbones')"
      ]
     },
     "metadata": {},
     "output_type": "display_data"
    },
    {
     "data": {
      "application/vnd.jupyter.widget-view+json": {
       "model_id": "dd61c0f666974d4d8e2de41a202e9c92",
       "version_major": 2,
       "version_minor": 0
      },
      "text/plain": [
       "FloatSlider(value=-1.0, max=10.0, min=-10.0, step=0.5)"
      ]
     },
     "metadata": {},
     "output_type": "display_data"
    },
    {
     "data": {
      "application/vnd.jupyter.widget-view+json": {
       "model_id": "035f75d610fc4b82a8649aba7890d23e",
       "version_major": 2,
       "version_minor": 0
      },
      "text/plain": [
       "Label(value='Male')"
      ]
     },
     "metadata": {},
     "output_type": "display_data"
    },
    {
     "data": {
      "application/vnd.jupyter.widget-view+json": {
       "model_id": "9f5aeae8d9514aea8e182685db32dabd",
       "version_major": 2,
       "version_minor": 0
      },
      "text/plain": [
       "FloatSlider(value=-1.0, max=10.0, min=-10.0, step=0.5)"
      ]
     },
     "metadata": {},
     "output_type": "display_data"
    },
    {
     "data": {
      "application/vnd.jupyter.widget-view+json": {
       "model_id": "e241f7345f10436587b318a46060e651",
       "version_major": 2,
       "version_minor": 0
      },
      "text/plain": [
       "Label(value='Mouth_Slightly_Open')"
      ]
     },
     "metadata": {},
     "output_type": "display_data"
    },
    {
     "data": {
      "application/vnd.jupyter.widget-view+json": {
       "model_id": "35727c052ad74c5b83f7785518af55cf",
       "version_major": 2,
       "version_minor": 0
      },
      "text/plain": [
       "FloatSlider(value=-1.0, max=10.0, min=-10.0, step=0.5)"
      ]
     },
     "metadata": {},
     "output_type": "display_data"
    },
    {
     "data": {
      "application/vnd.jupyter.widget-view+json": {
       "model_id": "0f15f9e9814046928cffcc53e5a9bf85",
       "version_major": 2,
       "version_minor": 0
      },
      "text/plain": [
       "Label(value='Mustache')"
      ]
     },
     "metadata": {},
     "output_type": "display_data"
    },
    {
     "data": {
      "application/vnd.jupyter.widget-view+json": {
       "model_id": "bef19b2ac90640958e9a20b319b1b96c",
       "version_major": 2,
       "version_minor": 0
      },
      "text/plain": [
       "FloatSlider(value=-1.0, max=10.0, min=-10.0, step=0.5)"
      ]
     },
     "metadata": {},
     "output_type": "display_data"
    },
    {
     "data": {
      "application/vnd.jupyter.widget-view+json": {
       "model_id": "1d9c3d9ad5bd43aa863372648ff3a718",
       "version_major": 2,
       "version_minor": 0
      },
      "text/plain": [
       "Label(value='Narrow_Eyes')"
      ]
     },
     "metadata": {},
     "output_type": "display_data"
    },
    {
     "data": {
      "application/vnd.jupyter.widget-view+json": {
       "model_id": "199ec06f31f545a39427797872ca2dfc",
       "version_major": 2,
       "version_minor": 0
      },
      "text/plain": [
       "FloatSlider(value=-1.0, max=10.0, min=-10.0, step=0.5)"
      ]
     },
     "metadata": {},
     "output_type": "display_data"
    },
    {
     "data": {
      "application/vnd.jupyter.widget-view+json": {
       "model_id": "7ce6dfa92883463b939a2f24dd5ea9a4",
       "version_major": 2,
       "version_minor": 0
      },
      "text/plain": [
       "Label(value='No_Beard')"
      ]
     },
     "metadata": {},
     "output_type": "display_data"
    },
    {
     "data": {
      "application/vnd.jupyter.widget-view+json": {
       "model_id": "c4388246cd0640fab71c5d10486e986d",
       "version_major": 2,
       "version_minor": 0
      },
      "text/plain": [
       "FloatSlider(value=-1.0, max=10.0, min=-10.0, step=0.5)"
      ]
     },
     "metadata": {},
     "output_type": "display_data"
    },
    {
     "data": {
      "application/vnd.jupyter.widget-view+json": {
       "model_id": "7e4019dbd4a94de689a76c634d757362",
       "version_major": 2,
       "version_minor": 0
      },
      "text/plain": [
       "Label(value='Oval_Face')"
      ]
     },
     "metadata": {},
     "output_type": "display_data"
    },
    {
     "data": {
      "application/vnd.jupyter.widget-view+json": {
       "model_id": "e5d07c08f0f948118a1aa9dcd4fbae6a",
       "version_major": 2,
       "version_minor": 0
      },
      "text/plain": [
       "FloatSlider(value=-1.0, max=10.0, min=-10.0, step=0.5)"
      ]
     },
     "metadata": {},
     "output_type": "display_data"
    },
    {
     "data": {
      "application/vnd.jupyter.widget-view+json": {
       "model_id": "5276ed4731f248b89d18d61b5711f312",
       "version_major": 2,
       "version_minor": 0
      },
      "text/plain": [
       "Label(value='Pale_Skin')"
      ]
     },
     "metadata": {},
     "output_type": "display_data"
    },
    {
     "data": {
      "application/vnd.jupyter.widget-view+json": {
       "model_id": "ceb5536f2ae645b7a3008356b53488e7",
       "version_major": 2,
       "version_minor": 0
      },
      "text/plain": [
       "FloatSlider(value=-1.0, max=10.0, min=-10.0, step=0.5)"
      ]
     },
     "metadata": {},
     "output_type": "display_data"
    },
    {
     "data": {
      "application/vnd.jupyter.widget-view+json": {
       "model_id": "a984704a6019493db3615f0c7d30b7d3",
       "version_major": 2,
       "version_minor": 0
      },
      "text/plain": [
       "Label(value='Pointy_Nose')"
      ]
     },
     "metadata": {},
     "output_type": "display_data"
    },
    {
     "data": {
      "application/vnd.jupyter.widget-view+json": {
       "model_id": "b6694cecf7bb485bbeff0d34b74d650d",
       "version_major": 2,
       "version_minor": 0
      },
      "text/plain": [
       "FloatSlider(value=-1.0, max=10.0, min=-10.0, step=0.5)"
      ]
     },
     "metadata": {},
     "output_type": "display_data"
    },
    {
     "data": {
      "application/vnd.jupyter.widget-view+json": {
       "model_id": "d74ffdaa32b24e29924de30035c9cee8",
       "version_major": 2,
       "version_minor": 0
      },
      "text/plain": [
       "Label(value='Receding_Hairline')"
      ]
     },
     "metadata": {},
     "output_type": "display_data"
    },
    {
     "data": {
      "application/vnd.jupyter.widget-view+json": {
       "model_id": "8bdb3b83cdc74640b37f03d2a3288758",
       "version_major": 2,
       "version_minor": 0
      },
      "text/plain": [
       "FloatSlider(value=-1.0, max=10.0, min=-10.0, step=0.5)"
      ]
     },
     "metadata": {},
     "output_type": "display_data"
    },
    {
     "data": {
      "application/vnd.jupyter.widget-view+json": {
       "model_id": "e506969d8e894f00a73b158c7e9049fd",
       "version_major": 2,
       "version_minor": 0
      },
      "text/plain": [
       "Label(value='Rosy_Cheeks')"
      ]
     },
     "metadata": {},
     "output_type": "display_data"
    },
    {
     "data": {
      "application/vnd.jupyter.widget-view+json": {
       "model_id": "a810c5b432cc4705b0248b3d026bf58d",
       "version_major": 2,
       "version_minor": 0
      },
      "text/plain": [
       "FloatSlider(value=-1.0, max=10.0, min=-10.0, step=0.5)"
      ]
     },
     "metadata": {},
     "output_type": "display_data"
    },
    {
     "data": {
      "application/vnd.jupyter.widget-view+json": {
       "model_id": "54947753a71a459b9ba702c43dfe865b",
       "version_major": 2,
       "version_minor": 0
      },
      "text/plain": [
       "Label(value='Sideburns')"
      ]
     },
     "metadata": {},
     "output_type": "display_data"
    },
    {
     "data": {
      "application/vnd.jupyter.widget-view+json": {
       "model_id": "2c68a0dacace478fa93917aa93ff2d27",
       "version_major": 2,
       "version_minor": 0
      },
      "text/plain": [
       "FloatSlider(value=-1.0, max=10.0, min=-10.0, step=0.5)"
      ]
     },
     "metadata": {},
     "output_type": "display_data"
    },
    {
     "data": {
      "application/vnd.jupyter.widget-view+json": {
       "model_id": "4546fe79d7954ea0a1b59fe9e11f5004",
       "version_major": 2,
       "version_minor": 0
      },
      "text/plain": [
       "Label(value='Smiling')"
      ]
     },
     "metadata": {},
     "output_type": "display_data"
    },
    {
     "data": {
      "application/vnd.jupyter.widget-view+json": {
       "model_id": "ba9c13399a4142feb3791427d003af76",
       "version_major": 2,
       "version_minor": 0
      },
      "text/plain": [
       "FloatSlider(value=-1.0, max=10.0, min=-10.0, step=0.5)"
      ]
     },
     "metadata": {},
     "output_type": "display_data"
    },
    {
     "data": {
      "application/vnd.jupyter.widget-view+json": {
       "model_id": "afe8ef07f8ff4e69b9dc7f0048f476d8",
       "version_major": 2,
       "version_minor": 0
      },
      "text/plain": [
       "Label(value='Straight_Hair')"
      ]
     },
     "metadata": {},
     "output_type": "display_data"
    },
    {
     "data": {
      "application/vnd.jupyter.widget-view+json": {
       "model_id": "bae51c30bda64ed284dc4a16d03ec9e0",
       "version_major": 2,
       "version_minor": 0
      },
      "text/plain": [
       "FloatSlider(value=-1.0, max=10.0, min=-10.0, step=0.5)"
      ]
     },
     "metadata": {},
     "output_type": "display_data"
    },
    {
     "data": {
      "application/vnd.jupyter.widget-view+json": {
       "model_id": "4686eb6c34a04775be04db41aab61140",
       "version_major": 2,
       "version_minor": 0
      },
      "text/plain": [
       "Label(value='Wavy_Hair')"
      ]
     },
     "metadata": {},
     "output_type": "display_data"
    },
    {
     "data": {
      "application/vnd.jupyter.widget-view+json": {
       "model_id": "48a920cc7911406e9221a1bf698704e8",
       "version_major": 2,
       "version_minor": 0
      },
      "text/plain": [
       "FloatSlider(value=-1.0, max=10.0, min=-10.0, step=0.5)"
      ]
     },
     "metadata": {},
     "output_type": "display_data"
    },
    {
     "data": {
      "application/vnd.jupyter.widget-view+json": {
       "model_id": "8d08bc26c6b949a3b434f224a227c380",
       "version_major": 2,
       "version_minor": 0
      },
      "text/plain": [
       "Label(value='Wearing_Earrings')"
      ]
     },
     "metadata": {},
     "output_type": "display_data"
    },
    {
     "data": {
      "application/vnd.jupyter.widget-view+json": {
       "model_id": "e7cd0075b2df46ae93dd79ebfba4744f",
       "version_major": 2,
       "version_minor": 0
      },
      "text/plain": [
       "FloatSlider(value=-1.0, max=10.0, min=-10.0, step=0.5)"
      ]
     },
     "metadata": {},
     "output_type": "display_data"
    },
    {
     "data": {
      "application/vnd.jupyter.widget-view+json": {
       "model_id": "6d7f6dacce1040cfbb0d509da1358924",
       "version_major": 2,
       "version_minor": 0
      },
      "text/plain": [
       "Label(value='Wearing_Hat')"
      ]
     },
     "metadata": {},
     "output_type": "display_data"
    },
    {
     "data": {
      "application/vnd.jupyter.widget-view+json": {
       "model_id": "0f5836bd083e4ffda5ae2d54dc39f63f",
       "version_major": 2,
       "version_minor": 0
      },
      "text/plain": [
       "FloatSlider(value=-1.0, max=10.0, min=-10.0, step=0.5)"
      ]
     },
     "metadata": {},
     "output_type": "display_data"
    },
    {
     "data": {
      "application/vnd.jupyter.widget-view+json": {
       "model_id": "0c2ce926f98f43c387982e2f231085ee",
       "version_major": 2,
       "version_minor": 0
      },
      "text/plain": [
       "Label(value='Wearing_Lipstick')"
      ]
     },
     "metadata": {},
     "output_type": "display_data"
    },
    {
     "data": {
      "application/vnd.jupyter.widget-view+json": {
       "model_id": "24a5d0cdc1c14d909213df6ef9e4537a",
       "version_major": 2,
       "version_minor": 0
      },
      "text/plain": [
       "FloatSlider(value=-1.0, max=10.0, min=-10.0, step=0.5)"
      ]
     },
     "metadata": {},
     "output_type": "display_data"
    },
    {
     "data": {
      "application/vnd.jupyter.widget-view+json": {
       "model_id": "05d1430039834baba50b071ea682d896",
       "version_major": 2,
       "version_minor": 0
      },
      "text/plain": [
       "Label(value='Wearing_Necklace')"
      ]
     },
     "metadata": {},
     "output_type": "display_data"
    },
    {
     "data": {
      "application/vnd.jupyter.widget-view+json": {
       "model_id": "969a4e26d04f4fafbc1ff0228a6996e3",
       "version_major": 2,
       "version_minor": 0
      },
      "text/plain": [
       "FloatSlider(value=-1.0, max=10.0, min=-10.0, step=0.5)"
      ]
     },
     "metadata": {},
     "output_type": "display_data"
    },
    {
     "data": {
      "application/vnd.jupyter.widget-view+json": {
       "model_id": "ba011c8dc0bd48359a9a1e0fbf05bb69",
       "version_major": 2,
       "version_minor": 0
      },
      "text/plain": [
       "Label(value='Wearing_Necktie')"
      ]
     },
     "metadata": {},
     "output_type": "display_data"
    },
    {
     "data": {
      "application/vnd.jupyter.widget-view+json": {
       "model_id": "51d80a642267436a97462e446f8fcb5e",
       "version_major": 2,
       "version_minor": 0
      },
      "text/plain": [
       "FloatSlider(value=-1.0, max=10.0, min=-10.0, step=0.5)"
      ]
     },
     "metadata": {},
     "output_type": "display_data"
    },
    {
     "data": {
      "application/vnd.jupyter.widget-view+json": {
       "model_id": "545a5e0f51074877acfc0b45e85c43b4",
       "version_major": 2,
       "version_minor": 0
      },
      "text/plain": [
       "Label(value='Young')"
      ]
     },
     "metadata": {},
     "output_type": "display_data"
    },
    {
     "data": {
      "application/vnd.jupyter.widget-view+json": {
       "model_id": "166f83de60494a2c9a02573c50dde4b2",
       "version_major": 2,
       "version_minor": 0
      },
      "text/plain": [
       "FloatSlider(value=-1.0, max=10.0, min=-10.0, step=0.5)"
      ]
     },
     "metadata": {},
     "output_type": "display_data"
    }
   ],
   "source": [
    "sliders = []\n",
    "labels = []\n",
    "for attrib in attribs:\n",
    "    slider = widgets.FloatSlider(\n",
    "        min=-10,\n",
    "        max=10,\n",
    "        step=0.5,\n",
    "        value=-1    )\n",
    "    labels.append(Label(attrib))\n",
    "    sliders.append(slider)\n",
    "for label, slider in zip(labels,sliders):\n",
    "    display(label)\n",
    "    display(slider)"
   ]
  },
  {
   "cell_type": "code",
   "execution_count": 201,
   "metadata": {
    "scrolled": false
   },
   "outputs": [
    {
     "name": "stdout",
     "output_type": "stream",
     "text": [
      "Attractive 1.0\n",
      "Big_Lips 1.0\n",
      "Black_Hair 1.0\n",
      "High_Cheekbones 1.0\n",
      "Mouth_Slightly_Open 5.5\n",
      "Rosy_Cheeks 1.0\n",
      "Wavy_Hair 2.0\n",
      "Young 1.0\n"
     ]
    },
    {
     "data": {
      "image/png": "[encoded data removed]",
      "text/plain": [
       "<Figure size 1080x288 with 3 Axes>"
      ]
     },
     "metadata": {
      "needs_background": "light"
     },
     "output_type": "display_data"
    }
   ],
   "source": [
    "conditions = np.array([slider.value for slider in sliders])\n",
    "# conditions = test_attribute\n",
    "# conditions = training_attribs[10]\n",
    "encode_to_attribs(conditions)\n",
    "mu, sigma = 0, 1 #mean and standard deviation\n",
    "noise = np.random.normal(mu, sigma,100)\n",
    "generate(decoder,noise,conditions)\n"
   ]
  },
  {
   "cell_type": "code",
   "execution_count": null,
   "metadata": {},
   "outputs": [],
   "source": []
  }
 ],
 "metadata": {
  "kernelspec": {
   "display_name": "Python 3",
   "language": "python",
   "name": "python3"
  },
  "language_info": {
   "codemirror_mode": {
    "name": "ipython",
    "version": 3
   },
   "file_extension": ".py",
   "mimetype": "text/x-python",
   "name": "python",
   "nbconvert_exporter": "python",
   "pygments_lexer": "ipython3",
   "version": "3.7.7"
  }
 },
 "nbformat": 4,
 "nbformat_minor": 4
}
