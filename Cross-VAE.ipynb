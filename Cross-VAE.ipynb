{
 "cells": [
  {
   "cell_type": "code",
   "execution_count": 1,
   "metadata": {},
   "outputs": [],
   "source": [
    "import tensorflow as tf\n",
    "from tensorflow.keras.preprocessing.image import ImageDataGenerator\n",
    "from tensorflow.keras.layers import Concatenate, GaussianNoise, UpSampling2D, Conv2DTranspose, Conv2D, Dense, Lambda, Input, Flatten, Reshape, BatchNormalization, ReLU, LeakyReLU, MaxPooling2D\n",
    "from tensorflow.keras.models import Model, load_model\n",
    "import tensorflow.keras.layers as layers\n",
    "import tensorflow.keras.backend as K\n",
    "from tensorflow.keras.losses import mse, binary_crossentropy\n",
    "from tensorflow.keras.datasets import mnist\n",
    "from tensorflow.keras.optimizers import Adam\n",
    "import matplotlib.pyplot as plt\n",
    "import pandas as pd\n",
    "import numpy as np\n",
    "\n",
    "\n",
    "\n",
    "import os\n",
    "import glob"
   ]
  },
  {
   "cell_type": "code",
   "execution_count": 37,
   "metadata": {},
   "outputs": [],
   "source": [
    "import numpy as np\n",
    "def sampling(args):\n",
    "    \"\"\"Reparameterization trick by sampling from an isotropic unit Gaussian.\n",
    "\n",
    "    # Arguments\n",
    "        args (tensor): mean and log of variance of Q(z|X)\n",
    "\n",
    "    # Returns\n",
    "        z (tensor): sampled latent vector\n",
    "    \"\"\"\n",
    "    z_mean, z_log_var = args\n",
    "    batch = K.shape(z_mean)[0]\n",
    "    dim = K.int_shape(z_mean)[1]\n",
    "    # by default, random_normal has mean = 0 and std = 1.0\n",
    "    epsilon = K.random_normal(shape=(batch, dim))\n",
    "    return z_mean + K.exp(0.5 * z_log_var) * epsilon\n"
   ]
  },
  {
   "cell_type": "code",
   "execution_count": 38,
   "metadata": {},
   "outputs": [
    {
     "name": "stdout",
     "output_type": "stream",
     "text": [
      "Model: \"attrib_encoder\"\n",
      "__________________________________________________________________________________________________\n",
      "Layer (type)                    Output Shape         Param #     Connected to                     \n",
      "==================================================================================================\n",
      "attrib_input (InputLayer)       [(None, 40)]         0                                            \n",
      "__________________________________________________________________________________________________\n",
      "dense_24 (Dense)                (None, 256)          10496       attrib_input[0][0]               \n",
      "__________________________________________________________________________________________________\n",
      "batch_normalization_42 (BatchNo (None, 256)          1024        dense_24[0][0]                   \n",
      "__________________________________________________________________________________________________\n",
      "leaky_re_lu_42 (LeakyReLU)      (None, 256)          0           batch_normalization_42[0][0]     \n",
      "__________________________________________________________________________________________________\n",
      "dense_25 (Dense)                (None, 128)          32896       leaky_re_lu_42[0][0]             \n",
      "__________________________________________________________________________________________________\n",
      "batch_normalization_43 (BatchNo (None, 128)          512         dense_25[0][0]                   \n",
      "__________________________________________________________________________________________________\n",
      "leaky_re_lu_43 (LeakyReLU)      (None, 128)          0           batch_normalization_43[0][0]     \n",
      "__________________________________________________________________________________________________\n",
      "dense_26 (Dense)                (None, 128)          16512       leaky_re_lu_43[0][0]             \n",
      "__________________________________________________________________________________________________\n",
      "batch_normalization_44 (BatchNo (None, 128)          512         dense_26[0][0]                   \n",
      "__________________________________________________________________________________________________\n",
      "leaky_re_lu_44 (LeakyReLU)      (None, 128)          0           batch_normalization_44[0][0]     \n",
      "__________________________________________________________________________________________________\n",
      "u_mean (Dense)                  (None, 100)          12900       leaky_re_lu_44[0][0]             \n",
      "__________________________________________________________________________________________________\n",
      "u_log_var (Dense)               (None, 100)          12900       leaky_re_lu_44[0][0]             \n",
      "__________________________________________________________________________________________________\n",
      "u (Lambda)                      (None, 100)          0           u_mean[0][0]                     \n",
      "                                                                 u_log_var[0][0]                  \n",
      "==================================================================================================\n",
      "Total params: 87,752\n",
      "Trainable params: 86,728\n",
      "Non-trainable params: 1,024\n",
      "__________________________________________________________________________________________________\n",
      "Model: \"attrib_decoder\"\n",
      "_________________________________________________________________\n",
      "Layer (type)                 Output Shape              Param #   \n",
      "=================================================================\n",
      "u_sampling (InputLayer)      [(None, 100)]             0         \n",
      "_________________________________________________________________\n",
      "dense_27 (Dense)             (None, 128)               12928     \n",
      "_________________________________________________________________\n",
      "batch_normalization_45 (Batc (None, 128)               512       \n",
      "_________________________________________________________________\n",
      "leaky_re_lu_45 (LeakyReLU)   (None, 128)               0         \n",
      "_________________________________________________________________\n",
      "dense_28 (Dense)             (None, 128)               16512     \n",
      "_________________________________________________________________\n",
      "batch_normalization_46 (Batc (None, 128)               512       \n",
      "_________________________________________________________________\n",
      "leaky_re_lu_46 (LeakyReLU)   (None, 128)               0         \n",
      "_________________________________________________________________\n",
      "dense_29 (Dense)             (None, 256)               33024     \n",
      "_________________________________________________________________\n",
      "batch_normalization_47 (Batc (None, 256)               1024      \n",
      "_________________________________________________________________\n",
      "leaky_re_lu_47 (LeakyReLU)   (None, 256)               0         \n",
      "_________________________________________________________________\n",
      "dense_30 (Dense)             (None, 40)                10280     \n",
      "=================================================================\n",
      "Total params: 74,792\n",
      "Trainable params: 73,768\n",
      "Non-trainable params: 1,024\n",
      "_________________________________________________________________\n",
      "Model: \"attrib2attrib_vae\"\n",
      "__________________________________________________________________________________________________\n",
      "Layer (type)                    Output Shape         Param #     Connected to                     \n",
      "==================================================================================================\n",
      "attrib_input (InputLayer)       [(None, 40)]         0                                            \n",
      "__________________________________________________________________________________________________\n",
      "dense_24 (Dense)                (None, 256)          10496       attrib_input[0][0]               \n",
      "__________________________________________________________________________________________________\n",
      "batch_normalization_42 (BatchNo (None, 256)          1024        dense_24[0][0]                   \n",
      "__________________________________________________________________________________________________\n",
      "leaky_re_lu_42 (LeakyReLU)      (None, 256)          0           batch_normalization_42[0][0]     \n",
      "__________________________________________________________________________________________________\n",
      "dense_25 (Dense)                (None, 128)          32896       leaky_re_lu_42[0][0]             \n",
      "__________________________________________________________________________________________________\n",
      "batch_normalization_43 (BatchNo (None, 128)          512         dense_25[0][0]                   \n",
      "__________________________________________________________________________________________________\n",
      "leaky_re_lu_43 (LeakyReLU)      (None, 128)          0           batch_normalization_43[0][0]     \n",
      "__________________________________________________________________________________________________\n",
      "dense_26 (Dense)                (None, 128)          16512       leaky_re_lu_43[0][0]             \n",
      "__________________________________________________________________________________________________\n",
      "batch_normalization_44 (BatchNo (None, 128)          512         dense_26[0][0]                   \n",
      "__________________________________________________________________________________________________\n",
      "attrib_encoder (Model)          [(None, 100), (None, 87752       attrib_input[0][0]               \n",
      "__________________________________________________________________________________________________\n",
      "leaky_re_lu_44 (LeakyReLU)      (None, 128)          0           batch_normalization_44[0][0]     \n",
      "__________________________________________________________________________________________________\n",
      "attrib_decoder (Model)          (None, 40)           74792       attrib_encoder[1][2]             \n",
      "__________________________________________________________________________________________________\n",
      "u_mean (Dense)                  (None, 100)          12900       leaky_re_lu_44[0][0]             \n",
      "__________________________________________________________________________________________________\n",
      "u_log_var (Dense)               (None, 100)          12900       leaky_re_lu_44[0][0]             \n",
      "==================================================================================================\n",
      "Total params: 162,544\n",
      "Trainable params: 160,496\n",
      "Non-trainable params: 2,048\n",
      "__________________________________________________________________________________________________\n"
     ]
    }
   ],
   "source": [
    "# VAE CONDITIONS\n",
    "n_conds = 40\n",
    "latent_dim = 100\n",
    "\n",
    "attrib_inputs = Input(shape=(n_conds,), name='attrib_input')\n",
    "\n",
    "x = Dense(256)(attrib_inputs)\n",
    "x = BatchNormalization()(x)\n",
    "x = LeakyReLU(0.1)(x)\n",
    "x = Dense(128)(x)\n",
    "x = BatchNormalization()(x)\n",
    "x = LeakyReLU(0.1)(x)\n",
    "x = Dense(128)(x)\n",
    "x = BatchNormalization()(x)\n",
    "x = LeakyReLU(0.1)(x)\n",
    "\n",
    "\n",
    "u_mean = Dense(latent_dim, name='u_mean')(x)\n",
    "u_log_var = Dense(latent_dim, name='u_log_var')(x)\n",
    "\n",
    "# use reparameterization trick to push the sampling out as input\n",
    "# note that \"output_shape\" isn't necessary with the TensorFlow backend\n",
    "u = Lambda(sampling, output_shape=(latent_dim,), name='u')([u_mean, u_log_var])\n",
    "\n",
    "attrib_encoder = Model(attrib_inputs, [u_mean, u_log_var, u], name='attrib_encoder')\n",
    "attrib_encoder.summary()\n",
    "\n",
    "latent_attrib_inputs = Input(shape=(latent_dim,), name='u_sampling')\n",
    "\n",
    "x = Dense(128)(latent_attrib_inputs)\n",
    "x = BatchNormalization()(x)\n",
    "x = LeakyReLU(0.1)(x)\n",
    "x = Dense(128)(x)\n",
    "x = BatchNormalization()(x)\n",
    "x = LeakyReLU(0.1)(x)\n",
    "x = Dense(256)(x)\n",
    "x = BatchNormalization()(x)\n",
    "x = LeakyReLU(0.1)(x)\n",
    "\n",
    "attrib_outputs = Dense(n_conds, activation='tanh')(x)\n",
    "\n",
    "attrib_decoder = Model(latent_attrib_inputs, attrib_outputs, name='attrib_decoder')\n",
    "attrib_decoder.summary()\n",
    "\n",
    "attrib_outputs = attrib_decoder(attrib_encoder(attrib_inputs)[2])\n",
    "attrib2attrib_vae = Model(attrib_inputs, [attrib_outputs, u_mean, u_log_var], name='attrib2attrib_vae')\n",
    "attrib2attrib_vae.summary()\n",
    "\n"
   ]
  },
  {
   "cell_type": "code",
   "execution_count": 39,
   "metadata": {},
   "outputs": [
    {
     "name": "stdout",
     "output_type": "stream",
     "text": [
      "Model: \"img_encoder\"\n",
      "__________________________________________________________________________________________________\n",
      "Layer (type)                    Output Shape         Param #     Connected to                     \n",
      "==================================================================================================\n",
      "encoder_input (InputLayer)      [(None, 64, 64, 3)]  0                                            \n",
      "__________________________________________________________________________________________________\n",
      "conv2d_27 (Conv2D)              (None, 32, 32, 16)   448         encoder_input[0][0]              \n",
      "__________________________________________________________________________________________________\n",
      "batch_normalization_48 (BatchNo (None, 32, 32, 16)   64          conv2d_27[0][0]                  \n",
      "__________________________________________________________________________________________________\n",
      "leaky_re_lu_48 (LeakyReLU)      (None, 32, 32, 16)   0           batch_normalization_48[0][0]     \n",
      "__________________________________________________________________________________________________\n",
      "conv2d_28 (Conv2D)              (None, 16, 16, 32)   4640        leaky_re_lu_48[0][0]             \n",
      "__________________________________________________________________________________________________\n",
      "batch_normalization_49 (BatchNo (None, 16, 16, 32)   128         conv2d_28[0][0]                  \n",
      "__________________________________________________________________________________________________\n",
      "leaky_re_lu_49 (LeakyReLU)      (None, 16, 16, 32)   0           batch_normalization_49[0][0]     \n",
      "__________________________________________________________________________________________________\n",
      "conv2d_29 (Conv2D)              (None, 8, 8, 64)     18496       leaky_re_lu_49[0][0]             \n",
      "__________________________________________________________________________________________________\n",
      "batch_normalization_50 (BatchNo (None, 8, 8, 64)     256         conv2d_29[0][0]                  \n",
      "__________________________________________________________________________________________________\n",
      "leaky_re_lu_50 (LeakyReLU)      (None, 8, 8, 64)     0           batch_normalization_50[0][0]     \n",
      "__________________________________________________________________________________________________\n",
      "conv2d_30 (Conv2D)              (None, 4, 4, 128)    73856       leaky_re_lu_50[0][0]             \n",
      "__________________________________________________________________________________________________\n",
      "batch_normalization_51 (BatchNo (None, 4, 4, 128)    512         conv2d_30[0][0]                  \n",
      "__________________________________________________________________________________________________\n",
      "leaky_re_lu_51 (LeakyReLU)      (None, 4, 4, 128)    0           batch_normalization_51[0][0]     \n",
      "__________________________________________________________________________________________________\n",
      "flatten_3 (Flatten)             (None, 2048)         0           leaky_re_lu_51[0][0]             \n",
      "__________________________________________________________________________________________________\n",
      "z_mean (Dense)                  (None, 100)          204900      flatten_3[0][0]                  \n",
      "__________________________________________________________________________________________________\n",
      "z_log_var (Dense)               (None, 100)          204900      flatten_3[0][0]                  \n",
      "__________________________________________________________________________________________________\n",
      "z (Lambda)                      (None, 100)          0           z_mean[0][0]                     \n",
      "                                                                 z_log_var[0][0]                  \n",
      "==================================================================================================\n",
      "Total params: 508,200\n",
      "Trainable params: 507,720\n",
      "Non-trainable params: 480\n",
      "__________________________________________________________________________________________________\n",
      "Model: \"img_decoder\"\n",
      "_________________________________________________________________\n",
      "Layer (type)                 Output Shape              Param #   \n",
      "=================================================================\n",
      "z_sampling (InputLayer)      [(None, 100)]             0         \n",
      "_________________________________________________________________\n",
      "dense_31 (Dense)             (None, 2048)              206848    \n",
      "_________________________________________________________________\n",
      "reshape_3 (Reshape)          (None, 4, 4, 128)         0         \n",
      "_________________________________________________________________\n",
      "conv2d_31 (Conv2D)           (None, 4, 4, 128)         409728    \n",
      "_________________________________________________________________\n",
      "batch_normalization_52 (Batc (None, 4, 4, 128)         512       \n",
      "_________________________________________________________________\n",
      "leaky_re_lu_52 (LeakyReLU)   (None, 4, 4, 128)         0         \n",
      "_________________________________________________________________\n",
      "up_sampling2d_12 (UpSampling (None, 8, 8, 128)         0         \n",
      "_________________________________________________________________\n",
      "conv2d_32 (Conv2D)           (None, 8, 8, 64)          204864    \n",
      "_________________________________________________________________\n",
      "batch_normalization_53 (Batc (None, 8, 8, 64)          256       \n",
      "_________________________________________________________________\n",
      "leaky_re_lu_53 (LeakyReLU)   (None, 8, 8, 64)          0         \n",
      "_________________________________________________________________\n",
      "up_sampling2d_13 (UpSampling (None, 16, 16, 64)        0         \n",
      "_________________________________________________________________\n",
      "conv2d_33 (Conv2D)           (None, 16, 16, 32)        51232     \n",
      "_________________________________________________________________\n",
      "batch_normalization_54 (Batc (None, 16, 16, 32)        128       \n",
      "_________________________________________________________________\n",
      "leaky_re_lu_54 (LeakyReLU)   (None, 16, 16, 32)        0         \n",
      "_________________________________________________________________\n",
      "up_sampling2d_14 (UpSampling (None, 32, 32, 32)        0         \n",
      "_________________________________________________________________\n",
      "conv2d_34 (Conv2D)           (None, 32, 32, 16)        12816     \n",
      "_________________________________________________________________\n",
      "batch_normalization_55 (Batc (None, 32, 32, 16)        64        \n",
      "_________________________________________________________________\n",
      "leaky_re_lu_55 (LeakyReLU)   (None, 32, 32, 16)        0         \n",
      "_________________________________________________________________\n",
      "up_sampling2d_15 (UpSampling (None, 64, 64, 16)        0         \n",
      "_________________________________________________________________\n",
      "conv2d_35 (Conv2D)           (None, 64, 64, 3)         435       \n",
      "=================================================================\n",
      "Total params: 886,883\n",
      "Trainable params: 886,403\n",
      "Non-trainable params: 480\n",
      "_________________________________________________________________\n",
      "Model: \"img2img_vae\"\n",
      "__________________________________________________________________________________________________\n",
      "Layer (type)                    Output Shape         Param #     Connected to                     \n",
      "==================================================================================================\n",
      "encoder_input (InputLayer)      [(None, 64, 64, 3)]  0                                            \n",
      "__________________________________________________________________________________________________\n",
      "conv2d_27 (Conv2D)              (None, 32, 32, 16)   448         encoder_input[0][0]              \n",
      "__________________________________________________________________________________________________\n",
      "batch_normalization_48 (BatchNo (None, 32, 32, 16)   64          conv2d_27[0][0]                  \n",
      "__________________________________________________________________________________________________\n",
      "leaky_re_lu_48 (LeakyReLU)      (None, 32, 32, 16)   0           batch_normalization_48[0][0]     \n",
      "__________________________________________________________________________________________________\n",
      "conv2d_28 (Conv2D)              (None, 16, 16, 32)   4640        leaky_re_lu_48[0][0]             \n",
      "__________________________________________________________________________________________________\n",
      "batch_normalization_49 (BatchNo (None, 16, 16, 32)   128         conv2d_28[0][0]                  \n",
      "__________________________________________________________________________________________________\n",
      "leaky_re_lu_49 (LeakyReLU)      (None, 16, 16, 32)   0           batch_normalization_49[0][0]     \n",
      "__________________________________________________________________________________________________\n",
      "conv2d_29 (Conv2D)              (None, 8, 8, 64)     18496       leaky_re_lu_49[0][0]             \n",
      "__________________________________________________________________________________________________\n",
      "batch_normalization_50 (BatchNo (None, 8, 8, 64)     256         conv2d_29[0][0]                  \n",
      "__________________________________________________________________________________________________\n",
      "leaky_re_lu_50 (LeakyReLU)      (None, 8, 8, 64)     0           batch_normalization_50[0][0]     \n",
      "__________________________________________________________________________________________________\n",
      "conv2d_30 (Conv2D)              (None, 4, 4, 128)    73856       leaky_re_lu_50[0][0]             \n",
      "__________________________________________________________________________________________________\n",
      "batch_normalization_51 (BatchNo (None, 4, 4, 128)    512         conv2d_30[0][0]                  \n",
      "__________________________________________________________________________________________________\n",
      "leaky_re_lu_51 (LeakyReLU)      (None, 4, 4, 128)    0           batch_normalization_51[0][0]     \n",
      "__________________________________________________________________________________________________\n",
      "img_encoder (Model)             [(None, 100), (None, 508200      encoder_input[0][0]              \n",
      "__________________________________________________________________________________________________\n",
      "flatten_3 (Flatten)             (None, 2048)         0           leaky_re_lu_51[0][0]             \n",
      "__________________________________________________________________________________________________\n",
      "img_decoder (Model)             (None, 64, 64, 3)    886883      img_encoder[1][2]                \n",
      "__________________________________________________________________________________________________\n",
      "z_mean (Dense)                  (None, 100)          204900      flatten_3[0][0]                  \n",
      "__________________________________________________________________________________________________\n",
      "z_log_var (Dense)               (None, 100)          204900      flatten_3[0][0]                  \n",
      "==================================================================================================\n",
      "Total params: 1,395,083\n",
      "Trainable params: 1,394,123\n",
      "Non-trainable params: 960\n",
      "__________________________________________________________________________________________________\n"
     ]
    }
   ],
   "source": [
    "# VAE IMAGE\n",
    "# network parameters\n",
    "width = 64\n",
    "height = 64\n",
    "latent_dim = 100\n",
    "inner_latent = 256\n",
    "\n",
    "\n",
    "\n",
    "# VAE model = encoder + decoder\n",
    "# build encoder model\n",
    "inputs = Input(shape=(width,height,3), name='encoder_input')\n",
    "\n",
    "x = GaussianNoise(1)(inputs) #Noise layer for denoising VAE\n",
    "x = Conv2D(16, 3, strides=2, padding='same')(inputs)\n",
    "x = BatchNormalization()(x)\n",
    "x = LeakyReLU(0.1)(x)\n",
    "x = Conv2D(32, 3, strides=2, padding='same')(x)\n",
    "x = BatchNormalization()(x)\n",
    "x = LeakyReLU(0.1)(x)\n",
    "x = Conv2D(64, 3, strides=2, padding='same')(x)\n",
    "x = BatchNormalization()(x)\n",
    "x = LeakyReLU(0.1)(x)\n",
    "x = Conv2D(128, 3, strides=2, padding='same')(x)\n",
    "x = BatchNormalization()(x)\n",
    "x = LeakyReLU(0.1)(x)\n",
    "\n",
    "(_,h,w,c) = x.shape\n",
    "\n",
    "x = Flatten()(x)\n",
    "\n",
    "\n",
    "z_mean = Dense(latent_dim, name='z_mean')(x)\n",
    "z_log_var = Dense(latent_dim, name='z_log_var')(x)\n",
    "\n",
    "# use reparameterization trick to push the sampling out as input\n",
    "# note that \"output_shape\" isn't necessary with the TensorFlow backend\n",
    "z = Lambda(sampling, output_shape=(latent_dim,), name='z')([z_mean, z_log_var])\n",
    "\n",
    "# instantiate encoder model\n",
    "encoder = Model(inputs, [z_mean, z_log_var, z], name='img_encoder')\n",
    "encoder.summary()\n",
    "\n",
    "\n",
    "\n",
    "# # build decoder model\n",
    "latent_inputs = Input(shape=(latent_dim,), name='z_sampling')\n",
    "\n",
    "\n",
    "\n",
    "\n",
    "x = Dense(h*w*c, activation='relu')(latent_inputs)\n",
    "x = Reshape((h,w,c))(x)\n",
    "x = Conv2D(128,5, strides=1, padding='same')(x)\n",
    "x = BatchNormalization()(x)\n",
    "x = LeakyReLU(0.1)(x)\n",
    "x = UpSampling2D()(x)\n",
    "x = Conv2D(64,5, strides=1, padding='same')(x)\n",
    "x = BatchNormalization()(x)\n",
    "x = LeakyReLU(0.1)(x)\n",
    "x = UpSampling2D()(x)\n",
    "x = Conv2D(32,5, strides=1, padding='same')(x)\n",
    "x = BatchNormalization()(x)\n",
    "x = LeakyReLU(0.1)(x)\n",
    "x = UpSampling2D()(x)\n",
    "x = Conv2D(16,5, strides=1, padding='same')(x)\n",
    "x = BatchNormalization()(x)\n",
    "x = LeakyReLU(0.1)(x)\n",
    "x = UpSampling2D()(x)\n",
    "\n",
    "outputs = Conv2D(3,3, strides=1, activation='tanh', padding='same')(x)\n",
    "\n",
    "\n",
    "# # instantiate decoder model\n",
    "decoder = Model(latent_inputs, outputs, name='img_decoder')\n",
    "decoder.summary()\n",
    "\n",
    "# # instantiate VAE model\n",
    "\n",
    "\n",
    "\n",
    "\n",
    "outputs = decoder(encoder(inputs)[2])\n",
    "img2img_vae = Model(inputs, [outputs, z_mean, z_log_var], name='img2img_vae')\n",
    "img2img_vae.summary()\n"
   ]
  },
  {
   "cell_type": "code",
   "execution_count": 40,
   "metadata": {},
   "outputs": [
    {
     "name": "stdout",
     "output_type": "stream",
     "text": [
      "Model: \"img2attrib_vae\"\n",
      "__________________________________________________________________________________________________\n",
      "Layer (type)                    Output Shape         Param #     Connected to                     \n",
      "==================================================================================================\n",
      "encoder_input (InputLayer)      [(None, 64, 64, 3)]  0                                            \n",
      "__________________________________________________________________________________________________\n",
      "conv2d_27 (Conv2D)              (None, 32, 32, 16)   448         encoder_input[0][0]              \n",
      "__________________________________________________________________________________________________\n",
      "batch_normalization_48 (BatchNo (None, 32, 32, 16)   64          conv2d_27[0][0]                  \n",
      "__________________________________________________________________________________________________\n",
      "leaky_re_lu_48 (LeakyReLU)      (None, 32, 32, 16)   0           batch_normalization_48[0][0]     \n",
      "__________________________________________________________________________________________________\n",
      "conv2d_28 (Conv2D)              (None, 16, 16, 32)   4640        leaky_re_lu_48[0][0]             \n",
      "__________________________________________________________________________________________________\n",
      "batch_normalization_49 (BatchNo (None, 16, 16, 32)   128         conv2d_28[0][0]                  \n",
      "__________________________________________________________________________________________________\n",
      "leaky_re_lu_49 (LeakyReLU)      (None, 16, 16, 32)   0           batch_normalization_49[0][0]     \n",
      "__________________________________________________________________________________________________\n",
      "conv2d_29 (Conv2D)              (None, 8, 8, 64)     18496       leaky_re_lu_49[0][0]             \n",
      "__________________________________________________________________________________________________\n",
      "batch_normalization_50 (BatchNo (None, 8, 8, 64)     256         conv2d_29[0][0]                  \n",
      "__________________________________________________________________________________________________\n",
      "leaky_re_lu_50 (LeakyReLU)      (None, 8, 8, 64)     0           batch_normalization_50[0][0]     \n",
      "__________________________________________________________________________________________________\n",
      "conv2d_30 (Conv2D)              (None, 4, 4, 128)    73856       leaky_re_lu_50[0][0]             \n",
      "__________________________________________________________________________________________________\n",
      "batch_normalization_51 (BatchNo (None, 4, 4, 128)    512         conv2d_30[0][0]                  \n",
      "__________________________________________________________________________________________________\n",
      "leaky_re_lu_51 (LeakyReLU)      (None, 4, 4, 128)    0           batch_normalization_51[0][0]     \n",
      "__________________________________________________________________________________________________\n",
      "img_encoder (Model)             [(None, 100), (None, 508200      encoder_input[0][0]              \n",
      "__________________________________________________________________________________________________\n",
      "flatten_3 (Flatten)             (None, 2048)         0           leaky_re_lu_51[0][0]             \n",
      "__________________________________________________________________________________________________\n",
      "attrib_decoder (Model)          (None, 40)           74792       img_encoder[2][2]                \n",
      "__________________________________________________________________________________________________\n",
      "z_mean (Dense)                  (None, 100)          204900      flatten_3[0][0]                  \n",
      "__________________________________________________________________________________________________\n",
      "z_log_var (Dense)               (None, 100)          204900      flatten_3[0][0]                  \n",
      "==================================================================================================\n",
      "Total params: 582,992\n",
      "Trainable params: 581,488\n",
      "Non-trainable params: 1,504\n",
      "__________________________________________________________________________________________________\n",
      "Model: \"attrib2img_vae\"\n",
      "__________________________________________________________________________________________________\n",
      "Layer (type)                    Output Shape         Param #     Connected to                     \n",
      "==================================================================================================\n",
      "attrib_input (InputLayer)       [(None, 40)]         0                                            \n",
      "__________________________________________________________________________________________________\n",
      "dense_24 (Dense)                (None, 256)          10496       attrib_input[0][0]               \n",
      "__________________________________________________________________________________________________\n",
      "batch_normalization_42 (BatchNo (None, 256)          1024        dense_24[0][0]                   \n",
      "__________________________________________________________________________________________________\n",
      "leaky_re_lu_42 (LeakyReLU)      (None, 256)          0           batch_normalization_42[0][0]     \n",
      "__________________________________________________________________________________________________\n",
      "dense_25 (Dense)                (None, 128)          32896       leaky_re_lu_42[0][0]             \n",
      "__________________________________________________________________________________________________\n",
      "batch_normalization_43 (BatchNo (None, 128)          512         dense_25[0][0]                   \n",
      "__________________________________________________________________________________________________\n",
      "leaky_re_lu_43 (LeakyReLU)      (None, 128)          0           batch_normalization_43[0][0]     \n",
      "__________________________________________________________________________________________________\n",
      "dense_26 (Dense)                (None, 128)          16512       leaky_re_lu_43[0][0]             \n",
      "__________________________________________________________________________________________________\n",
      "batch_normalization_44 (BatchNo (None, 128)          512         dense_26[0][0]                   \n",
      "__________________________________________________________________________________________________\n",
      "attrib_encoder (Model)          [(None, 100), (None, 87752       attrib_input[0][0]               \n",
      "__________________________________________________________________________________________________\n",
      "leaky_re_lu_44 (LeakyReLU)      (None, 128)          0           batch_normalization_44[0][0]     \n",
      "__________________________________________________________________________________________________\n",
      "img_decoder (Model)             (None, 64, 64, 3)    886883      attrib_encoder[2][2]             \n",
      "__________________________________________________________________________________________________\n",
      "u_mean (Dense)                  (None, 100)          12900       leaky_re_lu_44[0][0]             \n",
      "__________________________________________________________________________________________________\n",
      "u_log_var (Dense)               (None, 100)          12900       leaky_re_lu_44[0][0]             \n",
      "==================================================================================================\n",
      "Total params: 974,635\n",
      "Trainable params: 973,131\n",
      "Non-trainable params: 1,504\n",
      "__________________________________________________________________________________________________\n"
     ]
    }
   ],
   "source": [
    "attrib_outputs = attrib_decoder(encoder(inputs)[2])\n",
    "img2attrib_vae = Model(inputs, [attrib_outputs, z_mean, z_log_var], name='img2attrib_vae')\n",
    "img2attrib_vae.summary()\n",
    "\n",
    "outputs = decoder(attrib_encoder(attrib_inputs)[2])\n",
    "attrib2img_vae = Model(attrib_inputs, [outputs, u_mean, u_log_var], name='attrib2img_vae')\n",
    "attrib2img_vae.summary()"
   ]
  },
  {
   "cell_type": "code",
   "execution_count": 41,
   "metadata": {},
   "outputs": [],
   "source": [
    "img2img_optimizer = tf.keras.optimizers.Adam(1e-4)\n",
    "attrib2attrib_optimizer = tf.keras.optimizers.Adam(1e-4)\n",
    "attrib2img_optimizer = tf.keras.optimizers.Adam(1e-4)\n",
    "img2attrib_optimizer = tf.keras.optimizers.Adam(1e-4)\n",
    "ssl_img_optimizer = tf.keras.optimizers.Adam(1e-4)\n",
    "ssl_attrib_optimizer = tf.keras.optimizers.Adam(1e-4)"
   ]
  },
  {
   "cell_type": "code",
   "execution_count": 42,
   "metadata": {},
   "outputs": [],
   "source": [
    "@tf.function\n",
    "def kl_loss(z_mean, z_log_var):\n",
    "    kl_loss = 1 + z_log_var - K.square(z_mean) - K.exp(z_log_var)\n",
    "    kl_loss = K.sum(kl_loss, axis=-1)\n",
    "    kl_loss *= -0.5\n",
    "    return K.mean(kl_loss)\n",
    "@tf.function\n",
    "def reconstruction_loss(y_true, y_pred):\n",
    "    return mse(K.flatten(y_true), K.flatten(y_pred))\n",
    "@tf.function\n",
    "def space_sharing_loss(z, u):\n",
    "    return K.mean(K.sqrt(K.sum(K.square(z - u), axis=-1)))"
   ]
  },
  {
   "cell_type": "code",
   "execution_count": 43,
   "metadata": {},
   "outputs": [],
   "source": [
    "@tf.function\n",
    "def train_step(images, attributes):\n",
    "\n",
    "    with tf.GradientTape() as img2img_tape, tf.GradientTape() as attrib2attrib_tape, tf.GradientTape() as img2attrib_tape, tf.GradientTape() as attrib2img_tape, tf.GradientTape() as ss_img_tape, tf.GradientTape() as ss_attrib_tape:\n",
    "        \n",
    "        reconstructed_images, z_mean, z_log_var = img2img_vae(images, training=True)\n",
    "        rl_img2img = reconstruction_loss(images, reconstructed_images)\n",
    "        kl_img = kl_loss(z_mean, z_log_var)\n",
    "        loss_img2img = rl_img2img*64*64 + kl_img\n",
    "        \n",
    "        reconstructed_attributes, u_mean, u_log_var = attrib2attrib_vae(attributes, training=True)\n",
    "        rl_attrib2attrib = reconstruction_loss(attributes, reconstructed_attributes)\n",
    "        kl_attrib = kl_loss(u_mean, u_log_var)\n",
    "        loss_attrib2attrib = rl_attrib2attrib*40 + kl_attrib\n",
    "        \n",
    "        generated_images, _, _ = attrib2img_vae(attributes, training=True)\n",
    "        rl_attrib2img = reconstruction_loss(images, generated_images)*64*64\n",
    "        \n",
    "        generated_attributes, _, _ = img2attrib_vae(images, training=True)\n",
    "        rl_img2attrib = reconstruction_loss(attributes, generated_attributes)*40\n",
    "        \n",
    "        _, _, sampled_u = attrib_encoder(attributes,training=True)\n",
    "        _, _, sampled_z = encoder(images,training=True)\n",
    "        \n",
    "        loss_ss = space_sharing_loss(sampled_z, sampled_u)\n",
    "\n",
    "\n",
    "\n",
    "\n",
    "    gradients_of_img2img = img2img_tape.gradient(loss_img2img, img2img_vae.trainable_variables)\n",
    "    gradients_of_attrib2attrib = attrib2attrib_tape.gradient(loss_attrib2attrib, attrib2attrib_vae.trainable_variables)\n",
    "    gradients_of_img2attrib = img2attrib_tape.gradient(rl_img2attrib, img2attrib_vae.trainable_variables)\n",
    "    gradients_of_attrib2img = attrib2img_tape.gradient(rl_attrib2img, attrib2img_vae.trainable_variables)    \n",
    "    gradients_of_ss_img = ss_img_tape.gradient(loss_ss, encoder.trainable_variables)\n",
    "    gradients_of_ss_attrib = ss_attrib_tape.gradient(loss_ss, attrib_encoder.trainable_variables)\n",
    "    \n",
    "    \n",
    "    ssl_img_optimizer.apply_gradients(zip(gradients_of_ss_img, encoder.trainable_variables))\n",
    "    ssl_attrib_optimizer.apply_gradients(zip(gradients_of_ss_attrib, attrib_encoder.trainable_variables))\n",
    "    \n",
    "    img2img_optimizer.apply_gradients(zip(gradients_of_img2img, img2img_vae.trainable_variables))\n",
    "    attrib2attrib_optimizer.apply_gradients(zip(gradients_of_attrib2attrib, attrib2attrib_vae.trainable_variables))\n",
    "    img2attrib_optimizer.apply_gradients(zip(gradients_of_img2attrib, img2attrib_vae.trainable_variables))\n",
    "    attrib2img_optimizer.apply_gradients(zip(gradients_of_attrib2img, attrib2img_vae.trainable_variables))\n",
    "    \n",
    "\n",
    "    return loss_ss, loss_img2img, loss_attrib2attrib, rl_attrib2img, rl_img2attrib"
   ]
  },
  {
   "cell_type": "code",
   "execution_count": 9,
   "metadata": {},
   "outputs": [],
   "source": [
    "def normalize_for_tanh(img):\n",
    "    return (img - 127.5) / 127.5\n",
    "\n",
    "def unnormalize_tanh(img):\n",
    "    return (img + 1) / 2"
   ]
  },
  {
   "cell_type": "code",
   "execution_count": 10,
   "metadata": {},
   "outputs": [],
   "source": [
    "def encode_to_attribs(encoded):\n",
    "    for present, attrib in zip(encoded, list(df.columns[1:])):\n",
    "        if present == 1:\n",
    "            print(attrib)"
   ]
  },
  {
   "cell_type": "code",
   "execution_count": 11,
   "metadata": {},
   "outputs": [],
   "source": [
    "df = pd.read_csv('./celeba-attribs.csv')"
   ]
  },
  {
   "cell_type": "code",
   "execution_count": 12,
   "metadata": {},
   "outputs": [
    {
     "name": "stdout",
     "output_type": "stream",
     "text": [
      "Found 40520 validated image filenames.\n"
     ]
    }
   ],
   "source": [
    "training_data_generator = ImageDataGenerator(\n",
    "    validation_split=0.8,\n",
    "    horizontal_flip=False,\n",
    "    preprocessing_function=normalize_for_tanh)\n",
    "\n",
    "\n",
    "training_generator = training_data_generator.flow_from_dataframe(\n",
    "    dataframe=df,\n",
    "    directory='../celeba-clean-64/',\n",
    "    x_col=\"img\",\n",
    "    y_col=list(df.columns[1:]),\n",
    "    target_size=(64, 64),\n",
    "    subset='training',\n",
    "    shuffle=True,\n",
    "    batch_size=40520,\n",
    "    class_mode='raw')\n"
   ]
  },
  {
   "cell_type": "code",
   "execution_count": 13,
   "metadata": {},
   "outputs": [],
   "source": [
    "training_data = training_generator.next()"
   ]
  },
  {
   "cell_type": "code",
   "execution_count": 44,
   "metadata": {
    "scrolled": true
   },
   "outputs": [
    {
     "name": "stdout",
     "output_type": "stream",
     "text": [
      "Epoch [0/1000]...   ...57.658(s)  ss: 9.199 - img2img: 668.679 - attrib2attrib: 32.861 - attrib2img: 1312.962 - img2attrib: 20.481\n",
      "checkpointing at epoch: 0\n",
      "Epoch [1/1000]...   ...50.647(s)  ss: 7.740 - img2img: 570.267 - attrib2attrib: 28.441 - attrib2img: 1266.374 - img2attrib: 16.529\n",
      "Epoch [2/1000]...   ...50.980(s)  ss: 7.390 - img2img: 563.342 - attrib2attrib: 29.371 - attrib2img: 1255.982 - img2attrib: 15.704\n",
      "Epoch [3/1000]...   ...51.071(s)  ss: 7.188 - img2img: 558.881 - attrib2attrib: 30.361 - attrib2img: 1248.838 - img2attrib: 15.217\n",
      "Epoch [4/1000]...   ...51.057(s)  ss: 7.026 - img2img: 551.682 - attrib2attrib: 31.529 - attrib2img: 1242.565 - img2attrib: 14.880\n",
      "Epoch [5/1000]...   ...50.245(s)  ss: 6.914 - img2img: 545.818 - attrib2attrib: 32.696 - attrib2img: 1240.066 - img2attrib: 14.646\n",
      "Epoch [6/1000]...   ...49.412(s)  ss: 6.806 - img2img: 540.258 - attrib2attrib: 33.883 - attrib2img: 1235.104 - img2attrib: 14.464\n",
      "Epoch [7/1000]...   ...49.505(s)  ss: 6.732 - img2img: 535.820 - attrib2attrib: 34.965 - attrib2img: 1233.637 - img2attrib: 14.334\n",
      "Epoch [8/1000]...   ...51.353(s)  ss: 6.672 - img2img: 532.774 - attrib2attrib: 35.976 - attrib2img: 1230.729 - img2attrib: 14.207\n",
      "Epoch [9/1000]...   ...51.122(s)  ss: 6.634 - img2img: 529.876 - attrib2attrib: 36.688 - attrib2img: 1227.675 - img2attrib: 14.158\n",
      "Epoch [10/1000]...  ...51.033(s)  ss: 6.637 - img2img: 528.189 - attrib2attrib: 36.861 - attrib2img: 1227.966 - img2attrib: 14.053\n",
      "Epoch [11/1000]...  ...51.316(s)  ss: 6.632 - img2img: 527.252 - attrib2attrib: 37.456 - attrib2img: 1225.379 - img2attrib: 14.001\n",
      "Epoch [12/1000]...  ...50.592(s)  ss: 6.612 - img2img: 525.649 - attrib2attrib: 38.095 - attrib2img: 1223.140 - img2attrib: 13.942\n",
      "Epoch [13/1000]...  ...49.296(s)  ss: 6.578 - img2img: 524.500 - attrib2attrib: 38.911 - attrib2img: 1221.682 - img2attrib: 13.893\n",
      "Epoch [14/1000]...  ...49.291(s)  ss: 6.554 - img2img: 524.155 - attrib2attrib: 39.634 - attrib2img: 1220.253 - img2attrib: 13.851\n",
      "Epoch [15/1000]...  ...51.103(s)  ss: 6.510 - img2img: 524.636 - attrib2attrib: 40.679 - attrib2img: 1218.259 - img2attrib: 13.791\n",
      "Epoch [16/1000]...  ...50.999(s)  ss: 6.490 - img2img: 524.684 - attrib2attrib: 41.615 - attrib2img: 1217.159 - img2attrib: 13.784\n",
      "Epoch [17/1000]...  ...51.333(s)  ss: 6.426 - img2img: 525.636 - attrib2attrib: 42.837 - attrib2img: 1215.447 - img2attrib: 13.739\n",
      "Epoch [18/1000]...  ...51.007(s)  ss: 6.350 - img2img: 525.519 - attrib2attrib: 44.173 - attrib2img: 1214.820 - img2attrib: 13.706\n",
      "Epoch [19/1000]...  ...50.745(s)  ss: 6.284 - img2img: 526.323 - attrib2attrib: 45.472 - attrib2img: 1213.373 - img2attrib: 13.682\n",
      "Epoch [20/1000]...  ...49.325(s)  ss: 6.226 - img2img: 526.973 - attrib2attrib: 46.569 - attrib2img: 1213.209 - img2attrib: 13.643\n",
      "Epoch [21/1000]...  ...49.359(s)  ss: 6.140 - img2img: 528.382 - attrib2attrib: 47.921 - attrib2img: 1211.759 - img2attrib: 13.599\n",
      "Epoch [22/1000]...  ...50.575(s)  ss: 6.054 - img2img: 529.673 - attrib2attrib: 49.527 - attrib2img: 1211.612 - img2attrib: 13.601\n",
      "Epoch [23/1000]...  ...50.742(s)  ss: 5.956 - img2img: 530.292 - attrib2attrib: 51.215 - attrib2img: 1210.685 - img2attrib: 13.600\n",
      "Epoch [24/1000]...  ...50.957(s)  ss: 5.884 - img2img: 531.412 - attrib2attrib: 52.606 - attrib2img: 1209.575 - img2attrib: 13.587\n",
      "Epoch [25/1000]...  ...50.663(s)  ss: 5.817 - img2img: 531.441 - attrib2attrib: 54.054 - attrib2img: 1209.495 - img2attrib: 13.575\n",
      "Epoch [26/1000]...  ...50.725(s)  ss: 5.732 - img2img: 530.918 - attrib2attrib: 55.514 - attrib2img: 1208.109 - img2attrib: 13.569\n",
      "Epoch [27/1000]...  ...51.020(s)  ss: 5.648 - img2img: 532.416 - attrib2attrib: 56.985 - attrib2img: 1207.378 - img2attrib: 13.539\n",
      "Epoch [28/1000]...  ...50.713(s)  ss: 5.586 - img2img: 531.821 - attrib2attrib: 58.317 - attrib2img: 1207.282 - img2attrib: 13.535\n",
      "Epoch [29/1000]...  ...50.728(s)  ss: 5.521 - img2img: 532.660 - attrib2attrib: 59.637 - attrib2img: 1207.282 - img2attrib: 13.523\n",
      "Epoch [30/1000]...  ...50.768(s)  ss: 5.450 - img2img: 532.918 - attrib2attrib: 61.137 - attrib2img: 1206.411 - img2attrib: 13.528\n",
      "Epoch [31/1000]...  ...50.913(s)  ss: 5.378 - img2img: 534.659 - attrib2attrib: 62.544 - attrib2img: 1205.801 - img2attrib: 13.513\n",
      "Epoch [32/1000]...  ...50.659(s)  ss: 5.326 - img2img: 535.841 - attrib2attrib: 63.986 - attrib2img: 1206.559 - img2attrib: 13.500\n",
      "Epoch [33/1000]...  ...50.761(s)  ss: 5.268 - img2img: 538.341 - attrib2attrib: 65.212 - attrib2img: 1204.765 - img2attrib: 13.483\n",
      "Epoch [34/1000]...  ...50.824(s)  ss: 5.217 - img2img: 539.617 - attrib2attrib: 66.423 - attrib2img: 1205.833 - img2attrib: 13.479\n",
      "Epoch [35/1000]...  ...50.721(s)  ss: 5.163 - img2img: 542.215 - attrib2attrib: 67.646 - attrib2img: 1204.032 - img2attrib: 13.468\n",
      "Epoch [36/1000]...  ...50.822(s)  ss: 5.114 - img2img: 544.146 - attrib2attrib: 68.864 - attrib2img: 1205.866 - img2attrib: 13.464\n",
      "Epoch [37/1000]...  ...50.633(s)  ss: 5.076 - img2img: 544.410 - attrib2attrib: 69.767 - attrib2img: 1203.733 - img2attrib: 13.434\n",
      "Epoch [38/1000]...  ...50.860(s)  ss: 5.030 - img2img: 545.234 - attrib2attrib: 70.950 - attrib2img: 1204.126 - img2attrib: 13.470\n",
      "Epoch [39/1000]...  ...50.808(s)  ss: 4.998 - img2img: 546.165 - attrib2attrib: 71.756 - attrib2img: 1203.269 - img2attrib: 13.462\n",
      "Epoch [40/1000]...  ...50.841(s)  ss: 4.991 - img2img: 547.774 - attrib2attrib: 72.306 - attrib2img: 1203.249 - img2attrib: 13.418\n",
      "Epoch [41/1000]...  ...50.850(s)  ss: 4.972 - img2img: 549.645 - attrib2attrib: 72.883 - attrib2img: 1204.263 - img2attrib: 13.402\n",
      "Epoch [42/1000]...  ...50.821(s)  ss: 4.964 - img2img: 551.488 - attrib2attrib: 73.545 - attrib2img: 1203.361 - img2attrib: 13.409\n",
      "Epoch [43/1000]...  ...50.859(s)  ss: 4.937 - img2img: 552.431 - attrib2attrib: 74.234 - attrib2img: 1203.064 - img2attrib: 13.400\n",
      "Epoch [44/1000]...  ...50.793(s)  ss: 4.925 - img2img: 551.730 - attrib2attrib: 74.794 - attrib2img: 1202.688 - img2attrib: 13.408\n",
      "Epoch [45/1000]...  ...50.701(s)  ss: 4.914 - img2img: 551.814 - attrib2attrib: 75.487 - attrib2img: 1202.961 - img2attrib: 13.420\n",
      "Epoch [46/1000]...  ...50.701(s)  ss: 4.909 - img2img: 551.184 - attrib2attrib: 75.986 - attrib2img: 1202.014 - img2attrib: 13.420\n",
      "Epoch [47/1000]...  ...50.760(s)  ss: 4.892 - img2img: 551.931 - attrib2attrib: 76.597 - attrib2img: 1203.244 - img2attrib: 13.413\n",
      "Epoch [48/1000]...  ...49.487(s)  ss: 4.890 - img2img: 553.231 - attrib2attrib: 77.140 - attrib2img: 1202.023 - img2attrib: 13.420\n",
      "Epoch [49/1000]...  ...49.202(s)  ss: 4.892 - img2img: 553.077 - attrib2attrib: 77.419 - attrib2img: 1202.700 - img2attrib: 13.409\n",
      "Epoch [50/1000]...  ...49.909(s)  ss: 4.901 - img2img: 551.714 - attrib2attrib: 77.642 - attrib2img: 1202.589 - img2attrib: 13.395\n",
      "Epoch [51/1000]...  ...49.353(s)  ss: 4.922 - img2img: 551.522 - attrib2attrib: 77.512 - attrib2img: 1202.633 - img2attrib: 13.375\n",
      "Epoch [52/1000]...  ...49.230(s)  ss: 4.926 - img2img: 550.509 - attrib2attrib: 77.886 - attrib2img: 1202.054 - img2attrib: 13.339\n",
      "Epoch [53/1000]...  ...50.772(s)  ss: 4.944 - img2img: 550.003 - attrib2attrib: 77.800 - attrib2img: 1202.988 - img2attrib: 13.360\n",
      "Epoch [54/1000]...  ...50.745(s)  ss: 4.966 - img2img: 549.115 - attrib2attrib: 77.626 - attrib2img: 1202.206 - img2attrib: 13.364\n",
      "Epoch [55/1000]...  ...50.833(s)  ss: 4.987 - img2img: 549.480 - attrib2attrib: 77.650 - attrib2img: 1202.623 - img2attrib: 13.392\n",
      "Epoch [56/1000]...  ...50.763(s)  ss: 5.016 - img2img: 548.436 - attrib2attrib: 77.398 - attrib2img: 1202.272 - img2attrib: 13.347\n",
      "Epoch [57/1000]...  ...50.949(s)  ss: 5.025 - img2img: 547.995 - attrib2attrib: 77.437 - attrib2img: 1202.272 - img2attrib: 13.372\n",
      "Epoch [58/1000]...  ...50.718(s)  ss: 5.045 - img2img: 548.628 - attrib2attrib: 77.326 - attrib2img: 1203.465 - img2attrib: 13.394\n",
      "Epoch [59/1000]...  ...51.201(s)  ss: 5.069 - img2img: 548.156 - attrib2attrib: 76.887 - attrib2img: 1202.535 - img2attrib: 13.398\n",
      "Epoch [60/1000]...  ...51.561(s)  ss: 5.083 - img2img: 548.370 - attrib2attrib: 76.639 - attrib2img: 1204.064 - img2attrib: 13.384\n",
      "Epoch [61/1000]...  ...51.402(s)  ss: 5.104 - img2img: 549.387 - attrib2attrib: 76.622 - attrib2img: 1203.894 - img2attrib: 13.361\n",
      "Epoch [62/1000]...  ...51.444(s)  ss: 5.143 - img2img: 550.281 - attrib2attrib: 76.103 - attrib2img: 1204.264 - img2attrib: 13.360\n"
     ]
    },
    {
     "name": "stdout",
     "output_type": "stream",
     "text": [
      "Epoch [63/1000]...  ...51.421(s)  ss: 5.227 - img2img: 549.158 - attrib2attrib: 74.622 - attrib2img: 1204.722 - img2attrib: 13.341\n",
      "Epoch [64/1000]...  ...51.480(s)  ss: 5.245 - img2img: 548.421 - attrib2attrib: 74.541 - attrib2img: 1203.687 - img2attrib: 13.324\n",
      "Epoch [65/1000]...  ...51.495(s)  ss: 5.249 - img2img: 549.336 - attrib2attrib: 74.592 - attrib2img: 1203.762 - img2attrib: 13.286\n",
      "Epoch [66/1000]...  ...51.372(s)  ss: 5.237 - img2img: 549.659 - attrib2attrib: 74.860 - attrib2img: 1203.174 - img2attrib: 13.284\n",
      "Epoch [67/1000]...  ...51.449(s)  ss: 5.248 - img2img: 550.692 - attrib2attrib: 74.983 - attrib2img: 1204.246 - img2attrib: 13.294\n",
      "Epoch [68/1000]...  ...51.359(s)  ss: 5.279 - img2img: 549.955 - attrib2attrib: 74.601 - attrib2img: 1204.292 - img2attrib: 13.330\n",
      "Epoch [69/1000]...  ...50.341(s)  ss: 5.287 - img2img: 550.373 - attrib2attrib: 74.533 - attrib2img: 1204.153 - img2attrib: 13.335\n",
      "Epoch [70/1000]...  ...49.368(s)  ss: 5.288 - img2img: 550.974 - attrib2attrib: 74.581 - attrib2img: 1204.338 - img2attrib: 13.365\n",
      "Epoch [71/1000]...  ...49.677(s)  ss: 5.300 - img2img: 551.531 - attrib2attrib: 74.076 - attrib2img: 1203.608 - img2attrib: 13.340\n",
      "Epoch [72/1000]...  ...51.334(s)  ss: 5.319 - img2img: 551.989 - attrib2attrib: 73.770 - attrib2img: 1203.373 - img2attrib: 13.350\n",
      "Epoch [73/1000]...  ...51.395(s)  ss: 5.323 - img2img: 552.024 - attrib2attrib: 73.677 - attrib2img: 1204.337 - img2attrib: 13.355\n",
      "Epoch [74/1000]...  ...49.943(s)  ss: 5.310 - img2img: 552.634 - attrib2attrib: 73.705 - attrib2img: 1204.015 - img2attrib: 13.356\n",
      "Epoch [75/1000]...  ...49.380(s)  ss: 5.281 - img2img: 551.920 - attrib2attrib: 73.973 - attrib2img: 1204.236 - img2attrib: 13.342\n",
      "Epoch [76/1000]...  ...49.438(s)  ss: 5.254 - img2img: 553.070 - attrib2attrib: 74.088 - attrib2img: 1203.369 - img2attrib: 13.330\n",
      "Epoch [77/1000]...  ...49.372(s)  ss: 5.231 - img2img: 554.722 - attrib2attrib: 74.611 - attrib2img: 1204.380 - img2attrib: 13.363\n",
      "Epoch [78/1000]...  ...49.321(s)  ss: 5.212 - img2img: 554.136 - attrib2attrib: 74.872 - attrib2img: 1203.610 - img2attrib: 13.407\n",
      "Epoch [79/1000]...  ...51.276(s)  ss: 5.222 - img2img: 554.262 - attrib2attrib: 74.966 - attrib2img: 1203.869 - img2attrib: 13.407\n",
      "Epoch [80/1000]...  ...51.552(s)  ss: 5.243 - img2img: 553.302 - attrib2attrib: 74.874 - attrib2img: 1204.240 - img2attrib: 13.406\n",
      "Epoch [81/1000]...  ...51.439(s)  ss: 5.258 - img2img: 551.521 - attrib2attrib: 74.741 - attrib2img: 1203.961 - img2attrib: 13.404\n",
      "Epoch [82/1000]...  ...51.418(s)  ss: 5.270 - img2img: 550.594 - attrib2attrib: 74.789 - attrib2img: 1203.624 - img2attrib: 13.426\n",
      "Epoch [83/1000]...  ...51.715(s)  ss: 5.266 - img2img: 551.210 - attrib2attrib: 74.814 - attrib2img: 1203.734 - img2attrib: 13.409\n",
      "Epoch [84/1000]...  ...51.479(s)  ss: 5.262 - img2img: 551.504 - attrib2attrib: 74.902 - attrib2img: 1204.310 - img2attrib: 13.405\n",
      "Epoch [85/1000]...  ...51.526(s)  ss: 5.262 - img2img: 552.176 - attrib2attrib: 74.989 - attrib2img: 1204.503 - img2attrib: 13.457\n",
      "Epoch [86/1000]...  ...50.824(s)  ss: 5.286 - img2img: 552.559 - attrib2attrib: 74.398 - attrib2img: 1203.732 - img2attrib: 13.449\n",
      "Epoch [87/1000]...  ...50.902(s)  ss: 5.302 - img2img: 552.150 - attrib2attrib: 74.104 - attrib2img: 1203.871 - img2attrib: 13.432\n",
      "Epoch [88/1000]...  ...50.037(s)  ss: 5.367 - img2img: 554.329 - attrib2attrib: 73.005 - attrib2img: 1204.508 - img2attrib: 13.451\n",
      "Epoch [89/1000]...  ...49.240(s)  ss: 5.424 - img2img: 554.015 - attrib2attrib: 71.863 - attrib2img: 1203.770 - img2attrib: 13.418\n",
      "Epoch [90/1000]...  ...49.575(s)  ss: 5.453 - img2img: 553.400 - attrib2attrib: 71.623 - attrib2img: 1205.056 - img2attrib: 13.448\n",
      "Epoch [91/1000]...  ...50.929(s)  ss: 5.499 - img2img: 551.407 - attrib2attrib: 71.108 - attrib2img: 1204.676 - img2attrib: 13.464\n",
      "Epoch [92/1000]...  ...50.977(s)  ss: 5.558 - img2img: 551.423 - attrib2attrib: 70.353 - attrib2img: 1204.086 - img2attrib: 13.476\n",
      "Epoch [93/1000]...  ...50.899(s)  ss: 5.620 - img2img: 550.466 - attrib2attrib: 69.523 - attrib2img: 1205.680 - img2attrib: 13.492\n",
      "Epoch [94/1000]...  ...50.869(s)  ss: 5.651 - img2img: 550.845 - attrib2attrib: 69.049 - attrib2img: 1204.666 - img2attrib: 13.504\n",
      "Epoch [95/1000]...  ...50.812(s)  ss: 5.670 - img2img: 549.741 - attrib2attrib: 68.775 - attrib2img: 1205.145 - img2attrib: 13.504\n",
      "Epoch [96/1000]...  ...50.886(s)  ss: 5.704 - img2img: 547.382 - attrib2attrib: 68.648 - attrib2img: 1205.276 - img2attrib: 13.495\n",
      "Epoch [97/1000]...  ...50.938(s)  ss: 5.761 - img2img: 546.122 - attrib2attrib: 67.894 - attrib2img: 1205.213 - img2attrib: 13.479\n",
      "Epoch [98/1000]...  ...50.780(s)  ss: 5.787 - img2img: 546.279 - attrib2attrib: 67.328 - attrib2img: 1204.095 - img2attrib: 13.452\n",
      "Epoch [99/1000]...  ...50.876(s)  ss: 5.771 - img2img: 545.913 - attrib2attrib: 67.927 - attrib2img: 1204.218 - img2attrib: 13.446\n",
      "Epoch [100/1000]... ...50.903(s)  ss: 5.758 - img2img: 546.647 - attrib2attrib: 68.157 - attrib2img: 1204.482 - img2attrib: 13.445\n",
      "checkpointing at epoch: 100\n",
      "Epoch [101/1000]... ...50.912(s)  ss: 5.747 - img2img: 545.924 - attrib2attrib: 68.567 - attrib2img: 1204.977 - img2attrib: 13.412\n",
      "Epoch [102/1000]... ...50.827(s)  ss: 5.714 - img2img: 546.316 - attrib2attrib: 69.136 - attrib2img: 1203.057 - img2attrib: 13.407\n",
      "Epoch [103/1000]... ...50.928(s)  ss: 5.702 - img2img: 545.659 - attrib2attrib: 69.337 - attrib2img: 1203.832 - img2attrib: 13.417\n",
      "Epoch [104/1000]... ...50.891(s)  ss: 5.692 - img2img: 547.342 - attrib2attrib: 69.770 - attrib2img: 1203.941 - img2attrib: 13.415\n",
      "Epoch [105/1000]... ...50.768(s)  ss: 5.686 - img2img: 548.212 - attrib2attrib: 69.876 - attrib2img: 1204.240 - img2attrib: 13.401\n",
      "Epoch [106/1000]... ...50.794(s)  ss: 5.670 - img2img: 550.281 - attrib2attrib: 70.412 - attrib2img: 1204.192 - img2attrib: 13.441\n",
      "Epoch [107/1000]... ...51.371(s)  ss: 5.668 - img2img: 550.759 - attrib2attrib: 70.568 - attrib2img: 1203.994 - img2attrib: 13.474\n",
      "Epoch [108/1000]... ...51.372(s)  ss: 5.620 - img2img: 550.847 - attrib2attrib: 71.608 - attrib2img: 1204.218 - img2attrib: 13.469\n",
      "Epoch [109/1000]... ...51.372(s)  ss: 5.594 - img2img: 550.716 - attrib2attrib: 72.405 - attrib2img: 1203.834 - img2attrib: 13.487\n",
      "Epoch [110/1000]... ...51.578(s)  ss: 5.611 - img2img: 550.318 - attrib2attrib: 72.401 - attrib2img: 1203.817 - img2attrib: 13.464\n",
      "Epoch [111/1000]... ...51.398(s)  ss: 5.592 - img2img: 548.900 - attrib2attrib: 72.644 - attrib2img: 1203.930 - img2attrib: 13.482\n",
      "Epoch [112/1000]... ...51.451(s)  ss: 5.613 - img2img: 548.393 - attrib2attrib: 71.976 - attrib2img: 1204.392 - img2attrib: 13.473\n",
      "Epoch [113/1000]... ...51.454(s)  ss: 5.624 - img2img: 548.734 - attrib2attrib: 71.726 - attrib2img: 1204.106 - img2attrib: 13.485\n",
      "Epoch [114/1000]... ...51.476(s)  ss: 5.603 - img2img: 546.873 - attrib2attrib: 72.360 - attrib2img: 1204.301 - img2attrib: 13.478\n",
      "Epoch [115/1000]... ...51.543(s)  ss: 5.590 - img2img: 547.765 - attrib2attrib: 72.150 - attrib2img: 1203.742 - img2attrib: 13.502\n",
      "Epoch [116/1000]... ...51.424(s)  ss: 5.613 - img2img: 545.775 - attrib2attrib: 71.605 - attrib2img: 1203.340 - img2attrib: 13.490\n",
      "Epoch [117/1000]... ...51.546(s)  ss: 5.621 - img2img: 545.830 - attrib2attrib: 71.569 - attrib2img: 1203.529 - img2attrib: 13.522\n",
      "Epoch [118/1000]... ...51.448(s)  ss: 5.641 - img2img: 545.544 - attrib2attrib: 71.017 - attrib2img: 1204.116 - img2attrib: 13.585\n",
      "Epoch [119/1000]... ...51.588(s)  ss: 5.669 - img2img: 546.598 - attrib2attrib: 70.420 - attrib2img: 1205.696 - img2attrib: 13.613\n",
      "Epoch [120/1000]... ...51.311(s)  ss: 5.689 - img2img: 546.016 - attrib2attrib: 69.887 - attrib2img: 1204.429 - img2attrib: 13.630\n",
      "Epoch [121/1000]... ...50.256(s)  ss: 5.731 - img2img: 546.148 - attrib2attrib: 69.188 - attrib2img: 1204.460 - img2attrib: 13.672\n",
      "Epoch [122/1000]... ...50.444(s)  ss: 5.786 - img2img: 546.859 - attrib2attrib: 68.437 - attrib2img: 1204.063 - img2attrib: 13.708\n",
      "Epoch [123/1000]... ...50.400(s)  ss: 5.823 - img2img: 547.037 - attrib2attrib: 67.965 - attrib2img: 1203.440 - img2attrib: 13.727\n",
      "Epoch [124/1000]... ...50.470(s)  ss: 5.853 - img2img: 549.668 - attrib2attrib: 67.639 - attrib2img: 1203.701 - img2attrib: 13.821\n",
      "Epoch [125/1000]... ...50.214(s)  ss: 5.893 - img2img: 548.727 - attrib2attrib: 66.809 - attrib2img: 1204.186 - img2attrib: 13.783\n"
     ]
    },
    {
     "name": "stdout",
     "output_type": "stream",
     "text": [
      "Epoch [126/1000]... ...51.356(s)  ss: 5.914 - img2img: 550.235 - attrib2attrib: 66.356 - attrib2img: 1202.641 - img2attrib: 13.768\n",
      "Epoch [127/1000]... ...51.394(s)  ss: 5.937 - img2img: 550.764 - attrib2attrib: 66.467 - attrib2img: 1203.521 - img2attrib: 13.749\n",
      "Epoch [128/1000]... ...51.302(s)  ss: 5.937 - img2img: 550.502 - attrib2attrib: 66.534 - attrib2img: 1202.412 - img2attrib: 13.812\n",
      "Epoch [129/1000]... ...51.521(s)  ss: 5.935 - img2img: 549.423 - attrib2attrib: 66.904 - attrib2img: 1202.492 - img2attrib: 13.862\n",
      "Epoch [130/1000]... ...51.459(s)  ss: 5.936 - img2img: 548.063 - attrib2attrib: 67.109 - attrib2img: 1201.800 - img2attrib: 13.868\n",
      "Epoch [131/1000]... ...51.366(s)  ss: 5.912 - img2img: 547.021 - attrib2attrib: 67.803 - attrib2img: 1202.458 - img2attrib: 13.901\n",
      "Epoch [132/1000]... ...51.458(s)  ss: 5.896 - img2img: 548.925 - attrib2attrib: 67.873 - attrib2img: 1201.650 - img2attrib: 13.944\n",
      "Epoch [133/1000]... ...49.718(s)  ss: 5.908 - img2img: 550.072 - attrib2attrib: 68.212 - attrib2img: 1201.654 - img2attrib: 14.024\n",
      "Epoch [134/1000]... ...49.389(s)  ss: 5.895 - img2img: 550.600 - attrib2attrib: 68.739 - attrib2img: 1201.808 - img2attrib: 14.029\n",
      "Epoch [135/1000]... ...50.247(s)  ss: 5.894 - img2img: 552.298 - attrib2attrib: 69.484 - attrib2img: 1202.227 - img2attrib: 14.100\n",
      "Epoch [136/1000]... ...51.349(s)  ss: 5.889 - img2img: 552.544 - attrib2attrib: 70.121 - attrib2img: 1202.176 - img2attrib: 14.160\n",
      "Epoch [137/1000]... ...51.487(s)  ss: 5.860 - img2img: 551.496 - attrib2attrib: 70.650 - attrib2img: 1201.870 - img2attrib: 14.140\n",
      "Epoch [138/1000]... ...51.327(s)  ss: 5.860 - img2img: 548.481 - attrib2attrib: 70.137 - attrib2img: 1202.430 - img2attrib: 14.121\n",
      "Epoch [139/1000]... ...51.373(s)  ss: 5.856 - img2img: 549.194 - attrib2attrib: 69.964 - attrib2img: 1201.998 - img2attrib: 14.138\n",
      "Epoch [140/1000]... ...49.966(s)  ss: 5.844 - img2img: 550.581 - attrib2attrib: 70.130 - attrib2img: 1200.882 - img2attrib: 14.169\n",
      "Epoch [141/1000]... ...49.440(s)  ss: 5.808 - img2img: 551.127 - attrib2attrib: 70.422 - attrib2img: 1201.934 - img2attrib: 14.178\n",
      "Epoch [142/1000]... ...50.135(s)  ss: 5.766 - img2img: 550.676 - attrib2attrib: 71.106 - attrib2img: 1201.252 - img2attrib: 14.142\n",
      "Epoch [143/1000]... ...51.362(s)  ss: 5.747 - img2img: 553.234 - attrib2attrib: 71.442 - attrib2img: 1200.128 - img2attrib: 14.177\n",
      "Epoch [144/1000]... ...51.349(s)  ss: 5.746 - img2img: 550.985 - attrib2attrib: 71.668 - attrib2img: 1201.701 - img2attrib: 14.178\n",
      "Epoch [145/1000]... ...51.567(s)  ss: 5.669 - img2img: 602.432 - attrib2attrib: 72.455 - attrib2img: 1202.054 - img2attrib: 14.174\n",
      "Epoch [146/1000]... ...51.429(s)  ss: 5.609 - img2img: 630.166 - attrib2attrib: 73.091 - attrib2img: 1200.656 - img2attrib: 14.095\n",
      "Epoch [147/1000]... ...50.106(s)  ss: 5.589 - img2img: 615.883 - attrib2attrib: 73.549 - attrib2img: 1201.184 - img2attrib: 14.045\n",
      "Epoch [148/1000]... ...49.379(s)  ss: 5.580 - img2img: 595.347 - attrib2attrib: 74.069 - attrib2img: 1201.052 - img2attrib: 14.022\n",
      "Epoch [149/1000]... ...49.949(s)  ss: 5.578 - img2img: 574.238 - attrib2attrib: 73.841 - attrib2img: 1201.964 - img2attrib: 13.984\n",
      "Epoch [150/1000]... ...51.534(s)  ss: 5.569 - img2img: 563.392 - attrib2attrib: 74.104 - attrib2img: 1201.461 - img2attrib: 13.939\n",
      "Epoch [151/1000]... ...51.562(s)  ss: 5.586 - img2img: 557.781 - attrib2attrib: 74.086 - attrib2img: 1201.915 - img2attrib: 13.932\n",
      "Epoch [152/1000]... ...51.443(s)  ss: 5.534 - img2img: 559.485 - attrib2attrib: 74.937 - attrib2img: 1201.456 - img2attrib: 13.937\n",
      "Epoch [153/1000]... ...51.403(s)  ss: 5.504 - img2img: 558.577 - attrib2attrib: 75.553 - attrib2img: 1202.081 - img2attrib: 13.952\n",
      "Epoch [154/1000]... ...50.261(s)  ss: 5.480 - img2img: 557.403 - attrib2attrib: 76.300 - attrib2img: 1200.994 - img2attrib: 13.949\n",
      "Epoch [155/1000]... ...49.404(s)  ss: 5.469 - img2img: 557.196 - attrib2attrib: 76.913 - attrib2img: 1201.926 - img2attrib: 13.972\n",
      "Epoch [156/1000]... ...49.471(s)  ss: 5.448 - img2img: 560.257 - attrib2attrib: 77.410 - attrib2img: 1201.165 - img2attrib: 13.972\n",
      "Epoch [157/1000]... ...49.423(s)  ss: 5.385 - img2img: 562.640 - attrib2attrib: 78.675 - attrib2img: 1200.106 - img2attrib: 13.958\n",
      "Epoch [158/1000]... ...49.388(s)  ss: 5.341 - img2img: 560.301 - attrib2attrib: 79.560 - attrib2img: 1200.836 - img2attrib: 13.941\n",
      "Epoch [159/1000]... ...50.966(s)  ss: 5.329 - img2img: 560.898 - attrib2attrib: 79.794 - attrib2img: 1200.873 - img2attrib: 13.909\n",
      "Epoch [160/1000]... ...51.488(s)  ss: 5.364 - img2img: 562.859 - attrib2attrib: 80.046 - attrib2img: 1200.477 - img2attrib: 13.959\n",
      "Epoch [161/1000]... ...51.488(s)  ss: 5.351 - img2img: 565.902 - attrib2attrib: 80.102 - attrib2img: 1199.659 - img2attrib: 13.968\n",
      "Epoch [162/1000]... ...51.481(s)  ss: 5.345 - img2img: 567.676 - attrib2attrib: 80.249 - attrib2img: 1200.931 - img2attrib: 13.973\n",
      "Epoch [163/1000]... ...51.578(s)  ss: 5.305 - img2img: 568.434 - attrib2attrib: 80.537 - attrib2img: 1200.169 - img2attrib: 13.917\n",
      "Epoch [164/1000]... ...51.554(s)  ss: 5.271 - img2img: 570.024 - attrib2attrib: 81.250 - attrib2img: 1201.127 - img2attrib: 13.896\n",
      "Epoch [165/1000]... ...51.429(s)  ss: 5.254 - img2img: 570.896 - attrib2attrib: 81.538 - attrib2img: 1200.005 - img2attrib: 13.885\n",
      "Epoch [166/1000]... ...50.674(s)  ss: 5.251 - img2img: 572.121 - attrib2attrib: 81.570 - attrib2img: 1201.215 - img2attrib: 13.861\n",
      "Epoch [167/1000]... ...50.348(s)  ss: 5.227 - img2img: 574.750 - attrib2attrib: 81.718 - attrib2img: 1202.329 - img2attrib: 13.901\n",
      "Epoch [168/1000]... ...50.529(s)  ss: 5.217 - img2img: 578.684 - attrib2attrib: 82.438 - attrib2img: 1201.931 - img2attrib: 13.976\n",
      "Epoch [169/1000]... ...49.293(s)  ss: 5.200 - img2img: 580.356 - attrib2attrib: 82.588 - attrib2img: 1202.202 - img2attrib: 13.992\n",
      "Epoch [170/1000]... ...49.276(s)  ss: 5.175 - img2img: 578.397 - attrib2attrib: 83.178 - attrib2img: 1202.709 - img2attrib: 13.968\n",
      "Epoch [171/1000]... ...51.115(s)  ss: 5.146 - img2img: 576.624 - attrib2attrib: 83.727 - attrib2img: 1203.086 - img2attrib: 13.960\n",
      "Epoch [172/1000]... ...51.254(s)  ss: 5.113 - img2img: 580.881 - attrib2attrib: 84.250 - attrib2img: 1202.351 - img2attrib: 13.932\n",
      "Epoch [173/1000]... ...51.128(s)  ss: 5.084 - img2img: 582.221 - attrib2attrib: 84.717 - attrib2img: 1201.483 - img2attrib: 13.932\n",
      "Epoch [174/1000]... ...51.194(s)  ss: 5.071 - img2img: 581.922 - attrib2attrib: 85.001 - attrib2img: 1202.544 - img2attrib: 13.916\n",
      "Epoch [175/1000]... ...51.313(s)  ss: 5.058 - img2img: 581.716 - attrib2attrib: 85.785 - attrib2img: 1202.171 - img2attrib: 13.886\n",
      "Epoch [176/1000]... ...51.210(s)  ss: 5.059 - img2img: 582.622 - attrib2attrib: 85.279 - attrib2img: 1202.167 - img2attrib: 13.850\n",
      "Epoch [177/1000]... ...51.121(s)  ss: 5.074 - img2img: 586.220 - attrib2attrib: 84.936 - attrib2img: 1201.647 - img2attrib: 13.911\n",
      "Epoch [178/1000]... ...51.179(s)  ss: 5.064 - img2img: 585.988 - attrib2attrib: 85.979 - attrib2img: 1202.307 - img2attrib: 13.867\n",
      "Epoch [179/1000]... ...51.135(s)  ss: 5.073 - img2img: 588.246 - attrib2attrib: 84.495 - attrib2img: 1203.001 - img2attrib: 13.843\n",
      "Epoch [180/1000]... ...51.129(s)  ss: 5.086 - img2img: 589.794 - attrib2attrib: 83.892 - attrib2img: 1203.023 - img2attrib: 13.852\n",
      "Epoch [181/1000]... ...51.245(s)  ss: 5.108 - img2img: 590.688 - attrib2attrib: 83.241 - attrib2img: 1203.172 - img2attrib: 13.869\n",
      "Epoch [182/1000]... ...51.028(s)  ss: 5.053 - img2img: 590.868 - attrib2attrib: 83.737 - attrib2img: 1202.361 - img2attrib: 13.861\n",
      "Epoch [183/1000]... ...51.223(s)  ss: 5.011 - img2img: 588.798 - attrib2attrib: 85.026 - attrib2img: 1202.472 - img2attrib: 13.845\n",
      "Epoch [184/1000]... ...51.138(s)  ss: 4.987 - img2img: 590.697 - attrib2attrib: 85.823 - attrib2img: 1201.801 - img2attrib: 13.838\n",
      "Epoch [185/1000]... ...51.222(s)  ss: 4.971 - img2img: 593.295 - attrib2attrib: 86.479 - attrib2img: 1201.858 - img2attrib: 13.870\n",
      "Epoch [186/1000]... ...51.151(s)  ss: 4.964 - img2img: 594.384 - attrib2attrib: 87.895 - attrib2img: 1202.628 - img2attrib: 14.000\n",
      "Epoch [187/1000]... ...50.390(s)  ss: 4.913 - img2img: 593.744 - attrib2attrib: 88.917 - attrib2img: 1201.436 - img2attrib: 14.026\n",
      "Epoch [188/1000]... ...49.368(s)  ss: 4.931 - img2img: 598.854 - attrib2attrib: 88.871 - attrib2img: 1202.346 - img2attrib: 14.024\n"
     ]
    },
    {
     "name": "stdout",
     "output_type": "stream",
     "text": [
      "Epoch [189/1000]... ...49.383(s)  ss: 4.931 - img2img: 615.606 - attrib2attrib: 89.344 - attrib2img: 1202.094 - img2attrib: 14.009\n",
      "Epoch [190/1000]... ...49.372(s)  ss: 4.913 - img2img: 627.471 - attrib2attrib: 90.020 - attrib2img: 1201.042 - img2attrib: 13.994\n",
      "Epoch [191/1000]... ...49.359(s)  ss: 4.906 - img2img: 629.899 - attrib2attrib: 90.509 - attrib2img: 1200.837 - img2attrib: 13.957\n",
      "Epoch [192/1000]... ...49.794(s)  ss: 4.915 - img2img: 625.106 - attrib2attrib: 91.031 - attrib2img: 1202.504 - img2attrib: 13.974\n",
      "Epoch [193/1000]... ...50.818(s)  ss: 4.896 - img2img: 619.078 - attrib2attrib: 91.286 - attrib2img: 1200.903 - img2attrib: 14.047\n",
      "Epoch [194/1000]... ...50.886(s)  ss: 4.876 - img2img: 629.623 - attrib2attrib: 92.081 - attrib2img: 1201.622 - img2attrib: 14.433\n",
      "Epoch [195/1000]... ...50.659(s)  ss: 4.803 - img2img: 620.714 - attrib2attrib: 92.826 - attrib2img: 1201.790 - img2attrib: 14.319\n",
      "Epoch [196/1000]... ...50.819(s)  ss: 4.793 - img2img: 619.566 - attrib2attrib: 93.682 - attrib2img: 1201.867 - img2attrib: 14.217\n",
      "Epoch [197/1000]... ...50.845(s)  ss: 4.887 - img2img: 648.999 - attrib2attrib: 92.433 - attrib2img: 1203.503 - img2attrib: 14.245\n",
      "Epoch [198/1000]... ...50.946(s)  ss: 4.785 - img2img: 670.135 - attrib2attrib: 93.007 - attrib2img: 1203.644 - img2attrib: 14.190\n",
      "Epoch [199/1000]... ...50.859(s)  ss: 4.838 - img2img: 677.825 - attrib2attrib: 92.287 - attrib2img: 1202.587 - img2attrib: 14.180\n",
      "Epoch [200/1000]... ...50.876(s)  ss: 4.782 - img2img: 653.558 - attrib2attrib: 96.249 - attrib2img: 1202.545 - img2attrib: 14.172\n",
      "checkpointing at epoch: 200\n",
      "Epoch [201/1000]... ...50.839(s)  ss: 4.568 - img2img: 644.650 - attrib2attrib: 109.411 - attrib2img: 1202.729 - img2attrib: 14.132\n",
      "Epoch [202/1000]... ...50.852(s)  ss: 4.513 - img2img: 641.540 - attrib2attrib: 111.169 - attrib2img: 1202.613 - img2attrib: 14.121\n",
      "Epoch [203/1000]... ...50.801(s)  ss: 4.427 - img2img: 633.438 - attrib2attrib: 113.833 - attrib2img: 1200.304 - img2attrib: 14.102\n",
      "Epoch [204/1000]... ...50.963(s)  ss: 4.452 - img2img: 626.652 - attrib2attrib: 110.622 - attrib2img: 1201.915 - img2attrib: 14.086\n",
      "Epoch [205/1000]... ...50.713(s)  ss: 4.526 - img2img: 634.719 - attrib2attrib: 105.009 - attrib2img: 1204.599 - img2attrib: 14.099\n",
      "Epoch [206/1000]... ...51.020(s)  ss: 4.603 - img2img: 651.316 - attrib2attrib: 99.602 - attrib2img: 1205.223 - img2attrib: 14.070\n",
      "Epoch [207/1000]... ...50.818(s)  ss: 4.674 - img2img: 648.832 - attrib2attrib: 95.591 - attrib2img: 1205.643 - img2attrib: 14.072\n",
      "Epoch [208/1000]... ...51.050(s)  ss: 4.745 - img2img: 666.628 - attrib2attrib: 90.886 - attrib2img: 1206.162 - img2attrib: 13.970\n",
      "Epoch [209/1000]... ...50.765(s)  ss: 4.836 - img2img: 724.390 - attrib2attrib: 88.321 - attrib2img: 1205.275 - img2attrib: 14.020\n",
      "Epoch [210/1000]... ...50.853(s)  ss: 4.895 - img2img: 760.278 - attrib2attrib: 86.218 - attrib2img: 1204.936 - img2attrib: 14.180\n",
      "Epoch [211/1000]... ...50.849(s)  ss: 4.996 - img2img: 746.029 - attrib2attrib: 83.874 - attrib2img: 1205.511 - img2attrib: 14.143\n",
      "Epoch [212/1000]... ...50.779(s)  ss: 4.996 - img2img: 703.672 - attrib2attrib: 83.435 - attrib2img: 1204.451 - img2attrib: 13.995\n",
      "Epoch [213/1000]... ...50.976(s)  ss: 4.989 - img2img: 697.039 - attrib2attrib: 88.633 - attrib2img: 1204.037 - img2attrib: 13.955\n",
      "Epoch [214/1000]... ...50.679(s)  ss: 4.644 - img2img: 680.662 - attrib2attrib: 97.841 - attrib2img: 1200.972 - img2attrib: 13.902\n",
      "Epoch [215/1000]... ...50.725(s)  ss: 4.657 - img2img: 691.090 - attrib2attrib: 96.713 - attrib2img: 1203.884 - img2attrib: 13.866\n",
      "Epoch [216/1000]... ...50.860(s)  ss: 4.742 - img2img: 704.222 - attrib2attrib: 92.310 - attrib2img: 1205.357 - img2attrib: 13.883\n",
      "Epoch [217/1000]... ...51.295(s)  ss: 4.935 - img2img: 724.232 - attrib2attrib: 332.233 - attrib2img: 1206.986 - img2attrib: 13.901\n",
      "Epoch [218/1000]... ...51.622(s)  ss: 3.946 - img2img: 765.755 - attrib2attrib: 158.331 - attrib2img: 1196.128 - img2attrib: 13.871\n",
      "Epoch [219/1000]... ...51.300(s)  ss: 3.846 - img2img: 797.974 - attrib2attrib: 180.932 - attrib2img: 1196.265 - img2attrib: 14.053\n",
      "Epoch [220/1000]... ...51.299(s)  ss: 3.873 - img2img: 803.135 - attrib2attrib: 189.827 - attrib2img: 1196.600 - img2attrib: 14.188\n",
      "Epoch [221/1000]... ...51.378(s)  ss: 3.749 - img2img: 736.118 - attrib2attrib: 197.274 - attrib2img: 1196.682 - img2attrib: 14.189\n",
      "Epoch [222/1000]... ...51.418(s)  ss: 3.607 - img2img: 677.943 - attrib2attrib: 201.414 - attrib2img: 1197.517 - img2attrib: 14.059\n",
      "Epoch [223/1000]... ...51.443(s)  ss: 3.608 - img2img: 671.236 - attrib2attrib: 197.596 - attrib2img: 1199.384 - img2attrib: 14.144\n",
      "Epoch [224/1000]... ...51.259(s)  ss: 3.601 - img2img: 662.459 - attrib2attrib: 188.282 - attrib2img: 1200.266 - img2attrib: 14.144\n",
      "Epoch [225/1000]... ...51.517(s)  ss: 3.585 - img2img: 656.286 - attrib2attrib: 182.788 - attrib2img: 1200.894 - img2attrib: 14.162\n",
      "Epoch [226/1000]... ...51.310(s)  ss: 3.794 - img2img: 667.632 - attrib2attrib: 175.002 - attrib2img: 1203.165 - img2attrib: 14.228\n",
      "Epoch [227/1000]... ...51.451(s)  ss: 3.827 - img2img: 697.000 - attrib2attrib: 164.509 - attrib2img: 1203.162 - img2attrib: 14.584\n",
      "Epoch [228/1000]... ...50.477(s)  ss: 3.877 - img2img: 733.605 - attrib2attrib: 149.132 - attrib2img: 1203.583 - img2attrib: 14.485\n",
      "Epoch [229/1000]... ...50.215(s)  ss: 3.973 - img2img: 765.816 - attrib2attrib: 137.618 - attrib2img: 1203.528 - img2attrib: 14.527\n",
      "Epoch [230/1000]... ...50.298(s)  ss: 4.054 - img2img: 789.157 - attrib2attrib: 129.925 - attrib2img: 1203.149 - img2attrib: 14.476\n",
      "Epoch [231/1000]... ...50.196(s)  ss: 4.195 - img2img: 776.946 - attrib2attrib: 120.653 - attrib2img: 1204.754 - img2attrib: 14.435\n",
      "Epoch [232/1000]... ...50.396(s)  ss: 4.183 - img2img: 771.837 - attrib2attrib: 114.527 - attrib2img: 1203.202 - img2attrib: 14.392\n",
      "Epoch [233/1000]... ...50.349(s)  ss: 4.344 - img2img: 755.372 - attrib2attrib: 108.942 - attrib2img: 1203.594 - img2attrib: 14.469\n",
      "Epoch [234/1000]... ...50.620(s)  ss: 4.421 - img2img: 698.918 - attrib2attrib: 107.186 - attrib2img: 1203.594 - img2attrib: 14.382\n",
      "Epoch [235/1000]... ...50.484(s)  ss: 4.441 - img2img: 659.010 - attrib2attrib: 104.319 - attrib2img: 1203.794 - img2attrib: 14.395\n",
      "Epoch [236/1000]... ...50.365(s)  ss: 4.574 - img2img: 659.487 - attrib2attrib: 101.175 - attrib2img: 1203.344 - img2attrib: 14.401\n",
      "Epoch [237/1000]... ...50.268(s)  ss: 4.808 - img2img: 668.512 - attrib2attrib: 98.167 - attrib2img: 1203.449 - img2attrib: 14.564\n",
      "Epoch [238/1000]... ...50.351(s)  ss: 5.138 - img2img: 660.355 - attrib2attrib: 94.457 - attrib2img: 1203.589 - img2attrib: 14.660\n",
      "Epoch [239/1000]... ...50.533(s)  ss: 5.071 - img2img: 632.265 - attrib2attrib: 93.930 - attrib2img: 1202.411 - img2attrib: 14.528\n",
      "Epoch [240/1000]... ...50.588(s)  ss: 5.096 - img2img: 675.516 - attrib2attrib: 93.593 - attrib2img: 1201.962 - img2attrib: 14.390\n",
      "Epoch [241/1000]... ...50.537(s)  ss: 4.960 - img2img: 702.485 - attrib2attrib: 94.371 - attrib2img: 1200.956 - img2attrib: 14.309\n",
      "Epoch [242/1000]... ...50.552(s)  ss: 4.937 - img2img: 714.971 - attrib2attrib: 94.779 - attrib2img: 1201.612 - img2attrib: 14.242\n",
      "Epoch [243/1000]... ...50.430(s)  ss: 4.860 - img2img: 734.194 - attrib2attrib: 96.293 - attrib2img: 1201.422 - img2attrib: 14.174\n",
      "Epoch [244/1000]... ...50.526(s)  ss: 4.831 - img2img: 768.043 - attrib2attrib: 97.236 - attrib2img: 1201.594 - img2attrib: 14.097\n",
      "Epoch [245/1000]... ...50.576(s)  ss: 4.900 - img2img: 820.550 - attrib2attrib: 97.026 - attrib2img: 1201.700 - img2attrib: 14.121\n",
      "Epoch [246/1000]... ...50.392(s)  ss: 4.880 - img2img: 837.767 - attrib2attrib: 97.737 - attrib2img: 1201.308 - img2attrib: 14.177\n",
      "Epoch [247/1000]... ...50.430(s)  ss: 4.853 - img2img: 856.090 - attrib2attrib: 97.466 - attrib2img: 1200.491 - img2attrib: 14.134\n",
      "Epoch [248/1000]... ...50.462(s)  ss: 4.835 - img2img: 820.279 - attrib2attrib: 97.882 - attrib2img: 1202.502 - img2attrib: 14.086\n",
      "Epoch [249/1000]... ...50.492(s)  ss: 4.813 - img2img: 753.780 - attrib2attrib: 98.447 - attrib2img: 1200.585 - img2attrib: 14.117\n",
      "Epoch [250/1000]... ...50.460(s)  ss: 4.806 - img2img: 672.877 - attrib2attrib: 97.912 - attrib2img: 1200.960 - img2attrib: 14.123\n"
     ]
    },
    {
     "name": "stdout",
     "output_type": "stream",
     "text": [
      "Epoch [251/1000]... ...50.452(s)  ss: 4.853 - img2img: 656.648 - attrib2attrib: 98.153 - attrib2img: 1200.899 - img2attrib: 14.205\n",
      "Epoch [252/1000]... ...50.262(s)  ss: 4.920 - img2img: 630.369 - attrib2attrib: 98.535 - attrib2img: 1201.555 - img2attrib: 14.333\n",
      "Epoch [253/1000]... ...50.256(s)  ss: 4.936 - img2img: 630.244 - attrib2attrib: 99.080 - attrib2img: 1200.979 - img2attrib: 14.427\n",
      "Epoch [254/1000]... ...49.238(s)  ss: 4.974 - img2img: 650.302 - attrib2attrib: 99.092 - attrib2img: 1201.192 - img2attrib: 14.634\n",
      "Epoch [255/1000]... ...49.204(s)  ss: 5.099 - img2img: 715.748 - attrib2attrib: 98.952 - attrib2img: 1202.468 - img2attrib: 14.814\n",
      "Epoch [256/1000]... ...50.153(s)  ss: 4.893 - img2img: 666.190 - attrib2attrib: 100.132 - attrib2img: 1200.713 - img2attrib: 14.364\n",
      "Epoch [257/1000]... ...50.348(s)  ss: 5.152 - img2img: 726.225 - attrib2attrib: 98.966 - attrib2img: 1201.607 - img2attrib: 14.711\n",
      "Epoch [258/1000]... ...50.497(s)  ss: 4.870 - img2img: 791.582 - attrib2attrib: 100.456 - attrib2img: 1200.657 - img2attrib: 14.517\n",
      "Epoch [259/1000]... ...50.474(s)  ss: 4.922 - img2img: 912.842 - attrib2attrib: 100.349 - attrib2img: 1201.490 - img2attrib: 14.531\n",
      "Epoch [260/1000]... ...50.398(s)  ss: 4.894 - img2img: 854.468 - attrib2attrib: 100.971 - attrib2img: 1201.487 - img2attrib: 14.584\n",
      "Epoch [261/1000]... ...50.385(s)  ss: 4.873 - img2img: 802.711 - attrib2attrib: 101.703 - attrib2img: 1201.208 - img2attrib: 14.507\n",
      "Epoch [262/1000]... ...50.325(s)  ss: 4.877 - img2img: 767.229 - attrib2attrib: 102.210 - attrib2img: 1201.253 - img2attrib: 14.580\n",
      "Epoch [263/1000]... ...50.413(s)  ss: 4.840 - img2img: 702.623 - attrib2attrib: 103.004 - attrib2img: 1200.882 - img2attrib: 14.526\n",
      "Epoch [264/1000]... ...50.255(s)  ss: 4.960 - img2img: 704.070 - attrib2attrib: 102.885 - attrib2img: 1201.803 - img2attrib: 14.519\n",
      "Epoch [265/1000]... ...50.498(s)  ss: 4.911 - img2img: 672.876 - attrib2attrib: 103.387 - attrib2img: 1202.042 - img2attrib: 14.440\n",
      "Epoch [266/1000]... ...50.423(s)  ss: 4.961 - img2img: 659.584 - attrib2attrib: 104.239 - attrib2img: 1201.901 - img2attrib: 14.375\n",
      "Epoch [267/1000]... ...50.463(s)  ss: 5.206 - img2img: 659.350 - attrib2attrib: 102.650 - attrib2img: 1202.434 - img2attrib: 14.472\n",
      "Epoch [268/1000]... ...50.519(s)  ss: 5.309 - img2img: 668.008 - attrib2attrib: 101.313 - attrib2img: 1202.507 - img2attrib: 14.488\n",
      "Epoch [269/1000]... ...50.741(s)  ss: 5.232 - img2img: 685.509 - attrib2attrib: 101.711 - attrib2img: 1202.353 - img2attrib: 14.541\n",
      "Epoch [270/1000]... ...51.488(s)  ss: 5.058 - img2img: 652.903 - attrib2attrib: 102.294 - attrib2img: 1202.280 - img2attrib: 14.409\n",
      "Epoch [271/1000]... ...51.588(s)  ss: 4.930 - img2img: 627.170 - attrib2attrib: 103.884 - attrib2img: 1202.291 - img2attrib: 14.359\n",
      "Epoch [272/1000]... ...51.525(s)  ss: 4.825 - img2img: 625.612 - attrib2attrib: 106.676 - attrib2img: 1202.730 - img2attrib: 14.373\n",
      "Epoch [273/1000]... ...51.356(s)  ss: 4.809 - img2img: 623.372 - attrib2attrib: 105.805 - attrib2img: 1201.818 - img2attrib: 14.278\n",
      "Epoch [274/1000]... ...51.177(s)  ss: 5.149 - img2img: 663.361 - attrib2attrib: 103.532 - attrib2img: 1202.703 - img2attrib: 14.502\n",
      "Epoch [275/1000]... ...51.154(s)  ss: 4.938 - img2img: 636.914 - attrib2attrib: 104.710 - attrib2img: 1202.443 - img2attrib: 14.413\n",
      "Epoch [276/1000]... ...51.191(s)  ss: 4.911 - img2img: 632.920 - attrib2attrib: 104.753 - attrib2img: 1201.957 - img2attrib: 14.373\n",
      "Epoch [277/1000]... ...51.282(s)  ss: 4.954 - img2img: 630.029 - attrib2attrib: 105.025 - attrib2img: 1201.851 - img2attrib: 14.379\n",
      "Epoch [278/1000]... ...51.241(s)  ss: 4.994 - img2img: 644.768 - attrib2attrib: 104.365 - attrib2img: 1202.362 - img2attrib: 14.368\n",
      "Epoch [279/1000]... ...51.283(s)  ss: 5.106 - img2img: 669.800 - attrib2attrib: 103.607 - attrib2img: 1202.679 - img2attrib: 14.443\n",
      "Epoch [280/1000]... ...51.080(s)  ss: 4.924 - img2img: 619.073 - attrib2attrib: 105.481 - attrib2img: 1202.330 - img2attrib: 14.429\n",
      "Epoch [281/1000]... ...51.138(s)  ss: 4.880 - img2img: 633.874 - attrib2attrib: 106.957 - attrib2img: 1202.416 - img2attrib: 14.465\n",
      "Epoch [282/1000]... ...51.217(s)  ss: 4.898 - img2img: 652.363 - attrib2attrib: 106.828 - attrib2img: 1203.681 - img2attrib: 14.477\n",
      "Epoch [283/1000]... ...51.340(s)  ss: 4.994 - img2img: 678.846 - attrib2attrib: 105.962 - attrib2img: 1202.046 - img2attrib: 14.482\n",
      "Epoch [284/1000]... ...51.192(s)  ss: 4.944 - img2img: 697.224 - attrib2attrib: 108.937 - attrib2img: 1203.225 - img2attrib: 14.479\n",
      "Epoch [285/1000]... ...51.119(s)  ss: 4.782 - img2img: 656.388 - attrib2attrib: 110.426 - attrib2img: 1202.791 - img2attrib: 14.455\n",
      "Epoch [286/1000]... ...51.267(s)  ss: 4.765 - img2img: 638.297 - attrib2attrib: 110.560 - attrib2img: 1201.843 - img2attrib: 14.432\n",
      "Epoch [287/1000]... ...50.517(s)  ss: 4.720 - img2img: 631.534 - attrib2attrib: 113.514 - attrib2img: 1201.471 - img2attrib: 14.421\n",
      "Epoch [288/1000]... ...50.349(s)  ss: 4.802 - img2img: 640.149 - attrib2attrib: 112.457 - attrib2img: 1201.825 - img2attrib: 14.439\n",
      "Epoch [289/1000]... ...49.598(s)  ss: 4.836 - img2img: 675.928 - attrib2attrib: 115.841 - attrib2img: 1201.929 - img2attrib: 14.535\n",
      "Epoch [290/1000]... ...49.211(s)  ss: 4.700 - img2img: 708.468 - attrib2attrib: 118.371 - attrib2img: 1201.532 - img2attrib: 14.410\n",
      "Epoch [291/1000]... ...49.633(s)  ss: 4.730 - img2img: 742.016 - attrib2attrib: 116.481 - attrib2img: 1201.339 - img2attrib: 14.360\n",
      "Epoch [292/1000]... ...50.512(s)  ss: 4.744 - img2img: 758.886 - attrib2attrib: 114.719 - attrib2img: 1201.324 - img2attrib: 14.327\n",
      "Epoch [293/1000]... ...50.476(s)  ss: 4.813 - img2img: 777.875 - attrib2attrib: 113.797 - attrib2img: 1202.223 - img2attrib: 14.341\n",
      "Epoch [294/1000]... ...49.321(s)  ss: 4.848 - img2img: 784.314 - attrib2attrib: 113.167 - attrib2img: 1201.704 - img2attrib: 14.338\n",
      "Epoch [295/1000]... ...49.202(s)  ss: 4.988 - img2img: 795.462 - attrib2attrib: 112.381 - attrib2img: 1201.199 - img2attrib: 14.548\n",
      "Epoch [296/1000]... ...49.809(s)  ss: 5.024 - img2img: 813.526 - attrib2attrib: 111.625 - attrib2img: 1201.074 - img2attrib: 14.605\n",
      "Epoch [297/1000]... ...50.484(s)  ss: 4.879 - img2img: 870.755 - attrib2attrib: 112.328 - attrib2img: 1201.697 - img2attrib: 14.413\n",
      "Epoch [298/1000]... ...51.277(s)  ss: 5.585 - img2img: 1082.819 - attrib2attrib: 133.757 - attrib2img: 1203.689 - img2attrib: 15.465\n",
      "Epoch [299/1000]... ...51.173(s)  ss: 4.787 - img2img: 675.703 - attrib2attrib: 132.788 - attrib2img: 1201.179 - img2attrib: 14.309\n",
      "Epoch [300/1000]... ...50.874(s)  ss: 4.987 - img2img: 646.998 - attrib2attrib: 128.339 - attrib2img: 1201.146 - img2attrib: 14.424\n",
      "checkpointing at epoch: 300\n",
      "Epoch [301/1000]... ...50.946(s)  ss: 5.139 - img2img: 644.987 - attrib2attrib: 124.815 - attrib2img: 1202.049 - img2attrib: 14.554\n",
      "Epoch [302/1000]... ...50.889(s)  ss: 5.334 - img2img: 636.748 - attrib2attrib: 118.648 - attrib2img: 1201.576 - img2attrib: 14.654\n",
      "Epoch [303/1000]... ...50.842(s)  ss: 5.260 - img2img: 630.323 - attrib2attrib: 114.876 - attrib2img: 1200.862 - img2attrib: 14.628\n",
      "Epoch [304/1000]... ...50.695(s)  ss: 5.196 - img2img: 656.782 - attrib2attrib: 112.128 - attrib2img: 1201.912 - img2attrib: 14.530\n",
      "Epoch [305/1000]... ...51.237(s)  ss: 5.269 - img2img: 760.564 - attrib2attrib: 110.016 - attrib2img: 1202.211 - img2attrib: 14.561\n",
      "Epoch [306/1000]... ...51.370(s)  ss: 5.057 - img2img: 751.589 - attrib2attrib: 107.509 - attrib2img: 1202.616 - img2attrib: 14.401\n",
      "Epoch [307/1000]... ...51.414(s)  ss: 5.056 - img2img: 784.555 - attrib2attrib: 106.043 - attrib2img: 1201.849 - img2attrib: 14.289\n",
      "Epoch [308/1000]... ...51.422(s)  ss: 5.095 - img2img: 818.637 - attrib2attrib: 104.754 - attrib2img: 1202.123 - img2attrib: 14.228\n",
      "Epoch [309/1000]... ...51.379(s)  ss: 5.237 - img2img: 750.258 - attrib2attrib: 102.888 - attrib2img: 1202.327 - img2attrib: 14.393\n",
      "Epoch [310/1000]... ...51.320(s)  ss: 5.249 - img2img: 662.421 - attrib2attrib: 103.316 - attrib2img: 1202.508 - img2attrib: 14.364\n",
      "Epoch [311/1000]... ...51.443(s)  ss: 5.185 - img2img: 661.940 - attrib2attrib: 103.556 - attrib2img: 1201.896 - img2attrib: 14.246\n",
      "Epoch [312/1000]... ...51.331(s)  ss: 5.152 - img2img: 680.641 - attrib2attrib: 104.903 - attrib2img: 1202.115 - img2attrib: 14.273\n"
     ]
    },
    {
     "name": "stdout",
     "output_type": "stream",
     "text": [
      "Epoch [313/1000]... ...49.355(s)  ss: 5.124 - img2img: 666.553 - attrib2attrib: 105.527 - attrib2img: 1202.118 - img2attrib: 14.386\n",
      "Epoch [314/1000]... ...49.478(s)  ss: 5.028 - img2img: 636.995 - attrib2attrib: 106.608 - attrib2img: 1202.137 - img2attrib: 14.231\n",
      "Epoch [315/1000]... ...49.540(s)  ss: 5.044 - img2img: 676.059 - attrib2attrib: 107.448 - attrib2img: 1202.525 - img2attrib: 14.191\n",
      "Epoch [316/1000]... ...49.476(s)  ss: 5.010 - img2img: 687.801 - attrib2attrib: 106.924 - attrib2img: 1201.224 - img2attrib: 14.122\n",
      "Epoch [317/1000]... ...49.866(s)  ss: 5.014 - img2img: 686.403 - attrib2attrib: 107.702 - attrib2img: 1202.679 - img2attrib: 14.169\n",
      "Epoch [318/1000]... ...51.443(s)  ss: 4.963 - img2img: 689.262 - attrib2attrib: 107.084 - attrib2img: 1201.923 - img2attrib: 14.134\n",
      "Epoch [319/1000]... ...51.492(s)  ss: 4.974 - img2img: 705.850 - attrib2attrib: 107.397 - attrib2img: 1201.934 - img2attrib: 14.119\n",
      "Epoch [320/1000]... ...51.382(s)  ss: 4.961 - img2img: 730.614 - attrib2attrib: 106.688 - attrib2img: 1202.109 - img2attrib: 14.115\n",
      "Epoch [321/1000]... ...51.425(s)  ss: 4.990 - img2img: 780.303 - attrib2attrib: 106.639 - attrib2img: 1202.402 - img2attrib: 14.138\n",
      "Epoch [322/1000]... ...51.441(s)  ss: 4.836 - img2img: 831.916 - attrib2attrib: 109.331 - attrib2img: 1201.444 - img2attrib: 14.079\n",
      "Epoch [323/1000]... ...49.441(s)  ss: 4.820 - img2img: 895.581 - attrib2attrib: 110.045 - attrib2img: 1201.469 - img2attrib: 14.148\n",
      "Epoch [324/1000]... ...49.627(s)  ss: 4.930 - img2img: 967.419 - attrib2attrib: 109.628 - attrib2img: 1202.042 - img2attrib: 14.182\n",
      "Epoch [325/1000]... ...51.232(s)  ss: 4.796 - img2img: 988.539 - attrib2attrib: 109.565 - attrib2img: 1201.016 - img2attrib: 14.064\n",
      "Epoch [326/1000]... ...51.357(s)  ss: 4.822 - img2img: 1027.053 - attrib2attrib: 108.954 - attrib2img: 1201.086 - img2attrib: 14.047\n",
      "Epoch [327/1000]... ...51.355(s)  ss: 4.916 - img2img: 969.750 - attrib2attrib: 108.133 - attrib2img: 1200.797 - img2attrib: 14.088\n",
      "Epoch [328/1000]... ...50.600(s)  ss: 4.949 - img2img: 814.241 - attrib2attrib: 106.123 - attrib2img: 1200.554 - img2attrib: 14.160\n",
      "Epoch [329/1000]... ...50.456(s)  ss: 4.902 - img2img: 733.692 - attrib2attrib: 105.381 - attrib2img: 1201.187 - img2attrib: 14.138\n",
      "Epoch [330/1000]... ...50.292(s)  ss: 4.897 - img2img: 765.328 - attrib2attrib: 105.284 - attrib2img: 1201.072 - img2attrib: 14.148\n",
      "Epoch [331/1000]... ...50.328(s)  ss: 4.883 - img2img: 805.154 - attrib2attrib: 103.703 - attrib2img: 1199.958 - img2attrib: 14.129\n",
      "Epoch [332/1000]... ...49.283(s)  ss: 4.922 - img2img: 841.538 - attrib2attrib: 103.296 - attrib2img: 1200.448 - img2attrib: 14.053\n",
      "Epoch [333/1000]... ...49.284(s)  ss: 4.976 - img2img: 828.407 - attrib2attrib: 102.906 - attrib2img: 1201.057 - img2attrib: 14.035\n",
      "Epoch [334/1000]... ...50.481(s)  ss: 5.003 - img2img: 780.214 - attrib2attrib: 101.611 - attrib2img: 1200.616 - img2attrib: 14.096\n",
      "Epoch [335/1000]... ...51.189(s)  ss: 4.752 - img2img: 797.003 - attrib2attrib: 115.287 - attrib2img: 1200.937 - img2attrib: 14.083\n",
      "Epoch [336/1000]... ...51.275(s)  ss: 4.627 - img2img: 846.853 - attrib2attrib: 117.298 - attrib2img: 1200.552 - img2attrib: 14.078\n",
      "Epoch [337/1000]... ...51.094(s)  ss: 4.742 - img2img: 866.367 - attrib2attrib: 114.309 - attrib2img: 1201.297 - img2attrib: 14.431\n",
      "Epoch [338/1000]... ...51.222(s)  ss: 4.655 - img2img: 732.096 - attrib2attrib: 113.294 - attrib2img: 1201.247 - img2attrib: 14.343\n",
      "Epoch [339/1000]... ...49.551(s)  ss: 4.647 - img2img: 687.441 - attrib2attrib: 112.564 - attrib2img: 1200.518 - img2attrib: 14.287\n",
      "Epoch [340/1000]... ...49.372(s)  ss: 4.743 - img2img: 701.890 - attrib2attrib: 113.307 - attrib2img: 1201.497 - img2attrib: 14.437\n",
      "Epoch [341/1000]... ...49.394(s)  ss: 4.648 - img2img: 662.691 - attrib2attrib: 111.551 - attrib2img: 1199.597 - img2attrib: 14.378\n",
      "Epoch [342/1000]... ...49.326(s)  ss: 4.631 - img2img: 730.071 - attrib2attrib: 112.089 - attrib2img: 1200.364 - img2attrib: 14.393\n",
      "Epoch [343/1000]... ...49.487(s)  ss: 4.518 - img2img: 872.010 - attrib2attrib: 112.766 - attrib2img: 1200.154 - img2attrib: 14.306\n",
      "Epoch [344/1000]... ...51.244(s)  ss: 4.574 - img2img: 996.161 - attrib2attrib: 112.913 - attrib2img: 1200.275 - img2attrib: 14.312\n",
      "Epoch [345/1000]... ...51.203(s)  ss: 4.720 - img2img: 1005.353 - attrib2attrib: 111.878 - attrib2img: 1200.439 - img2attrib: 14.330\n",
      "Epoch [346/1000]... ...51.367(s)  ss: 4.584 - img2img: 973.003 - attrib2attrib: 114.125 - attrib2img: 1200.209 - img2attrib: 14.235\n",
      "Epoch [347/1000]... ...51.322(s)  ss: 4.486 - img2img: 971.067 - attrib2attrib: 116.598 - attrib2img: 1200.558 - img2attrib: 14.216\n",
      "Epoch [348/1000]... ...51.473(s)  ss: 4.576 - img2img: 951.285 - attrib2attrib: 116.320 - attrib2img: 1201.395 - img2attrib: 14.216\n",
      "Epoch [349/1000]... ...51.404(s)  ss: 4.595 - img2img: 881.320 - attrib2attrib: 115.010 - attrib2img: 1200.480 - img2attrib: 14.216\n",
      "Epoch [350/1000]... ...51.464(s)  ss: 4.968 - img2img: 805.044 - attrib2attrib: 112.300 - attrib2img: 1200.243 - img2attrib: 14.317\n",
      "Epoch [351/1000]... ...51.117(s)  ss: 4.751 - img2img: 684.927 - attrib2attrib: 111.270 - attrib2img: 1201.073 - img2attrib: 14.290\n",
      "Epoch [352/1000]... ...49.435(s)  ss: 4.741 - img2img: 647.479 - attrib2attrib: 110.327 - attrib2img: 1201.557 - img2attrib: 14.268\n",
      "Epoch [353/1000]... ...49.484(s)  ss: 4.739 - img2img: 657.370 - attrib2attrib: 109.359 - attrib2img: 1200.285 - img2attrib: 14.245\n",
      "Epoch [354/1000]... ...49.398(s)  ss: 4.732 - img2img: 680.327 - attrib2attrib: 108.404 - attrib2img: 1200.877 - img2attrib: 14.288\n",
      "Epoch [355/1000]... ...49.470(s)  ss: 4.844 - img2img: 671.390 - attrib2attrib: 106.613 - attrib2img: 1201.540 - img2attrib: 14.270\n",
      "Epoch [356/1000]... ...49.332(s)  ss: 4.735 - img2img: 655.907 - attrib2attrib: 113.226 - attrib2img: 1201.182 - img2attrib: 14.279\n",
      "Epoch [357/1000]... ...49.380(s)  ss: 4.677 - img2img: 674.151 - attrib2attrib: 118.951 - attrib2img: 1199.530 - img2attrib: 14.424\n",
      "Epoch [358/1000]... ...49.389(s)  ss: 4.596 - img2img: 674.670 - attrib2attrib: 116.663 - attrib2img: 1199.232 - img2attrib: 14.424\n",
      "Epoch [359/1000]... ...49.344(s)  ss: 4.605 - img2img: 675.308 - attrib2attrib: 115.186 - attrib2img: 1199.502 - img2attrib: 14.413\n",
      "Epoch [360/1000]... ...50.181(s)  ss: 4.685 - img2img: 672.722 - attrib2attrib: 112.421 - attrib2img: 1200.360 - img2attrib: 14.395\n",
      "Epoch [361/1000]... ...51.456(s)  ss: 4.706 - img2img: 659.171 - attrib2attrib: 110.058 - attrib2img: 1201.149 - img2attrib: 14.281\n",
      "Epoch [362/1000]... ...51.483(s)  ss: 4.701 - img2img: 667.938 - attrib2attrib: 109.391 - attrib2img: 1200.699 - img2attrib: 14.288\n",
      "Epoch [363/1000]... ...49.366(s)  ss: 4.614 - img2img: 647.517 - attrib2attrib: 109.143 - attrib2img: 1201.277 - img2attrib: 14.249\n",
      "Epoch [364/1000]... ...49.325(s)  ss: 4.613 - img2img: 645.854 - attrib2attrib: 109.336 - attrib2img: 1200.511 - img2attrib: 14.219\n",
      "Epoch [365/1000]... ...50.623(s)  ss: 4.694 - img2img: 667.030 - attrib2attrib: 107.979 - attrib2img: 1201.005 - img2attrib: 14.241\n",
      "Epoch [366/1000]... ...51.420(s)  ss: 4.558 - img2img: 650.829 - attrib2attrib: 108.654 - attrib2img: 1201.033 - img2attrib: 14.248\n",
      "Epoch [367/1000]... ...51.498(s)  ss: 4.583 - img2img: 655.688 - attrib2attrib: 108.383 - attrib2img: 1200.930 - img2attrib: 14.318\n",
      "Epoch [368/1000]... ...51.413(s)  ss: 4.606 - img2img: 677.001 - attrib2attrib: 107.990 - attrib2img: 1201.406 - img2attrib: 14.449\n",
      "Epoch [369/1000]... ...51.352(s)  ss: 4.559 - img2img: 691.872 - attrib2attrib: 107.152 - attrib2img: 1200.994 - img2attrib: 14.319\n",
      "Epoch [370/1000]... ...51.349(s)  ss: 4.573 - img2img: 710.544 - attrib2attrib: 107.373 - attrib2img: 1199.735 - img2attrib: 14.377\n",
      "Epoch [371/1000]... ...51.462(s)  ss: 4.605 - img2img: 726.972 - attrib2attrib: 107.280 - attrib2img: 1200.650 - img2attrib: 14.335\n",
      "Epoch [372/1000]... ...51.458(s)  ss: 8.251 - img2img: 826.905 - attrib2attrib: 70341.196 - attrib2img: 1200.154 - img2attrib: 14.356\n",
      "Epoch [373/1000]... ...51.344(s)  ss: 4.234 - img2img: 811.252 - attrib2attrib: 228.122 - attrib2img: 1193.314 - img2attrib: 14.385\n",
      "Epoch [374/1000]... ...50.896(s)  ss: 4.416 - img2img: 787.437 - attrib2attrib: 273.352 - attrib2img: 1192.346 - img2attrib: 14.402\n"
     ]
    },
    {
     "name": "stdout",
     "output_type": "stream",
     "text": [
      "Epoch [375/1000]... ...49.418(s)  ss: 4.302 - img2img: 702.561 - attrib2attrib: 304.390 - attrib2img: 1191.337 - img2attrib: 14.312\n",
      "Epoch [376/1000]... ...49.418(s)  ss: 4.262 - img2img: 666.724 - attrib2attrib: 327.456 - attrib2img: 1191.068 - img2attrib: 14.360\n",
      "Epoch [377/1000]... ...51.158(s)  ss: 4.312 - img2img: 662.059 - attrib2attrib: 341.538 - attrib2img: 1190.890 - img2attrib: 14.335\n",
      "Epoch [378/1000]... ...51.385(s)  ss: 4.270 - img2img: 668.689 - attrib2attrib: 345.604 - attrib2img: 1191.534 - img2attrib: 14.291\n",
      "Epoch [379/1000]... ...51.396(s)  ss: 4.285 - img2img: 690.621 - attrib2attrib: 344.468 - attrib2img: 1191.598 - img2attrib: 14.298\n",
      "Epoch [380/1000]... ...51.321(s)  ss: 4.217 - img2img: 779.623 - attrib2attrib: 347.651 - attrib2img: 1192.032 - img2attrib: 14.328\n",
      "Epoch [381/1000]... ...51.559(s)  ss: 3.958 - img2img: 916.750 - attrib2attrib: 352.864 - attrib2img: 1192.233 - img2attrib: 14.373\n",
      "Epoch [382/1000]... ...51.535(s)  ss: 4.059 - img2img: 978.319 - attrib2attrib: 350.676 - attrib2img: 1193.328 - img2attrib: 14.540\n",
      "Epoch [383/1000]... ...51.321(s)  ss: 3.955 - img2img: 948.998 - attrib2attrib: 343.288 - attrib2img: 1195.074 - img2attrib: 14.375\n",
      "Epoch [384/1000]... ...50.650(s)  ss: 3.930 - img2img: 924.135 - attrib2attrib: 330.879 - attrib2img: 1196.012 - img2attrib: 14.280\n",
      "Epoch [385/1000]... ...50.470(s)  ss: 4.043 - img2img: 907.050 - attrib2attrib: 312.765 - attrib2img: 1196.846 - img2attrib: 14.321\n",
      "Epoch [386/1000]... ...50.478(s)  ss: 4.125 - img2img: 888.466 - attrib2attrib: 289.981 - attrib2img: 1196.522 - img2attrib: 14.365\n",
      "Epoch [387/1000]... ...50.297(s)  ss: 4.126 - img2img: 860.467 - attrib2attrib: 265.880 - attrib2img: 1197.781 - img2attrib: 14.319\n",
      "Epoch [388/1000]... ...50.419(s)  ss: 4.111 - img2img: 826.602 - attrib2attrib: 242.596 - attrib2img: 1198.142 - img2attrib: 14.290\n",
      "Epoch [389/1000]... ...49.282(s)  ss: 4.083 - img2img: 782.701 - attrib2attrib: 220.042 - attrib2img: 1199.099 - img2attrib: 14.201\n",
      "Epoch [390/1000]... ...49.219(s)  ss: 4.115 - img2img: 788.704 - attrib2attrib: 200.010 - attrib2img: 1200.859 - img2attrib: 14.171\n",
      "Epoch [391/1000]... ...49.296(s)  ss: 4.223 - img2img: 818.993 - attrib2attrib: 179.386 - attrib2img: 1201.644 - img2attrib: 14.245\n",
      "Epoch [392/1000]... ...49.250(s)  ss: 4.354 - img2img: 817.799 - attrib2attrib: 159.431 - attrib2img: 1202.457 - img2attrib: 14.312\n",
      "Epoch [393/1000]... ...49.722(s)  ss: 4.418 - img2img: 766.128 - attrib2attrib: 144.356 - attrib2img: 1203.262 - img2attrib: 14.552\n",
      "Epoch [394/1000]... ...51.350(s)  ss: 4.446 - img2img: 762.895 - attrib2attrib: 132.392 - attrib2img: 1204.471 - img2attrib: 14.538\n",
      "Epoch [395/1000]... ...51.043(s)  ss: 4.563 - img2img: 784.124 - attrib2attrib: 122.956 - attrib2img: 1203.796 - img2attrib: 14.669\n",
      "Epoch [396/1000]... ...49.584(s)  ss: 4.821 - img2img: 779.156 - attrib2attrib: 116.771 - attrib2img: 1205.344 - img2attrib: 14.745\n",
      "Epoch [397/1000]... ...49.247(s)  ss: 4.659 - img2img: 700.651 - attrib2attrib: 115.554 - attrib2img: 1202.019 - img2attrib: 14.508\n",
      "Epoch [398/1000]... ...50.126(s)  ss: 4.878 - img2img: 707.747 - attrib2attrib: 111.265 - attrib2img: 1202.332 - img2attrib: 14.578\n",
      "Epoch [399/1000]... ...51.235(s)  ss: 5.108 - img2img: 754.386 - attrib2attrib: 106.148 - attrib2img: 1202.959 - img2attrib: 14.630\n",
      "Epoch [400/1000]... ...51.194(s)  ss: 5.207 - img2img: 746.721 - attrib2attrib: 102.200 - attrib2img: 1202.576 - img2attrib: 14.493\n",
      "checkpointing at epoch: 400\n",
      "Epoch [401/1000]... ...51.208(s)  ss: 5.236 - img2img: 801.588 - attrib2attrib: 99.550 - attrib2img: 1200.799 - img2attrib: 14.393\n",
      "Epoch [402/1000]... ...51.142(s)  ss: 5.189 - img2img: 850.378 - attrib2attrib: 103.403 - attrib2img: 1201.740 - img2attrib: 14.338\n",
      "Epoch [403/1000]... ...51.188(s)  ss: 5.026 - img2img: 832.853 - attrib2attrib: 107.684 - attrib2img: 1200.947 - img2attrib: 14.383\n",
      "Epoch [404/1000]... ...51.236(s)  ss: 4.925 - img2img: 809.342 - attrib2attrib: 108.005 - attrib2img: 1200.848 - img2attrib: 14.238\n",
      "Epoch [405/1000]... ...51.317(s)  ss: 4.940 - img2img: 847.857 - attrib2attrib: 107.523 - attrib2img: 1200.871 - img2attrib: 14.154\n",
      "Epoch [406/1000]... ...51.259(s)  ss: 5.050 - img2img: 866.198 - attrib2attrib: 106.335 - attrib2img: 1201.894 - img2attrib: 14.191\n",
      "Epoch [407/1000]... ...51.333(s)  ss: 5.099 - img2img: 898.765 - attrib2attrib: 103.924 - attrib2img: 1200.800 - img2attrib: 14.223\n",
      "Epoch [408/1000]... ...51.125(s)  ss: 5.120 - img2img: 1070.292 - attrib2attrib: 103.052 - attrib2img: 1201.264 - img2attrib: 14.199\n",
      "Epoch [409/1000]... ...51.117(s)  ss: 5.315 - img2img: 1116.200 - attrib2attrib: 100.231 - attrib2img: 1200.181 - img2attrib: 14.255\n",
      "Epoch [410/1000]... ...49.859(s)  ss: 5.227 - img2img: 1212.397 - attrib2attrib: 106.266 - attrib2img: 1199.917 - img2attrib: 14.290\n",
      "Epoch [411/1000]... ...49.266(s)  ss: 5.061 - img2img: 1118.985 - attrib2attrib: 107.751 - attrib2img: 1200.038 - img2attrib: 14.229\n",
      "Epoch [412/1000]... ...49.842(s)  ss: 5.045 - img2img: 1019.429 - attrib2attrib: 109.047 - attrib2img: 1200.229 - img2attrib: 14.216\n",
      "Epoch [413/1000]... ...49.555(s)  ss: 4.826 - img2img: 934.454 - attrib2attrib: 114.505 - attrib2img: 1199.783 - img2attrib: 14.147\n",
      "Epoch [414/1000]... ...49.317(s)  ss: 4.788 - img2img: 899.776 - attrib2attrib: 114.384 - attrib2img: 1200.226 - img2attrib: 14.186\n",
      "Epoch [415/1000]... ...51.032(s)  ss: 4.780 - img2img: 885.150 - attrib2attrib: 112.764 - attrib2img: 1200.183 - img2attrib: 14.242\n",
      "Epoch [416/1000]... ...51.228(s)  ss: 4.784 - img2img: 807.363 - attrib2attrib: 111.733 - attrib2img: 1199.386 - img2attrib: 14.273\n",
      "Epoch [417/1000]... ...51.323(s)  ss: 4.799 - img2img: 754.630 - attrib2attrib: 110.148 - attrib2img: 1199.140 - img2attrib: 14.192\n",
      "Epoch [418/1000]... ...51.161(s)  ss: 4.807 - img2img: 720.724 - attrib2attrib: 109.764 - attrib2img: 1199.105 - img2attrib: 14.230\n",
      "Epoch [419/1000]... ...51.415(s)  ss: 4.861 - img2img: 762.805 - attrib2attrib: 109.655 - attrib2img: 1198.784 - img2attrib: 14.240\n",
      "Epoch [420/1000]... ...51.262(s)  ss: 4.664 - img2img: 896.778 - attrib2attrib: 112.343 - attrib2img: 1199.729 - img2attrib: 14.127\n",
      "Epoch [421/1000]... ...51.186(s)  ss: 4.695 - img2img: 996.714 - attrib2attrib: 109.900 - attrib2img: 1199.882 - img2attrib: 14.205\n",
      "Epoch [422/1000]... ...49.640(s)  ss: 4.797 - img2img: 1029.207 - attrib2attrib: 108.829 - attrib2img: 1200.613 - img2attrib: 14.224\n",
      "Epoch [423/1000]... ...49.701(s)  ss: 4.810 - img2img: 1021.758 - attrib2attrib: 109.739 - attrib2img: 1199.613 - img2attrib: 14.135\n",
      "Epoch [424/1000]... ...51.091(s)  ss: 4.872 - img2img: 982.319 - attrib2attrib: 107.614 - attrib2img: 1199.808 - img2attrib: 14.198\n",
      "Epoch [425/1000]... ...51.120(s)  ss: 4.934 - img2img: 947.802 - attrib2attrib: 106.062 - attrib2img: 1199.969 - img2attrib: 14.084\n",
      "Epoch [426/1000]... ...50.970(s)  ss: 4.999 - img2img: 935.260 - attrib2attrib: 106.277 - attrib2img: 1201.055 - img2attrib: 14.146\n",
      "Epoch [427/1000]... ...49.207(s)  ss: 5.043 - img2img: 903.932 - attrib2attrib: 107.550 - attrib2img: 1201.193 - img2attrib: 14.222\n",
      "Epoch [428/1000]... ...49.229(s)  ss: 4.987 - img2img: 847.937 - attrib2attrib: 106.102 - attrib2img: 1200.597 - img2attrib: 14.189\n",
      "Epoch [429/1000]... ...50.901(s)  ss: 5.064 - img2img: 897.098 - attrib2attrib: 107.441 - attrib2img: 1200.669 - img2attrib: 14.218\n",
      "Epoch [430/1000]... ...51.127(s)  ss: 4.702 - img2img: 919.626 - attrib2attrib: 126.929 - attrib2img: 1199.458 - img2attrib: 14.088\n",
      "Epoch [431/1000]... ...51.183(s)  ss: 4.663 - img2img: 884.155 - attrib2attrib: 131.971 - attrib2img: 1199.508 - img2attrib: 14.133\n",
      "Epoch [432/1000]... ...51.063(s)  ss: 4.547 - img2img: 771.270 - attrib2attrib: 129.590 - attrib2img: 1198.978 - img2attrib: 14.140\n",
      "Epoch [433/1000]... ...51.202(s)  ss: 4.579 - img2img: 757.761 - attrib2attrib: 123.901 - attrib2img: 1199.156 - img2attrib: 14.199\n",
      "Epoch [434/1000]... ...49.305(s)  ss: 4.667 - img2img: 844.112 - attrib2attrib: 119.348 - attrib2img: 1200.234 - img2attrib: 14.265\n",
      "Epoch [435/1000]... ...49.622(s)  ss: 4.654 - img2img: 888.610 - attrib2attrib: 117.577 - attrib2img: 1199.706 - img2attrib: 14.270\n",
      "Epoch [436/1000]... ...51.283(s)  ss: 4.859 - img2img: 915.814 - attrib2attrib: 114.085 - attrib2img: 1199.055 - img2attrib: 14.381\n"
     ]
    },
    {
     "name": "stdout",
     "output_type": "stream",
     "text": [
      "Epoch [437/1000]... ...51.205(s)  ss: 4.817 - img2img: 802.020 - attrib2attrib: 111.924 - attrib2img: 1199.632 - img2attrib: 14.189\n",
      "Epoch [438/1000]... ...51.336(s)  ss: 4.853 - img2img: 784.090 - attrib2attrib: 109.983 - attrib2img: 1200.276 - img2attrib: 14.102\n",
      "Epoch [439/1000]... ...51.241(s)  ss: 4.727 - img2img: 810.531 - attrib2attrib: 122.681 - attrib2img: 1198.058 - img2attrib: 14.098\n",
      "Epoch [440/1000]... ...51.232(s)  ss: 4.649 - img2img: 777.045 - attrib2attrib: 121.829 - attrib2img: 1199.708 - img2attrib: 14.053\n",
      "Epoch [441/1000]... ...51.257(s)  ss: 4.718 - img2img: 804.096 - attrib2attrib: 117.829 - attrib2img: 1199.669 - img2attrib: 14.059\n",
      "Epoch [442/1000]... ...51.338(s)  ss: 4.680 - img2img: 866.654 - attrib2attrib: 116.116 - attrib2img: 1199.951 - img2attrib: 13.971\n",
      "Epoch [443/1000]... ...51.447(s)  ss: 4.871 - img2img: 1048.950 - attrib2attrib: 112.170 - attrib2img: 1201.008 - img2attrib: 14.002\n",
      "Epoch [444/1000]... ...51.291(s)  ss: 4.936 - img2img: 1143.058 - attrib2attrib: 109.108 - attrib2img: 1200.777 - img2attrib: 13.990\n",
      "Epoch [445/1000]... ...51.283(s)  ss: 5.016 - img2img: 1073.132 - attrib2attrib: 108.330 - attrib2img: 1201.060 - img2attrib: 14.034\n",
      "Epoch [446/1000]... ...51.229(s)  ss: 5.026 - img2img: 926.106 - attrib2attrib: 106.604 - attrib2img: 1201.215 - img2attrib: 14.049\n",
      "Epoch [447/1000]... ...51.346(s)  ss: 4.973 - img2img: 998.937 - attrib2attrib: 107.792 - attrib2img: 1199.813 - img2attrib: 14.042\n",
      "Epoch [448/1000]... ...51.314(s)  ss: 4.748 - img2img: 1009.549 - attrib2attrib: 114.929 - attrib2img: 1200.583 - img2attrib: 13.986\n",
      "Epoch [449/1000]... ...51.221(s)  ss: 4.617 - img2img: 1065.097 - attrib2attrib: 117.393 - attrib2img: 1199.284 - img2attrib: 14.074\n",
      "Epoch [450/1000]... ...50.389(s)  ss: 4.569 - img2img: 994.671 - attrib2attrib: 121.904 - attrib2img: 1200.194 - img2attrib: 14.174\n",
      "Epoch [451/1000]... ...49.305(s)  ss: 4.546 - img2img: 794.196 - attrib2attrib: 122.559 - attrib2img: 1200.531 - img2attrib: 14.282\n",
      "Epoch [452/1000]... ...49.510(s)  ss: 4.517 - img2img: 709.522 - attrib2attrib: 120.667 - attrib2img: 1200.089 - img2attrib: 14.281\n",
      "Epoch [453/1000]... ...51.287(s)  ss: 4.404 - img2img: 649.659 - attrib2attrib: 119.742 - attrib2img: 1201.599 - img2attrib: 14.188\n",
      "Epoch [454/1000]... ...51.252(s)  ss: 4.413 - img2img: 640.642 - attrib2attrib: 117.362 - attrib2img: 1201.171 - img2attrib: 14.134\n",
      "Epoch [455/1000]... ...51.512(s)  ss: 4.488 - img2img: 653.434 - attrib2attrib: 116.090 - attrib2img: 1202.936 - img2attrib: 14.158\n",
      "Epoch [456/1000]... ...51.392(s)  ss: 4.556 - img2img: 670.240 - attrib2attrib: 115.568 - attrib2img: 1202.050 - img2attrib: 14.220\n",
      "Epoch [457/1000]... ...51.292(s)  ss: 4.639 - img2img: 656.151 - attrib2attrib: 114.070 - attrib2img: 1203.334 - img2attrib: 14.241\n",
      "Epoch [458/1000]... ...51.264(s)  ss: 4.675 - img2img: 654.947 - attrib2attrib: 115.074 - attrib2img: 1202.554 - img2attrib: 14.265\n",
      "Epoch [459/1000]... ...51.354(s)  ss: 4.559 - img2img: 637.996 - attrib2attrib: 116.460 - attrib2img: 1203.130 - img2attrib: 14.188\n",
      "Epoch [460/1000]... ...51.207(s)  ss: 4.551 - img2img: 642.569 - attrib2attrib: 114.307 - attrib2img: 1202.287 - img2attrib: 14.174\n",
      "Epoch [461/1000]... ...51.174(s)  ss: 4.681 - img2img: 674.346 - attrib2attrib: 113.970 - attrib2img: 1202.563 - img2attrib: 14.320\n",
      "Epoch [462/1000]... ...51.515(s)  ss: 4.866 - img2img: 690.546 - attrib2attrib: 109.564 - attrib2img: 1202.984 - img2attrib: 14.381\n",
      "Epoch [463/1000]... ...51.295(s)  ss: 4.991 - img2img: 733.317 - attrib2attrib: 109.423 - attrib2img: 1203.295 - img2attrib: 14.316\n",
      "Epoch [464/1000]... ...51.367(s)  ss: 4.816 - img2img: 701.878 - attrib2attrib: 110.736 - attrib2img: 1202.895 - img2attrib: 14.197\n",
      "Epoch [465/1000]... ...51.295(s)  ss: 4.787 - img2img: 655.815 - attrib2attrib: 108.091 - attrib2img: 1201.696 - img2attrib: 14.171\n",
      "Epoch [466/1000]... ...51.501(s)  ss: 4.830 - img2img: 649.309 - attrib2attrib: 106.621 - attrib2img: 1201.878 - img2attrib: 14.159\n",
      "Epoch [467/1000]... ...51.232(s)  ss: 4.748 - img2img: 638.810 - attrib2attrib: 110.431 - attrib2img: 1202.098 - img2attrib: 14.110\n",
      "Epoch [468/1000]... ...51.313(s)  ss: 4.682 - img2img: 661.261 - attrib2attrib: 118.920 - attrib2img: 1200.029 - img2attrib: 14.299\n",
      "Epoch [469/1000]... ...49.950(s)  ss: 4.429 - img2img: 643.135 - attrib2attrib: 121.006 - attrib2img: 1201.211 - img2attrib: 14.254\n",
      "Epoch [470/1000]... ...49.363(s)  ss: 4.582 - img2img: 680.297 - attrib2attrib: 117.196 - attrib2img: 1201.565 - img2attrib: 14.265\n",
      "Epoch [471/1000]... ...49.352(s)  ss: 4.750 - img2img: 705.572 - attrib2attrib: 116.007 - attrib2img: 1202.203 - img2attrib: 14.225\n",
      "Epoch [472/1000]... ...49.331(s)  ss: 4.677 - img2img: 683.751 - attrib2attrib: 111.832 - attrib2img: 1200.600 - img2attrib: 14.155\n",
      "Epoch [473/1000]... ...49.353(s)  ss: 4.775 - img2img: 792.440 - attrib2attrib: 111.383 - attrib2img: 1202.069 - img2attrib: 14.164\n",
      "Epoch [474/1000]... ...49.382(s)  ss: 4.765 - img2img: 808.015 - attrib2attrib: 111.369 - attrib2img: 1202.444 - img2attrib: 14.172\n",
      "Epoch [475/1000]... ...49.296(s)  ss: 4.859 - img2img: 829.591 - attrib2attrib: 113.367 - attrib2img: 1201.818 - img2attrib: 14.237\n",
      "Epoch [476/1000]... ...50.249(s)  ss: 4.574 - img2img: 739.128 - attrib2attrib: 113.214 - attrib2img: 1201.131 - img2attrib: 14.139\n",
      "Epoch [477/1000]... ...51.251(s)  ss: 4.527 - img2img: 688.280 - attrib2attrib: 112.557 - attrib2img: 1201.824 - img2attrib: 14.120\n",
      "Epoch [478/1000]... ...51.052(s)  ss: 4.566 - img2img: 675.290 - attrib2attrib: 113.302 - attrib2img: 1201.660 - img2attrib: 14.104\n",
      "Epoch [479/1000]... ...49.277(s)  ss: 4.778 - img2img: 693.051 - attrib2attrib: 111.709 - attrib2img: 1201.295 - img2attrib: 14.211\n",
      "Epoch [480/1000]... ...49.266(s)  ss: 4.663 - img2img: 681.327 - attrib2attrib: 112.538 - attrib2img: 1200.849 - img2attrib: 14.125\n",
      "Epoch [481/1000]... ...50.738(s)  ss: 4.674 - img2img: 651.616 - attrib2attrib: 112.499 - attrib2img: 1200.581 - img2attrib: 14.154\n",
      "Epoch [482/1000]... ...51.142(s)  ss: 4.616 - img2img: 636.522 - attrib2attrib: 113.307 - attrib2img: 1200.772 - img2attrib: 14.106\n",
      "Epoch [483/1000]... ...49.929(s)  ss: 4.670 - img2img: 698.190 - attrib2attrib: 114.625 - attrib2img: 1201.631 - img2attrib: 14.188\n",
      "Epoch [484/1000]... ...51.199(s)  ss: 4.854 - img2img: 728.568 - attrib2attrib: 113.743 - attrib2img: 1202.257 - img2attrib: 14.162\n",
      "Epoch [485/1000]... ...51.158(s)  ss: 4.523 - img2img: 657.860 - attrib2attrib: 118.387 - attrib2img: 1200.338 - img2attrib: 14.105\n",
      "Epoch [486/1000]... ...51.168(s)  ss: 4.437 - img2img: 630.596 - attrib2attrib: 119.189 - attrib2img: 1201.238 - img2attrib: 14.090\n",
      "Epoch [487/1000]... ...51.195(s)  ss: 4.486 - img2img: 679.319 - attrib2attrib: 117.221 - attrib2img: 1199.606 - img2attrib: 14.106\n",
      "Epoch [488/1000]... ...51.309(s)  ss: 5.151 - img2img: 784.656 - attrib2attrib: 111.766 - attrib2img: 1201.878 - img2attrib: 14.221\n",
      "Epoch [489/1000]... ...51.221(s)  ss: 4.523 - img2img: 637.341 - attrib2attrib: 113.018 - attrib2img: 1200.275 - img2attrib: 14.016\n",
      "Epoch [490/1000]... ...51.327(s)  ss: 4.597 - img2img: 640.141 - attrib2attrib: 112.672 - attrib2img: 1200.957 - img2attrib: 13.976\n",
      "Epoch [491/1000]... ...51.220(s)  ss: 4.721 - img2img: 668.553 - attrib2attrib: 111.520 - attrib2img: 1201.063 - img2attrib: 13.970\n",
      "Epoch [492/1000]... ...51.277(s)  ss: 4.871 - img2img: 695.865 - attrib2attrib: 110.271 - attrib2img: 1200.797 - img2attrib: 14.047\n",
      "Epoch [493/1000]... ...51.275(s)  ss: 4.803 - img2img: 655.259 - attrib2attrib: 111.373 - attrib2img: 1201.476 - img2attrib: 14.015\n",
      "Epoch [494/1000]... ...51.353(s)  ss: 4.638 - img2img: 664.971 - attrib2attrib: 116.744 - attrib2img: 1199.706 - img2attrib: 14.054\n",
      "Epoch [495/1000]... ...51.467(s)  ss: 4.519 - img2img: 625.483 - attrib2attrib: 117.633 - attrib2img: 1198.609 - img2attrib: 14.041\n",
      "Epoch [496/1000]... ...51.315(s)  ss: 4.464 - img2img: 634.897 - attrib2attrib: 117.741 - attrib2img: 1199.011 - img2attrib: 14.049\n",
      "Epoch [497/1000]... ...51.288(s)  ss: 4.847 - img2img: 709.019 - attrib2attrib: 113.448 - attrib2img: 1198.237 - img2attrib: 14.137\n",
      "Epoch [498/1000]... ...51.059(s)  ss: 4.715 - img2img: 683.311 - attrib2attrib: 114.418 - attrib2img: 1200.118 - img2attrib: 14.071\n"
     ]
    },
    {
     "name": "stdout",
     "output_type": "stream",
     "text": [
      "Epoch [499/1000]... ...51.423(s)  ss: 4.678 - img2img: 684.176 - attrib2attrib: 113.407 - attrib2img: 1200.000 - img2attrib: 14.084\n",
      "Epoch [500/1000]... ...51.508(s)  ss: 4.610 - img2img: 660.466 - attrib2attrib: 115.915 - attrib2img: 1200.824 - img2attrib: 14.035\n",
      "checkpointing at epoch: 500\n",
      "Epoch [501/1000]... ...51.395(s)  ss: 4.543 - img2img: 659.696 - attrib2attrib: 116.167 - attrib2img: 1200.189 - img2attrib: 14.017\n",
      "Epoch [502/1000]... ...50.254(s)  ss: 4.666 - img2img: 670.556 - attrib2attrib: 113.772 - attrib2img: 1200.335 - img2attrib: 14.095\n",
      "Epoch [503/1000]... ...49.309(s)  ss: 4.545 - img2img: 625.334 - attrib2attrib: 114.277 - attrib2img: 1200.400 - img2attrib: 14.044\n",
      "Epoch [504/1000]... ...51.314(s)  ss: 4.549 - img2img: 616.487 - attrib2attrib: 113.362 - attrib2img: 1200.684 - img2attrib: 14.018\n",
      "Epoch [505/1000]... ...51.469(s)  ss: 4.631 - img2img: 632.611 - attrib2attrib: 114.003 - attrib2img: 1201.886 - img2attrib: 14.120\n",
      "Epoch [506/1000]... ...51.329(s)  ss: 4.671 - img2img: 675.067 - attrib2attrib: 117.776 - attrib2img: 1200.926 - img2attrib: 14.262\n",
      "Epoch [507/1000]... ...51.379(s)  ss: 4.499 - img2img: 649.605 - attrib2attrib: 120.815 - attrib2img: 1200.483 - img2attrib: 14.211\n",
      "Epoch [508/1000]... ...51.472(s)  ss: 4.625 - img2img: 668.789 - attrib2attrib: 118.417 - attrib2img: 1201.837 - img2attrib: 14.155\n",
      "Epoch [509/1000]... ...51.492(s)  ss: 4.436 - img2img: 658.700 - attrib2attrib: 117.106 - attrib2img: 1201.035 - img2attrib: 14.153\n",
      "Epoch [510/1000]... ...51.504(s)  ss: 4.575 - img2img: 684.385 - attrib2attrib: 115.903 - attrib2img: 1202.083 - img2attrib: 14.246\n",
      "Epoch [511/1000]... ...51.458(s)  ss: 4.821 - img2img: 737.575 - attrib2attrib: 114.356 - attrib2img: 1201.736 - img2attrib: 14.223\n",
      "Epoch [512/1000]... ...51.450(s)  ss: 4.640 - img2img: 657.436 - attrib2attrib: 113.752 - attrib2img: 1201.945 - img2attrib: 14.147\n",
      "Epoch [513/1000]... ...51.502(s)  ss: 4.689 - img2img: 648.699 - attrib2attrib: 114.539 - attrib2img: 1202.199 - img2attrib: 14.153\n",
      "Epoch [514/1000]... ...49.651(s)  ss: 4.596 - img2img: 649.944 - attrib2attrib: 117.657 - attrib2img: 1200.482 - img2attrib: 14.143\n",
      "Epoch [515/1000]... ...49.299(s)  ss: 4.501 - img2img: 647.951 - attrib2attrib: 115.947 - attrib2img: 1201.984 - img2attrib: 14.046\n",
      "Epoch [516/1000]... ...50.042(s)  ss: 4.730 - img2img: 718.591 - attrib2attrib: 114.846 - attrib2img: 1201.603 - img2attrib: 14.131\n",
      "Epoch [517/1000]... ...51.120(s)  ss: 4.432 - img2img: 626.835 - attrib2attrib: 114.109 - attrib2img: 1201.431 - img2attrib: 14.057\n",
      "Epoch [518/1000]... ...51.061(s)  ss: 4.518 - img2img: 637.108 - attrib2attrib: 113.976 - attrib2img: 1200.993 - img2attrib: 14.053\n",
      "Epoch [519/1000]... ...51.096(s)  ss: 4.582 - img2img: 641.131 - attrib2attrib: 114.929 - attrib2img: 1202.671 - img2attrib: 14.072\n",
      "Epoch [520/1000]... ...51.039(s)  ss: 4.574 - img2img: 662.656 - attrib2attrib: 119.840 - attrib2img: 1201.245 - img2attrib: 14.047\n",
      "Epoch [521/1000]... ...51.121(s)  ss: 4.537 - img2img: 684.668 - attrib2attrib: 119.311 - attrib2img: 1201.654 - img2attrib: 14.016\n",
      "Epoch [522/1000]... ...51.120(s)  ss: 4.522 - img2img: 662.339 - attrib2attrib: 117.786 - attrib2img: 1202.023 - img2attrib: 13.997\n",
      "Epoch [523/1000]... ...52.720(s)  ss: 4.539 - img2img: 643.282 - attrib2attrib: 116.078 - attrib2img: 1201.365 - img2attrib: 14.028\n",
      "Epoch [524/1000]... "
     ]
    },
    {
     "ename": "KeyboardInterrupt",
     "evalue": "",
     "output_type": "error",
     "traceback": [
      "\u001b[1;31m---------------------------------------------------------------------------\u001b[0m",
      "\u001b[1;31mKeyboardInterrupt\u001b[0m                         Traceback (most recent call last)",
      "\u001b[1;32m<ipython-input-44-b7b08200dd8a>\u001b[0m in \u001b[0;36m<module>\u001b[1;34m\u001b[0m\n\u001b[0;32m     35\u001b[0m         \u001b[0mcondition_input\u001b[0m \u001b[1;33m=\u001b[0m \u001b[0mtraining_cond\u001b[0m\u001b[1;33m[\u001b[0m\u001b[0mindex\u001b[0m\u001b[1;33m*\u001b[0m\u001b[0mbatch_size\u001b[0m\u001b[1;33m:\u001b[0m \u001b[0mbatch_size\u001b[0m\u001b[1;33m*\u001b[0m\u001b[1;33m(\u001b[0m\u001b[0mindex\u001b[0m\u001b[1;33m+\u001b[0m\u001b[1;36m1\u001b[0m\u001b[1;33m)\u001b[0m\u001b[1;33m]\u001b[0m\u001b[1;33m\u001b[0m\u001b[1;33m\u001b[0m\u001b[0m\n\u001b[0;32m     36\u001b[0m \u001b[1;33m\u001b[0m\u001b[0m\n\u001b[1;32m---> 37\u001b[1;33m         \u001b[0mloss_ss\u001b[0m\u001b[1;33m,\u001b[0m \u001b[0mloss_img2img\u001b[0m\u001b[1;33m,\u001b[0m \u001b[0mloss_attrib2attrib\u001b[0m\u001b[1;33m,\u001b[0m \u001b[0mrl_attrib2img\u001b[0m\u001b[1;33m,\u001b[0m \u001b[0mrl_img2attrib\u001b[0m \u001b[1;33m=\u001b[0m \u001b[0mtrain_step\u001b[0m\u001b[1;33m(\u001b[0m\u001b[0mimg_input\u001b[0m\u001b[1;33m,\u001b[0m \u001b[0mcondition_input\u001b[0m\u001b[1;33m)\u001b[0m\u001b[1;33m\u001b[0m\u001b[1;33m\u001b[0m\u001b[0m\n\u001b[0m\u001b[0;32m     38\u001b[0m         \u001b[0mloss_ss_total\u001b[0m \u001b[1;33m+=\u001b[0m \u001b[0mK\u001b[0m\u001b[1;33m.\u001b[0m\u001b[0mget_value\u001b[0m\u001b[1;33m(\u001b[0m\u001b[0mloss_ss\u001b[0m\u001b[1;33m)\u001b[0m\u001b[1;33m\u001b[0m\u001b[1;33m\u001b[0m\u001b[0m\n\u001b[0;32m     39\u001b[0m         \u001b[0mloss_img2img_total\u001b[0m \u001b[1;33m+=\u001b[0m \u001b[0mK\u001b[0m\u001b[1;33m.\u001b[0m\u001b[0mget_value\u001b[0m\u001b[1;33m(\u001b[0m\u001b[0mloss_img2img\u001b[0m\u001b[1;33m)\u001b[0m\u001b[1;33m\u001b[0m\u001b[1;33m\u001b[0m\u001b[0m\n",
      "\u001b[1;32m~\\Anaconda3\\envs\\tf-gpu\\lib\\site-packages\\tensorflow_core\\python\\eager\\def_function.py\u001b[0m in \u001b[0;36m__call__\u001b[1;34m(self, *args, **kwds)\u001b[0m\n\u001b[0;32m    566\u001b[0m         \u001b[0mxla_context\u001b[0m\u001b[1;33m.\u001b[0m\u001b[0mExit\u001b[0m\u001b[1;33m(\u001b[0m\u001b[1;33m)\u001b[0m\u001b[1;33m\u001b[0m\u001b[1;33m\u001b[0m\u001b[0m\n\u001b[0;32m    567\u001b[0m     \u001b[1;32melse\u001b[0m\u001b[1;33m:\u001b[0m\u001b[1;33m\u001b[0m\u001b[1;33m\u001b[0m\u001b[0m\n\u001b[1;32m--> 568\u001b[1;33m       \u001b[0mresult\u001b[0m \u001b[1;33m=\u001b[0m \u001b[0mself\u001b[0m\u001b[1;33m.\u001b[0m\u001b[0m_call\u001b[0m\u001b[1;33m(\u001b[0m\u001b[1;33m*\u001b[0m\u001b[0margs\u001b[0m\u001b[1;33m,\u001b[0m \u001b[1;33m**\u001b[0m\u001b[0mkwds\u001b[0m\u001b[1;33m)\u001b[0m\u001b[1;33m\u001b[0m\u001b[1;33m\u001b[0m\u001b[0m\n\u001b[0m\u001b[0;32m    569\u001b[0m \u001b[1;33m\u001b[0m\u001b[0m\n\u001b[0;32m    570\u001b[0m     \u001b[1;32mif\u001b[0m \u001b[0mtracing_count\u001b[0m \u001b[1;33m==\u001b[0m \u001b[0mself\u001b[0m\u001b[1;33m.\u001b[0m\u001b[0m_get_tracing_count\u001b[0m\u001b[1;33m(\u001b[0m\u001b[1;33m)\u001b[0m\u001b[1;33m:\u001b[0m\u001b[1;33m\u001b[0m\u001b[1;33m\u001b[0m\u001b[0m\n",
      "\u001b[1;32m~\\Anaconda3\\envs\\tf-gpu\\lib\\site-packages\\tensorflow_core\\python\\eager\\def_function.py\u001b[0m in \u001b[0;36m_call\u001b[1;34m(self, *args, **kwds)\u001b[0m\n\u001b[0;32m    597\u001b[0m       \u001b[1;31m# In this case we have created variables on the first call, so we run the\u001b[0m\u001b[1;33m\u001b[0m\u001b[1;33m\u001b[0m\u001b[1;33m\u001b[0m\u001b[0m\n\u001b[0;32m    598\u001b[0m       \u001b[1;31m# defunned version which is guaranteed to never create variables.\u001b[0m\u001b[1;33m\u001b[0m\u001b[1;33m\u001b[0m\u001b[1;33m\u001b[0m\u001b[0m\n\u001b[1;32m--> 599\u001b[1;33m       \u001b[1;32mreturn\u001b[0m \u001b[0mself\u001b[0m\u001b[1;33m.\u001b[0m\u001b[0m_stateless_fn\u001b[0m\u001b[1;33m(\u001b[0m\u001b[1;33m*\u001b[0m\u001b[0margs\u001b[0m\u001b[1;33m,\u001b[0m \u001b[1;33m**\u001b[0m\u001b[0mkwds\u001b[0m\u001b[1;33m)\u001b[0m  \u001b[1;31m# pylint: disable=not-callable\u001b[0m\u001b[1;33m\u001b[0m\u001b[1;33m\u001b[0m\u001b[0m\n\u001b[0m\u001b[0;32m    600\u001b[0m     \u001b[1;32melif\u001b[0m \u001b[0mself\u001b[0m\u001b[1;33m.\u001b[0m\u001b[0m_stateful_fn\u001b[0m \u001b[1;32mis\u001b[0m \u001b[1;32mnot\u001b[0m \u001b[1;32mNone\u001b[0m\u001b[1;33m:\u001b[0m\u001b[1;33m\u001b[0m\u001b[1;33m\u001b[0m\u001b[0m\n\u001b[0;32m    601\u001b[0m       \u001b[1;31m# Release the lock early so that multiple threads can perform the call\u001b[0m\u001b[1;33m\u001b[0m\u001b[1;33m\u001b[0m\u001b[1;33m\u001b[0m\u001b[0m\n",
      "\u001b[1;32m~\\Anaconda3\\envs\\tf-gpu\\lib\\site-packages\\tensorflow_core\\python\\eager\\function.py\u001b[0m in \u001b[0;36m__call__\u001b[1;34m(self, *args, **kwargs)\u001b[0m\n\u001b[0;32m   2361\u001b[0m     \u001b[1;32mwith\u001b[0m \u001b[0mself\u001b[0m\u001b[1;33m.\u001b[0m\u001b[0m_lock\u001b[0m\u001b[1;33m:\u001b[0m\u001b[1;33m\u001b[0m\u001b[1;33m\u001b[0m\u001b[0m\n\u001b[0;32m   2362\u001b[0m       \u001b[0mgraph_function\u001b[0m\u001b[1;33m,\u001b[0m \u001b[0margs\u001b[0m\u001b[1;33m,\u001b[0m \u001b[0mkwargs\u001b[0m \u001b[1;33m=\u001b[0m \u001b[0mself\u001b[0m\u001b[1;33m.\u001b[0m\u001b[0m_maybe_define_function\u001b[0m\u001b[1;33m(\u001b[0m\u001b[0margs\u001b[0m\u001b[1;33m,\u001b[0m \u001b[0mkwargs\u001b[0m\u001b[1;33m)\u001b[0m\u001b[1;33m\u001b[0m\u001b[1;33m\u001b[0m\u001b[0m\n\u001b[1;32m-> 2363\u001b[1;33m     \u001b[1;32mreturn\u001b[0m \u001b[0mgraph_function\u001b[0m\u001b[1;33m.\u001b[0m\u001b[0m_filtered_call\u001b[0m\u001b[1;33m(\u001b[0m\u001b[0margs\u001b[0m\u001b[1;33m,\u001b[0m \u001b[0mkwargs\u001b[0m\u001b[1;33m)\u001b[0m  \u001b[1;31m# pylint: disable=protected-access\u001b[0m\u001b[1;33m\u001b[0m\u001b[1;33m\u001b[0m\u001b[0m\n\u001b[0m\u001b[0;32m   2364\u001b[0m \u001b[1;33m\u001b[0m\u001b[0m\n\u001b[0;32m   2365\u001b[0m   \u001b[1;33m@\u001b[0m\u001b[0mproperty\u001b[0m\u001b[1;33m\u001b[0m\u001b[1;33m\u001b[0m\u001b[0m\n",
      "\u001b[1;32m~\\Anaconda3\\envs\\tf-gpu\\lib\\site-packages\\tensorflow_core\\python\\eager\\function.py\u001b[0m in \u001b[0;36m_filtered_call\u001b[1;34m(self, args, kwargs)\u001b[0m\n\u001b[0;32m   1609\u001b[0m          if isinstance(t, (ops.Tensor,\n\u001b[0;32m   1610\u001b[0m                            resource_variable_ops.BaseResourceVariable))),\n\u001b[1;32m-> 1611\u001b[1;33m         self.captured_inputs)\n\u001b[0m\u001b[0;32m   1612\u001b[0m \u001b[1;33m\u001b[0m\u001b[0m\n\u001b[0;32m   1613\u001b[0m   \u001b[1;32mdef\u001b[0m \u001b[0m_call_flat\u001b[0m\u001b[1;33m(\u001b[0m\u001b[0mself\u001b[0m\u001b[1;33m,\u001b[0m \u001b[0margs\u001b[0m\u001b[1;33m,\u001b[0m \u001b[0mcaptured_inputs\u001b[0m\u001b[1;33m,\u001b[0m \u001b[0mcancellation_manager\u001b[0m\u001b[1;33m=\u001b[0m\u001b[1;32mNone\u001b[0m\u001b[1;33m)\u001b[0m\u001b[1;33m:\u001b[0m\u001b[1;33m\u001b[0m\u001b[1;33m\u001b[0m\u001b[0m\n",
      "\u001b[1;32m~\\Anaconda3\\envs\\tf-gpu\\lib\\site-packages\\tensorflow_core\\python\\eager\\function.py\u001b[0m in \u001b[0;36m_call_flat\u001b[1;34m(self, args, captured_inputs, cancellation_manager)\u001b[0m\n\u001b[0;32m   1690\u001b[0m       \u001b[1;31m# No tape is watching; skip to running the function.\u001b[0m\u001b[1;33m\u001b[0m\u001b[1;33m\u001b[0m\u001b[1;33m\u001b[0m\u001b[0m\n\u001b[0;32m   1691\u001b[0m       return self._build_call_outputs(self._inference_function.call(\n\u001b[1;32m-> 1692\u001b[1;33m           ctx, args, cancellation_manager=cancellation_manager))\n\u001b[0m\u001b[0;32m   1693\u001b[0m     forward_backward = self._select_forward_and_backward_functions(\n\u001b[0;32m   1694\u001b[0m         \u001b[0margs\u001b[0m\u001b[1;33m,\u001b[0m\u001b[1;33m\u001b[0m\u001b[1;33m\u001b[0m\u001b[0m\n",
      "\u001b[1;32m~\\Anaconda3\\envs\\tf-gpu\\lib\\site-packages\\tensorflow_core\\python\\eager\\function.py\u001b[0m in \u001b[0;36mcall\u001b[1;34m(self, ctx, args, cancellation_manager)\u001b[0m\n\u001b[0;32m    543\u001b[0m               \u001b[0minputs\u001b[0m\u001b[1;33m=\u001b[0m\u001b[0margs\u001b[0m\u001b[1;33m,\u001b[0m\u001b[1;33m\u001b[0m\u001b[1;33m\u001b[0m\u001b[0m\n\u001b[0;32m    544\u001b[0m               \u001b[0mattrs\u001b[0m\u001b[1;33m=\u001b[0m\u001b[1;33m(\u001b[0m\u001b[1;34m\"executor_type\"\u001b[0m\u001b[1;33m,\u001b[0m \u001b[0mexecutor_type\u001b[0m\u001b[1;33m,\u001b[0m \u001b[1;34m\"config_proto\"\u001b[0m\u001b[1;33m,\u001b[0m \u001b[0mconfig\u001b[0m\u001b[1;33m)\u001b[0m\u001b[1;33m,\u001b[0m\u001b[1;33m\u001b[0m\u001b[1;33m\u001b[0m\u001b[0m\n\u001b[1;32m--> 545\u001b[1;33m               ctx=ctx)\n\u001b[0m\u001b[0;32m    546\u001b[0m         \u001b[1;32melse\u001b[0m\u001b[1;33m:\u001b[0m\u001b[1;33m\u001b[0m\u001b[1;33m\u001b[0m\u001b[0m\n\u001b[0;32m    547\u001b[0m           outputs = execute.execute_with_cancellation(\n",
      "\u001b[1;32m~\\Anaconda3\\envs\\tf-gpu\\lib\\site-packages\\tensorflow_core\\python\\eager\\execute.py\u001b[0m in \u001b[0;36mquick_execute\u001b[1;34m(op_name, num_outputs, inputs, attrs, ctx, name)\u001b[0m\n\u001b[0;32m     59\u001b[0m     tensors = pywrap_tensorflow.TFE_Py_Execute(ctx._handle, device_name,\n\u001b[0;32m     60\u001b[0m                                                \u001b[0mop_name\u001b[0m\u001b[1;33m,\u001b[0m \u001b[0minputs\u001b[0m\u001b[1;33m,\u001b[0m \u001b[0mattrs\u001b[0m\u001b[1;33m,\u001b[0m\u001b[1;33m\u001b[0m\u001b[1;33m\u001b[0m\u001b[0m\n\u001b[1;32m---> 61\u001b[1;33m                                                num_outputs)\n\u001b[0m\u001b[0;32m     62\u001b[0m   \u001b[1;32mexcept\u001b[0m \u001b[0mcore\u001b[0m\u001b[1;33m.\u001b[0m\u001b[0m_NotOkStatusException\u001b[0m \u001b[1;32mas\u001b[0m \u001b[0me\u001b[0m\u001b[1;33m:\u001b[0m\u001b[1;33m\u001b[0m\u001b[1;33m\u001b[0m\u001b[0m\n\u001b[0;32m     63\u001b[0m     \u001b[1;32mif\u001b[0m \u001b[0mname\u001b[0m \u001b[1;32mis\u001b[0m \u001b[1;32mnot\u001b[0m \u001b[1;32mNone\u001b[0m\u001b[1;33m:\u001b[0m\u001b[1;33m\u001b[0m\u001b[1;33m\u001b[0m\u001b[0m\n",
      "\u001b[1;31mKeyboardInterrupt\u001b[0m: "
     ]
    }
   ],
   "source": [
    "import time\n",
    "epochs = 1001\n",
    "batch_size = 32\n",
    "\n",
    "model_type = '10kimgs-cross-vae'\n",
    "\n",
    "training_imgs = training_data[0]\n",
    "training_cond = training_data[1]\n",
    "num_batches = len(training_imgs) // batch_size\n",
    "\n",
    "loss_ss_list = []\n",
    "loss_img2img_list = []\n",
    "loss_attrib2attrib_list = [] \n",
    "rl_attrib2img_list = []\n",
    "rl_img2attrib_list = []\n",
    "\n",
    "\n",
    "\n",
    "for epoch in range(0,epochs):\n",
    "    start = time.time()\n",
    "    print(f'Epoch [{epoch}/{epochs-1}]...'.ljust(20), end = '')\n",
    "\n",
    "    np.random.seed(epoch)\n",
    "    np.random.shuffle(training_imgs)\n",
    "    np.random.seed(epoch)\n",
    "    np.random.shuffle(training_cond)\n",
    "    \n",
    "    loss_ss_total = 0 \n",
    "    loss_img2img_total = 0\n",
    "    loss_attrib2attrib_total = 0 \n",
    "    rl_attrib2img_total = 0\n",
    "    rl_img2attrib_total = 0\n",
    "    for index in range(num_batches):\n",
    "        img_input = training_imgs[index*batch_size: batch_size*(index+1)]\n",
    "        condition_input = training_cond[index*batch_size: batch_size*(index+1)]\n",
    "        \n",
    "        loss_ss, loss_img2img, loss_attrib2attrib, rl_attrib2img, rl_img2attrib = train_step(img_input, condition_input)\n",
    "        loss_ss_total += K.get_value(loss_ss)\n",
    "        loss_img2img_total += K.get_value(loss_img2img)\n",
    "        loss_attrib2attrib_total += K.get_value(loss_attrib2attrib)\n",
    "        rl_attrib2img_total += K.get_value(rl_attrib2img)\n",
    "        rl_img2attrib_total += K.get_value(rl_img2attrib)\n",
    "    \n",
    "\n",
    "    loss_ss_list.append(loss_ss_total/num_batches)\n",
    "    loss_img2img_list.append(loss_img2img_total/num_batches)\n",
    "    loss_attrib2attrib_list.append(loss_attrib2attrib_total/num_batches)\n",
    "    rl_attrib2img_list.append(rl_attrib2img_total/num_batches)\n",
    "    rl_img2attrib_list.append(rl_img2attrib_total/num_batches)\n",
    "\n",
    "    \n",
    "    print(f'...{time.time()-start:.3f}(s)  ss: {loss_ss_total/num_batches:.3f} - img2img: {loss_img2img_total/num_batches:.3f} - attrib2attrib: {loss_attrib2attrib_total/num_batches:.3f} - attrib2img: {rl_attrib2img_total/num_batches:.3f} - img2attrib: {rl_img2attrib_total/num_batches:.3f}')\n",
    "    if epoch % 100 == 0:\n",
    "        print(f'checkpointing at epoch: {epoch}')\n",
    "        decoder.save_weights(f'./checkpoints/epoch-{epoch}-{model_type}-decoder-weights.h5')\n",
    "        decoder.save(f'./checkpoints/epoch-{epoch}-{model_type}-decoder.h5')\n",
    "        encoder.save_weights(f'./checkpoints/epoch-{epoch}-{model_type}-encoder-weights.h5')\n",
    "        encoder.save(f'./checkpoints/epoch-{epoch}-{model_type}-encoder.h5')\n",
    "        attrib_decoder.save_weights(f'./checkpoints/epoch-{epoch}-{model_type}-attrib-decoder-weights.h5')\n",
    "        attrib_decoder.save(f'./checkpoints/epoch-{epoch}-{model_type}-attrib-decoder.h5')\n",
    "        attrib_encoder.save_weights(f'./checkpoints/epoch-{epoch}-{model_type}-attrib-encoder-weights.h5')\n",
    "        attrib_encoder.save(f'./checkpoints/epoch-{epoch}-{model_type}-attrib-encoder.h5')\n"
   ]
  },
  {
   "cell_type": "code",
   "execution_count": 97,
   "metadata": {},
   "outputs": [
    {
     "data": {
      "image/png": "[encoded data removed]",
      "text/plain": [
       "<Figure size 432x288 with 1 Axes>"
      ]
     },
     "metadata": {
      "needs_background": "light"
     },
     "output_type": "display_data"
    },
    {
     "data": {
      "image/png": "[encoded data removed]",
      "text/plain": [
       "<Figure size 432x288 with 1 Axes>"
      ]
     },
     "metadata": {
      "needs_background": "light"
     },
     "output_type": "display_data"
    },
    {
     "data": {
      "image/png": "[encoded data removed]",
      "text/plain": [
       "<Figure size 432x288 with 1 Axes>"
      ]
     },
     "metadata": {
      "needs_background": "light"
     },
     "output_type": "display_data"
    },
    {
     "data": {
      "image/png": "[encoded data removed]",
      "text/plain": [
       "<Figure size 432x288 with 1 Axes>"
      ]
     },
     "metadata": {
      "needs_background": "light"
     },
     "output_type": "display_data"
    },
    {
     "data": {
      "image/png": "[encoded data removed]",
      "text/plain": [
       "<Figure size 432x288 with 1 Axes>"
      ]
     },
     "metadata": {
      "needs_background": "light"
     },
     "output_type": "display_data"
    }
   ],
   "source": [
    "plt.plot(loss_ss_list)\n",
    "plt.title(\"Space Sharing Loss\")\n",
    "plt.show()\n",
    "\n",
    "plt.plot(loss_img2img_list)\n",
    "plt.title(\"Img2Img Loss\")\n",
    "plt.show()\n",
    "\n",
    "plt.plot(loss_attrib2attrib_list[373:])\n",
    "plt.title(\"Attrib2Attrib Loss\")\n",
    "plt.show()\n",
    "\n",
    "plt.plot(rl_img2attrib_list)\n",
    "plt.title(\"Img2Attrib Loss\")\n",
    "plt.show()\n",
    "\n",
    "plt.plot(rl_attrib2img_list)\n",
    "plt.title(\"Attrib2Img Loss\")\n",
    "plt.show()"
   ]
  },
  {
   "cell_type": "code",
   "execution_count": 45,
   "metadata": {},
   "outputs": [],
   "source": [
    "from __future__ import print_function\n",
    "from ipywidgets import interact, interactive, fixed, interact_manual\n",
    "import ipywidgets as widgets\n",
    "from IPython.display import display\n",
    "from ipywidgets import HBox, Label"
   ]
  },
  {
   "cell_type": "code",
   "execution_count": 46,
   "metadata": {},
   "outputs": [
    {
     "name": "stdout",
     "output_type": "stream",
     "text": [
      "5oClockShadow=1, Arched_Eyebrows=1, Attractive=1, Bags_Under_Eyes=1, Bald=1, Bangs=1, Big_Lips=1, Big_Nose=1, Black_Hair=1, Blond_Hair=1, Blurry=1, Brown_Hair=1, Bushy_Eyebrows=1, Chubby=1, Double_Chin=1, Eyeglasses=1, Goatee=1, Gray_Hair=1, Heavy_Makeup=1, High_Cheekbones=1, Male=1, Mouth_Slightly_Open=1, Mustache=1, Narrow_Eyes=1, No_Beard=1, Oval_Face=1, Pale_Skin=1, Pointy_Nose=1, Receding_Hairline=1, Rosy_Cheeks=1, Sideburns=1, Smiling=1, Straight_Hair=1, Wavy_Hair=1, Wearing_Earrings=1, Wearing_Hat=1, Wearing_Lipstick=1, Wearing_Necklace=1, Wearing_Necktie=1, Young\n"
     ]
    }
   ],
   "source": [
    "attribs = '''5oClockShadow=1, Arched_Eyebrows=1, Attractive=1, Bags_Under_Eyes=1, Bald=1, Bangs=1, Big_Lips=1, Big_Nose=1, Black_Hair=1, Blond_Hair=1, Blurry=1, Brown_Hair=1, Bushy_Eyebrows=1, Chubby=1, Double_Chin=1, Eyeglasses=1, Goatee=1, Gray_Hair=1, Heavy_Makeup=1, High_Cheekbones=1, Male=1, Mouth_Slightly_Open=1, Mustache=1, Narrow_Eyes=1, No_Beard=1, Oval_Face=1, Pale_Skin=1, Pointy_Nose=1, Receding_Hairline=1, Rosy_Cheeks=1, Sideburns=1, Smiling=1, Straight_Hair=1, Wavy_Hair=1, Wearing_Earrings=1, Wearing_Hat=1, Wearing_Lipstick=1, Wearing_Necklace=1, Wearing_Necktie=1, Young'''\n",
    "attribs = attribs.split('=1,')\n",
    "attribs = [attrib.strip() for attrib in attribs]\n",
    "print(f\"=1, \".join(attribs))"
   ]
  },
  {
   "cell_type": "code",
   "execution_count": 47,
   "metadata": {},
   "outputs": [],
   "source": [
    "attrib_dict = {attrib:i for i,attrib in enumerate(attribs)}"
   ]
  },
  {
   "cell_type": "code",
   "execution_count": 48,
   "metadata": {
    "scrolled": true
   },
   "outputs": [
    {
     "data": {
      "application/vnd.jupyter.widget-view+json": {
       "model_id": "1af03b96c82a4740ab522e649dbf0d70",
       "version_major": 2,
       "version_minor": 0
      },
      "text/plain": [
       "Label(value='5oClockShadow')"
      ]
     },
     "metadata": {},
     "output_type": "display_data"
    },
    {
     "data": {
      "application/vnd.jupyter.widget-view+json": {
       "model_id": "b2f8f6e5d71743748089fc8e7900179f",
       "version_major": 2,
       "version_minor": 0
      },
      "text/plain": [
       "FloatSlider(value=-1.0, max=3.0, min=-3.0, step=0.5)"
      ]
     },
     "metadata": {},
     "output_type": "display_data"
    },
    {
     "data": {
      "application/vnd.jupyter.widget-view+json": {
       "model_id": "de4bbe80210e437489ee1f2be588a3b1",
       "version_major": 2,
       "version_minor": 0
      },
      "text/plain": [
       "Label(value='Arched_Eyebrows')"
      ]
     },
     "metadata": {},
     "output_type": "display_data"
    },
    {
     "data": {
      "application/vnd.jupyter.widget-view+json": {
       "model_id": "14987cb53dd4455d85c542788d6f4f48",
       "version_major": 2,
       "version_minor": 0
      },
      "text/plain": [
       "FloatSlider(value=-1.0, max=3.0, min=-3.0, step=0.5)"
      ]
     },
     "metadata": {},
     "output_type": "display_data"
    },
    {
     "data": {
      "application/vnd.jupyter.widget-view+json": {
       "model_id": "018dda3b294b4208b77f6fdef5ab25fb",
       "version_major": 2,
       "version_minor": 0
      },
      "text/plain": [
       "Label(value='Attractive')"
      ]
     },
     "metadata": {},
     "output_type": "display_data"
    },
    {
     "data": {
      "application/vnd.jupyter.widget-view+json": {
       "model_id": "bd087ed267ba42e28705fe978692e6ad",
       "version_major": 2,
       "version_minor": 0
      },
      "text/plain": [
       "FloatSlider(value=-1.0, max=3.0, min=-3.0, step=0.5)"
      ]
     },
     "metadata": {},
     "output_type": "display_data"
    },
    {
     "data": {
      "application/vnd.jupyter.widget-view+json": {
       "model_id": "d38441e86eb34c5590e8b17606045796",
       "version_major": 2,
       "version_minor": 0
      },
      "text/plain": [
       "Label(value='Bags_Under_Eyes')"
      ]
     },
     "metadata": {},
     "output_type": "display_data"
    },
    {
     "data": {
      "application/vnd.jupyter.widget-view+json": {
       "model_id": "b561d3640f3e441585811b9d9b03ce51",
       "version_major": 2,
       "version_minor": 0
      },
      "text/plain": [
       "FloatSlider(value=-1.0, max=3.0, min=-3.0, step=0.5)"
      ]
     },
     "metadata": {},
     "output_type": "display_data"
    },
    {
     "data": {
      "application/vnd.jupyter.widget-view+json": {
       "model_id": "b0c3f206d45f4bffb7de9cf76e9248a8",
       "version_major": 2,
       "version_minor": 0
      },
      "text/plain": [
       "Label(value='Bald')"
      ]
     },
     "metadata": {},
     "output_type": "display_data"
    },
    {
     "data": {
      "application/vnd.jupyter.widget-view+json": {
       "model_id": "3e4acc27fe2e4fa491b0f57995bf083d",
       "version_major": 2,
       "version_minor": 0
      },
      "text/plain": [
       "FloatSlider(value=-1.0, max=3.0, min=-3.0, step=0.5)"
      ]
     },
     "metadata": {},
     "output_type": "display_data"
    },
    {
     "data": {
      "application/vnd.jupyter.widget-view+json": {
       "model_id": "de9edff16ace44faa69044669bdda013",
       "version_major": 2,
       "version_minor": 0
      },
      "text/plain": [
       "Label(value='Bangs')"
      ]
     },
     "metadata": {},
     "output_type": "display_data"
    },
    {
     "data": {
      "application/vnd.jupyter.widget-view+json": {
       "model_id": "efe4bd9d9d1b4d86bf00ee7a3e7c9d6e",
       "version_major": 2,
       "version_minor": 0
      },
      "text/plain": [
       "FloatSlider(value=-1.0, max=3.0, min=-3.0, step=0.5)"
      ]
     },
     "metadata": {},
     "output_type": "display_data"
    },
    {
     "data": {
      "application/vnd.jupyter.widget-view+json": {
       "model_id": "3437c585b3814120b7b8054dab09169f",
       "version_major": 2,
       "version_minor": 0
      },
      "text/plain": [
       "Label(value='Big_Lips')"
      ]
     },
     "metadata": {},
     "output_type": "display_data"
    },
    {
     "data": {
      "application/vnd.jupyter.widget-view+json": {
       "model_id": "5aff1e3fd63a490683efe2888d5813c2",
       "version_major": 2,
       "version_minor": 0
      },
      "text/plain": [
       "FloatSlider(value=-1.0, max=3.0, min=-3.0, step=0.5)"
      ]
     },
     "metadata": {},
     "output_type": "display_data"
    },
    {
     "data": {
      "application/vnd.jupyter.widget-view+json": {
       "model_id": "4b740f1dae064523b54131cd38e1ac9c",
       "version_major": 2,
       "version_minor": 0
      },
      "text/plain": [
       "Label(value='Big_Nose')"
      ]
     },
     "metadata": {},
     "output_type": "display_data"
    },
    {
     "data": {
      "application/vnd.jupyter.widget-view+json": {
       "model_id": "6761a4e7a480464991f8b213d14e2019",
       "version_major": 2,
       "version_minor": 0
      },
      "text/plain": [
       "FloatSlider(value=-1.0, max=3.0, min=-3.0, step=0.5)"
      ]
     },
     "metadata": {},
     "output_type": "display_data"
    },
    {
     "data": {
      "application/vnd.jupyter.widget-view+json": {
       "model_id": "ca2c4d6b7f804eeaa162cf7c66412727",
       "version_major": 2,
       "version_minor": 0
      },
      "text/plain": [
       "Label(value='Black_Hair')"
      ]
     },
     "metadata": {},
     "output_type": "display_data"
    },
    {
     "data": {
      "application/vnd.jupyter.widget-view+json": {
       "model_id": "34ea44368a3b456a941f443df06e9f5c",
       "version_major": 2,
       "version_minor": 0
      },
      "text/plain": [
       "FloatSlider(value=-1.0, max=3.0, min=-3.0, step=0.5)"
      ]
     },
     "metadata": {},
     "output_type": "display_data"
    },
    {
     "data": {
      "application/vnd.jupyter.widget-view+json": {
       "model_id": "95827e4e6a9646b2b84066b05d2b5d7f",
       "version_major": 2,
       "version_minor": 0
      },
      "text/plain": [
       "Label(value='Blond_Hair')"
      ]
     },
     "metadata": {},
     "output_type": "display_data"
    },
    {
     "data": {
      "application/vnd.jupyter.widget-view+json": {
       "model_id": "91b493d36b1144d2baa27645786ad5b3",
       "version_major": 2,
       "version_minor": 0
      },
      "text/plain": [
       "FloatSlider(value=-1.0, max=3.0, min=-3.0, step=0.5)"
      ]
     },
     "metadata": {},
     "output_type": "display_data"
    },
    {
     "data": {
      "application/vnd.jupyter.widget-view+json": {
       "model_id": "7625de284606433a8ac835da2f4e4757",
       "version_major": 2,
       "version_minor": 0
      },
      "text/plain": [
       "Label(value='Blurry')"
      ]
     },
     "metadata": {},
     "output_type": "display_data"
    },
    {
     "data": {
      "application/vnd.jupyter.widget-view+json": {
       "model_id": "6b0aa300d97d4ac4914ca7448df94cff",
       "version_major": 2,
       "version_minor": 0
      },
      "text/plain": [
       "FloatSlider(value=-1.0, max=3.0, min=-3.0, step=0.5)"
      ]
     },
     "metadata": {},
     "output_type": "display_data"
    },
    {
     "data": {
      "application/vnd.jupyter.widget-view+json": {
       "model_id": "16f7a235c7e14bf3a0b101047bef9d47",
       "version_major": 2,
       "version_minor": 0
      },
      "text/plain": [
       "Label(value='Brown_Hair')"
      ]
     },
     "metadata": {},
     "output_type": "display_data"
    },
    {
     "data": {
      "application/vnd.jupyter.widget-view+json": {
       "model_id": "08be40e29d964c33a8c599d59bd2d167",
       "version_major": 2,
       "version_minor": 0
      },
      "text/plain": [
       "FloatSlider(value=-1.0, max=3.0, min=-3.0, step=0.5)"
      ]
     },
     "metadata": {},
     "output_type": "display_data"
    },
    {
     "data": {
      "application/vnd.jupyter.widget-view+json": {
       "model_id": "28c8cdac71d54e57b406e99504ab1d85",
       "version_major": 2,
       "version_minor": 0
      },
      "text/plain": [
       "Label(value='Bushy_Eyebrows')"
      ]
     },
     "metadata": {},
     "output_type": "display_data"
    },
    {
     "data": {
      "application/vnd.jupyter.widget-view+json": {
       "model_id": "f499b93d3e294103958d6a03e69a93dd",
       "version_major": 2,
       "version_minor": 0
      },
      "text/plain": [
       "FloatSlider(value=-1.0, max=3.0, min=-3.0, step=0.5)"
      ]
     },
     "metadata": {},
     "output_type": "display_data"
    },
    {
     "data": {
      "application/vnd.jupyter.widget-view+json": {
       "model_id": "f83af6d34fda447da1964b28aaa157cd",
       "version_major": 2,
       "version_minor": 0
      },
      "text/plain": [
       "Label(value='Chubby')"
      ]
     },
     "metadata": {},
     "output_type": "display_data"
    },
    {
     "data": {
      "application/vnd.jupyter.widget-view+json": {
       "model_id": "a44e511d0aca42c0a4b567cf97825aa7",
       "version_major": 2,
       "version_minor": 0
      },
      "text/plain": [
       "FloatSlider(value=-1.0, max=3.0, min=-3.0, step=0.5)"
      ]
     },
     "metadata": {},
     "output_type": "display_data"
    },
    {
     "data": {
      "application/vnd.jupyter.widget-view+json": {
       "model_id": "be9dc40e36d948c3ac7f05c20b4b6a85",
       "version_major": 2,
       "version_minor": 0
      },
      "text/plain": [
       "Label(value='Double_Chin')"
      ]
     },
     "metadata": {},
     "output_type": "display_data"
    },
    {
     "data": {
      "application/vnd.jupyter.widget-view+json": {
       "model_id": "1f60ec4fa4894f869c79d5456e2c485e",
       "version_major": 2,
       "version_minor": 0
      },
      "text/plain": [
       "FloatSlider(value=-1.0, max=3.0, min=-3.0, step=0.5)"
      ]
     },
     "metadata": {},
     "output_type": "display_data"
    },
    {
     "data": {
      "application/vnd.jupyter.widget-view+json": {
       "model_id": "93bee409d7a247e5b65a8c144a9b479f",
       "version_major": 2,
       "version_minor": 0
      },
      "text/plain": [
       "Label(value='Eyeglasses')"
      ]
     },
     "metadata": {},
     "output_type": "display_data"
    },
    {
     "data": {
      "application/vnd.jupyter.widget-view+json": {
       "model_id": "f24606ad5497469ebca4d6acfd7feade",
       "version_major": 2,
       "version_minor": 0
      },
      "text/plain": [
       "FloatSlider(value=-1.0, max=3.0, min=-3.0, step=0.5)"
      ]
     },
     "metadata": {},
     "output_type": "display_data"
    },
    {
     "data": {
      "application/vnd.jupyter.widget-view+json": {
       "model_id": "6b6eaf53c2a6400a923bfde017d1039b",
       "version_major": 2,
       "version_minor": 0
      },
      "text/plain": [
       "Label(value='Goatee')"
      ]
     },
     "metadata": {},
     "output_type": "display_data"
    },
    {
     "data": {
      "application/vnd.jupyter.widget-view+json": {
       "model_id": "aa48d01cf8ad43b4b4d4617d89a88160",
       "version_major": 2,
       "version_minor": 0
      },
      "text/plain": [
       "FloatSlider(value=-1.0, max=3.0, min=-3.0, step=0.5)"
      ]
     },
     "metadata": {},
     "output_type": "display_data"
    },
    {
     "data": {
      "application/vnd.jupyter.widget-view+json": {
       "model_id": "c9d378e045bc4633bcec8312871cd063",
       "version_major": 2,
       "version_minor": 0
      },
      "text/plain": [
       "Label(value='Gray_Hair')"
      ]
     },
     "metadata": {},
     "output_type": "display_data"
    },
    {
     "data": {
      "application/vnd.jupyter.widget-view+json": {
       "model_id": "76b2683517dd4ed28fd1e19f8407a9f7",
       "version_major": 2,
       "version_minor": 0
      },
      "text/plain": [
       "FloatSlider(value=-1.0, max=3.0, min=-3.0, step=0.5)"
      ]
     },
     "metadata": {},
     "output_type": "display_data"
    },
    {
     "data": {
      "application/vnd.jupyter.widget-view+json": {
       "model_id": "20eb625eb0e140a8b8e5ef27baedff82",
       "version_major": 2,
       "version_minor": 0
      },
      "text/plain": [
       "Label(value='Heavy_Makeup')"
      ]
     },
     "metadata": {},
     "output_type": "display_data"
    },
    {
     "data": {
      "application/vnd.jupyter.widget-view+json": {
       "model_id": "2b9055e76c734b67ab3a75610ff26acb",
       "version_major": 2,
       "version_minor": 0
      },
      "text/plain": [
       "FloatSlider(value=-1.0, max=3.0, min=-3.0, step=0.5)"
      ]
     },
     "metadata": {},
     "output_type": "display_data"
    },
    {
     "data": {
      "application/vnd.jupyter.widget-view+json": {
       "model_id": "c0b7b2059d484f87b2eea3669f497b40",
       "version_major": 2,
       "version_minor": 0
      },
      "text/plain": [
       "Label(value='High_Cheekbones')"
      ]
     },
     "metadata": {},
     "output_type": "display_data"
    },
    {
     "data": {
      "application/vnd.jupyter.widget-view+json": {
       "model_id": "7dc9a0c4dea14609aa874ca854160314",
       "version_major": 2,
       "version_minor": 0
      },
      "text/plain": [
       "FloatSlider(value=-1.0, max=3.0, min=-3.0, step=0.5)"
      ]
     },
     "metadata": {},
     "output_type": "display_data"
    },
    {
     "data": {
      "application/vnd.jupyter.widget-view+json": {
       "model_id": "3a76e3c0371b4d63a2821d78bf3f030f",
       "version_major": 2,
       "version_minor": 0
      },
      "text/plain": [
       "Label(value='Male')"
      ]
     },
     "metadata": {},
     "output_type": "display_data"
    },
    {
     "data": {
      "application/vnd.jupyter.widget-view+json": {
       "model_id": "780e0bf0ce2d4275846648c739c49945",
       "version_major": 2,
       "version_minor": 0
      },
      "text/plain": [
       "FloatSlider(value=-1.0, max=3.0, min=-3.0, step=0.5)"
      ]
     },
     "metadata": {},
     "output_type": "display_data"
    },
    {
     "data": {
      "application/vnd.jupyter.widget-view+json": {
       "model_id": "94942a2aaeab4b44b3f80cab954edfc3",
       "version_major": 2,
       "version_minor": 0
      },
      "text/plain": [
       "Label(value='Mouth_Slightly_Open')"
      ]
     },
     "metadata": {},
     "output_type": "display_data"
    },
    {
     "data": {
      "application/vnd.jupyter.widget-view+json": {
       "model_id": "5e365bd6c4e44c31823bf0a604dde620",
       "version_major": 2,
       "version_minor": 0
      },
      "text/plain": [
       "FloatSlider(value=-1.0, max=3.0, min=-3.0, step=0.5)"
      ]
     },
     "metadata": {},
     "output_type": "display_data"
    },
    {
     "data": {
      "application/vnd.jupyter.widget-view+json": {
       "model_id": "0b99b303899c401489f749ce533470ba",
       "version_major": 2,
       "version_minor": 0
      },
      "text/plain": [
       "Label(value='Mustache')"
      ]
     },
     "metadata": {},
     "output_type": "display_data"
    },
    {
     "data": {
      "application/vnd.jupyter.widget-view+json": {
       "model_id": "cab99967286949aaa2051fc9472665d0",
       "version_major": 2,
       "version_minor": 0
      },
      "text/plain": [
       "FloatSlider(value=-1.0, max=3.0, min=-3.0, step=0.5)"
      ]
     },
     "metadata": {},
     "output_type": "display_data"
    },
    {
     "data": {
      "application/vnd.jupyter.widget-view+json": {
       "model_id": "80b081e5e04e4fe4b9e96b885fd9700c",
       "version_major": 2,
       "version_minor": 0
      },
      "text/plain": [
       "Label(value='Narrow_Eyes')"
      ]
     },
     "metadata": {},
     "output_type": "display_data"
    },
    {
     "data": {
      "application/vnd.jupyter.widget-view+json": {
       "model_id": "b389a27632864a8e83a878c4501d1052",
       "version_major": 2,
       "version_minor": 0
      },
      "text/plain": [
       "FloatSlider(value=-1.0, max=3.0, min=-3.0, step=0.5)"
      ]
     },
     "metadata": {},
     "output_type": "display_data"
    },
    {
     "data": {
      "application/vnd.jupyter.widget-view+json": {
       "model_id": "6c79053c749b4e4e8b98de70cf58690e",
       "version_major": 2,
       "version_minor": 0
      },
      "text/plain": [
       "Label(value='No_Beard')"
      ]
     },
     "metadata": {},
     "output_type": "display_data"
    },
    {
     "data": {
      "application/vnd.jupyter.widget-view+json": {
       "model_id": "23c69d955c8c45318724dd936972aedf",
       "version_major": 2,
       "version_minor": 0
      },
      "text/plain": [
       "FloatSlider(value=-1.0, max=3.0, min=-3.0, step=0.5)"
      ]
     },
     "metadata": {},
     "output_type": "display_data"
    },
    {
     "data": {
      "application/vnd.jupyter.widget-view+json": {
       "model_id": "bb1df5deb6564b9fb2bac1d9cc07201b",
       "version_major": 2,
       "version_minor": 0
      },
      "text/plain": [
       "Label(value='Oval_Face')"
      ]
     },
     "metadata": {},
     "output_type": "display_data"
    },
    {
     "data": {
      "application/vnd.jupyter.widget-view+json": {
       "model_id": "dbe40cd6fa6a4853834cbf2e1bfef63e",
       "version_major": 2,
       "version_minor": 0
      },
      "text/plain": [
       "FloatSlider(value=-1.0, max=3.0, min=-3.0, step=0.5)"
      ]
     },
     "metadata": {},
     "output_type": "display_data"
    },
    {
     "data": {
      "application/vnd.jupyter.widget-view+json": {
       "model_id": "4d95f4b0561042799ca68176e1f46c33",
       "version_major": 2,
       "version_minor": 0
      },
      "text/plain": [
       "Label(value='Pale_Skin')"
      ]
     },
     "metadata": {},
     "output_type": "display_data"
    },
    {
     "data": {
      "application/vnd.jupyter.widget-view+json": {
       "model_id": "e91d26c393f2430f959d38b8b2a491d6",
       "version_major": 2,
       "version_minor": 0
      },
      "text/plain": [
       "FloatSlider(value=-1.0, max=3.0, min=-3.0, step=0.5)"
      ]
     },
     "metadata": {},
     "output_type": "display_data"
    },
    {
     "data": {
      "application/vnd.jupyter.widget-view+json": {
       "model_id": "e621a3074f9741d984f205fd02c8cf13",
       "version_major": 2,
       "version_minor": 0
      },
      "text/plain": [
       "Label(value='Pointy_Nose')"
      ]
     },
     "metadata": {},
     "output_type": "display_data"
    },
    {
     "data": {
      "application/vnd.jupyter.widget-view+json": {
       "model_id": "0dfe42266ef44c5fa8e68d773408ea0b",
       "version_major": 2,
       "version_minor": 0
      },
      "text/plain": [
       "FloatSlider(value=-1.0, max=3.0, min=-3.0, step=0.5)"
      ]
     },
     "metadata": {},
     "output_type": "display_data"
    },
    {
     "data": {
      "application/vnd.jupyter.widget-view+json": {
       "model_id": "653a0e86d5e7446fbd6201ead2ce3921",
       "version_major": 2,
       "version_minor": 0
      },
      "text/plain": [
       "Label(value='Receding_Hairline')"
      ]
     },
     "metadata": {},
     "output_type": "display_data"
    },
    {
     "data": {
      "application/vnd.jupyter.widget-view+json": {
       "model_id": "5982c1868658441d991362dbdea3eb1a",
       "version_major": 2,
       "version_minor": 0
      },
      "text/plain": [
       "FloatSlider(value=-1.0, max=3.0, min=-3.0, step=0.5)"
      ]
     },
     "metadata": {},
     "output_type": "display_data"
    },
    {
     "data": {
      "application/vnd.jupyter.widget-view+json": {
       "model_id": "b4aefe50113c42ddad9373f728e73079",
       "version_major": 2,
       "version_minor": 0
      },
      "text/plain": [
       "Label(value='Rosy_Cheeks')"
      ]
     },
     "metadata": {},
     "output_type": "display_data"
    },
    {
     "data": {
      "application/vnd.jupyter.widget-view+json": {
       "model_id": "3c7232ddcb214d48bac56a017f79f3ed",
       "version_major": 2,
       "version_minor": 0
      },
      "text/plain": [
       "FloatSlider(value=-1.0, max=3.0, min=-3.0, step=0.5)"
      ]
     },
     "metadata": {},
     "output_type": "display_data"
    },
    {
     "data": {
      "application/vnd.jupyter.widget-view+json": {
       "model_id": "c93b0754bd164c3d9ab663a636cd8680",
       "version_major": 2,
       "version_minor": 0
      },
      "text/plain": [
       "Label(value='Sideburns')"
      ]
     },
     "metadata": {},
     "output_type": "display_data"
    },
    {
     "data": {
      "application/vnd.jupyter.widget-view+json": {
       "model_id": "470d7dc0109441ef939968efecbf00f7",
       "version_major": 2,
       "version_minor": 0
      },
      "text/plain": [
       "FloatSlider(value=-1.0, max=3.0, min=-3.0, step=0.5)"
      ]
     },
     "metadata": {},
     "output_type": "display_data"
    },
    {
     "data": {
      "application/vnd.jupyter.widget-view+json": {
       "model_id": "daadf64bcd1d4e749f18d2d6598a0383",
       "version_major": 2,
       "version_minor": 0
      },
      "text/plain": [
       "Label(value='Smiling')"
      ]
     },
     "metadata": {},
     "output_type": "display_data"
    },
    {
     "data": {
      "application/vnd.jupyter.widget-view+json": {
       "model_id": "d4e7b7642ca0414e9e7b42418eb42c51",
       "version_major": 2,
       "version_minor": 0
      },
      "text/plain": [
       "FloatSlider(value=-1.0, max=3.0, min=-3.0, step=0.5)"
      ]
     },
     "metadata": {},
     "output_type": "display_data"
    },
    {
     "data": {
      "application/vnd.jupyter.widget-view+json": {
       "model_id": "b5d038d893df4df9b27e26ee0401fa7f",
       "version_major": 2,
       "version_minor": 0
      },
      "text/plain": [
       "Label(value='Straight_Hair')"
      ]
     },
     "metadata": {},
     "output_type": "display_data"
    },
    {
     "data": {
      "application/vnd.jupyter.widget-view+json": {
       "model_id": "ac9cfd4357da403c8a50720d36b5b935",
       "version_major": 2,
       "version_minor": 0
      },
      "text/plain": [
       "FloatSlider(value=-1.0, max=3.0, min=-3.0, step=0.5)"
      ]
     },
     "metadata": {},
     "output_type": "display_data"
    },
    {
     "data": {
      "application/vnd.jupyter.widget-view+json": {
       "model_id": "95606fae806242b5855817b912007394",
       "version_major": 2,
       "version_minor": 0
      },
      "text/plain": [
       "Label(value='Wavy_Hair')"
      ]
     },
     "metadata": {},
     "output_type": "display_data"
    },
    {
     "data": {
      "application/vnd.jupyter.widget-view+json": {
       "model_id": "201a76a5efa446839d4d22c8aa867345",
       "version_major": 2,
       "version_minor": 0
      },
      "text/plain": [
       "FloatSlider(value=-1.0, max=3.0, min=-3.0, step=0.5)"
      ]
     },
     "metadata": {},
     "output_type": "display_data"
    },
    {
     "data": {
      "application/vnd.jupyter.widget-view+json": {
       "model_id": "ecbef1a190ec43c7b377375811f6ebe0",
       "version_major": 2,
       "version_minor": 0
      },
      "text/plain": [
       "Label(value='Wearing_Earrings')"
      ]
     },
     "metadata": {},
     "output_type": "display_data"
    },
    {
     "data": {
      "application/vnd.jupyter.widget-view+json": {
       "model_id": "848814016f944bfbb7f18a2e5654eca8",
       "version_major": 2,
       "version_minor": 0
      },
      "text/plain": [
       "FloatSlider(value=-1.0, max=3.0, min=-3.0, step=0.5)"
      ]
     },
     "metadata": {},
     "output_type": "display_data"
    },
    {
     "data": {
      "application/vnd.jupyter.widget-view+json": {
       "model_id": "1db57bac7fff41fd93c08984600d9315",
       "version_major": 2,
       "version_minor": 0
      },
      "text/plain": [
       "Label(value='Wearing_Hat')"
      ]
     },
     "metadata": {},
     "output_type": "display_data"
    },
    {
     "data": {
      "application/vnd.jupyter.widget-view+json": {
       "model_id": "2442a0763d4e4985b438379e41febb7b",
       "version_major": 2,
       "version_minor": 0
      },
      "text/plain": [
       "FloatSlider(value=-1.0, max=3.0, min=-3.0, step=0.5)"
      ]
     },
     "metadata": {},
     "output_type": "display_data"
    },
    {
     "data": {
      "application/vnd.jupyter.widget-view+json": {
       "model_id": "5bd22d92a74f4aed8407a4d5a5fa24c4",
       "version_major": 2,
       "version_minor": 0
      },
      "text/plain": [
       "Label(value='Wearing_Lipstick')"
      ]
     },
     "metadata": {},
     "output_type": "display_data"
    },
    {
     "data": {
      "application/vnd.jupyter.widget-view+json": {
       "model_id": "fba700621a9a41a2aebb267aae70d716",
       "version_major": 2,
       "version_minor": 0
      },
      "text/plain": [
       "FloatSlider(value=-1.0, max=3.0, min=-3.0, step=0.5)"
      ]
     },
     "metadata": {},
     "output_type": "display_data"
    },
    {
     "data": {
      "application/vnd.jupyter.widget-view+json": {
       "model_id": "3c16eb6939214ff591abfa11e31cfd35",
       "version_major": 2,
       "version_minor": 0
      },
      "text/plain": [
       "Label(value='Wearing_Necklace')"
      ]
     },
     "metadata": {},
     "output_type": "display_data"
    },
    {
     "data": {
      "application/vnd.jupyter.widget-view+json": {
       "model_id": "21af989a150a4595a9e1b3481bbfd78a",
       "version_major": 2,
       "version_minor": 0
      },
      "text/plain": [
       "FloatSlider(value=-1.0, max=3.0, min=-3.0, step=0.5)"
      ]
     },
     "metadata": {},
     "output_type": "display_data"
    },
    {
     "data": {
      "application/vnd.jupyter.widget-view+json": {
       "model_id": "4fdbb84ac45144e184281a84fa004e36",
       "version_major": 2,
       "version_minor": 0
      },
      "text/plain": [
       "Label(value='Wearing_Necktie')"
      ]
     },
     "metadata": {},
     "output_type": "display_data"
    },
    {
     "data": {
      "application/vnd.jupyter.widget-view+json": {
       "model_id": "ec532b72f266412e8f3828f1a1d1f0e3",
       "version_major": 2,
       "version_minor": 0
      },
      "text/plain": [
       "FloatSlider(value=-1.0, max=3.0, min=-3.0, step=0.5)"
      ]
     },
     "metadata": {},
     "output_type": "display_data"
    },
    {
     "data": {
      "application/vnd.jupyter.widget-view+json": {
       "model_id": "bb0b614718904f299a701fc59cabe025",
       "version_major": 2,
       "version_minor": 0
      },
      "text/plain": [
       "Label(value='Young')"
      ]
     },
     "metadata": {},
     "output_type": "display_data"
    },
    {
     "data": {
      "application/vnd.jupyter.widget-view+json": {
       "model_id": "29d86321506440548c1dec4a1f6f1dc1",
       "version_major": 2,
       "version_minor": 0
      },
      "text/plain": [
       "FloatSlider(value=-1.0, max=3.0, min=-3.0, step=0.5)"
      ]
     },
     "metadata": {},
     "output_type": "display_data"
    }
   ],
   "source": [
    "sliders = []\n",
    "labels = []\n",
    "for attrib in attribs:\n",
    "    slider = widgets.FloatSlider(\n",
    "        min=-3,\n",
    "        max=3,\n",
    "        step=0.5,\n",
    "        value=-1\n",
    "    )\n",
    "    labels.append(Label(attrib))\n",
    "    sliders.append(slider)\n",
    "for label, slider in zip(labels,sliders):\n",
    "    display(label)\n",
    "    display(slider)"
   ]
  },
  {
   "cell_type": "code",
   "execution_count": 90,
   "metadata": {},
   "outputs": [
    {
     "data": {
      "image/png": "[encoded data removed]",
      "text/plain": [
       "<Figure size 432x288 with 1 Axes>"
      ]
     },
     "metadata": {
      "needs_background": "light"
     },
     "output_type": "display_data"
    }
   ],
   "source": [
    "conditions = np.array([slider.value for slider in sliders])\n",
    "mu, sigma = 0, 1 #mean and standard deviation\n",
    "s = np.random.normal(mu, sigma,latent_dim)\n",
    "#gen_img = unnormalize_tanh( decoder.predict(np.array([s]))[0])\n",
    "gen_img = unnormalize_tanh(attrib2img_vae.predict(np.array([conditions]))[0][0])\n",
    "plt.imshow(gen_img)\n",
    "plt.show()"
   ]
  },
  {
   "cell_type": "code",
   "execution_count": 67,
   "metadata": {},
   "outputs": [
    {
     "data": {
      "text/plain": [
       "array([[[-0.27482632, -0.28974175, -0.33482152],\n",
       "        [-0.3233533 , -0.3233983 , -0.32831278],\n",
       "        [-0.33972523, -0.33851033, -0.34276333],\n",
       "        ...,\n",
       "        [-0.285833  , -0.2541368 , -0.24994692],\n",
       "        [-0.2725085 , -0.23159263, -0.22329782],\n",
       "        [-0.22486493, -0.231483  , -0.24946032]],\n",
       "\n",
       "       [[-0.3363715 , -0.33812085, -0.34822342],\n",
       "        [-0.3351037 , -0.32807592, -0.32984352],\n",
       "        [-0.32974172, -0.3274479 , -0.34024337],\n",
       "        ...,\n",
       "        [-0.28209937, -0.24392428, -0.245913  ],\n",
       "        [-0.26682517, -0.22485955, -0.21668161],\n",
       "        [-0.24326481, -0.21043651, -0.21407153]],\n",
       "\n",
       "       [[-0.34590665, -0.35487628, -0.35679904],\n",
       "        [-0.34607312, -0.34288615, -0.34650582],\n",
       "        [-0.31799132, -0.3255935 , -0.34106418],\n",
       "        ...,\n",
       "        [-0.27073014, -0.24192722, -0.2484501 ],\n",
       "        [-0.26336595, -0.22575785, -0.22836171],\n",
       "        [-0.23681405, -0.21135038, -0.21701899]],\n",
       "\n",
       "       ...,\n",
       "\n",
       "       [[-0.1970159 , -0.29358003, -0.32198384],\n",
       "        [-0.2171429 , -0.30998525, -0.33866125],\n",
       "        [-0.19402839, -0.30353576, -0.33357683],\n",
       "        ...,\n",
       "        [-0.17273784, -0.27476093, -0.3331826 ],\n",
       "        [-0.17408592, -0.2672193 , -0.32533258],\n",
       "        [-0.16034572, -0.24775735, -0.29864272]],\n",
       "\n",
       "       [[-0.19233999, -0.29203528, -0.32574636],\n",
       "        [-0.21293372, -0.3098168 , -0.34324336],\n",
       "        [-0.19630307, -0.30774182, -0.342606  ],\n",
       "        ...,\n",
       "        [-0.14979775, -0.26049393, -0.3226085 ],\n",
       "        [-0.15488294, -0.25820068, -0.3159805 ],\n",
       "        [-0.13240904, -0.22772142, -0.2824395 ]],\n",
       "\n",
       "       [[-0.15963165, -0.2617291 , -0.31653705],\n",
       "        [-0.19244044, -0.30093604, -0.3313336 ],\n",
       "        [-0.17571084, -0.2901326 , -0.32605574],\n",
       "        ...,\n",
       "        [-0.15355496, -0.26194412, -0.31172273],\n",
       "        [-0.15356436, -0.25975072, -0.30600625],\n",
       "        [-0.14514624, -0.24484321, -0.29199484]]], dtype=float32)"
      ]
     },
     "execution_count": 67,
     "metadata": {},
     "output_type": "execute_result"
    }
   ],
   "source": [
    "attrib2img_vae.predict(np.array([conditions]))[0][0]\n"
   ]
  },
  {
   "cell_type": "code",
   "execution_count": 488,
   "metadata": {},
   "outputs": [],
   "source": [
    "import os\n",
    "\n",
    "def attrib_sweep(model, attribs,  noise, init_conditions, start, stop, steps, wieghts=[], save=False, show=True, make_gif=False):\n",
    "    \n",
    "    conditions = init_conditions.copy()\n",
    "    if wieghts == []:\n",
    "        wieghts = [1] * len(attribs)\n",
    "    print(f'Sweeping {\"&\".join(attribs)} from {start} to {stop} in {steps} steps.')\n",
    "    if save:\n",
    "        try:\n",
    "            os.mkdir(f'./attribute_sweeps/{attrib}/')\n",
    "        except OSError as error: \n",
    "            print(error)\n",
    "    frames = []\n",
    "    for j,i in enumerate(np.linspace(start,stop,steps)):\n",
    "        for attrib, wieght in zip(attribs,wieghts):\n",
    "            idx = attrib_dict[attrib]\n",
    "            conditions[idx] = i*wieght\n",
    "        gen_img = unnormalize_tanh( model.predict([np.array([s]),np.array([conditions])])[0])\n",
    "        if show:\n",
    "            plt.imshow(gen_img)\n",
    "            plt.axis('off')\n",
    "            if save:\n",
    "                plt.savefig(f'./attribute_sweeps/{\"_\".join(attribs)}/({j})_{i}_{\"_\".join(attribs)}.png')\n",
    "            plt.show()\n",
    "        if make_gif:\n",
    "            frames.append(Image.fromarray((gen_img * 255).astype(np.uint8)).resize((256,256)))\n",
    "            \n",
    "    if make_gif:\n",
    "        frames[0].save(f'{\"&\".join(attribs)}.gif', format='GIF',\n",
    "               append_images=frames[1:],\n",
    "               save_all=True,\n",
    "               duration=100, loop=0)"
   ]
  },
  {
   "cell_type": "code",
   "execution_count": 498,
   "metadata": {},
   "outputs": [
    {
     "name": "stdout",
     "output_type": "stream",
     "text": [
      "Sweeping 5oClockShadow from -5 to 5 in 20 steps.\n",
      "Sweeping Arched_Eyebrows from -5 to 5 in 20 steps.\n",
      "Sweeping Attractive from -5 to 5 in 20 steps.\n",
      "Sweeping Bags_Under_Eyes from -5 to 5 in 20 steps.\n",
      "Sweeping Bald from -5 to 5 in 20 steps.\n",
      "Sweeping Bangs from -5 to 5 in 20 steps.\n",
      "Sweeping Big_Lips from -5 to 5 in 20 steps.\n",
      "Sweeping Big_Nose from -5 to 5 in 20 steps.\n",
      "Sweeping Black_Hair from -5 to 5 in 20 steps.\n",
      "Sweeping Blond_Hair from -5 to 5 in 20 steps.\n",
      "Sweeping Blurry from -5 to 5 in 20 steps.\n",
      "Sweeping Brown_Hair from -5 to 5 in 20 steps.\n",
      "Sweeping Bushy_Eyebrows from -5 to 5 in 20 steps.\n",
      "Sweeping Chubby from -5 to 5 in 20 steps.\n",
      "Sweeping Double_Chin from -5 to 5 in 20 steps.\n",
      "Sweeping Eyeglasses from -5 to 5 in 20 steps.\n",
      "Sweeping Goatee from -5 to 5 in 20 steps.\n",
      "Sweeping Gray_Hair from -5 to 5 in 20 steps.\n",
      "Sweeping Heavy_Makeup from -5 to 5 in 20 steps.\n",
      "Sweeping High_Cheekbones from -5 to 5 in 20 steps.\n",
      "Sweeping Male from -5 to 5 in 20 steps.\n",
      "Sweeping Mouth_Slightly_Open from -5 to 5 in 20 steps.\n",
      "Sweeping Mustache from -5 to 5 in 20 steps.\n",
      "Sweeping Narrow_Eyes from -5 to 5 in 20 steps.\n",
      "Sweeping No_Beard from -5 to 5 in 20 steps.\n",
      "Sweeping Oval_Face from -5 to 5 in 20 steps.\n",
      "Sweeping Pale_Skin from -5 to 5 in 20 steps.\n",
      "Sweeping Pointy_Nose from -5 to 5 in 20 steps.\n",
      "Sweeping Receding_Hairline from -5 to 5 in 20 steps.\n",
      "Sweeping Rosy_Cheeks from -5 to 5 in 20 steps.\n",
      "Sweeping Sideburns from -5 to 5 in 20 steps.\n",
      "Sweeping Smiling from -5 to 5 in 20 steps.\n",
      "Sweeping Straight_Hair from -5 to 5 in 20 steps.\n",
      "Sweeping Wavy_Hair from -5 to 5 in 20 steps.\n",
      "Sweeping Wearing_Earrings from -5 to 5 in 20 steps.\n",
      "Sweeping Wearing_Hat from -5 to 5 in 20 steps.\n",
      "Sweeping Wearing_Lipstick from -5 to 5 in 20 steps.\n",
      "Sweeping Wearing_Necklace from -5 to 5 in 20 steps.\n",
      "Sweeping Wearing_Necktie from -5 to 5 in 20 steps.\n",
      "Sweeping Young from -5 to 5 in 20 steps.\n"
     ]
    }
   ],
   "source": [
    "# sweep attribs with wieghts\n",
    "\n",
    "for attrib in attribs:\n",
    "    attrib_sweep(decoder_big, [attrib], s, conditions, -5,5,20,wieghts=wieghts,show=False, save=False, make_gif=True)"
   ]
  },
  {
   "cell_type": "code",
   "execution_count": 216,
   "metadata": {},
   "outputs": [
    {
     "data": {
      "text/plain": [
       "'5_o_Clock_Shadow  Arched_Eyebrows  Attractive  Bags_Under_Eyes  Bald  Bangs  Big_Lips  Big_Nose  Black_Hair  Blond_Hair  Blurry  Brown_Hair  Bushy_Eyebrows  Chubby  Double_Chin  Eyeglasses  Goatee  Gray_Hair  Heavy_Makeup  High_Cheekbones  Male  Mouth_Slightly_Open  Mustache  Narrow_Eyes  No_Beard  Oval_Face  Pale_Skin  Pointy_Nose  Receding_Hairline  Rosy_Cheeks  Sideburns  Smiling  Straight_Hair  Wavy_Hair  Wearing_Earrings  Wearing_Hat  Wearing_Lipstick  Wearing_Necklace  Wearing_Necktie  Young'"
      ]
     },
     "execution_count": 216,
     "metadata": {},
     "output_type": "execute_result"
    }
   ],
   "source": [
    "# attribs to choose from\n",
    "\" \".join(attribs)"
   ]
  },
  {
   "cell_type": "code",
   "execution_count": 410,
   "metadata": {},
   "outputs": [],
   "source": []
  },
  {
   "cell_type": "code",
   "execution_count": 281,
   "metadata": {},
   "outputs": [],
   "source": [
    "def make_gif(attrib):\n",
    "    frames = []\n",
    "    print(attrib)\n",
    "    imgs = glob.glob(f\"./attribute_sweeps/{attrib}/*.png\")\n",
    "    imgs = sorted(imgs, key=lambda x: int(re.search(r'\\(([0-9]+)\\)', x).group(1)))\n",
    "\n",
    "    for i in imgs:\n",
    "        print(f'processing {i}')\n",
    "        new_frame = Image.open(i)\n",
    "        frames.append(new_frame)\n",
    "\n",
    "    frames[0].save(f'{attrib}.gif', format='GIF',\n",
    "               append_images=frames[1:],\n",
    "               save_all=True,\n",
    "               duration=100, loop=0)"
   ]
  },
  {
   "cell_type": "code",
   "execution_count": 517,
   "metadata": {},
   "outputs": [
    {
     "data": {
      "image/png": "[encoded data removed]",
      "text/plain": [
       "<Figure size 432x288 with 1 Axes>"
      ]
     },
     "metadata": {
      "needs_background": "light"
     },
     "output_type": "display_data"
    }
   ],
   "source": [
    "mu, sigma = 0, 1 #mean and standard deviation\n",
    "z = np.random.normal(mu, sigma,64)\n",
    "u = inner_decoder.predict(np.array([z]))\n",
    "plt.imshow(unnormalize_tanh( decoder.predict([u,np.array([conditions])])[0]))\n",
    "plt.show()"
   ]
  },
  {
   "cell_type": "code",
   "execution_count": 92,
   "metadata": {},
   "outputs": [
    {
     "data": {
      "text/plain": [
       "(1, 100)"
      ]
     },
     "execution_count": 92,
     "metadata": {},
     "output_type": "execute_result"
    }
   ],
   "source": []
  },
  {
   "cell_type": "code",
   "execution_count": null,
   "metadata": {},
   "outputs": [],
   "source": []
  }
 ],
 "metadata": {
  "kernelspec": {
   "display_name": "Python 3",
   "language": "python",
   "name": "python3"
  },
  "language_info": {
   "codemirror_mode": {
    "name": "ipython",
    "version": 3
   },
   "file_extension": ".py",
   "mimetype": "text/x-python",
   "name": "python",
   "nbconvert_exporter": "python",
   "pygments_lexer": "ipython3",
   "version": "3.7.7"
  }
 },
 "nbformat": 4,
 "nbformat_minor": 4
}
