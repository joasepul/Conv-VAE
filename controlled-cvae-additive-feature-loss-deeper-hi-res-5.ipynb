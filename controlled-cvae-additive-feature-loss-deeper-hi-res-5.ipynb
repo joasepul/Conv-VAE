{
 "cells": [
  {
   "cell_type": "code",
   "execution_count": 1,
   "metadata": {},
   "outputs": [
    {
     "data": {
      "text/html": [
       "<style>.container { width:100% !important; }</style>"
      ],
      "text/plain": [
       "<IPython.core.display.HTML object>"
      ]
     },
     "metadata": {},
     "output_type": "display_data"
    }
   ],
   "source": [
    "from IPython.core.display import display, HTML\n",
    "display(HTML(\"<style>.container { width:100% !important; }</style>\"))"
   ]
  },
  {
   "cell_type": "code",
   "execution_count": 2,
   "metadata": {},
   "outputs": [],
   "source": [
    "import tensorflow as tf\n",
    "from tensorflow.keras.preprocessing.image import ImageDataGenerator\n",
    "from tensorflow.keras.layers import Add, Concatenate, Dropout, GaussianNoise, UpSampling2D, Conv2DTranspose, Conv2D, Dense, Lambda, Input, Flatten, Reshape, BatchNormalization, ReLU, LeakyReLU, MaxPooling2D\n",
    "from tensorflow.keras.models import Model, load_model\n",
    "import tensorflow.keras.layers as layers\n",
    "import tensorflow.keras.backend as K\n",
    "from tensorflow.keras.losses import mse, binary_crossentropy\n",
    "from tensorflow.keras.datasets import mnist\n",
    "from tensorflow.keras.optimizers import Adam\n",
    "import matplotlib.pyplot as plt\n",
    "import pandas as pd\n",
    "import numpy as np\n",
    "\n",
    "\n",
    "\n",
    "\n",
    "import os\n",
    "import glob"
   ]
  },
  {
   "cell_type": "code",
   "execution_count": 3,
   "metadata": {},
   "outputs": [],
   "source": [
    "import numpy as np\n",
    "def sampling(args):\n",
    "    \"\"\"Reparameterization trick by sampling from an isotropic unit Gaussian.\n",
    "\n",
    "    # Arguments\n",
    "        args (tensor): mean and log of variance of Q(z|X)\n",
    "\n",
    "    # Returns\n",
    "        z (tensor): sampled latent vector\n",
    "    \"\"\"\n",
    "    z_mean, z_log_var = args\n",
    "    batch = K.shape(z_mean)[0]\n",
    "    dim = K.int_shape(z_mean)[1]\n",
    "    # by default, random_normal has mean = 0 and std = 1.0\n",
    "    epsilon = K.random_normal(shape=(batch, dim))\n",
    "    return z_mean + K.exp(0.5 * z_log_var) * epsilon\n"
   ]
  },
  {
   "cell_type": "code",
   "execution_count": 184,
   "metadata": {},
   "outputs": [
    {
     "name": "stdout",
     "output_type": "stream",
     "text": [
      "Model: \"encoder\"\n",
      "__________________________________________________________________________________________________\n",
      "Layer (type)                    Output Shape         Param #     Connected to                     \n",
      "==================================================================================================\n",
      "encoder_input (InputLayer)      [(None, 64, 64, 3)]  0                                            \n",
      "__________________________________________________________________________________________________\n",
      "conv2d_234 (Conv2D)             (None, 32, 32, 32)   896         encoder_input[0][0]              \n",
      "__________________________________________________________________________________________________\n",
      "batch_normalization_208 (BatchN (None, 32, 32, 32)   128         conv2d_234[0][0]                 \n",
      "__________________________________________________________________________________________________\n",
      "leaky_re_lu_234 (LeakyReLU)     (None, 32, 32, 32)   0           batch_normalization_208[0][0]    \n",
      "__________________________________________________________________________________________________\n",
      "conv2d_235 (Conv2D)             (None, 16, 16, 64)   18496       leaky_re_lu_234[0][0]            \n",
      "__________________________________________________________________________________________________\n",
      "batch_normalization_209 (BatchN (None, 16, 16, 64)   256         conv2d_235[0][0]                 \n",
      "__________________________________________________________________________________________________\n",
      "leaky_re_lu_235 (LeakyReLU)     (None, 16, 16, 64)   0           batch_normalization_209[0][0]    \n",
      "__________________________________________________________________________________________________\n",
      "conv2d_236 (Conv2D)             (None, 8, 8, 128)    73856       leaky_re_lu_235[0][0]            \n",
      "__________________________________________________________________________________________________\n",
      "batch_normalization_210 (BatchN (None, 8, 8, 128)    512         conv2d_236[0][0]                 \n",
      "__________________________________________________________________________________________________\n",
      "leaky_re_lu_236 (LeakyReLU)     (None, 8, 8, 128)    0           batch_normalization_210[0][0]    \n",
      "__________________________________________________________________________________________________\n",
      "conv2d_237 (Conv2D)             (None, 4, 4, 256)    295168      leaky_re_lu_236[0][0]            \n",
      "__________________________________________________________________________________________________\n",
      "batch_normalization_211 (BatchN (None, 4, 4, 256)    1024        conv2d_237[0][0]                 \n",
      "__________________________________________________________________________________________________\n",
      "leaky_re_lu_237 (LeakyReLU)     (None, 4, 4, 256)    0           batch_normalization_211[0][0]    \n",
      "__________________________________________________________________________________________________\n",
      "flatten_26 (Flatten)            (None, 4096)         0           leaky_re_lu_237[0][0]            \n",
      "__________________________________________________________________________________________________\n",
      "encoder_cond_input (InputLayer) [(None, 40)]         0                                            \n",
      "__________________________________________________________________________________________________\n",
      "concatenate_52 (Concatenate)    (None, 4136)         0           flatten_26[0][0]                 \n",
      "                                                                 encoder_cond_input[0][0]         \n",
      "__________________________________________________________________________________________________\n",
      "z_mean (Dense)                  (None, 100)          413700      concatenate_52[0][0]             \n",
      "__________________________________________________________________________________________________\n",
      "z_log_var (Dense)               (None, 100)          413700      concatenate_52[0][0]             \n",
      "__________________________________________________________________________________________________\n",
      "z (Lambda)                      (None, 100)          0           z_mean[0][0]                     \n",
      "                                                                 z_log_var[0][0]                  \n",
      "==================================================================================================\n",
      "Total params: 1,217,736\n",
      "Trainable params: 1,216,776\n",
      "Non-trainable params: 960\n",
      "__________________________________________________________________________________________________\n",
      "Model: \"decoder\"\n",
      "__________________________________________________________________________________________________\n",
      "Layer (type)                    Output Shape         Param #     Connected to                     \n",
      "==================================================================================================\n",
      "z_sampling (InputLayer)         [(None, 100)]        0                                            \n",
      "__________________________________________________________________________________________________\n",
      "decoder_condition (InputLayer)  [(None, 40)]         0                                            \n",
      "__________________________________________________________________________________________________\n",
      "concatenate_53 (Concatenate)    (None, 140)          0           z_sampling[0][0]                 \n",
      "                                                                 decoder_condition[0][0]          \n",
      "__________________________________________________________________________________________________\n",
      "dense_26 (Dense)                (None, 4096)         577536      concatenate_53[0][0]             \n",
      "__________________________________________________________________________________________________\n",
      "leaky_re_lu_238 (LeakyReLU)     (None, 4096)         0           dense_26[0][0]                   \n",
      "__________________________________________________________________________________________________\n",
      "reshape_26 (Reshape)            (None, 4, 4, 256)    0           leaky_re_lu_238[0][0]            \n",
      "__________________________________________________________________________________________________\n",
      "up_sampling2d_104 (UpSampling2D (None, 8, 8, 256)    0           reshape_26[0][0]                 \n",
      "__________________________________________________________________________________________________\n",
      "conv2d_238 (Conv2D)             (None, 8, 8, 256)    590080      up_sampling2d_104[0][0]          \n",
      "__________________________________________________________________________________________________\n",
      "batch_normalization_212 (BatchN (None, 8, 8, 256)    1024        conv2d_238[0][0]                 \n",
      "__________________________________________________________________________________________________\n",
      "leaky_re_lu_239 (LeakyReLU)     (None, 8, 8, 256)    0           batch_normalization_212[0][0]    \n",
      "__________________________________________________________________________________________________\n",
      "up_sampling2d_105 (UpSampling2D (None, 16, 16, 256)  0           leaky_re_lu_239[0][0]            \n",
      "__________________________________________________________________________________________________\n",
      "conv2d_239 (Conv2D)             (None, 16, 16, 128)  295040      up_sampling2d_105[0][0]          \n",
      "__________________________________________________________________________________________________\n",
      "batch_normalization_213 (BatchN (None, 16, 16, 128)  512         conv2d_239[0][0]                 \n",
      "__________________________________________________________________________________________________\n",
      "leaky_re_lu_240 (LeakyReLU)     (None, 16, 16, 128)  0           batch_normalization_213[0][0]    \n",
      "__________________________________________________________________________________________________\n",
      "up_sampling2d_106 (UpSampling2D (None, 32, 32, 128)  0           leaky_re_lu_240[0][0]            \n",
      "__________________________________________________________________________________________________\n",
      "conv2d_240 (Conv2D)             (None, 32, 32, 64)   73792       up_sampling2d_106[0][0]          \n",
      "__________________________________________________________________________________________________\n",
      "batch_normalization_214 (BatchN (None, 32, 32, 64)   256         conv2d_240[0][0]                 \n",
      "__________________________________________________________________________________________________\n",
      "leaky_re_lu_241 (LeakyReLU)     (None, 32, 32, 64)   0           batch_normalization_214[0][0]    \n",
      "__________________________________________________________________________________________________\n",
      "up_sampling2d_107 (UpSampling2D (None, 64, 64, 64)   0           leaky_re_lu_241[0][0]            \n",
      "__________________________________________________________________________________________________\n",
      "conv2d_241 (Conv2D)             (None, 64, 64, 32)   18464       up_sampling2d_107[0][0]          \n",
      "__________________________________________________________________________________________________\n",
      "batch_normalization_215 (BatchN (None, 64, 64, 32)   128         conv2d_241[0][0]                 \n",
      "__________________________________________________________________________________________________\n",
      "leaky_re_lu_242 (LeakyReLU)     (None, 64, 64, 32)   0           batch_normalization_215[0][0]    \n",
      "__________________________________________________________________________________________________\n",
      "conv2d_242 (Conv2D)             (None, 64, 64, 3)    2403        leaky_re_lu_242[0][0]            \n",
      "==================================================================================================\n",
      "Total params: 1,559,235\n",
      "Trainable params: 1,558,275\n",
      "Non-trainable params: 960\n",
      "__________________________________________________________________________________________________\n"
     ]
    }
   ],
   "source": [
    "# network parameters\n",
    "width = 64\n",
    "height = 64\n",
    "latent_dim = 100\n",
    "\n",
    "n_conds = 40\n",
    "h = 0\n",
    "w = 0\n",
    "c = 0\n",
    "\n",
    "\n",
    "\n",
    "# VAE model = encoder + decoder\n",
    "def build_encoder():\n",
    "    global h\n",
    "    global w\n",
    "    global c\n",
    "    # build encoder model\n",
    "    inputs = Input(shape=(width,height,3), name='encoder_input')\n",
    "    condition_inputs = Input(shape=(n_conds,), name='encoder_cond_input')\n",
    "\n",
    "\n",
    "    # x = GaussianNoise(1)(inputs) #Noise layer for denoising VAE\n",
    "    x = Conv2D(32, 3, strides=2, padding='same')(inputs)\n",
    "    x = BatchNormalization()(x)\n",
    "    x = LeakyReLU(0.2)(x)\n",
    "    x = Conv2D(64, 3, strides=2, padding='same')(x)\n",
    "    x = BatchNormalization()(x)\n",
    "    x = LeakyReLU(0.2)(x)\n",
    "    x = Conv2D(128, 3, strides=2, padding='same')(x)\n",
    "    x = BatchNormalization()(x)\n",
    "    x = LeakyReLU(0.2)(x)\n",
    "    x = Conv2D(256, 3, strides=2, padding='same')(x)\n",
    "    x = BatchNormalization()(x)\n",
    "    x = LeakyReLU(0.2)(x)\n",
    "\n",
    "    (_,h,w,c) = x.shape\n",
    "\n",
    "    x = Flatten()(x)\n",
    "    x = Concatenate()([x, condition_inputs])\n",
    "\n",
    "\n",
    "    z_mean = Dense(latent_dim, name='z_mean')(x)\n",
    "    z_log_var = Dense(latent_dim, name='z_log_var')(x)\n",
    "\n",
    "    # use reparameterization trick to push the sampling out as input\n",
    "    # note that \"output_shape\" isn't necessary with the TensorFlow backend\n",
    "    z = Lambda(sampling, output_shape=(latent_dim,), name='z')([z_mean, z_log_var])\n",
    "\n",
    "    # instantiate encoder model\n",
    "    return Model([inputs,condition_inputs], [z_mean, z_log_var, z], name='encoder')\n",
    "encoder = build_encoder()\n",
    "encoder.summary()\n",
    "\n",
    "\n",
    "def build_decoder():\n",
    "    # build decoder model\n",
    "    latent_inputs = Input(shape=(latent_dim,), name='z_sampling')\n",
    "    decoder_condition = Input(shape=(n_conds,), name='decoder_condition')\n",
    "\n",
    "\n",
    "\n",
    "    x = Concatenate()([latent_inputs,decoder_condition])\n",
    "    x = Dense(h*w*c)(x)\n",
    "    x = LeakyReLU(0.2)(x)\n",
    "    x = Reshape((h,w,c))(x)\n",
    "\n",
    "\n",
    "    x = UpSampling2D()(x)\n",
    "    x = Conv2D(256,3, strides=1, padding='same')(x)\n",
    "    x = BatchNormalization()(x)\n",
    "    x = LeakyReLU(0.2)(x)\n",
    "\n",
    "    x = UpSampling2D()(x)\n",
    "    x = Conv2D(128,3, strides=1, padding='same')(x)\n",
    "    x = BatchNormalization()(x)\n",
    "    x = LeakyReLU(0.2)(x)\n",
    "    # \n",
    "\n",
    "\n",
    "\n",
    "    x = UpSampling2D()(x)\n",
    "    x = Conv2D(64,3, strides=1, padding='same')(x)\n",
    "    x = BatchNormalization()(x)\n",
    "    x = LeakyReLU(0.2)(x)\n",
    "    # x = UpSampling2D()(x)\n",
    "\n",
    "\n",
    "\n",
    "    x = UpSampling2D()(x)\n",
    "    x = Conv2D(32,3, strides=1, padding='same')(x)\n",
    "    x = BatchNormalization()(x)\n",
    "    x = LeakyReLU(0.2)(x)\n",
    "\n",
    "\n",
    "\n",
    "\n",
    "\n",
    "\n",
    "    outputs_hi = Conv2D(3,5, strides=1, activation='tanh', padding='same')(x)\n",
    "\n",
    "\n",
    "    # # instantiate decoder model\n",
    "    return Model([latent_inputs,decoder_condition], outputs_hi, name='decoder')\n",
    "decoder = build_decoder()\n",
    "decoder.summary()\n",
    "\n",
    "\n",
    "\n",
    "\n",
    "\n",
    "\n"
   ]
  },
  {
   "cell_type": "code",
   "execution_count": 5,
   "metadata": {},
   "outputs": [],
   "source": [
    "from tensorflow.keras.applications.vgg19 import VGG19\n",
    "from tensorflow.keras.applications.vgg19 import preprocess_input"
   ]
  },
  {
   "cell_type": "code",
   "execution_count": 6,
   "metadata": {},
   "outputs": [
    {
     "name": "stdout",
     "output_type": "stream",
     "text": [
      "Model: \"vgg19\"\n",
      "_________________________________________________________________\n",
      "Layer (type)                 Output Shape              Param #   \n",
      "=================================================================\n",
      "input_1 (InputLayer)         [(None, 64, 64, 3)]       0         \n",
      "_________________________________________________________________\n",
      "block1_conv1 (Conv2D)        (None, 64, 64, 64)        1792      \n",
      "_________________________________________________________________\n",
      "block1_conv2 (Conv2D)        (None, 64, 64, 64)        36928     \n",
      "_________________________________________________________________\n",
      "block1_pool (MaxPooling2D)   (None, 32, 32, 64)        0         \n",
      "_________________________________________________________________\n",
      "block2_conv1 (Conv2D)        (None, 32, 32, 128)       73856     \n",
      "_________________________________________________________________\n",
      "block2_conv2 (Conv2D)        (None, 32, 32, 128)       147584    \n",
      "_________________________________________________________________\n",
      "block2_pool (MaxPooling2D)   (None, 16, 16, 128)       0         \n",
      "_________________________________________________________________\n",
      "block3_conv1 (Conv2D)        (None, 16, 16, 256)       295168    \n",
      "_________________________________________________________________\n",
      "block3_conv2 (Conv2D)        (None, 16, 16, 256)       590080    \n",
      "_________________________________________________________________\n",
      "block3_conv3 (Conv2D)        (None, 16, 16, 256)       590080    \n",
      "_________________________________________________________________\n",
      "block3_conv4 (Conv2D)        (None, 16, 16, 256)       590080    \n",
      "_________________________________________________________________\n",
      "block3_pool (MaxPooling2D)   (None, 8, 8, 256)         0         \n",
      "_________________________________________________________________\n",
      "block4_conv1 (Conv2D)        (None, 8, 8, 512)         1180160   \n",
      "_________________________________________________________________\n",
      "block4_conv2 (Conv2D)        (None, 8, 8, 512)         2359808   \n",
      "_________________________________________________________________\n",
      "block4_conv3 (Conv2D)        (None, 8, 8, 512)         2359808   \n",
      "_________________________________________________________________\n",
      "block4_conv4 (Conv2D)        (None, 8, 8, 512)         2359808   \n",
      "_________________________________________________________________\n",
      "block4_pool (MaxPooling2D)   (None, 4, 4, 512)         0         \n",
      "_________________________________________________________________\n",
      "block5_conv1 (Conv2D)        (None, 4, 4, 512)         2359808   \n",
      "_________________________________________________________________\n",
      "block5_conv2 (Conv2D)        (None, 4, 4, 512)         2359808   \n",
      "_________________________________________________________________\n",
      "block5_conv3 (Conv2D)        (None, 4, 4, 512)         2359808   \n",
      "_________________________________________________________________\n",
      "block5_conv4 (Conv2D)        (None, 4, 4, 512)         2359808   \n",
      "_________________________________________________________________\n",
      "block5_pool (MaxPooling2D)   (None, 2, 2, 512)         0         \n",
      "=================================================================\n",
      "Total params: 20,024,384\n",
      "Trainable params: 20,024,384\n",
      "Non-trainable params: 0\n",
      "_________________________________________________________________\n"
     ]
    }
   ],
   "source": [
    "vgg19 = VGG19(include_top=False, weights='imagenet', input_shape=(64,64,3))\n",
    "vgg19.summary()"
   ]
  },
  {
   "cell_type": "code",
   "execution_count": 7,
   "metadata": {},
   "outputs": [
    {
     "name": "stdout",
     "output_type": "stream",
     "text": [
      "Model: \"dfc_lo_model\"\n",
      "_________________________________________________________________\n",
      "Layer (type)                 Output Shape              Param #   \n",
      "=================================================================\n",
      "input_1 (InputLayer)         [(None, 64, 64, 3)]       0         \n",
      "_________________________________________________________________\n",
      "block1_conv1 (Conv2D)        (None, 64, 64, 64)        1792      \n",
      "_________________________________________________________________\n",
      "block1_conv2 (Conv2D)        (None, 64, 64, 64)        36928     \n",
      "_________________________________________________________________\n",
      "block1_pool (MaxPooling2D)   (None, 32, 32, 64)        0         \n",
      "_________________________________________________________________\n",
      "block2_conv1 (Conv2D)        (None, 32, 32, 128)       73856     \n",
      "_________________________________________________________________\n",
      "block2_conv2 (Conv2D)        (None, 32, 32, 128)       147584    \n",
      "_________________________________________________________________\n",
      "block2_pool (MaxPooling2D)   (None, 16, 16, 128)       0         \n",
      "_________________________________________________________________\n",
      "block3_conv1 (Conv2D)        (None, 16, 16, 256)       295168    \n",
      "=================================================================\n",
      "Total params: 555,328\n",
      "Trainable params: 555,328\n",
      "Non-trainable params: 0\n",
      "_________________________________________________________________\n"
     ]
    }
   ],
   "source": [
    "# Rough feature model\n",
    "dfc_lo_layers = [\"block3_conv1\"]\n",
    "#dfc_layer_weights = [1.0/3.0, 1.0/3.0, 1.0/3.0]\n",
    "\n",
    "dfc_lo_outputs = [vgg19.get_layer(l).output for l in dfc_lo_layers]\n",
    "dfc_lo_loss_model = Model(vgg19.input, dfc_lo_outputs, name=\"dfc_lo_model\")\n",
    "dfc_lo_loss_model.summary()"
   ]
  },
  {
   "cell_type": "code",
   "execution_count": 8,
   "metadata": {},
   "outputs": [
    {
     "name": "stdout",
     "output_type": "stream",
     "text": [
      "Model: \"dfc_med_model\"\n",
      "_________________________________________________________________\n",
      "Layer (type)                 Output Shape              Param #   \n",
      "=================================================================\n",
      "input_1 (InputLayer)         [(None, 64, 64, 3)]       0         \n",
      "_________________________________________________________________\n",
      "block1_conv1 (Conv2D)        (None, 64, 64, 64)        1792      \n",
      "_________________________________________________________________\n",
      "block1_conv2 (Conv2D)        (None, 64, 64, 64)        36928     \n",
      "_________________________________________________________________\n",
      "block1_pool (MaxPooling2D)   (None, 32, 32, 64)        0         \n",
      "_________________________________________________________________\n",
      "block2_conv1 (Conv2D)        (None, 32, 32, 128)       73856     \n",
      "=================================================================\n",
      "Total params: 112,576\n",
      "Trainable params: 112,576\n",
      "Non-trainable params: 0\n",
      "_________________________________________________________________\n"
     ]
    }
   ],
   "source": [
    "# Medium feature model\n",
    "\n",
    "dfc_med_layers = [\"block2_conv1\"]\n",
    "#dfc_layer_weights = [1.0/3.0, 1.0/3.0, 1.0/3.0]\n",
    "\n",
    "dfc_med_outputs = [vgg19.get_layer(l).output for l in dfc_med_layers]\n",
    "dfc_med_loss_model = Model(vgg19.input, dfc_med_outputs, name=\"dfc_med_model\")\n",
    "dfc_med_loss_model.summary()"
   ]
  },
  {
   "cell_type": "code",
   "execution_count": 9,
   "metadata": {},
   "outputs": [
    {
     "name": "stdout",
     "output_type": "stream",
     "text": [
      "Model: \"dfc_hi_model\"\n",
      "_________________________________________________________________\n",
      "Layer (type)                 Output Shape              Param #   \n",
      "=================================================================\n",
      "input_1 (InputLayer)         [(None, 64, 64, 3)]       0         \n",
      "_________________________________________________________________\n",
      "block1_conv1 (Conv2D)        (None, 64, 64, 64)        1792      \n",
      "=================================================================\n",
      "Total params: 1,792\n",
      "Trainable params: 1,792\n",
      "Non-trainable params: 0\n",
      "_________________________________________________________________\n"
     ]
    }
   ],
   "source": [
    "# Fine feature model\n",
    "dfc_hi_layers = [\"block1_conv1\"]\n",
    "#dfc_layer_weights = [1.0/3.0, 1.0/3.0, 1.0/3.0]\n",
    "\n",
    "dfc_hi_outputs = [vgg19.get_layer(l).output for l in dfc_hi_layers]\n",
    "dfc_hi_loss_model = Model(vgg19.input, dfc_hi_outputs, name=\"dfc_hi_model\")\n",
    "dfc_hi_loss_model.summary()"
   ]
  },
  {
   "cell_type": "code",
   "execution_count": 10,
   "metadata": {},
   "outputs": [
    {
     "name": "stdout",
     "output_type": "stream",
     "text": [
      "Model: \"dfc_model\"\n",
      "_________________________________________________________________\n",
      "Layer (type)                 Output Shape              Param #   \n",
      "=================================================================\n",
      "input_1 (InputLayer)         [(None, 64, 64, 3)]       0         \n",
      "_________________________________________________________________\n",
      "block1_conv1 (Conv2D)        (None, 64, 64, 64)        1792      \n",
      "_________________________________________________________________\n",
      "block1_conv2 (Conv2D)        (None, 64, 64, 64)        36928     \n",
      "_________________________________________________________________\n",
      "block1_pool (MaxPooling2D)   (None, 32, 32, 64)        0         \n",
      "_________________________________________________________________\n",
      "block2_conv1 (Conv2D)        (None, 32, 32, 128)       73856     \n",
      "_________________________________________________________________\n",
      "block2_conv2 (Conv2D)        (None, 32, 32, 128)       147584    \n",
      "_________________________________________________________________\n",
      "block2_pool (MaxPooling2D)   (None, 16, 16, 128)       0         \n",
      "_________________________________________________________________\n",
      "block3_conv1 (Conv2D)        (None, 16, 16, 256)       295168    \n",
      "=================================================================\n",
      "Total params: 555,328\n",
      "Trainable params: 555,328\n",
      "Non-trainable params: 0\n",
      "_________________________________________________________________\n"
     ]
    }
   ],
   "source": [
    "# Fine feature model\n",
    "dfc_layers = [\"block1_conv1\",\"block2_conv1\",\"block3_conv1\"]\n",
    "#dfc_layer_weights = [1.0/3.0, 1.0/3.0, 1.0/3.0]\n",
    "\n",
    "dfc_outputs = [vgg19.get_layer(l).output for l in dfc_layers]\n",
    "dfc_loss_model = Model(vgg19.input, dfc_outputs, name=\"dfc_model\")\n",
    "dfc_loss_model.summary()"
   ]
  },
  {
   "cell_type": "code",
   "execution_count": 173,
   "metadata": {},
   "outputs": [],
   "source": [
    "\n"
   ]
  },
  {
   "cell_type": "code",
   "execution_count": 38,
   "metadata": {},
   "outputs": [],
   "source": [
    "def normalize_for_tanh(img):\n",
    "    return (img - 127.5) / 127.5\n",
    "\n",
    "def unnormalize_tanh(img):\n",
    "    return (img + 1) / 2"
   ]
  },
  {
   "cell_type": "code",
   "execution_count": 40,
   "metadata": {},
   "outputs": [],
   "source": [
    "df = pd.read_csv('./celeba-attribs.csv')"
   ]
  },
  {
   "cell_type": "code",
   "execution_count": 143,
   "metadata": {},
   "outputs": [
    {
     "name": "stdout",
     "output_type": "stream",
     "text": [
      "Found 202599 validated image filenames.\n"
     ]
    }
   ],
   "source": [
    "training_data_generator = ImageDataGenerator(\n",
    "    validation_split=0.0,\n",
    "    horizontal_flip=False,\n",
    "    preprocessing_function=normalize_for_tanh)\n",
    "\n",
    "\n",
    "training_generator = training_data_generator.flow_from_dataframe(\n",
    "    dataframe=df,\n",
    "    directory='../celeba-clean-64/',\n",
    "    x_col=\"img\",\n",
    "    y_col=list(df.columns[1:]),\n",
    "    target_size=(64, 64),\n",
    "    subset='training',\n",
    "    shuffle=True,\n",
    "    batch_size=10000,\n",
    "    class_mode='raw')"
   ]
  },
  {
   "cell_type": "code",
   "execution_count": 39,
   "metadata": {},
   "outputs": [],
   "source": [
    "def encode_to_attribs(encoded):\n",
    "    for present, attrib in zip(encoded, list(df.columns[1:])):\n",
    "        if present > 0:\n",
    "            print(attrib, present)"
   ]
  },
  {
   "cell_type": "code",
   "execution_count": 144,
   "metadata": {},
   "outputs": [],
   "source": [
    "training_data = training_generator.next()"
   ]
  },
  {
   "cell_type": "code",
   "execution_count": 74,
   "metadata": {},
   "outputs": [],
   "source": [
    "bce = tf.keras.losses.BinaryCrossentropy()\n",
    "bce_smooth = tf.keras.losses.BinaryCrossentropy(label_smoothing=0.1)\n",
    "\n",
    "@tf.function\n",
    "def prep_for_vgg19(imgs):\n",
    "    return ((imgs + 1) / 2)\n",
    "\n",
    "@tf.function\n",
    "def tanh_cross_entropy(y_true, y_pred):\n",
    "    return -K.mean( (y_true+1)/2 * K.log( (y_pred+1)/2 + K.epsilon()) + (1 - (y_true+1)/2) * K.log(1 - (y_pred+1)/2 + K.epsilon()))\n",
    "    \n",
    "\n",
    "@tf.function\n",
    "def kullback_leibler_divergence_loss(z_mean, z_log_var):\n",
    "    kl_loss = 1 + z_log_var - K.square(z_mean) - K.exp(z_log_var)\n",
    "    kl_loss = K.sum(kl_loss, axis=-1)\n",
    "    kl_loss *= -0.5\n",
    "    return K.mean(kl_loss)\n",
    "\n",
    "@tf.function\n",
    "def discriminator_loss(real_output, decoded_output, fake_output):\n",
    "    real_loss = bce(K.random_uniform(K.int_shape(real_output), minval=0.9, maxval=1.0), real_output)\n",
    "    decoded_loss = bce(K.random_uniform(K.int_shape(decoded_output), minval=0.0, maxval=0.1), decoded_output)\n",
    "    fake_loss = bce(K.random_uniform(K.int_shape(fake_output), minval=0.0, maxval=0.1), fake_output)\n",
    "    total_loss = real_loss + fake_loss + decoded_loss\n",
    "    return K.mean(total_loss)\n",
    "\n",
    "@tf.function\n",
    "def generator_loss(decoded_output, fake_output):\n",
    "    decoded_loss = bce(K.ones_like(decoded_output), decoded_output)\n",
    "    fake_loss = bce(K.ones_like(fake_output), fake_output)\n",
    "    total_loss = fake_loss + decoded_loss\n",
    "    return K.mean(total_loss)\n",
    "\n",
    "@tf.function\n",
    "def attribute_loss(true_attributes, predicted_attributes):\n",
    "    total_loss = tanh_cross_entropy(true_attributes, predicted_attributes)    \n",
    "    return K.mean(total_loss)\n",
    "\n",
    "@tf.function\n",
    "def discriminator_attrib_loss(true_attribs, real_attribs, decoded_attribs, fake_attribs):\n",
    "    smoothing = K.random_uniform(K.int_shape(true_attribs), minval=0.9, maxval=1.0)\n",
    "    real_loss = tanh_cross_entropy(true_attribs * smoothing, real_attribs)\n",
    "    decoded_loss = tanh_cross_entropy(-true_attribs * smoothing, decoded_attribs)\n",
    "    fake_loss = tanh_cross_entropy(-true_attribs * smoothing, fake_attribs)\n",
    "    total_loss = real_loss + fake_loss + decoded_loss\n",
    "    return K.mean(total_loss)\n",
    "\n",
    "@tf.function\n",
    "def generator_attrib_loss(true_attribs, decoded_attribs, fake_attribs):\n",
    "    decoded_loss = tanh_cross_entropy(true_attribs, decoded_attribs)\n",
    "    fake_loss = tanh_cross_entropy(true_attribs, fake_attribs)\n",
    "    total_loss = fake_loss + decoded_loss\n",
    "    return K.mean(total_loss)\n",
    "\n",
    "\n",
    "@tf.function\n",
    "def reconstruction_loss(y_true, y_pred):\n",
    "    return tanh_cross_entropy(y_true, y_pred)\n",
    "\n",
    "\n",
    "@tf.function\n",
    "def perceptual_loss(real_image, predicted_image, dfc_loss_model):\n",
    "\n",
    "    h1_hi, h1_med, h1_lo = dfc_loss_model(real_image)\n",
    "    h2_hi, h2_med, h2_lo = dfc_loss_model(predicted_image)\n",
    "    \n",
    "\n",
    "    \n",
    "\n",
    "    h1_hi = K.batch_flatten(h1_hi)\n",
    "    h2_hi = K.batch_flatten(h2_hi)        \n",
    "    rc_loss_hi = mse(h1_hi, h2_hi)\n",
    "    \n",
    "    h1_med = K.batch_flatten(h1_med)\n",
    "    h2_med = K.batch_flatten(h2_med)        \n",
    "    rc_loss_med = mse(h1_med, h2_med)\n",
    "    \n",
    "    h1_lo = K.batch_flatten(h1_lo)\n",
    "    h2_lo = K.batch_flatten(h2_lo)        \n",
    "    rc_loss_lo = mse(h1_lo, h2_lo)\n",
    "    \n",
    "\n",
    "    \n",
    "    return K.mean(rc_loss_hi), K.mean(rc_loss_med), K.mean(rc_loss_lo)       \n",
    "\n"
   ]
  },
  {
   "cell_type": "code",
   "execution_count": 301,
   "metadata": {},
   "outputs": [],
   "source": [
    "\n",
    "\n",
    "@tf.function\n",
    "def train_step(images, attributes, beta):\n",
    "    \n",
    "\n",
    "\n",
    "    rl_scalar = 1.0\n",
    "    kl_scalar =  beta\n",
    "\n",
    "    \n",
    "    with tf.GradientTape() as dec_tape, tf.GradientTape() as enc_tape:\n",
    "\n",
    "     \n",
    "        dec_tape.watch(decoder.trainable_variables)\n",
    "        enc_tape.watch(encoder.trainable_variables)\n",
    "\n",
    "        \n",
    "        z_mean, z_log_var, z = encoder([images,attributes], training=True)        \n",
    "        decoded_images_combo = decoder([z, attributes], training=True)\n",
    "        \n",
    "        kl_loss = kullback_leibler_divergence_loss(z_mean, z_log_var)\n",
    "        \n",
    "\n",
    "\n",
    "        \n",
    "        \n",
    "        rl_hi, rl_med, rl_lo =  perceptual_loss(decoded_images_combo,  images, dfc_loss_model)\n",
    "        \n",
    "        # for balance\n",
    "        rl_hi = 8.0 * rl_hi\n",
    "        rl_med = 0.2 * rl_med\n",
    "        rl_lo = 0.1 * rl_lo\n",
    "        \n",
    "        rl_loss = rl_lo +  rl_med + rl_hi\n",
    "        \n",
    "          \n",
    "\n",
    "        \n",
    "        decoder_loss = rl_loss * rl_scalar \n",
    "\n",
    "        encoder_loss = kl_loss * beta + rl_loss * rl_scalar\n",
    "        \n",
    "\n",
    "\n",
    "\n",
    "\n",
    "\n",
    "    gradients_of_encoder = enc_tape.gradient(encoder_loss, encoder.trainable_variables)\n",
    "    gradients_of_decoder = dec_tape.gradient(decoder_loss, decoder.trainable_variables)\n",
    "    \n",
    "    \n",
    "    encoder_optimizer.apply_gradients(zip(gradients_of_encoder, encoder.trainable_variables))\n",
    "    decoder_optimizer.apply_gradients(zip(gradients_of_decoder, decoder.trainable_variables))\n",
    "\n",
    "\n",
    "    \n",
    "\n",
    "    \n",
    "\n",
    "    return rl_lo, rl_med, rl_hi, kl_loss, beta\n",
    "\n"
   ]
  },
  {
   "cell_type": "code",
   "execution_count": 300,
   "metadata": {},
   "outputs": [],
   "source": [
    "encoder = build_encoder()\n",
    "decoder = build_decoder()\n",
    "decoder_optimizer = tf.keras.optimizers.Adam(2e-4)\n",
    "encoder_optimizer = tf.keras.optimizers.Adam(2e-4)\n"
   ]
  },
  {
   "cell_type": "code",
   "execution_count": 302,
   "metadata": {
    "scrolled": true
   },
   "outputs": [
    {
     "name": "stdout",
     "output_type": "stream",
     "text": [
      "Epoch [0/49]...     ...17.158(s) feat_lo: 2.20271 - feat_med: 1.71565 - feat_hi: 1.68038 - KL: 25.21321 - \n",
      "5_o_Clock_Shadow 1\n",
      "Attractive 1\n",
      "Big_Lips 1\n",
      "Black_Hair 1\n",
      "Bushy_Eyebrows 1\n",
      "Male 1\n",
      "Mustache 1\n",
      "Pointy_Nose 1\n",
      "Wavy_Hair 1\n",
      "Young 1\n"
     ]
    },
    {
     "data": {
      "image/png": "[encoded data removed]",
      "text/plain": [
       "<Figure size 432x288 with 1 Axes>"
      ]
     },
     "metadata": {
      "needs_background": "light"
     },
     "output_type": "display_data"
    },
    {
     "data": {
      "image/png": "[encoded data removed]",
      "text/plain": [
       "<Figure size 432x288 with 1 Axes>"
      ]
     },
     "metadata": {
      "needs_background": "light"
     },
     "output_type": "display_data"
    },
    {
     "name": "stdout",
     "output_type": "stream",
     "text": [
      "Epoch [1/49]...     ...11.702(s) feat_lo: 1.72924 - feat_med: 1.39209 - feat_hi: 1.19020 - KL: 25.36471 - \n",
      "Epoch [2/49]...     ...11.774(s) feat_lo: 1.63492 - feat_med: 1.33125 - feat_hi: 1.12615 - KL: 25.08670 - \n",
      "Epoch [3/49]...     ...11.731(s) feat_lo: 1.57787 - feat_med: 1.29451 - feat_hi: 1.08801 - KL: 25.05224 - \n",
      "Epoch [4/49]...     ...11.740(s) feat_lo: 1.53569 - feat_med: 1.26662 - feat_hi: 1.05808 - KL: 24.99667 - \n",
      "Epoch [5/49]...     ...11.724(s) feat_lo: 1.50399 - feat_med: 1.24514 - feat_hi: 1.03724 - KL: 25.05675 - \n",
      "Epoch [6/49]...     ...11.741(s) feat_lo: 1.47874 - feat_med: 1.22822 - feat_hi: 1.02172 - KL: 25.01971 - \n",
      "Epoch [7/49]...     ...11.750(s) feat_lo: 1.45513 - feat_med: 1.21283 - feat_hi: 1.00773 - KL: 25.04771 - \n",
      "Epoch [8/49]...     ...11.719(s) feat_lo: 1.43706 - feat_med: 1.19949 - feat_hi: 0.99500 - KL: 25.00638 - \n",
      "Epoch [9/49]...     ...11.701(s) feat_lo: 1.42133 - feat_med: 1.18886 - feat_hi: 0.98570 - KL: 24.99902 - \n",
      "Epoch [10/49]...    ...11.762(s) feat_lo: 1.40771 - feat_med: 1.17981 - feat_hi: 0.97899 - KL: 25.00668 - \n",
      "5_o_Clock_Shadow 1\n",
      "Attractive 1\n",
      "Big_Lips 1\n",
      "Black_Hair 1\n",
      "Bushy_Eyebrows 1\n",
      "Male 1\n",
      "Mustache 1\n",
      "Pointy_Nose 1\n",
      "Wavy_Hair 1\n",
      "Young 1\n"
     ]
    },
    {
     "data": {
      "image/png": "[encoded data removed]",
      "text/plain": [
       "<Figure size 432x288 with 1 Axes>"
      ]
     },
     "metadata": {
      "needs_background": "light"
     },
     "output_type": "display_data"
    },
    {
     "data": {
      "image/png": "[encoded data removed]",
      "text/plain": [
       "<Figure size 432x288 with 1 Axes>"
      ]
     },
     "metadata": {
      "needs_background": "light"
     },
     "output_type": "display_data"
    },
    {
     "name": "stdout",
     "output_type": "stream",
     "text": [
      "Epoch [11/49]...    ...11.677(s) feat_lo: 1.39287 - feat_med: 1.16833 - feat_hi: 0.96802 - KL: 25.05216 - \n",
      "Epoch [12/49]...    ...11.700(s) feat_lo: 1.38377 - feat_med: 1.16298 - feat_hi: 0.96399 - KL: 24.99069 - \n",
      "Epoch [13/49]...    ...11.679(s) feat_lo: 1.37142 - feat_med: 1.15372 - feat_hi: 0.95785 - KL: 25.02497 - \n",
      "Epoch [14/49]...    ...11.720(s) feat_lo: 1.36428 - feat_med: 1.14853 - feat_hi: 0.95455 - KL: 25.00489 - \n",
      "Epoch [15/49]...    ...11.672(s) feat_lo: 1.35668 - feat_med: 1.14294 - feat_hi: 0.95041 - KL: 25.02243 - \n",
      "Epoch [16/49]...    ...11.739(s) feat_lo: 1.34801 - feat_med: 1.13701 - feat_hi: 0.94472 - KL: 24.98280 - \n",
      "Epoch [17/49]...    ...11.706(s) feat_lo: 1.34050 - feat_med: 1.13200 - feat_hi: 0.94143 - KL: 25.04645 - \n",
      "Epoch [18/49]...    ...11.637(s) feat_lo: 1.33429 - feat_med: 1.12739 - feat_hi: 0.93738 - KL: 25.04592 - \n",
      "Epoch [19/49]...    ...11.735(s) feat_lo: 1.32776 - feat_med: 1.12264 - feat_hi: 0.93344 - KL: 24.99795 - \n",
      "Epoch [20/49]...    ...11.694(s) feat_lo: 1.32287 - feat_med: 1.11890 - feat_hi: 0.93086 - KL: 25.00853 - \n",
      "5_o_Clock_Shadow 1\n",
      "Attractive 1\n",
      "Big_Lips 1\n",
      "Black_Hair 1\n",
      "Bushy_Eyebrows 1\n",
      "Male 1\n",
      "Mustache 1\n",
      "Pointy_Nose 1\n",
      "Wavy_Hair 1\n",
      "Young 1\n"
     ]
    },
    {
     "data": {
      "image/png": "[encoded data removed]",
      "text/plain": [
       "<Figure size 432x288 with 1 Axes>"
      ]
     },
     "metadata": {
      "needs_background": "light"
     },
     "output_type": "display_data"
    },
    {
     "data": {
      "image/png": "[encoded data removed]",
      "text/plain": [
       "<Figure size 432x288 with 1 Axes>"
      ]
     },
     "metadata": {
      "needs_background": "light"
     },
     "output_type": "display_data"
    },
    {
     "name": "stdout",
     "output_type": "stream",
     "text": [
      "Epoch [21/49]...    ...11.688(s) feat_lo: 1.31621 - feat_med: 1.11438 - feat_hi: 0.92730 - KL: 24.95763 - \n",
      "Epoch [22/49]...    ...11.639(s) feat_lo: 1.31351 - feat_med: 1.11178 - feat_hi: 0.92606 - KL: 25.04686 - \n",
      "Epoch [23/49]...    ...11.695(s) feat_lo: 1.30798 - feat_med: 1.10753 - feat_hi: 0.92286 - KL: 25.01121 - \n",
      "Epoch [24/49]...    ...11.697(s) feat_lo: 1.30170 - feat_med: 1.10379 - feat_hi: 0.92146 - KL: 25.00432 - \n",
      "Epoch [25/49]...    ...11.665(s) feat_lo: 1.30055 - feat_med: 1.10290 - feat_hi: 0.92090 - KL: 25.03904 - \n",
      "Epoch [26/49]...    ...11.600(s) feat_lo: 1.29333 - feat_med: 1.09682 - feat_hi: 0.91493 - KL: 24.99897 - \n",
      "Epoch [27/49]...    ...11.618(s) feat_lo: 1.29030 - feat_med: 1.09552 - feat_hi: 0.91479 - KL: 24.97864 - \n",
      "Epoch [28/49]...    ...11.610(s) feat_lo: 1.28565 - feat_med: 1.09091 - feat_hi: 0.91009 - KL: 25.02482 - \n",
      "Epoch [29/49]...    ...11.683(s) feat_lo: 1.28262 - feat_med: 1.08936 - feat_hi: 0.91009 - KL: 24.99290 - \n",
      "Epoch [30/49]...    ...11.673(s) feat_lo: 1.27855 - feat_med: 1.08607 - feat_hi: 0.90745 - KL: 25.00718 - \n",
      "5_o_Clock_Shadow 1\n",
      "Attractive 1\n",
      "Big_Lips 1\n",
      "Black_Hair 1\n",
      "Bushy_Eyebrows 1\n",
      "Male 1\n",
      "Mustache 1\n",
      "Pointy_Nose 1\n",
      "Wavy_Hair 1\n",
      "Young 1\n"
     ]
    },
    {
     "data": {
      "image/png": "[encoded data removed]",
      "text/plain": [
       "<Figure size 432x288 with 1 Axes>"
      ]
     },
     "metadata": {
      "needs_background": "light"
     },
     "output_type": "display_data"
    },
    {
     "data": {
      "image/png": "[encoded data removed]",
      "text/plain": [
       "<Figure size 432x288 with 1 Axes>"
      ]
     },
     "metadata": {
      "needs_background": "light"
     },
     "output_type": "display_data"
    },
    {
     "name": "stdout",
     "output_type": "stream",
     "text": [
      "Epoch [31/49]...    ...11.678(s) feat_lo: 1.27419 - feat_med: 1.08270 - feat_hi: 0.90498 - KL: 24.99119 - \n",
      "Epoch [32/49]...    ...11.691(s) feat_lo: 1.27372 - feat_med: 1.08244 - feat_hi: 0.90507 - KL: 25.02915 - \n",
      "Epoch [33/49]...    ...11.680(s) feat_lo: 1.26872 - feat_med: 1.07877 - feat_hi: 0.90272 - KL: 25.03611 - \n",
      "Epoch [34/49]...    ...11.591(s) feat_lo: 1.26552 - feat_med: 1.07598 - feat_hi: 0.89905 - KL: 24.96941 - \n",
      "Epoch [35/49]...    ...11.630(s) feat_lo: 1.26181 - feat_med: 1.07319 - feat_hi: 0.89718 - KL: 25.02212 - \n",
      "Epoch [36/49]...    ...11.638(s) feat_lo: 1.25976 - feat_med: 1.07168 - feat_hi: 0.89750 - KL: 24.96396 - \n",
      "Epoch [37/49]...    ...11.663(s) feat_lo: 1.25553 - feat_med: 1.06847 - feat_hi: 0.89418 - KL: 25.05588 - \n",
      "Epoch [38/49]...    ...11.683(s) feat_lo: 1.25430 - feat_med: 1.06702 - feat_hi: 0.89223 - KL: 24.97763 - \n",
      "Epoch [39/49]...    ...11.626(s) feat_lo: 1.25043 - feat_med: 1.06433 - feat_hi: 0.89067 - KL: 25.00797 - \n",
      "Epoch [40/49]...    ...11.616(s) feat_lo: 1.24895 - feat_med: 1.06371 - feat_hi: 0.89095 - KL: 25.01286 - \n",
      "5_o_Clock_Shadow 1\n",
      "Attractive 1\n",
      "Big_Lips 1\n",
      "Black_Hair 1\n",
      "Bushy_Eyebrows 1\n",
      "Male 1\n",
      "Mustache 1\n",
      "Pointy_Nose 1\n",
      "Wavy_Hair 1\n",
      "Young 1\n"
     ]
    },
    {
     "data": {
      "image/png": "[encoded data removed]",
      "text/plain": [
       "<Figure size 432x288 with 1 Axes>"
      ]
     },
     "metadata": {
      "needs_background": "light"
     },
     "output_type": "display_data"
    },
    {
     "data": {
      "image/png": "[encoded data removed]",
      "text/plain": [
       "<Figure size 432x288 with 1 Axes>"
      ]
     },
     "metadata": {
      "needs_background": "light"
     },
     "output_type": "display_data"
    },
    {
     "name": "stdout",
     "output_type": "stream",
     "text": [
      "Epoch [41/49]...    ...11.612(s) feat_lo: 1.24561 - feat_med: 1.06061 - feat_hi: 0.88789 - KL: 25.00717 - \n",
      "Epoch [42/49]...    ...11.633(s) feat_lo: 1.24115 - feat_med: 1.05733 - feat_hi: 0.88616 - KL: 24.97817 - \n",
      "Epoch [43/49]...    ...11.661(s) feat_lo: 1.24010 - feat_med: 1.05686 - feat_hi: 0.88584 - KL: 25.01279 - \n",
      "Epoch [44/49]...    ...11.666(s) feat_lo: 1.23891 - feat_med: 1.05569 - feat_hi: 0.88523 - KL: 25.01409 - \n",
      "Epoch [45/49]...    ...11.715(s) feat_lo: 1.23399 - feat_med: 1.05207 - feat_hi: 0.88193 - KL: 24.97668 - \n",
      "Epoch [46/49]...    ...11.714(s) feat_lo: 1.23327 - feat_med: 1.05078 - feat_hi: 0.88079 - KL: 25.03173 - \n",
      "Epoch [47/49]...    ...11.684(s) feat_lo: 1.22943 - feat_med: 1.04748 - feat_hi: 0.87745 - KL: 24.99582 - \n",
      "Epoch [48/49]...    ...11.642(s) feat_lo: 1.22878 - feat_med: 1.04750 - feat_hi: 0.87888 - KL: 25.01575 - \n",
      "Epoch [49/49]...    ...11.632(s) feat_lo: 1.22557 - feat_med: 1.04447 - feat_hi: 0.87598 - KL: 24.96209 - \n"
     ]
    }
   ],
   "source": [
    "import time\n",
    "from pathlib import Path\n",
    "\n",
    "epochs = 50\n",
    "batch_size = 64\n",
    "\n",
    "# control vae params\n",
    "k_p = 0.01\n",
    "k_i = 0.0001\n",
    "i_t = 0\n",
    "beta_max = 1.0 \n",
    "beta_min = 0.0\n",
    "desired_kl = 25\n",
    "beta = 0.0\n",
    "\n",
    "\n",
    "\n",
    "\n",
    "model_type = '10kimgs-controlled-kl-dfc-cvae'\n",
    "\n",
    "\n",
    "\n",
    "\n",
    "#create base dir\n",
    "base_model_path = Path(f'./models/{model_type}')\n",
    "base_model_path.mkdir(parents=True, exist_ok=True)\n",
    "\n",
    "#create figure dir\n",
    "figure_model_path = base_model_path / 'figures'\n",
    "figure_model_path.mkdir(parents=True, exist_ok=True)\n",
    "\n",
    "#create checkpoint dir\n",
    "checkpoints_model_path = base_model_path / 'checkpoints'\n",
    "checkpoints_model_path.mkdir(parents=True, exist_ok=True)\n",
    "\n",
    "\n",
    "with tf.device('gpu:0'):\n",
    "    training_imgs = training_data[0]\n",
    "    training_attribs = training_data[1]\n",
    "    training_attribs  = np.cast['float32'](training_attribs )\n",
    "\n",
    "    num_batches = len(training_imgs) // batch_size\n",
    "\n",
    "    # losses\n",
    "    rl_lo_loss_list = [] \n",
    "    rl_med_loss_list = [] \n",
    "    rl_hi_loss_list = [] \n",
    "    kl_loss_list = []\n",
    "\n",
    "    \n",
    "    test_attribute = training_data[1][0]\n",
    "    test_img = training_data[0][0]\n",
    "    mu, sigma = 0, 1 #mean and standard deviation\n",
    "    s = np.random.normal(mu, sigma, latent_dim)\n",
    "    \n",
    "\n",
    "    \n",
    "\n",
    "    \n",
    "\n",
    "\n",
    "    for epoch in range(0,epochs):\n",
    "        start = time.time()\n",
    "        print(f'Epoch [{epoch}/{epochs-1}]...'.ljust(20), end = '')\n",
    "\n",
    "\n",
    "        \n",
    "        idxs = np.arange(0,len(training_imgs))\n",
    "        np.random.shuffle(idxs)\n",
    "        \n",
    "        img_input = training_imgs[idxs]\n",
    "        attribute_input = training_attribs[idxs]\n",
    "\n",
    "\n",
    "        rl_lo_loss_total = 0\n",
    "        rl_med_loss_total = 0\n",
    "        rl_hi_loss_total = 0\n",
    "        kl_loss_total = 0\n",
    "\n",
    "         \n",
    "\n",
    "        \n",
    "        \n",
    "        for index in range(num_batches):\n",
    "            img_batch = img_input[index*batch_size: batch_size*(index+1)]\n",
    "            attribute_batch = attribute_input[index*batch_size: batch_size*(index+1)] \n",
    "            \n",
    "\n",
    "            rl_lo_loss, rl_med_loss, rl_hi_loss, kl_loss, beta_num = train_step(img_batch , attribute_batch, tf.constant(beta, dtype=tf.float32))\n",
    "\n",
    "\n",
    "            rl_lo_loss_total += K.get_value(rl_lo_loss)\n",
    "            rl_med_loss_total += K.get_value(rl_med_loss)\n",
    "            rl_hi_loss_total += K.get_value(rl_hi_loss)\n",
    "            kl_loss_total += K.get_value(kl_loss)\n",
    "\n",
    "\n",
    "#             print(f'kl: { K.get_value(kl_loss):.5f} beta: {K.get_value(beta_var):.5f}')\n",
    "#             control vae \n",
    "            error_t = desired_kl - K.get_value(kl_loss)\n",
    "            p_t = k_p / (1+np.exp(error_t))\n",
    "\n",
    "            if beta_min <= beta and beta <= beta_max:\n",
    "                i_t = i_t - k_i*error_t\n",
    "\n",
    "            beta = p_t + i_t + beta_min\n",
    "\n",
    "            beta = min(beta, beta_max)\n",
    "            beta = max(beta, beta_min)\n",
    "\n",
    "\n",
    "        \n",
    "        \n",
    "       \n",
    "        \n",
    "        rl_lo_loss_list.append(rl_lo_loss_total/num_batches) \n",
    "        rl_med_loss_list.append(rl_med_loss_total/num_batches) \n",
    "        rl_hi_loss_list.append(rl_hi_loss_total/num_batches)\n",
    "        kl_loss_list.append(kl_loss_total/num_batches)\n",
    "\n",
    "\n",
    "\n",
    "        print(f'...{time.time()-start:.3f}(s) '  , end='')\n",
    "       \n",
    "        \n",
    "        print(f'feat_lo: {rl_lo_loss_total/num_batches:.5f} - ', end='') \n",
    "        print(f'feat_med: {rl_med_loss_total/num_batches:.5f} - ', end='') \n",
    "        print(f'feat_hi: {rl_hi_loss_total/num_batches:.5f} - ', end='') \n",
    "        \n",
    "        print(f'KL: {kl_loss_total/num_batches:.5f} - ')\n",
    "#         print(f'beta: {K.get_value(beta_var)}')\n",
    "        \n",
    "\n",
    "        if epoch % 10 == 0:\n",
    "            encode_to_attribs(test_attribute)\n",
    "            _, _, z = encoder.predict([training_data[0][0].reshape(1,width, height,3), test_attribute.reshape(1,-1)])\n",
    "            dec_img = unnormalize_tanh( decoder.predict([z, test_attribute.reshape(1,n_conds)])[0])\n",
    "            plt.imshow(dec_img)\n",
    "            plt.title(\"Decoded Image\")\n",
    "            ax = plt.gca()\n",
    "            ax.get_xaxis().set_visible(False)\n",
    "            ax.get_yaxis().set_visible(False)\n",
    "            plt.savefig(figure_model_path / f'decoded-{epoch}.png')\n",
    "            plt.show()\n",
    "            \n",
    "            gen_img = unnormalize_tanh( decoder.predict([np.array([s]),np.array([test_attribute])])[0])        \n",
    "            plt.imshow(gen_img)\n",
    "            plt.title(\"Generated Image\")\n",
    "            ax = plt.gca()\n",
    "            ax.get_xaxis().set_visible(False)\n",
    "            ax.get_yaxis().set_visible(False)\n",
    "            plt.savefig(figure_model_path / f'generated-{epoch}.png')\n",
    "            plt.show()\n",
    "\n",
    "\n",
    "#         if epoch % 100 == 0 and epoch != 0:        \n",
    "#             print(f'checkpointing at epoch: {epoch}')\n",
    "#             decoder.save_weights((checkpoints_model_path / f'epoch-{epoch}-{model_type}-decoder-weights.h5').as_posix())\n",
    "#             decoder.save((checkpoints_model_path / f'epoch-{epoch}-{model_type}-decoder.h5').as_posix())\n",
    "#             encoder.save_weights((checkpoints_model_path / f'epoch-{epoch}-{model_type}-encoder-weights.h5').as_posix())\n",
    "#             encoder.save((checkpoints_model_path / f'epoch-{epoch}-{model_type}-encoder.h5').as_posix())\n",
    "            "
   ]
  },
  {
   "cell_type": "code",
   "execution_count": 78,
   "metadata": {},
   "outputs": [],
   "source": [
    "def normalize(loss_list):\n",
    "    loss_list = np.array(loss_list)\n",
    "    return (loss_list - loss_list.min()) / (loss_list.max() - loss_list.min())"
   ]
  },
  {
   "cell_type": "code",
   "execution_count": 303,
   "metadata": {},
   "outputs": [
    {
     "data": {
      "image/png": "[encoded data removed]",
      "text/plain": [
       "<Figure size 432x288 with 1 Axes>"
      ]
     },
     "metadata": {
      "needs_background": "light"
     },
     "output_type": "display_data"
    },
    {
     "data": {
      "image/png": "[encoded data removed]",
      "text/plain": [
       "<Figure size 432x288 with 1 Axes>"
      ]
     },
     "metadata": {
      "needs_background": "light"
     },
     "output_type": "display_data"
    }
   ],
   "source": [
    "\n",
    "\n",
    "plt.plot(rl_lo_loss_list, label=\"lo\")\n",
    "plt.plot(rl_med_loss_list, label=\"med\")\n",
    "plt.plot(rl_hi_loss_list, label=\"hi\")\n",
    "plt.title(\"Feature loss\")\n",
    "plt.legend()\n",
    "plt.savefig(figure_model_path / 'feature_loss.png')\n",
    "plt.show()\n",
    " \n",
    "plt.plot(kl_loss_list)\n",
    "plt.title(\"KL loss\")\n",
    "plt.savefig(figure_model_path / 'encoder_loss.png')\n",
    "plt.show()\n"
   ]
  },
  {
   "cell_type": "code",
   "execution_count": 196,
   "metadata": {},
   "outputs": [],
   "source": [
    "from __future__ import print_function\n",
    "from ipywidgets import interact, interactive, fixed, interact_manual\n",
    "import ipywidgets as widgets\n",
    "from IPython.display import display\n",
    "from ipywidgets import HBox, Label"
   ]
  },
  {
   "cell_type": "code",
   "execution_count": 197,
   "metadata": {},
   "outputs": [
    {
     "name": "stdout",
     "output_type": "stream",
     "text": [
      "5oClockShadow=1, Arched_Eyebrows=1, Attractive=1, Bags_Under_Eyes=1, Bald=1, Bangs=1, Big_Lips=1, Big_Nose=1, Black_Hair=1, Blond_Hair=1, Blurry=1, Brown_Hair=1, Bushy_Eyebrows=1, Chubby=1, Double_Chin=1, Eyeglasses=1, Goatee=1, Gray_Hair=1, Heavy_Makeup=1, High_Cheekbones=1, Male=1, Mouth_Slightly_Open=1, Mustache=1, Narrow_Eyes=1, No_Beard=1, Oval_Face=1, Pale_Skin=1, Pointy_Nose=1, Receding_Hairline=1, Rosy_Cheeks=1, Sideburns=1, Smiling=1, Straight_Hair=1, Wavy_Hair=1, Wearing_Earrings=1, Wearing_Hat=1, Wearing_Lipstick=1, Wearing_Necklace=1, Wearing_Necktie=1, Young\n"
     ]
    }
   ],
   "source": [
    "attribs = '''5oClockShadow=1, Arched_Eyebrows=1, Attractive=1, Bags_Under_Eyes=1, Bald=1, Bangs=1, Big_Lips=1, Big_Nose=1, Black_Hair=1, Blond_Hair=1, Blurry=1, Brown_Hair=1, Bushy_Eyebrows=1, Chubby=1, Double_Chin=1, Eyeglasses=1, Goatee=1, Gray_Hair=1, Heavy_Makeup=1, High_Cheekbones=1, Male=1, Mouth_Slightly_Open=1, Mustache=1, Narrow_Eyes=1, No_Beard=1, Oval_Face=1, Pale_Skin=1, Pointy_Nose=1, Receding_Hairline=1, Rosy_Cheeks=1, Sideburns=1, Smiling=1, Straight_Hair=1, Wavy_Hair=1, Wearing_Earrings=1, Wearing_Hat=1, Wearing_Lipstick=1, Wearing_Necklace=1, Wearing_Necktie=1, Young'''\n",
    "attribs = attribs.split('=1,')\n",
    "attribs = [attrib.strip() for attrib in attribs]\n",
    "print(f\"=1, \".join(attribs))"
   ]
  },
  {
   "cell_type": "code",
   "execution_count": 82,
   "metadata": {},
   "outputs": [],
   "source": [
    "attrib_dict = {attrib:i for i,attrib in enumerate(attribs)}"
   ]
  },
  {
   "cell_type": "code",
   "execution_count": 83,
   "metadata": {},
   "outputs": [],
   "source": [
    "def generate(decoder, noise, attribute):\n",
    "    gen_img = unnormalize_tanh( decoder.predict([np.array([noise]),np.array([attribute])])[0])        \n",
    "    plt.imshow(gen_img)\n",
    "    ax = plt.gca()\n",
    "    ax.get_xaxis().set_visible(False)\n",
    "    ax.get_yaxis().set_visible(False)\n",
    "    plt.show()"
   ]
  },
  {
   "cell_type": "code",
   "execution_count": 84,
   "metadata": {
    "scrolled": true
   },
   "outputs": [
    {
     "data": {
      "application/vnd.jupyter.widget-view+json": {
       "model_id": "fb7ad38ceb1540c0bb67aed5f36d0219",
       "version_major": 2,
       "version_minor": 0
      },
      "text/plain": [
       "Label(value='5oClockShadow')"
      ]
     },
     "metadata": {},
     "output_type": "display_data"
    },
    {
     "data": {
      "application/vnd.jupyter.widget-view+json": {
       "model_id": "98bf4ebcee634a97b861b0ea96fb65ca",
       "version_major": 2,
       "version_minor": 0
      },
      "text/plain": [
       "FloatSlider(value=-1.0, max=10.0, min=-10.0, step=0.5)"
      ]
     },
     "metadata": {},
     "output_type": "display_data"
    },
    {
     "data": {
      "application/vnd.jupyter.widget-view+json": {
       "model_id": "3bc3bb2130a44fc89e54ef889ff7fbc9",
       "version_major": 2,
       "version_minor": 0
      },
      "text/plain": [
       "Label(value='Arched_Eyebrows')"
      ]
     },
     "metadata": {},
     "output_type": "display_data"
    },
    {
     "data": {
      "application/vnd.jupyter.widget-view+json": {
       "model_id": "dc443e47906d474e9533da95531ce987",
       "version_major": 2,
       "version_minor": 0
      },
      "text/plain": [
       "FloatSlider(value=-1.0, max=10.0, min=-10.0, step=0.5)"
      ]
     },
     "metadata": {},
     "output_type": "display_data"
    },
    {
     "data": {
      "application/vnd.jupyter.widget-view+json": {
       "model_id": "3ba6b75a10cb468b8edd29ebfe555e50",
       "version_major": 2,
       "version_minor": 0
      },
      "text/plain": [
       "Label(value='Attractive')"
      ]
     },
     "metadata": {},
     "output_type": "display_data"
    },
    {
     "data": {
      "application/vnd.jupyter.widget-view+json": {
       "model_id": "266e52f79fe044d2ab1058939bafd201",
       "version_major": 2,
       "version_minor": 0
      },
      "text/plain": [
       "FloatSlider(value=-1.0, max=10.0, min=-10.0, step=0.5)"
      ]
     },
     "metadata": {},
     "output_type": "display_data"
    },
    {
     "data": {
      "application/vnd.jupyter.widget-view+json": {
       "model_id": "acc84007707e415c9ee8a921740752b5",
       "version_major": 2,
       "version_minor": 0
      },
      "text/plain": [
       "Label(value='Bags_Under_Eyes')"
      ]
     },
     "metadata": {},
     "output_type": "display_data"
    },
    {
     "data": {
      "application/vnd.jupyter.widget-view+json": {
       "model_id": "08524e24ea8e430d965fc02dea85a8de",
       "version_major": 2,
       "version_minor": 0
      },
      "text/plain": [
       "FloatSlider(value=-1.0, max=10.0, min=-10.0, step=0.5)"
      ]
     },
     "metadata": {},
     "output_type": "display_data"
    },
    {
     "data": {
      "application/vnd.jupyter.widget-view+json": {
       "model_id": "25d611004f504a8d88fda5635855e087",
       "version_major": 2,
       "version_minor": 0
      },
      "text/plain": [
       "Label(value='Bald')"
      ]
     },
     "metadata": {},
     "output_type": "display_data"
    },
    {
     "data": {
      "application/vnd.jupyter.widget-view+json": {
       "model_id": "82ce34a2257e4b89be84a1cede6861b1",
       "version_major": 2,
       "version_minor": 0
      },
      "text/plain": [
       "FloatSlider(value=-1.0, max=10.0, min=-10.0, step=0.5)"
      ]
     },
     "metadata": {},
     "output_type": "display_data"
    },
    {
     "data": {
      "application/vnd.jupyter.widget-view+json": {
       "model_id": "9f92f76c5fa247709f421961912d0b40",
       "version_major": 2,
       "version_minor": 0
      },
      "text/plain": [
       "Label(value='Bangs')"
      ]
     },
     "metadata": {},
     "output_type": "display_data"
    },
    {
     "data": {
      "application/vnd.jupyter.widget-view+json": {
       "model_id": "b061f5f07c584dceaee9b1bf012ed1b2",
       "version_major": 2,
       "version_minor": 0
      },
      "text/plain": [
       "FloatSlider(value=-1.0, max=10.0, min=-10.0, step=0.5)"
      ]
     },
     "metadata": {},
     "output_type": "display_data"
    },
    {
     "data": {
      "application/vnd.jupyter.widget-view+json": {
       "model_id": "aef3f40d8fe6405ebd519919f78fc556",
       "version_major": 2,
       "version_minor": 0
      },
      "text/plain": [
       "Label(value='Big_Lips')"
      ]
     },
     "metadata": {},
     "output_type": "display_data"
    },
    {
     "data": {
      "application/vnd.jupyter.widget-view+json": {
       "model_id": "91e78d21f2f14818924b3253cc78335d",
       "version_major": 2,
       "version_minor": 0
      },
      "text/plain": [
       "FloatSlider(value=-1.0, max=10.0, min=-10.0, step=0.5)"
      ]
     },
     "metadata": {},
     "output_type": "display_data"
    },
    {
     "data": {
      "application/vnd.jupyter.widget-view+json": {
       "model_id": "e591bc4b088445ba8306d9494b116766",
       "version_major": 2,
       "version_minor": 0
      },
      "text/plain": [
       "Label(value='Big_Nose')"
      ]
     },
     "metadata": {},
     "output_type": "display_data"
    },
    {
     "data": {
      "application/vnd.jupyter.widget-view+json": {
       "model_id": "11c4408a305d4a59b333fbdc7a3261ba",
       "version_major": 2,
       "version_minor": 0
      },
      "text/plain": [
       "FloatSlider(value=-1.0, max=10.0, min=-10.0, step=0.5)"
      ]
     },
     "metadata": {},
     "output_type": "display_data"
    },
    {
     "data": {
      "application/vnd.jupyter.widget-view+json": {
       "model_id": "6625d40dbb6a4d26b9d010f6cbfe2eef",
       "version_major": 2,
       "version_minor": 0
      },
      "text/plain": [
       "Label(value='Black_Hair')"
      ]
     },
     "metadata": {},
     "output_type": "display_data"
    },
    {
     "data": {
      "application/vnd.jupyter.widget-view+json": {
       "model_id": "5d353bf86d674ae9b7e50ee72ececd7a",
       "version_major": 2,
       "version_minor": 0
      },
      "text/plain": [
       "FloatSlider(value=-1.0, max=10.0, min=-10.0, step=0.5)"
      ]
     },
     "metadata": {},
     "output_type": "display_data"
    },
    {
     "data": {
      "application/vnd.jupyter.widget-view+json": {
       "model_id": "50a913a65be74b09a2f0c807a180ab64",
       "version_major": 2,
       "version_minor": 0
      },
      "text/plain": [
       "Label(value='Blond_Hair')"
      ]
     },
     "metadata": {},
     "output_type": "display_data"
    },
    {
     "data": {
      "application/vnd.jupyter.widget-view+json": {
       "model_id": "2ad7638d86bf4d60b129c31eb0d9fe00",
       "version_major": 2,
       "version_minor": 0
      },
      "text/plain": [
       "FloatSlider(value=-1.0, max=10.0, min=-10.0, step=0.5)"
      ]
     },
     "metadata": {},
     "output_type": "display_data"
    },
    {
     "data": {
      "application/vnd.jupyter.widget-view+json": {
       "model_id": "527cc09fedc1452b8eea50f5dcef3bf6",
       "version_major": 2,
       "version_minor": 0
      },
      "text/plain": [
       "Label(value='Blurry')"
      ]
     },
     "metadata": {},
     "output_type": "display_data"
    },
    {
     "data": {
      "application/vnd.jupyter.widget-view+json": {
       "model_id": "e43b23f893cb4ce6957dfbee93062fe7",
       "version_major": 2,
       "version_minor": 0
      },
      "text/plain": [
       "FloatSlider(value=-1.0, max=10.0, min=-10.0, step=0.5)"
      ]
     },
     "metadata": {},
     "output_type": "display_data"
    },
    {
     "data": {
      "application/vnd.jupyter.widget-view+json": {
       "model_id": "ac3115497be04611be7626ecb36fb0a8",
       "version_major": 2,
       "version_minor": 0
      },
      "text/plain": [
       "Label(value='Brown_Hair')"
      ]
     },
     "metadata": {},
     "output_type": "display_data"
    },
    {
     "data": {
      "application/vnd.jupyter.widget-view+json": {
       "model_id": "ca4a68fcf5964f8e807f6e8268fdf8af",
       "version_major": 2,
       "version_minor": 0
      },
      "text/plain": [
       "FloatSlider(value=-1.0, max=10.0, min=-10.0, step=0.5)"
      ]
     },
     "metadata": {},
     "output_type": "display_data"
    },
    {
     "data": {
      "application/vnd.jupyter.widget-view+json": {
       "model_id": "11137dba8c024d83ac93e15e95bdb34d",
       "version_major": 2,
       "version_minor": 0
      },
      "text/plain": [
       "Label(value='Bushy_Eyebrows')"
      ]
     },
     "metadata": {},
     "output_type": "display_data"
    },
    {
     "data": {
      "application/vnd.jupyter.widget-view+json": {
       "model_id": "3a60f17840d24765b961cc203459e76e",
       "version_major": 2,
       "version_minor": 0
      },
      "text/plain": [
       "FloatSlider(value=-1.0, max=10.0, min=-10.0, step=0.5)"
      ]
     },
     "metadata": {},
     "output_type": "display_data"
    },
    {
     "data": {
      "application/vnd.jupyter.widget-view+json": {
       "model_id": "5aad4129abc64e8e8cf70724509b16ea",
       "version_major": 2,
       "version_minor": 0
      },
      "text/plain": [
       "Label(value='Chubby')"
      ]
     },
     "metadata": {},
     "output_type": "display_data"
    },
    {
     "data": {
      "application/vnd.jupyter.widget-view+json": {
       "model_id": "0403cdd5f921432d85d136ec11d05277",
       "version_major": 2,
       "version_minor": 0
      },
      "text/plain": [
       "FloatSlider(value=-1.0, max=10.0, min=-10.0, step=0.5)"
      ]
     },
     "metadata": {},
     "output_type": "display_data"
    },
    {
     "data": {
      "application/vnd.jupyter.widget-view+json": {
       "model_id": "83ec69fb87f24cee9b5bca251a30366c",
       "version_major": 2,
       "version_minor": 0
      },
      "text/plain": [
       "Label(value='Double_Chin')"
      ]
     },
     "metadata": {},
     "output_type": "display_data"
    },
    {
     "data": {
      "application/vnd.jupyter.widget-view+json": {
       "model_id": "4d2fcdfb2e154b828d2e8fdb3c36672e",
       "version_major": 2,
       "version_minor": 0
      },
      "text/plain": [
       "FloatSlider(value=-1.0, max=10.0, min=-10.0, step=0.5)"
      ]
     },
     "metadata": {},
     "output_type": "display_data"
    },
    {
     "data": {
      "application/vnd.jupyter.widget-view+json": {
       "model_id": "0eb98c2efc344a98ba69bdc9c9629d81",
       "version_major": 2,
       "version_minor": 0
      },
      "text/plain": [
       "Label(value='Eyeglasses')"
      ]
     },
     "metadata": {},
     "output_type": "display_data"
    },
    {
     "data": {
      "application/vnd.jupyter.widget-view+json": {
       "model_id": "571ed0e8147a47a5ae01d7db6bb926df",
       "version_major": 2,
       "version_minor": 0
      },
      "text/plain": [
       "FloatSlider(value=-1.0, max=10.0, min=-10.0, step=0.5)"
      ]
     },
     "metadata": {},
     "output_type": "display_data"
    },
    {
     "data": {
      "application/vnd.jupyter.widget-view+json": {
       "model_id": "7f5c9d8ec8d34dabaef9c9450a862b96",
       "version_major": 2,
       "version_minor": 0
      },
      "text/plain": [
       "Label(value='Goatee')"
      ]
     },
     "metadata": {},
     "output_type": "display_data"
    },
    {
     "data": {
      "application/vnd.jupyter.widget-view+json": {
       "model_id": "1907340c7d7643e18f0e1ae88fbee115",
       "version_major": 2,
       "version_minor": 0
      },
      "text/plain": [
       "FloatSlider(value=-1.0, max=10.0, min=-10.0, step=0.5)"
      ]
     },
     "metadata": {},
     "output_type": "display_data"
    },
    {
     "data": {
      "application/vnd.jupyter.widget-view+json": {
       "model_id": "4714c890983145519a6ea08da88db51d",
       "version_major": 2,
       "version_minor": 0
      },
      "text/plain": [
       "Label(value='Gray_Hair')"
      ]
     },
     "metadata": {},
     "output_type": "display_data"
    },
    {
     "data": {
      "application/vnd.jupyter.widget-view+json": {
       "model_id": "d2b4e10e33704d4592739b0237af44d0",
       "version_major": 2,
       "version_minor": 0
      },
      "text/plain": [
       "FloatSlider(value=-1.0, max=10.0, min=-10.0, step=0.5)"
      ]
     },
     "metadata": {},
     "output_type": "display_data"
    },
    {
     "data": {
      "application/vnd.jupyter.widget-view+json": {
       "model_id": "61892fe16b484d819c9cfb31e4ea6fc4",
       "version_major": 2,
       "version_minor": 0
      },
      "text/plain": [
       "Label(value='Heavy_Makeup')"
      ]
     },
     "metadata": {},
     "output_type": "display_data"
    },
    {
     "data": {
      "application/vnd.jupyter.widget-view+json": {
       "model_id": "d3d20d8ef6674fadb91f7a3141fb020d",
       "version_major": 2,
       "version_minor": 0
      },
      "text/plain": [
       "FloatSlider(value=-1.0, max=10.0, min=-10.0, step=0.5)"
      ]
     },
     "metadata": {},
     "output_type": "display_data"
    },
    {
     "data": {
      "application/vnd.jupyter.widget-view+json": {
       "model_id": "7220e7c89fe84623b36baff02d9ecd85",
       "version_major": 2,
       "version_minor": 0
      },
      "text/plain": [
       "Label(value='High_Cheekbones')"
      ]
     },
     "metadata": {},
     "output_type": "display_data"
    },
    {
     "data": {
      "application/vnd.jupyter.widget-view+json": {
       "model_id": "2ee4867f9a574c618250a8b7522a0e39",
       "version_major": 2,
       "version_minor": 0
      },
      "text/plain": [
       "FloatSlider(value=-1.0, max=10.0, min=-10.0, step=0.5)"
      ]
     },
     "metadata": {},
     "output_type": "display_data"
    },
    {
     "data": {
      "application/vnd.jupyter.widget-view+json": {
       "model_id": "642efeb1591a48c4b9877ada3d0f3be7",
       "version_major": 2,
       "version_minor": 0
      },
      "text/plain": [
       "Label(value='Male')"
      ]
     },
     "metadata": {},
     "output_type": "display_data"
    },
    {
     "data": {
      "application/vnd.jupyter.widget-view+json": {
       "model_id": "ab913ba4e3e6435d955b28f43de20259",
       "version_major": 2,
       "version_minor": 0
      },
      "text/plain": [
       "FloatSlider(value=-1.0, max=10.0, min=-10.0, step=0.5)"
      ]
     },
     "metadata": {},
     "output_type": "display_data"
    },
    {
     "data": {
      "application/vnd.jupyter.widget-view+json": {
       "model_id": "d6e0fba0cb944f5f9c1f9cd34c243e90",
       "version_major": 2,
       "version_minor": 0
      },
      "text/plain": [
       "Label(value='Mouth_Slightly_Open')"
      ]
     },
     "metadata": {},
     "output_type": "display_data"
    },
    {
     "data": {
      "application/vnd.jupyter.widget-view+json": {
       "model_id": "9fe22ed1099545258ce7e6aec9afc0bb",
       "version_major": 2,
       "version_minor": 0
      },
      "text/plain": [
       "FloatSlider(value=-1.0, max=10.0, min=-10.0, step=0.5)"
      ]
     },
     "metadata": {},
     "output_type": "display_data"
    },
    {
     "data": {
      "application/vnd.jupyter.widget-view+json": {
       "model_id": "9724ddc782ff494a921b3b312fd79c6b",
       "version_major": 2,
       "version_minor": 0
      },
      "text/plain": [
       "Label(value='Mustache')"
      ]
     },
     "metadata": {},
     "output_type": "display_data"
    },
    {
     "data": {
      "application/vnd.jupyter.widget-view+json": {
       "model_id": "d5f3ed75d7694ed8b534338b0987cfde",
       "version_major": 2,
       "version_minor": 0
      },
      "text/plain": [
       "FloatSlider(value=-1.0, max=10.0, min=-10.0, step=0.5)"
      ]
     },
     "metadata": {},
     "output_type": "display_data"
    },
    {
     "data": {
      "application/vnd.jupyter.widget-view+json": {
       "model_id": "cf1dd050a77b4f06b0195c64960f1fde",
       "version_major": 2,
       "version_minor": 0
      },
      "text/plain": [
       "Label(value='Narrow_Eyes')"
      ]
     },
     "metadata": {},
     "output_type": "display_data"
    },
    {
     "data": {
      "application/vnd.jupyter.widget-view+json": {
       "model_id": "3fa47e1603e2419c9aec1846795acfb7",
       "version_major": 2,
       "version_minor": 0
      },
      "text/plain": [
       "FloatSlider(value=-1.0, max=10.0, min=-10.0, step=0.5)"
      ]
     },
     "metadata": {},
     "output_type": "display_data"
    },
    {
     "data": {
      "application/vnd.jupyter.widget-view+json": {
       "model_id": "d3077e336778453cb84864389bc51abe",
       "version_major": 2,
       "version_minor": 0
      },
      "text/plain": [
       "Label(value='No_Beard')"
      ]
     },
     "metadata": {},
     "output_type": "display_data"
    },
    {
     "data": {
      "application/vnd.jupyter.widget-view+json": {
       "model_id": "a97db0b6d1ac424297681affbd4bb471",
       "version_major": 2,
       "version_minor": 0
      },
      "text/plain": [
       "FloatSlider(value=-1.0, max=10.0, min=-10.0, step=0.5)"
      ]
     },
     "metadata": {},
     "output_type": "display_data"
    },
    {
     "data": {
      "application/vnd.jupyter.widget-view+json": {
       "model_id": "fddf3dc2dd064035b8de52cba660e6d2",
       "version_major": 2,
       "version_minor": 0
      },
      "text/plain": [
       "Label(value='Oval_Face')"
      ]
     },
     "metadata": {},
     "output_type": "display_data"
    },
    {
     "data": {
      "application/vnd.jupyter.widget-view+json": {
       "model_id": "950bab22ae4c416daa4df15fe488bdda",
       "version_major": 2,
       "version_minor": 0
      },
      "text/plain": [
       "FloatSlider(value=-1.0, max=10.0, min=-10.0, step=0.5)"
      ]
     },
     "metadata": {},
     "output_type": "display_data"
    },
    {
     "data": {
      "application/vnd.jupyter.widget-view+json": {
       "model_id": "d9c0310782e34b0b9cda9d5720f3a208",
       "version_major": 2,
       "version_minor": 0
      },
      "text/plain": [
       "Label(value='Pale_Skin')"
      ]
     },
     "metadata": {},
     "output_type": "display_data"
    },
    {
     "data": {
      "application/vnd.jupyter.widget-view+json": {
       "model_id": "eace4e09f73440ec82b184ea56f263d7",
       "version_major": 2,
       "version_minor": 0
      },
      "text/plain": [
       "FloatSlider(value=-1.0, max=10.0, min=-10.0, step=0.5)"
      ]
     },
     "metadata": {},
     "output_type": "display_data"
    },
    {
     "data": {
      "application/vnd.jupyter.widget-view+json": {
       "model_id": "1615343972654b168f80092624a394fa",
       "version_major": 2,
       "version_minor": 0
      },
      "text/plain": [
       "Label(value='Pointy_Nose')"
      ]
     },
     "metadata": {},
     "output_type": "display_data"
    },
    {
     "data": {
      "application/vnd.jupyter.widget-view+json": {
       "model_id": "0e85be2371e249c2a4e39d6450a80a74",
       "version_major": 2,
       "version_minor": 0
      },
      "text/plain": [
       "FloatSlider(value=-1.0, max=10.0, min=-10.0, step=0.5)"
      ]
     },
     "metadata": {},
     "output_type": "display_data"
    },
    {
     "data": {
      "application/vnd.jupyter.widget-view+json": {
       "model_id": "8ec44996932b45baa07dd2b46a2aad7e",
       "version_major": 2,
       "version_minor": 0
      },
      "text/plain": [
       "Label(value='Receding_Hairline')"
      ]
     },
     "metadata": {},
     "output_type": "display_data"
    },
    {
     "data": {
      "application/vnd.jupyter.widget-view+json": {
       "model_id": "f85458284c19450fa0264398a189f46a",
       "version_major": 2,
       "version_minor": 0
      },
      "text/plain": [
       "FloatSlider(value=-1.0, max=10.0, min=-10.0, step=0.5)"
      ]
     },
     "metadata": {},
     "output_type": "display_data"
    },
    {
     "data": {
      "application/vnd.jupyter.widget-view+json": {
       "model_id": "6876652658954678b2416feaa9bc7241",
       "version_major": 2,
       "version_minor": 0
      },
      "text/plain": [
       "Label(value='Rosy_Cheeks')"
      ]
     },
     "metadata": {},
     "output_type": "display_data"
    },
    {
     "data": {
      "application/vnd.jupyter.widget-view+json": {
       "model_id": "98e26a5924ed43e69d1551f2ce7b1051",
       "version_major": 2,
       "version_minor": 0
      },
      "text/plain": [
       "FloatSlider(value=-1.0, max=10.0, min=-10.0, step=0.5)"
      ]
     },
     "metadata": {},
     "output_type": "display_data"
    },
    {
     "data": {
      "application/vnd.jupyter.widget-view+json": {
       "model_id": "8ccb2e721b444c84ba69ff18f0d6ed4a",
       "version_major": 2,
       "version_minor": 0
      },
      "text/plain": [
       "Label(value='Sideburns')"
      ]
     },
     "metadata": {},
     "output_type": "display_data"
    },
    {
     "data": {
      "application/vnd.jupyter.widget-view+json": {
       "model_id": "c1bc4a5e709a49fd9357f50f408a0a4f",
       "version_major": 2,
       "version_minor": 0
      },
      "text/plain": [
       "FloatSlider(value=-1.0, max=10.0, min=-10.0, step=0.5)"
      ]
     },
     "metadata": {},
     "output_type": "display_data"
    },
    {
     "data": {
      "application/vnd.jupyter.widget-view+json": {
       "model_id": "2dbc08f4972d44fbaa624f44e7ecbf8b",
       "version_major": 2,
       "version_minor": 0
      },
      "text/plain": [
       "Label(value='Smiling')"
      ]
     },
     "metadata": {},
     "output_type": "display_data"
    },
    {
     "data": {
      "application/vnd.jupyter.widget-view+json": {
       "model_id": "0ae80e55b6a9467a95d792cad13c3389",
       "version_major": 2,
       "version_minor": 0
      },
      "text/plain": [
       "FloatSlider(value=-1.0, max=10.0, min=-10.0, step=0.5)"
      ]
     },
     "metadata": {},
     "output_type": "display_data"
    },
    {
     "data": {
      "application/vnd.jupyter.widget-view+json": {
       "model_id": "a3cb9e90f4fd417d9fc243d5feacd006",
       "version_major": 2,
       "version_minor": 0
      },
      "text/plain": [
       "Label(value='Straight_Hair')"
      ]
     },
     "metadata": {},
     "output_type": "display_data"
    },
    {
     "data": {
      "application/vnd.jupyter.widget-view+json": {
       "model_id": "0fda7bfc050e477796fc29231816b854",
       "version_major": 2,
       "version_minor": 0
      },
      "text/plain": [
       "FloatSlider(value=-1.0, max=10.0, min=-10.0, step=0.5)"
      ]
     },
     "metadata": {},
     "output_type": "display_data"
    },
    {
     "data": {
      "application/vnd.jupyter.widget-view+json": {
       "model_id": "2de83e2ca5c34d83be93afcc8129f4a2",
       "version_major": 2,
       "version_minor": 0
      },
      "text/plain": [
       "Label(value='Wavy_Hair')"
      ]
     },
     "metadata": {},
     "output_type": "display_data"
    },
    {
     "data": {
      "application/vnd.jupyter.widget-view+json": {
       "model_id": "cae8028f46bd4dc28022b1c968b0c2ad",
       "version_major": 2,
       "version_minor": 0
      },
      "text/plain": [
       "FloatSlider(value=-1.0, max=10.0, min=-10.0, step=0.5)"
      ]
     },
     "metadata": {},
     "output_type": "display_data"
    },
    {
     "data": {
      "application/vnd.jupyter.widget-view+json": {
       "model_id": "1eaa808dd17f49c7882409c4c6d63198",
       "version_major": 2,
       "version_minor": 0
      },
      "text/plain": [
       "Label(value='Wearing_Earrings')"
      ]
     },
     "metadata": {},
     "output_type": "display_data"
    },
    {
     "data": {
      "application/vnd.jupyter.widget-view+json": {
       "model_id": "ff84f9c0ac0f43c08ebafd59059d10d3",
       "version_major": 2,
       "version_minor": 0
      },
      "text/plain": [
       "FloatSlider(value=-1.0, max=10.0, min=-10.0, step=0.5)"
      ]
     },
     "metadata": {},
     "output_type": "display_data"
    },
    {
     "data": {
      "application/vnd.jupyter.widget-view+json": {
       "model_id": "6b52ec1a22594b67b2f209467f3a1774",
       "version_major": 2,
       "version_minor": 0
      },
      "text/plain": [
       "Label(value='Wearing_Hat')"
      ]
     },
     "metadata": {},
     "output_type": "display_data"
    },
    {
     "data": {
      "application/vnd.jupyter.widget-view+json": {
       "model_id": "4b042b35d3564a3991bc88a6c4131b1b",
       "version_major": 2,
       "version_minor": 0
      },
      "text/plain": [
       "FloatSlider(value=-1.0, max=10.0, min=-10.0, step=0.5)"
      ]
     },
     "metadata": {},
     "output_type": "display_data"
    },
    {
     "data": {
      "application/vnd.jupyter.widget-view+json": {
       "model_id": "e67808529a174bd5887b97606372ff3c",
       "version_major": 2,
       "version_minor": 0
      },
      "text/plain": [
       "Label(value='Wearing_Lipstick')"
      ]
     },
     "metadata": {},
     "output_type": "display_data"
    },
    {
     "data": {
      "application/vnd.jupyter.widget-view+json": {
       "model_id": "427363f538e2401cbd2b07da541fe9be",
       "version_major": 2,
       "version_minor": 0
      },
      "text/plain": [
       "FloatSlider(value=-1.0, max=10.0, min=-10.0, step=0.5)"
      ]
     },
     "metadata": {},
     "output_type": "display_data"
    },
    {
     "data": {
      "application/vnd.jupyter.widget-view+json": {
       "model_id": "cee56171a0234a088818951e61d1de69",
       "version_major": 2,
       "version_minor": 0
      },
      "text/plain": [
       "Label(value='Wearing_Necklace')"
      ]
     },
     "metadata": {},
     "output_type": "display_data"
    },
    {
     "data": {
      "application/vnd.jupyter.widget-view+json": {
       "model_id": "851ebf30454d40aebaf2a8d777e04d47",
       "version_major": 2,
       "version_minor": 0
      },
      "text/plain": [
       "FloatSlider(value=-1.0, max=10.0, min=-10.0, step=0.5)"
      ]
     },
     "metadata": {},
     "output_type": "display_data"
    },
    {
     "data": {
      "application/vnd.jupyter.widget-view+json": {
       "model_id": "b8f4a560231c4679a9de9507ef6b233e",
       "version_major": 2,
       "version_minor": 0
      },
      "text/plain": [
       "Label(value='Wearing_Necktie')"
      ]
     },
     "metadata": {},
     "output_type": "display_data"
    },
    {
     "data": {
      "application/vnd.jupyter.widget-view+json": {
       "model_id": "29e223da8dc2441ea981e97d422143db",
       "version_major": 2,
       "version_minor": 0
      },
      "text/plain": [
       "FloatSlider(value=-1.0, max=10.0, min=-10.0, step=0.5)"
      ]
     },
     "metadata": {},
     "output_type": "display_data"
    },
    {
     "data": {
      "application/vnd.jupyter.widget-view+json": {
       "model_id": "674deab6a43840209031829713abd1b0",
       "version_major": 2,
       "version_minor": 0
      },
      "text/plain": [
       "Label(value='Young')"
      ]
     },
     "metadata": {},
     "output_type": "display_data"
    },
    {
     "data": {
      "application/vnd.jupyter.widget-view+json": {
       "model_id": "07aacb36dbd34a39b2020ba672bd0eff",
       "version_major": 2,
       "version_minor": 0
      },
      "text/plain": [
       "FloatSlider(value=-1.0, max=10.0, min=-10.0, step=0.5)"
      ]
     },
     "metadata": {},
     "output_type": "display_data"
    }
   ],
   "source": [
    "sliders = []\n",
    "labels = []\n",
    "for attrib in attribs:\n",
    "    slider = widgets.FloatSlider(\n",
    "        min=-10,\n",
    "        max=10,\n",
    "        step=0.5,\n",
    "        value=-1    )\n",
    "    labels.append(Label(attrib))\n",
    "    sliders.append(slider)\n",
    "for label, slider in zip(labels,sliders):\n",
    "    display(label)\n",
    "    display(slider)"
   ]
  },
  {
   "cell_type": "code",
   "execution_count": 381,
   "metadata": {
    "scrolled": false
   },
   "outputs": [
    {
     "name": "stdout",
     "output_type": "stream",
     "text": [
      "Bald 1.0\n",
      "Blond_Hair 1.0\n",
      "Male 1.5\n",
      "Mouth_Slightly_Open 1.0\n",
      "Narrow_Eyes 1.0\n",
      "No_Beard 1.0\n",
      "Oval_Face 1.0\n",
      "Pale_Skin 1.0\n",
      "Rosy_Cheeks 1.0\n",
      "Smiling 1.0\n",
      "Wavy_Hair 1.0\n",
      "Young 1.0\n"
     ]
    },
    {
     "data": {
      "image/png": "[encoded data removed]",
      "text/plain": [
       "<Figure size 432x288 with 1 Axes>"
      ]
     },
     "metadata": {
      "needs_background": "light"
     },
     "output_type": "display_data"
    }
   ],
   "source": [
    "conditions = np.array([slider.value for slider in sliders])\n",
    "# conditions = test_attribute\n",
    "# conditions = training_attribs[101]\n",
    "encode_to_attribs(conditions)\n",
    "mu, sigma = 0, 1 #mean and standard deviation\n",
    "noise = np.random.normal(mu, sigma,100)\n",
    "generate(decoder,noise,conditions)\n"
   ]
  },
  {
   "cell_type": "code",
   "execution_count": null,
   "metadata": {},
   "outputs": [],
   "source": []
  }
 ],
 "metadata": {
  "kernelspec": {
   "display_name": "Python 3",
   "language": "python",
   "name": "python3"
  },
  "language_info": {
   "codemirror_mode": {
    "name": "ipython",
    "version": 3
   },
   "file_extension": ".py",
   "mimetype": "text/x-python",
   "name": "python",
   "nbconvert_exporter": "python",
   "pygments_lexer": "ipython3",
   "version": "3.7.7"
  }
 },
 "nbformat": 4,
 "nbformat_minor": 4
}
