{
 "cells": [
  {
   "cell_type": "code",
   "execution_count": 1,
   "metadata": {},
   "outputs": [],
   "source": [
    "import tensorflow as tf\n",
    "from tensorflow.keras.preprocessing.image import ImageDataGenerator\n",
    "from tensorflow.keras.layers import Concatenate, GaussianNoise, UpSampling2D, Conv2DTranspose, Conv2D, Dense, Lambda, Input, Flatten, Reshape, BatchNormalization, ReLU, LeakyReLU, MaxPooling2D\n",
    "from tensorflow.keras.models import Model, load_model\n",
    "import tensorflow.keras.layers as layers\n",
    "import tensorflow.keras.backend as K\n",
    "from tensorflow.keras.losses import mse, binary_crossentropy\n",
    "from tensorflow.keras.datasets import mnist\n",
    "from tensorflow.keras.optimizers import Adam\n",
    "import matplotlib.pyplot as plt\n",
    "import pandas as pd\n",
    "\n",
    "\n",
    "\n",
    "import os\n",
    "import glob"
   ]
  },
  {
   "cell_type": "code",
   "execution_count": 2,
   "metadata": {},
   "outputs": [
    {
     "data": {
      "text/plain": [
       "[PhysicalDevice(name='/physical_device:GPU:0', device_type='GPU')]"
      ]
     },
     "execution_count": 2,
     "metadata": {},
     "output_type": "execute_result"
    }
   ],
   "source": [
    "tf.config.list_physical_devices('GPU')"
   ]
  },
  {
   "cell_type": "code",
   "execution_count": 3,
   "metadata": {},
   "outputs": [],
   "source": [
    "import numpy as np\n",
    "def sampling(args):\n",
    "    \"\"\"Reparameterization trick by sampling from an isotropic unit Gaussian.\n",
    "\n",
    "    # Arguments\n",
    "        args (tensor): mean and log of variance of Q(z|X)\n",
    "\n",
    "    # Returns\n",
    "        z (tensor): sampled latent vector\n",
    "    \"\"\"\n",
    "    z_mean, z_log_var = args\n",
    "    batch = K.shape(z_mean)[0]\n",
    "    dim = K.int_shape(z_mean)[1]\n",
    "    # by default, random_normal has mean = 0 and std = 1.0\n",
    "    epsilon = K.random_normal(shape=(batch, dim))\n",
    "    return z_mean + K.exp(0.5 * z_log_var) * epsilon\n"
   ]
  },
  {
   "cell_type": "code",
   "execution_count": 4,
   "metadata": {},
   "outputs": [
    {
     "name": "stdout",
     "output_type": "stream",
     "text": [
      "Model: \"encoder\"\n",
      "__________________________________________________________________________________________________\n",
      "Layer (type)                    Output Shape         Param #     Connected to                     \n",
      "==================================================================================================\n",
      "encoder_input (InputLayer)      [(None, 64, 64, 3)]  0                                            \n",
      "__________________________________________________________________________________________________\n",
      "conv2d_4 (Conv2D)               (None, 32, 32, 16)   448         encoder_input[0][0]              \n",
      "__________________________________________________________________________________________________\n",
      "batch_normalization_4 (BatchNor (None, 32, 32, 16)   64          conv2d_4[0][0]                   \n",
      "__________________________________________________________________________________________________\n",
      "leaky_re_lu_4 (LeakyReLU)       (None, 32, 32, 16)   0           batch_normalization_4[0][0]      \n",
      "__________________________________________________________________________________________________\n",
      "conv2d_5 (Conv2D)               (None, 16, 16, 32)   4640        leaky_re_lu_4[0][0]              \n",
      "__________________________________________________________________________________________________\n",
      "batch_normalization_5 (BatchNor (None, 16, 16, 32)   128         conv2d_5[0][0]                   \n",
      "__________________________________________________________________________________________________\n",
      "leaky_re_lu_5 (LeakyReLU)       (None, 16, 16, 32)   0           batch_normalization_5[0][0]      \n",
      "__________________________________________________________________________________________________\n",
      "conv2d_6 (Conv2D)               (None, 8, 8, 64)     18496       leaky_re_lu_5[0][0]              \n",
      "__________________________________________________________________________________________________\n",
      "batch_normalization_6 (BatchNor (None, 8, 8, 64)     256         conv2d_6[0][0]                   \n",
      "__________________________________________________________________________________________________\n",
      "leaky_re_lu_6 (LeakyReLU)       (None, 8, 8, 64)     0           batch_normalization_6[0][0]      \n",
      "__________________________________________________________________________________________________\n",
      "conv2d_7 (Conv2D)               (None, 4, 4, 128)    73856       leaky_re_lu_6[0][0]              \n",
      "__________________________________________________________________________________________________\n",
      "batch_normalization_7 (BatchNor (None, 4, 4, 128)    512         conv2d_7[0][0]                   \n",
      "__________________________________________________________________________________________________\n",
      "leaky_re_lu_7 (LeakyReLU)       (None, 4, 4, 128)    0           batch_normalization_7[0][0]      \n",
      "__________________________________________________________________________________________________\n",
      "flatten_1 (Flatten)             (None, 2048)         0           leaky_re_lu_7[0][0]              \n",
      "__________________________________________________________________________________________________\n",
      "encoder_condition (InputLayer)  [(None, 40)]         0                                            \n",
      "__________________________________________________________________________________________________\n",
      "concatenate_1 (Concatenate)     (None, 2088)         0           flatten_1[0][0]                  \n",
      "                                                                 encoder_condition[0][0]          \n",
      "__________________________________________________________________________________________________\n",
      "z_mean (Dense)                  (None, 100)          208900      concatenate_1[0][0]              \n",
      "__________________________________________________________________________________________________\n",
      "z_log_var (Dense)               (None, 100)          208900      concatenate_1[0][0]              \n",
      "__________________________________________________________________________________________________\n",
      "z (Lambda)                      (None, 100)          0           z_mean[0][0]                     \n",
      "                                                                 z_log_var[0][0]                  \n",
      "==================================================================================================\n",
      "Total params: 516,200\n",
      "Trainable params: 515,720\n",
      "Non-trainable params: 480\n",
      "__________________________________________________________________________________________________\n",
      "Model: \"decoder\"\n",
      "__________________________________________________________________________________________________\n",
      "Layer (type)                    Output Shape         Param #     Connected to                     \n",
      "==================================================================================================\n",
      "z_sampling (InputLayer)         [(None, 100)]        0                                            \n",
      "__________________________________________________________________________________________________\n",
      "decoder_condition (InputLayer)  [(None, 40)]         0                                            \n",
      "__________________________________________________________________________________________________\n",
      "concatenate_2 (Concatenate)     (None, 140)          0           z_sampling[0][0]                 \n",
      "                                                                 decoder_condition[0][0]          \n",
      "__________________________________________________________________________________________________\n",
      "dense (Dense)                   (None, 2048)         288768      concatenate_2[0][0]              \n",
      "__________________________________________________________________________________________________\n",
      "reshape (Reshape)               (None, 4, 4, 128)    0           dense[0][0]                      \n",
      "__________________________________________________________________________________________________\n",
      "conv2d_8 (Conv2D)               (None, 4, 4, 128)    409728      reshape[0][0]                    \n",
      "__________________________________________________________________________________________________\n",
      "batch_normalization_8 (BatchNor (None, 4, 4, 128)    512         conv2d_8[0][0]                   \n",
      "__________________________________________________________________________________________________\n",
      "leaky_re_lu_8 (LeakyReLU)       (None, 4, 4, 128)    0           batch_normalization_8[0][0]      \n",
      "__________________________________________________________________________________________________\n",
      "up_sampling2d (UpSampling2D)    (None, 8, 8, 128)    0           leaky_re_lu_8[0][0]              \n",
      "__________________________________________________________________________________________________\n",
      "conv2d_9 (Conv2D)               (None, 8, 8, 64)     204864      up_sampling2d[0][0]              \n",
      "__________________________________________________________________________________________________\n",
      "batch_normalization_9 (BatchNor (None, 8, 8, 64)     256         conv2d_9[0][0]                   \n",
      "__________________________________________________________________________________________________\n",
      "leaky_re_lu_9 (LeakyReLU)       (None, 8, 8, 64)     0           batch_normalization_9[0][0]      \n",
      "__________________________________________________________________________________________________\n",
      "up_sampling2d_1 (UpSampling2D)  (None, 16, 16, 64)   0           leaky_re_lu_9[0][0]              \n",
      "__________________________________________________________________________________________________\n",
      "conv2d_10 (Conv2D)              (None, 16, 16, 32)   51232       up_sampling2d_1[0][0]            \n",
      "__________________________________________________________________________________________________\n",
      "batch_normalization_10 (BatchNo (None, 16, 16, 32)   128         conv2d_10[0][0]                  \n",
      "__________________________________________________________________________________________________\n",
      "leaky_re_lu_10 (LeakyReLU)      (None, 16, 16, 32)   0           batch_normalization_10[0][0]     \n",
      "__________________________________________________________________________________________________\n",
      "up_sampling2d_2 (UpSampling2D)  (None, 32, 32, 32)   0           leaky_re_lu_10[0][0]             \n",
      "__________________________________________________________________________________________________\n",
      "conv2d_11 (Conv2D)              (None, 32, 32, 16)   12816       up_sampling2d_2[0][0]            \n",
      "__________________________________________________________________________________________________\n",
      "batch_normalization_11 (BatchNo (None, 32, 32, 16)   64          conv2d_11[0][0]                  \n",
      "__________________________________________________________________________________________________\n",
      "leaky_re_lu_11 (LeakyReLU)      (None, 32, 32, 16)   0           batch_normalization_11[0][0]     \n",
      "__________________________________________________________________________________________________\n",
      "up_sampling2d_3 (UpSampling2D)  (None, 64, 64, 16)   0           leaky_re_lu_11[0][0]             \n",
      "__________________________________________________________________________________________________\n",
      "conv2d_12 (Conv2D)              (None, 64, 64, 3)    435         up_sampling2d_3[0][0]            \n",
      "==================================================================================================\n",
      "Total params: 968,803\n",
      "Trainable params: 968,323\n",
      "Non-trainable params: 480\n",
      "__________________________________________________________________________________________________\n"
     ]
    },
    {
     "name": "stdout",
     "output_type": "stream",
     "text": [
      "WARNING:tensorflow:Model inputs must come from `tf.keras.Input` (thus holding past layer metadata), they cannot be the output of a previous non-Input layer. Here, a tensor specified as input to \"cnn_vae\" was not an Input tensor, it was generated by layer encoder_condition.\n",
      "Note that input tensors are instantiated via `tensor = tf.keras.Input(shape)`.\n",
      "The tensor that caused the issue was: encoder_condition_1:0\n",
      "Model: \"cnn_vae\"\n",
      "__________________________________________________________________________________________________\n",
      "Layer (type)                    Output Shape         Param #     Connected to                     \n",
      "==================================================================================================\n",
      "encoder_input (InputLayer)      [(None, 64, 64, 3)]  0                                            \n",
      "__________________________________________________________________________________________________\n",
      "encoder_condition (InputLayer)  [(None, 40)]         0                                            \n",
      "__________________________________________________________________________________________________\n",
      "encoder (Model)                 [(None, 100), (None, 516200      encoder_input[0][0]              \n",
      "                                                                 encoder_condition[0][0]          \n",
      "                                                                 encoder_input[0][0]              \n",
      "                                                                 encoder_condition[0][0]          \n",
      "__________________________________________________________________________________________________\n",
      "decoder (Model)                 (None, 64, 64, 3)    968803      encoder[1][2]                    \n",
      "                                                                 encoder[2][3]                    \n",
      "==================================================================================================\n",
      "Total params: 1,485,003\n",
      "Trainable params: 1,484,043\n",
      "Non-trainable params: 960\n",
      "__________________________________________________________________________________________________\n"
     ]
    }
   ],
   "source": [
    "# network parameters\n",
    "width = 64\n",
    "height = 64\n",
    "latent_dim = 100\n",
    "inner_latent = 256\n",
    "n_conds = 40\n",
    "\n",
    "\n",
    "# VAE model = encoder + decoder\n",
    "# build encoder model\n",
    "inputs = Input(shape=(width,height,3), name='encoder_input')\n",
    "condition = Input(shape=(n_conds,), name='encoder_condition')\n",
    "\n",
    "x = GaussianNoise(1)(inputs) #Noise layer for denoising VAE\n",
    "x = Conv2D(16, 3, strides=2, padding='same')(inputs)\n",
    "x = BatchNormalization()(x)\n",
    "x = LeakyReLU(0.1)(x)\n",
    "x = Conv2D(32, 3, strides=2, padding='same')(x)\n",
    "x = BatchNormalization()(x)\n",
    "x = LeakyReLU(0.1)(x)\n",
    "x = Conv2D(64, 3, strides=2, padding='same')(x)\n",
    "x = BatchNormalization()(x)\n",
    "x = LeakyReLU(0.1)(x)\n",
    "x = Conv2D(128, 3, strides=2, padding='same')(x)\n",
    "x = BatchNormalization()(x)\n",
    "x = LeakyReLU(0.1)(x)\n",
    "\n",
    "(_,h,w,c) = x.shape\n",
    "\n",
    "x = Flatten()(x)\n",
    "\n",
    "x = Concatenate()([x,condition])\n",
    "\n",
    "z_mean = Dense(latent_dim, name='z_mean')(x)\n",
    "z_log_var = Dense(latent_dim, name='z_log_var')(x)\n",
    "\n",
    "# use reparameterization trick to push the sampling out as input\n",
    "# note that \"output_shape\" isn't necessary with the TensorFlow backend\n",
    "z = Lambda(sampling, output_shape=(latent_dim,), name='z')([z_mean, z_log_var])\n",
    "\n",
    "# instantiate encoder model\n",
    "encoder = Model([inputs,condition], [z_mean, z_log_var, z, condition], name='encoder')\n",
    "encoder.summary()\n",
    "\n",
    "\n",
    "\n",
    "# # build decoder model\n",
    "latent_inputs = Input(shape=(latent_dim,), name='z_sampling')\n",
    "decoder_condition = Input(shape=(n_conds,), name='decoder_condition')\n",
    "\n",
    "\n",
    "\n",
    "x = Concatenate()([latent_inputs,decoder_condition])\n",
    "x = Dense(h*w*c, activation='relu')(x)\n",
    "x = Reshape((h,w,c))(x)\n",
    "x = Conv2D(128,5, strides=1, padding='same')(x)\n",
    "x = BatchNormalization()(x)\n",
    "x = LeakyReLU(0.1)(x)\n",
    "x = UpSampling2D()(x)\n",
    "x = Conv2D(64,5, strides=1, padding='same')(x)\n",
    "x = BatchNormalization()(x)\n",
    "x = LeakyReLU(0.1)(x)\n",
    "x = UpSampling2D()(x)\n",
    "x = Conv2D(32,5, strides=1, padding='same')(x)\n",
    "x = BatchNormalization()(x)\n",
    "x = LeakyReLU(0.1)(x)\n",
    "x = UpSampling2D()(x)\n",
    "x = Conv2D(16,5, strides=1, padding='same')(x)\n",
    "x = BatchNormalization()(x)\n",
    "x = LeakyReLU(0.1)(x)\n",
    "x = UpSampling2D()(x)\n",
    "\n",
    "outputs = Conv2D(3,3, strides=1, activation='tanh', padding='same')(x)\n",
    "\n",
    "\n",
    "# # instantiate decoder model\n",
    "decoder = Model([latent_inputs,decoder_condition], outputs, name='decoder')\n",
    "decoder.summary()\n",
    "\n",
    "# # instantiate VAE model\n",
    "\n",
    "\n",
    "\n",
    "\n",
    "outputs = decoder([encoder([inputs, condition])[2], encoder([inputs, condition])[3]])\n",
    "vae = Model([inputs, condition], outputs, name='cnn_vae')\n",
    "vae.summary()\n",
    "history = []"
   ]
  },
  {
   "cell_type": "code",
   "execution_count": 5,
   "metadata": {},
   "outputs": [],
   "source": [
    "decoder.load_weights('./checkpoints/epoch-1000-50kimgs-cond-decoder-weights.h5')\n",
    "encoder.load_weights('./checkpoints/epoch-1000-50kimgs-cond-encoder-weights.h5')"
   ]
  },
  {
   "cell_type": "code",
   "execution_count": 449,
   "metadata": {},
   "outputs": [
    {
     "name": "stdout",
     "output_type": "stream",
     "text": [
      "WARNING:tensorflow:No training configuration found in save file: the model was *not* compiled. Compile it manually.\n"
     ]
    }
   ],
   "source": [
    "decoder_big = load_model('./checkpoints/epoch-500-200kimgs-cond-decoder.h5')"
   ]
  },
  {
   "cell_type": "code",
   "execution_count": 368,
   "metadata": {},
   "outputs": [],
   "source": [
    "inner_beta = K.variable(0.0)\n",
    "def inner_vae_loss(y_true, y_pred):\n",
    "    reconstruction_loss = mse(K.flatten(y_true), K.flatten(y_pred))\n",
    "    reconstruction_loss *= 100 # common practice to scale with w*h\n",
    "    kl_loss = 1 + u_log_var - K.square(u_mean) - K.exp(u_log_var)\n",
    "    kl_loss = K.sum(kl_loss, axis=-1)\n",
    "    kl_loss *= -0.5 * inner_beta\n",
    "    return K.mean(reconstruction_loss + kl_loss)\n",
    "\n",
    "optimizer = Adam(0.0008)\n",
    "inner_vae.compile(optimizer=optimizer, loss=inner_vae_loss, experimental_run_tf_function=False)\n",
    "loss_curve = []"
   ]
  },
  {
   "cell_type": "code",
   "execution_count": 7,
   "metadata": {},
   "outputs": [],
   "source": [
    "encoder.load_weights('./checkpoints/epoch-100-200kimgs-cond-encoder-weights.h5')\n",
    "decoder.load_weights('./checkpoints/epoch-0-200kimgs-cond-decoder-weights.h5')"
   ]
  },
  {
   "cell_type": "code",
   "execution_count": 16,
   "metadata": {},
   "outputs": [],
   "source": [
    "#Beta VAE warmup\n",
    "from tensorflow.keras.callbacks import Callback\n",
    "class Warmup(Callback):\n",
    "    def __init__(self, beta, warmup_epoch):\n",
    "        self.warmup_epoch = warmup_epoch\n",
    "        self.beta = beta\n",
    "\n",
    "    def on_epoch_end(self, epoch, logs={}):\n",
    "        value = (epoch/self.warmup_epoch) * (epoch <= self.warmup_epoch) + 1.0 * (epoch > self.warmup_epoch)\n",
    "        K.set_value(self.beta, value)\n",
    "        print(f' epoch {epoch}, beta = {K.get_value(self.beta)}')\n",
    "\n",
    "def vae_loss(y_true, y_pred):\n",
    "    reconstruction_loss = mse(K.flatten(y_true), K.flatten(y_pred))\n",
    "    reconstruction_loss *= width*height # common practice to scale with w*h\n",
    "    kl_loss = 1 + z_log_var - K.square(z_mean) - K.exp(z_log_var)\n",
    "    kl_loss = K.sum(kl_loss, axis=-1)\n",
    "    kl_loss *= -0.5\n",
    "    return K.mean(reconstruction_loss + kl_loss)\n",
    " \n",
    "\n",
    "    \n",
    "beta = K.variable(0.0)\n",
    "def beta_vae_loss(y_true, y_pred):\n",
    "    reconstruction_loss = mse(K.flatten(y_true), K.flatten(y_pred))\n",
    "    reconstruction_loss *= width*height # common practice to scale with w*h\n",
    "    kl_loss = 1 + z_log_var - K.square(z_mean) - K.exp(z_log_var)\n",
    "    kl_loss = K.sum(kl_loss, axis=-1)\n",
    "    kl_loss *= -0.5\n",
    "    kl_loss * beta\n",
    "    return K.mean(reconstruction_loss + kl_loss)\n",
    "\n",
    "\n"
   ]
  },
  {
   "cell_type": "code",
   "execution_count": 9,
   "metadata": {},
   "outputs": [],
   "source": [
    "def normalize_for_tanh(img):\n",
    "    return (img - 127.5) / 127.5\n",
    "\n",
    "def unnormalize_tanh(img):\n",
    "    return (img + 1) / 2"
   ]
  },
  {
   "cell_type": "code",
   "execution_count": 628,
   "metadata": {},
   "outputs": [],
   "source": [
    "import cv2\n",
    "import numpy as np\n",
    "import glob \n",
    "import pandas as pd\n",
    "\n",
    "def data_loader(file_path):\n",
    "    img_paths = glob.glob(file_path + '/0*[0-9][0-9][0-9].jpg')\n",
    "    data = []\n",
    "    for img_path in img_paths:\n",
    "        data.append(normalize_for_tanh(cv2.cvtColor(cv2.imread(img_path), cv2.COLOR_BGR2RGB)))\n",
    "    return np.array(data)\n",
    "\n",
    "\n",
    "\n",
    "X = data_loader('../celeba-clean-64/')\n",
    "df = pd.read_csv('./celeba-attribs.csv')\n",
    "c = df[list(df.columns[1:])].to_numpy()\n"
   ]
  },
  {
   "cell_type": "code",
   "execution_count": 629,
   "metadata": {},
   "outputs": [],
   "source": [
    "X_c = X, c[:X.shape[0],:]"
   ]
  },
  {
   "cell_type": "code",
   "execution_count": 17,
   "metadata": {},
   "outputs": [],
   "source": [
    "def encode_to_attribs(encoded):\n",
    "    for present, attrib in zip(encoded, list(df.columns[1:])):\n",
    "        if present == 1:\n",
    "            print(attrib)"
   ]
  },
  {
   "cell_type": "code",
   "execution_count": 19,
   "metadata": {},
   "outputs": [],
   "source": [
    "optimizer = Adam(0.0008)\n",
    "vae.compile(optimizer=optimizer, loss=vae_loss, experimental_run_tf_function=False)\n",
    "loss_curve = []"
   ]
  },
  {
   "cell_type": "code",
   "execution_count": 20,
   "metadata": {},
   "outputs": [],
   "source": [
    "df = pd.read_csv('./celeba-attribs.csv')"
   ]
  },
  {
   "cell_type": "code",
   "execution_count": 21,
   "metadata": {},
   "outputs": [
    {
     "name": "stdout",
     "output_type": "stream",
     "text": [
      "Found 202599 validated image filenames.\n"
     ]
    }
   ],
   "source": [
    "training_data_generator = ImageDataGenerator(\n",
    "    validation_split=0.0,\n",
    "    horizontal_flip=False,\n",
    "    preprocessing_function=normalize_for_tanh)\n",
    "\n",
    "\n",
    "training_generator = training_data_generator.flow_from_dataframe(\n",
    "    dataframe=df,\n",
    "    directory='../celeba-clean-64/',\n",
    "    x_col=\"img\",\n",
    "    y_col=list(df.columns[1:]),\n",
    "    target_size=(64, 64),\n",
    "    subset='training',\n",
    "    shuffle=True,\n",
    "    batch_size=202599,\n",
    "    class_mode='raw')\n"
   ]
  },
  {
   "cell_type": "code",
   "execution_count": 18,
   "metadata": {},
   "outputs": [],
   "source": []
  },
  {
   "cell_type": "code",
   "execution_count": 22,
   "metadata": {},
   "outputs": [],
   "source": [
    "training_data = training_generator.next()"
   ]
  },
  {
   "cell_type": "code",
   "execution_count": 22,
   "metadata": {},
   "outputs": [
    {
     "data": {
      "text/plain": [
       "3165"
      ]
     },
     "execution_count": 22,
     "metadata": {},
     "output_type": "execute_result"
    }
   ],
   "source": [
    "len(training_imgs) // batch_size"
   ]
  },
  {
   "cell_type": "code",
   "execution_count": 61,
   "metadata": {
    "scrolled": true
   },
   "outputs": [
    {
     "name": "stdout",
     "output_type": "stream",
     "text": [
      "Epoch [501/1000]... ...130.925(s) loss: 243.051\n",
      "Epoch [502/1000]... ...130.896(s) loss: 243.022\n",
      "Epoch [503/1000]... ...130.920(s) loss: 243.026\n",
      "Epoch [504/1000]... ...130.794(s) loss: 243.042\n",
      "Epoch [505/1000]... ...130.863(s) loss: 242.973\n",
      "Epoch [506/1000]... ...130.863(s) loss: 243.019\n",
      "Epoch [507/1000]... ...130.817(s) loss: 242.999\n",
      "Epoch [508/1000]... ...130.631(s) loss: 243.048\n",
      "Epoch [509/1000]... ...130.657(s) loss: 243.028\n",
      "Epoch [510/1000]... ...130.714(s) loss: 243.045\n",
      "Epoch [511/1000]... ...130.792(s) loss: 242.968\n",
      "Epoch [512/1000]... ...130.713(s) loss: 242.990\n",
      "Epoch [513/1000]... ...130.656(s) loss: 242.956\n",
      "Epoch [514/1000]... ...130.656(s) loss: 242.977\n",
      "Epoch [515/1000]... ...130.665(s) loss: 242.961\n",
      "Epoch [516/1000]... ...126.934(s) loss: 242.974\n",
      "Epoch [517/1000]... ...126.814(s) loss: 242.971\n",
      "Epoch [518/1000]... ...127.050(s) loss: 242.979\n",
      "Epoch [519/1000]... ...130.636(s) loss: 243.007\n",
      "Epoch [520/1000]... ...130.435(s) loss: 242.952\n",
      "Epoch [521/1000]... ...130.612(s) loss: 242.947\n",
      "Epoch [522/1000]... ...130.641(s) loss: 242.931\n",
      "Epoch [523/1000]... ...130.578(s) loss: 242.969\n",
      "Epoch [524/1000]... ...130.500(s) loss: 242.876\n",
      "Epoch [525/1000]... ...130.637(s) loss: 242.958\n",
      "Epoch [526/1000]... ...130.552(s) loss: 242.923\n",
      "Epoch [527/1000]... ...130.502(s) loss: 242.923\n",
      "Epoch [528/1000]... ...130.619(s) loss: 242.902\n",
      "Epoch [529/1000]... ...130.471(s) loss: 242.886\n",
      "Epoch [530/1000]... ...130.501(s) loss: 242.921\n",
      "Epoch [531/1000]... ...130.507(s) loss: 242.922\n",
      "Epoch [532/1000]... ...130.600(s) loss: 242.855\n",
      "Epoch [533/1000]... ...130.632(s) loss: 242.899\n",
      "Epoch [534/1000]... ...130.548(s) loss: 242.878\n",
      "Epoch [535/1000]... ...130.648(s) loss: 242.863\n",
      "Epoch [536/1000]... ...130.549(s) loss: 242.857\n",
      "Epoch [537/1000]... ...130.706(s) loss: 242.838\n",
      "Epoch [538/1000]... ...130.645(s) loss: 242.859\n",
      "Epoch [539/1000]... ...130.613(s) loss: 242.860\n",
      "Epoch [540/1000]... ...130.774(s) loss: 242.867\n",
      "Epoch [541/1000]... ...130.556(s) loss: 242.853\n",
      "Epoch [542/1000]... ...130.585(s) loss: 242.825\n",
      "Epoch [543/1000]... ...130.585(s) loss: 242.881\n",
      "Epoch [544/1000]... ...130.600(s) loss: 242.879\n",
      "Epoch [545/1000]... ...130.625(s) loss: 242.833\n",
      "Epoch [546/1000]... ...130.556(s) loss: 242.820\n",
      "Epoch [547/1000]... ...130.519(s) loss: 242.817\n",
      "Epoch [548/1000]... ...130.532(s) loss: 242.797\n",
      "Epoch [549/1000]... ...130.367(s) loss: 242.868\n",
      "Epoch [550/1000]... ...130.446(s) loss: 242.752\n",
      "Epoch [551/1000]... ...130.570(s) loss: 242.814\n",
      "Epoch [552/1000]... ...130.750(s) loss: 242.833\n",
      "Epoch [553/1000]... ...130.683(s) loss: 242.851\n",
      "Epoch [554/1000]... ...130.771(s) loss: 242.813\n",
      "Epoch [555/1000]... ...130.569(s) loss: 242.805\n",
      "Epoch [556/1000]... ...130.772(s) loss: 242.744\n",
      "Epoch [557/1000]... ...130.715(s) loss: 242.744\n",
      "Epoch [558/1000]... ...130.544(s) loss: 242.750\n",
      "Epoch [559/1000]... ...131.611(s) loss: 242.688\n",
      "Epoch [560/1000]... ...133.780(s) loss: 242.738\n",
      "Epoch [561/1000]... ...133.310(s) loss: 242.742\n",
      "Epoch [562/1000]... ...133.299(s) loss: 242.796\n",
      "Epoch [563/1000]... ...133.353(s) loss: 242.782\n",
      "Epoch [564/1000]... ...133.322(s) loss: 242.751\n",
      "Epoch [565/1000]... ...133.180(s) loss: 242.724\n",
      "Epoch [566/1000]... ...133.331(s) loss: 242.748\n",
      "Epoch [567/1000]... ...133.238(s) loss: 242.734\n",
      "Epoch [568/1000]... ...132.760(s) loss: 242.670\n",
      "Epoch [569/1000]... ...132.856(s) loss: 242.752\n",
      "Epoch [570/1000]... ...132.658(s) loss: 242.734\n",
      "Epoch [571/1000]... ...130.794(s) loss: 242.660\n",
      "Epoch [572/1000]... ...132.182(s) loss: 242.689\n",
      "Epoch [573/1000]... ...129.163(s) loss: 242.671\n",
      "Epoch [574/1000]... ...132.594(s) loss: 242.745\n",
      "Epoch [575/1000]... ...132.673(s) loss: 242.675\n",
      "Epoch [576/1000]... ...132.768(s) loss: 242.699\n",
      "Epoch [577/1000]... ...132.775(s) loss: 242.744\n",
      "Epoch [578/1000]... ...129.850(s) loss: 242.595\n",
      "Epoch [579/1000]... ...128.592(s) loss: 242.664\n",
      "Epoch [580/1000]... ...131.871(s) loss: 242.659\n",
      "Epoch [581/1000]... ...130.113(s) loss: 242.623\n",
      "Epoch [582/1000]... ...132.930(s) loss: 242.700\n",
      "Epoch [583/1000]... ...132.906(s) loss: 242.657\n",
      "Epoch [584/1000]... ...132.938(s) loss: 242.584\n",
      "Epoch [585/1000]... ...132.680(s) loss: 242.604\n",
      "Epoch [586/1000]... ...132.641(s) loss: 242.642\n",
      "Epoch [587/1000]... ...131.864(s) loss: 242.584\n",
      "Epoch [588/1000]... ...131.208(s) loss: 242.605\n",
      "Epoch [589/1000]... ...132.806(s) loss: 242.642\n",
      "Epoch [590/1000]... ...132.934(s) loss: 242.648\n",
      "Epoch [591/1000]... ...132.786(s) loss: 242.654\n",
      "Epoch [592/1000]... ...132.845(s) loss: 242.649\n",
      "Epoch [593/1000]... ...133.046(s) loss: 242.619\n",
      "Epoch [594/1000]... ...132.761(s) loss: 242.542\n",
      "Epoch [595/1000]... ...132.782(s) loss: 242.562\n",
      "Epoch [596/1000]... ...132.755(s) loss: 242.609\n",
      "Epoch [597/1000]... ...132.920(s) loss: 242.584\n",
      "Epoch [598/1000]... ...133.046(s) loss: 242.596\n",
      "Epoch [599/1000]... ...132.906(s) loss: 242.573\n",
      "Epoch [600/1000]... ...132.960(s) loss: 242.575\n",
      "checkpointing at epoch: 600\n",
      "Epoch [601/1000]... ...132.675(s) loss: 242.540\n",
      "Epoch [602/1000]... ...132.840(s) loss: 242.581\n",
      "Epoch [603/1000]... ...130.696(s) loss: 242.605\n",
      "Epoch [604/1000]... ...132.591(s) loss: 242.591\n",
      "Epoch [605/1000]... ...132.737(s) loss: 242.585\n",
      "Epoch [606/1000]... ...132.665(s) loss: 242.527\n",
      "Epoch [607/1000]... ...132.617(s) loss: 242.560\n",
      "Epoch [608/1000]... ...132.919(s) loss: 242.554\n",
      "Epoch [609/1000]... ...131.977(s) loss: 242.554\n",
      "Epoch [610/1000]... ...132.764(s) loss: 242.532\n",
      "Epoch [611/1000]... ...132.678(s) loss: 242.516\n",
      "Epoch [612/1000]... ...130.649(s) loss: 242.571\n",
      "Epoch [613/1000]... ...132.727(s) loss: 242.546\n",
      "Epoch [614/1000]... ...132.608(s) loss: 242.562\n",
      "Epoch [615/1000]... ...132.740(s) loss: 242.509\n",
      "Epoch [616/1000]... ...132.709(s) loss: 242.497\n",
      "Epoch [617/1000]... ...132.770(s) loss: 242.468\n",
      "Epoch [618/1000]... ...132.789(s) loss: 242.456\n",
      "Epoch [619/1000]... ...132.827(s) loss: 242.492\n",
      "Epoch [620/1000]... ...128.930(s) loss: 242.465\n",
      "Epoch [621/1000]... ...129.339(s) loss: 242.476\n",
      "Epoch [622/1000]... ...132.853(s) loss: 242.447\n",
      "Epoch [623/1000]... ...133.112(s) loss: 242.438\n",
      "Epoch [624/1000]... ...132.979(s) loss: 242.466\n",
      "Epoch [625/1000]... ...133.105(s) loss: 242.502\n",
      "Epoch [626/1000]... ...132.886(s) loss: 242.446\n",
      "Epoch [627/1000]... ...132.750(s) loss: 242.462\n",
      "Epoch [628/1000]... ...132.834(s) loss: 242.509\n",
      "Epoch [629/1000]... ...132.886(s) loss: 242.442\n",
      "Epoch [630/1000]... ...131.354(s) loss: 242.434\n",
      "Epoch [631/1000]... ...132.718(s) loss: 242.448\n",
      "Epoch [632/1000]... ...132.745(s) loss: 242.464\n",
      "Epoch [633/1000]... ...132.762(s) loss: 242.418\n",
      "Epoch [634/1000]... ...132.710(s) loss: 242.551\n",
      "Epoch [635/1000]... ...132.613(s) loss: 242.479\n",
      "Epoch [636/1000]... ...132.610(s) loss: 242.443\n",
      "Epoch [637/1000]... ...132.519(s) loss: 242.406\n",
      "Epoch [638/1000]... ...132.441(s) loss: 242.433\n",
      "Epoch [639/1000]... ...132.514(s) loss: 242.420\n",
      "Epoch [640/1000]... ...132.570(s) loss: 242.426\n",
      "Epoch [641/1000]... ...132.678(s) loss: 242.463\n",
      "Epoch [642/1000]... ...132.781(s) loss: 242.389\n",
      "Epoch [643/1000]... ...132.769(s) loss: 242.427\n",
      "Epoch [644/1000]... ...132.718(s) loss: 242.425\n",
      "Epoch [645/1000]... ...132.875(s) loss: 242.399\n",
      "Epoch [646/1000]... ...132.671(s) loss: 242.370\n",
      "Epoch [647/1000]... ...129.451(s) loss: 242.367\n",
      "Epoch [648/1000]... ...132.229(s) loss: 242.404\n",
      "Epoch [649/1000]... ...132.711(s) loss: 242.378\n",
      "Epoch [650/1000]... ...132.034(s) loss: 242.425\n",
      "Epoch [651/1000]... ...130.997(s) loss: 242.349\n",
      "Epoch [652/1000]... ...130.945(s) loss: 242.383\n",
      "Epoch [653/1000]... ...130.962(s) loss: 242.371\n",
      "Epoch [654/1000]... ...130.794(s) loss: 242.388\n",
      "Epoch [655/1000]... ...130.803(s) loss: 242.365\n",
      "Epoch [656/1000]... ...130.883(s) loss: 242.427\n",
      "Epoch [657/1000]... ...130.995(s) loss: 242.325\n",
      "Epoch [658/1000]... ...130.879(s) loss: 242.342\n",
      "Epoch [659/1000]... ...130.657(s) loss: 242.397\n",
      "Epoch [660/1000]... ...130.735(s) loss: 242.357\n",
      "Epoch [661/1000]... ...130.623(s) loss: 242.346\n",
      "Epoch [662/1000]... ...130.790(s) loss: 242.359\n",
      "Epoch [663/1000]... ...130.630(s) loss: 242.325\n",
      "Epoch [664/1000]... ...130.676(s) loss: 242.362\n",
      "Epoch [665/1000]... ...130.593(s) loss: 242.323\n",
      "Epoch [666/1000]... ...131.289(s) loss: 242.370\n",
      "Epoch [667/1000]... ...130.455(s) loss: 242.341\n",
      "Epoch [668/1000]... ...130.377(s) loss: 242.279\n",
      "Epoch [669/1000]... ...130.427(s) loss: 242.238\n",
      "Epoch [670/1000]... ...130.395(s) loss: 242.309\n",
      "Epoch [671/1000]... ...130.486(s) loss: 242.343\n",
      "Epoch [672/1000]... ...130.346(s) loss: 242.306\n",
      "Epoch [673/1000]... ...130.393(s) loss: 242.274\n",
      "Epoch [674/1000]... ...130.380(s) loss: 242.312\n",
      "Epoch [675/1000]... ...130.259(s) loss: 242.323\n",
      "Epoch [676/1000]... ...130.483(s) loss: 242.298\n",
      "Epoch [677/1000]... ...130.344(s) loss: 242.332\n",
      "Epoch [678/1000]... ...130.358(s) loss: 242.272\n",
      "Epoch [679/1000]... ...130.360(s) loss: 242.304\n",
      "Epoch [680/1000]... ...129.702(s) loss: 242.230\n",
      "Epoch [681/1000]... ...130.392(s) loss: 242.320\n",
      "Epoch [682/1000]... ...130.399(s) loss: 242.242\n",
      "Epoch [683/1000]... ...130.572(s) loss: 242.272\n",
      "Epoch [684/1000]... ...130.333(s) loss: 242.260\n",
      "Epoch [685/1000]... ...130.319(s) loss: 242.306\n",
      "Epoch [686/1000]... ...130.349(s) loss: 242.224\n",
      "Epoch [687/1000]... ...130.504(s) loss: 242.281\n",
      "Epoch [688/1000]... ...130.371(s) loss: 242.250\n",
      "Epoch [689/1000]... ...130.268(s) loss: 242.217\n",
      "Epoch [690/1000]... ...130.467(s) loss: 242.262\n",
      "Epoch [691/1000]... ...130.506(s) loss: 242.266\n",
      "Epoch [692/1000]... ...130.479(s) loss: 242.258\n",
      "Epoch [693/1000]... ...130.246(s) loss: 242.223\n",
      "Epoch [694/1000]... ...130.430(s) loss: 242.249\n",
      "Epoch [695/1000]... ...130.312(s) loss: 242.280\n",
      "Epoch [696/1000]... ...130.352(s) loss: 242.245\n",
      "Epoch [697/1000]... ...130.444(s) loss: 242.197\n",
      "Epoch [698/1000]... ...130.491(s) loss: 242.207\n",
      "Epoch [699/1000]... ...128.405(s) loss: 242.235\n",
      "Epoch [700/1000]... ...131.598(s) loss: 242.218\n",
      "checkpointing at epoch: 700\n",
      "Epoch [701/1000]... "
     ]
    },
    {
     "ename": "KeyboardInterrupt",
     "evalue": "",
     "output_type": "error",
     "traceback": [
      "\u001b[1;31m---------------------------------------------------------------------------\u001b[0m",
      "\u001b[1;31mKeyboardInterrupt\u001b[0m                         Traceback (most recent call last)",
      "\u001b[1;32m<ipython-input-61-6465915f3b06>\u001b[0m in \u001b[0;36m<module>\u001b[1;34m\u001b[0m\n\u001b[0;32m     22\u001b[0m         \u001b[0mimg_input\u001b[0m \u001b[1;33m=\u001b[0m \u001b[0mtraining_imgs\u001b[0m\u001b[1;33m[\u001b[0m\u001b[0mindex\u001b[0m\u001b[1;33m*\u001b[0m\u001b[0mbatch_size\u001b[0m\u001b[1;33m:\u001b[0m \u001b[0mbatch_size\u001b[0m\u001b[1;33m*\u001b[0m\u001b[1;33m(\u001b[0m\u001b[0mindex\u001b[0m\u001b[1;33m+\u001b[0m\u001b[1;36m1\u001b[0m\u001b[1;33m)\u001b[0m\u001b[1;33m]\u001b[0m\u001b[1;33m\u001b[0m\u001b[1;33m\u001b[0m\u001b[0m\n\u001b[0;32m     23\u001b[0m         \u001b[0mcondition_input\u001b[0m \u001b[1;33m=\u001b[0m \u001b[0mtraining_cond\u001b[0m\u001b[1;33m[\u001b[0m\u001b[0mindex\u001b[0m\u001b[1;33m*\u001b[0m\u001b[0mbatch_size\u001b[0m\u001b[1;33m:\u001b[0m \u001b[0mbatch_size\u001b[0m\u001b[1;33m*\u001b[0m\u001b[1;33m(\u001b[0m\u001b[0mindex\u001b[0m\u001b[1;33m+\u001b[0m\u001b[1;36m1\u001b[0m\u001b[1;33m)\u001b[0m\u001b[1;33m]\u001b[0m\u001b[1;33m\u001b[0m\u001b[1;33m\u001b[0m\u001b[0m\n\u001b[1;32m---> 24\u001b[1;33m         \u001b[0mloss\u001b[0m \u001b[1;33m+=\u001b[0m \u001b[0mvae\u001b[0m\u001b[1;33m.\u001b[0m\u001b[0mtrain_on_batch\u001b[0m\u001b[1;33m(\u001b[0m\u001b[1;33m[\u001b[0m\u001b[0mimg_input\u001b[0m\u001b[1;33m,\u001b[0m \u001b[0mcondition_input\u001b[0m\u001b[1;33m]\u001b[0m\u001b[1;33m,\u001b[0m \u001b[0mimg_input\u001b[0m\u001b[1;33m)\u001b[0m\u001b[1;33m\u001b[0m\u001b[1;33m\u001b[0m\u001b[0m\n\u001b[0m\u001b[0;32m     25\u001b[0m \u001b[1;33m\u001b[0m\u001b[0m\n\u001b[0;32m     26\u001b[0m     \u001b[0mloss\u001b[0m \u001b[1;33m/=\u001b[0m \u001b[0mnum_batches\u001b[0m\u001b[1;33m\u001b[0m\u001b[1;33m\u001b[0m\u001b[0m\n",
      "\u001b[1;32m~\\Anaconda3\\envs\\tf-gpu\\lib\\site-packages\\tensorflow_core\\python\\keras\\engine\\training.py\u001b[0m in \u001b[0;36mtrain_on_batch\u001b[1;34m(self, x, y, sample_weight, class_weight, reset_metrics)\u001b[0m\n\u001b[0;32m   1121\u001b[0m       \u001b[0mself\u001b[0m\u001b[1;33m.\u001b[0m\u001b[0m_update_sample_weight_modes\u001b[0m\u001b[1;33m(\u001b[0m\u001b[0msample_weights\u001b[0m\u001b[1;33m=\u001b[0m\u001b[0msample_weights\u001b[0m\u001b[1;33m)\u001b[0m\u001b[1;33m\u001b[0m\u001b[1;33m\u001b[0m\u001b[0m\n\u001b[0;32m   1122\u001b[0m       \u001b[0mself\u001b[0m\u001b[1;33m.\u001b[0m\u001b[0m_make_train_function\u001b[0m\u001b[1;33m(\u001b[0m\u001b[1;33m)\u001b[0m\u001b[1;33m\u001b[0m\u001b[1;33m\u001b[0m\u001b[0m\n\u001b[1;32m-> 1123\u001b[1;33m       \u001b[0moutputs\u001b[0m \u001b[1;33m=\u001b[0m \u001b[0mself\u001b[0m\u001b[1;33m.\u001b[0m\u001b[0mtrain_function\u001b[0m\u001b[1;33m(\u001b[0m\u001b[0mins\u001b[0m\u001b[1;33m)\u001b[0m  \u001b[1;31m# pylint: disable=not-callable\u001b[0m\u001b[1;33m\u001b[0m\u001b[1;33m\u001b[0m\u001b[0m\n\u001b[0m\u001b[0;32m   1124\u001b[0m \u001b[1;33m\u001b[0m\u001b[0m\n\u001b[0;32m   1125\u001b[0m     \u001b[1;32mif\u001b[0m \u001b[0mreset_metrics\u001b[0m\u001b[1;33m:\u001b[0m\u001b[1;33m\u001b[0m\u001b[1;33m\u001b[0m\u001b[0m\n",
      "\u001b[1;32m~\\Anaconda3\\envs\\tf-gpu\\lib\\site-packages\\tensorflow_core\\python\\keras\\backend.py\u001b[0m in \u001b[0;36m__call__\u001b[1;34m(self, inputs)\u001b[0m\n\u001b[0;32m   3725\u001b[0m         \u001b[0mvalue\u001b[0m \u001b[1;33m=\u001b[0m \u001b[0mmath_ops\u001b[0m\u001b[1;33m.\u001b[0m\u001b[0mcast\u001b[0m\u001b[1;33m(\u001b[0m\u001b[0mvalue\u001b[0m\u001b[1;33m,\u001b[0m \u001b[0mtensor\u001b[0m\u001b[1;33m.\u001b[0m\u001b[0mdtype\u001b[0m\u001b[1;33m)\u001b[0m\u001b[1;33m\u001b[0m\u001b[1;33m\u001b[0m\u001b[0m\n\u001b[0;32m   3726\u001b[0m       \u001b[0mconverted_inputs\u001b[0m\u001b[1;33m.\u001b[0m\u001b[0mappend\u001b[0m\u001b[1;33m(\u001b[0m\u001b[0mvalue\u001b[0m\u001b[1;33m)\u001b[0m\u001b[1;33m\u001b[0m\u001b[1;33m\u001b[0m\u001b[0m\n\u001b[1;32m-> 3727\u001b[1;33m     \u001b[0moutputs\u001b[0m \u001b[1;33m=\u001b[0m \u001b[0mself\u001b[0m\u001b[1;33m.\u001b[0m\u001b[0m_graph_fn\u001b[0m\u001b[1;33m(\u001b[0m\u001b[1;33m*\u001b[0m\u001b[0mconverted_inputs\u001b[0m\u001b[1;33m)\u001b[0m\u001b[1;33m\u001b[0m\u001b[1;33m\u001b[0m\u001b[0m\n\u001b[0m\u001b[0;32m   3728\u001b[0m \u001b[1;33m\u001b[0m\u001b[0m\n\u001b[0;32m   3729\u001b[0m     \u001b[1;31m# EagerTensor.numpy() will often make a copy to ensure memory safety.\u001b[0m\u001b[1;33m\u001b[0m\u001b[1;33m\u001b[0m\u001b[1;33m\u001b[0m\u001b[0m\n",
      "\u001b[1;32m~\\Anaconda3\\envs\\tf-gpu\\lib\\site-packages\\tensorflow_core\\python\\eager\\function.py\u001b[0m in \u001b[0;36m__call__\u001b[1;34m(self, *args, **kwargs)\u001b[0m\n\u001b[0;32m   1549\u001b[0m       \u001b[0mTypeError\u001b[0m\u001b[1;33m:\u001b[0m \u001b[0mFor\u001b[0m \u001b[0minvalid\u001b[0m \u001b[0mpositional\u001b[0m\u001b[1;33m/\u001b[0m\u001b[0mkeyword\u001b[0m \u001b[0margument\u001b[0m \u001b[0mcombinations\u001b[0m\u001b[1;33m.\u001b[0m\u001b[1;33m\u001b[0m\u001b[1;33m\u001b[0m\u001b[0m\n\u001b[0;32m   1550\u001b[0m     \"\"\"\n\u001b[1;32m-> 1551\u001b[1;33m     \u001b[1;32mreturn\u001b[0m \u001b[0mself\u001b[0m\u001b[1;33m.\u001b[0m\u001b[0m_call_impl\u001b[0m\u001b[1;33m(\u001b[0m\u001b[0margs\u001b[0m\u001b[1;33m,\u001b[0m \u001b[0mkwargs\u001b[0m\u001b[1;33m)\u001b[0m\u001b[1;33m\u001b[0m\u001b[1;33m\u001b[0m\u001b[0m\n\u001b[0m\u001b[0;32m   1552\u001b[0m \u001b[1;33m\u001b[0m\u001b[0m\n\u001b[0;32m   1553\u001b[0m   \u001b[1;32mdef\u001b[0m \u001b[0m_call_impl\u001b[0m\u001b[1;33m(\u001b[0m\u001b[0mself\u001b[0m\u001b[1;33m,\u001b[0m \u001b[0margs\u001b[0m\u001b[1;33m,\u001b[0m \u001b[0mkwargs\u001b[0m\u001b[1;33m,\u001b[0m \u001b[0mcancellation_manager\u001b[0m\u001b[1;33m=\u001b[0m\u001b[1;32mNone\u001b[0m\u001b[1;33m)\u001b[0m\u001b[1;33m:\u001b[0m\u001b[1;33m\u001b[0m\u001b[1;33m\u001b[0m\u001b[0m\n",
      "\u001b[1;32m~\\Anaconda3\\envs\\tf-gpu\\lib\\site-packages\\tensorflow_core\\python\\eager\\function.py\u001b[0m in \u001b[0;36m_call_impl\u001b[1;34m(self, args, kwargs, cancellation_manager)\u001b[0m\n\u001b[0;32m   1589\u001b[0m       raise TypeError(\"Keyword arguments {} unknown. Expected {}.\".format(\n\u001b[0;32m   1590\u001b[0m           list(kwargs.keys()), list(self._arg_keywords)))\n\u001b[1;32m-> 1591\u001b[1;33m     \u001b[1;32mreturn\u001b[0m \u001b[0mself\u001b[0m\u001b[1;33m.\u001b[0m\u001b[0m_call_flat\u001b[0m\u001b[1;33m(\u001b[0m\u001b[0margs\u001b[0m\u001b[1;33m,\u001b[0m \u001b[0mself\u001b[0m\u001b[1;33m.\u001b[0m\u001b[0mcaptured_inputs\u001b[0m\u001b[1;33m,\u001b[0m \u001b[0mcancellation_manager\u001b[0m\u001b[1;33m)\u001b[0m\u001b[1;33m\u001b[0m\u001b[1;33m\u001b[0m\u001b[0m\n\u001b[0m\u001b[0;32m   1592\u001b[0m \u001b[1;33m\u001b[0m\u001b[0m\n\u001b[0;32m   1593\u001b[0m   \u001b[1;32mdef\u001b[0m \u001b[0m_filtered_call\u001b[0m\u001b[1;33m(\u001b[0m\u001b[0mself\u001b[0m\u001b[1;33m,\u001b[0m \u001b[0margs\u001b[0m\u001b[1;33m,\u001b[0m \u001b[0mkwargs\u001b[0m\u001b[1;33m)\u001b[0m\u001b[1;33m:\u001b[0m\u001b[1;33m\u001b[0m\u001b[1;33m\u001b[0m\u001b[0m\n",
      "\u001b[1;32m~\\Anaconda3\\envs\\tf-gpu\\lib\\site-packages\\tensorflow_core\\python\\eager\\function.py\u001b[0m in \u001b[0;36m_call_flat\u001b[1;34m(self, args, captured_inputs, cancellation_manager)\u001b[0m\n\u001b[0;32m   1690\u001b[0m       \u001b[1;31m# No tape is watching; skip to running the function.\u001b[0m\u001b[1;33m\u001b[0m\u001b[1;33m\u001b[0m\u001b[1;33m\u001b[0m\u001b[0m\n\u001b[0;32m   1691\u001b[0m       return self._build_call_outputs(self._inference_function.call(\n\u001b[1;32m-> 1692\u001b[1;33m           ctx, args, cancellation_manager=cancellation_manager))\n\u001b[0m\u001b[0;32m   1693\u001b[0m     forward_backward = self._select_forward_and_backward_functions(\n\u001b[0;32m   1694\u001b[0m         \u001b[0margs\u001b[0m\u001b[1;33m,\u001b[0m\u001b[1;33m\u001b[0m\u001b[1;33m\u001b[0m\u001b[0m\n",
      "\u001b[1;32m~\\Anaconda3\\envs\\tf-gpu\\lib\\site-packages\\tensorflow_core\\python\\eager\\function.py\u001b[0m in \u001b[0;36mcall\u001b[1;34m(self, ctx, args, cancellation_manager)\u001b[0m\n\u001b[0;32m    543\u001b[0m               \u001b[0minputs\u001b[0m\u001b[1;33m=\u001b[0m\u001b[0margs\u001b[0m\u001b[1;33m,\u001b[0m\u001b[1;33m\u001b[0m\u001b[1;33m\u001b[0m\u001b[0m\n\u001b[0;32m    544\u001b[0m               \u001b[0mattrs\u001b[0m\u001b[1;33m=\u001b[0m\u001b[1;33m(\u001b[0m\u001b[1;34m\"executor_type\"\u001b[0m\u001b[1;33m,\u001b[0m \u001b[0mexecutor_type\u001b[0m\u001b[1;33m,\u001b[0m \u001b[1;34m\"config_proto\"\u001b[0m\u001b[1;33m,\u001b[0m \u001b[0mconfig\u001b[0m\u001b[1;33m)\u001b[0m\u001b[1;33m,\u001b[0m\u001b[1;33m\u001b[0m\u001b[1;33m\u001b[0m\u001b[0m\n\u001b[1;32m--> 545\u001b[1;33m               ctx=ctx)\n\u001b[0m\u001b[0;32m    546\u001b[0m         \u001b[1;32melse\u001b[0m\u001b[1;33m:\u001b[0m\u001b[1;33m\u001b[0m\u001b[1;33m\u001b[0m\u001b[0m\n\u001b[0;32m    547\u001b[0m           outputs = execute.execute_with_cancellation(\n",
      "\u001b[1;32m~\\Anaconda3\\envs\\tf-gpu\\lib\\site-packages\\tensorflow_core\\python\\eager\\execute.py\u001b[0m in \u001b[0;36mquick_execute\u001b[1;34m(op_name, num_outputs, inputs, attrs, ctx, name)\u001b[0m\n\u001b[0;32m     59\u001b[0m     tensors = pywrap_tensorflow.TFE_Py_Execute(ctx._handle, device_name,\n\u001b[0;32m     60\u001b[0m                                                \u001b[0mop_name\u001b[0m\u001b[1;33m,\u001b[0m \u001b[0minputs\u001b[0m\u001b[1;33m,\u001b[0m \u001b[0mattrs\u001b[0m\u001b[1;33m,\u001b[0m\u001b[1;33m\u001b[0m\u001b[1;33m\u001b[0m\u001b[0m\n\u001b[1;32m---> 61\u001b[1;33m                                                num_outputs)\n\u001b[0m\u001b[0;32m     62\u001b[0m   \u001b[1;32mexcept\u001b[0m \u001b[0mcore\u001b[0m\u001b[1;33m.\u001b[0m\u001b[0m_NotOkStatusException\u001b[0m \u001b[1;32mas\u001b[0m \u001b[0me\u001b[0m\u001b[1;33m:\u001b[0m\u001b[1;33m\u001b[0m\u001b[1;33m\u001b[0m\u001b[0m\n\u001b[0;32m     63\u001b[0m     \u001b[1;32mif\u001b[0m \u001b[0mname\u001b[0m \u001b[1;32mis\u001b[0m \u001b[1;32mnot\u001b[0m \u001b[1;32mNone\u001b[0m\u001b[1;33m:\u001b[0m\u001b[1;33m\u001b[0m\u001b[1;33m\u001b[0m\u001b[0m\n",
      "\u001b[1;31mKeyboardInterrupt\u001b[0m: "
     ]
    }
   ],
   "source": [
    "import time\n",
    "epochs = 1001\n",
    "batch_size = 32\n",
    "\n",
    "model_type = '200kimgs-cond'\n",
    "\n",
    "training_imgs = training_data[0]\n",
    "training_cond = training_data[1]\n",
    "num_batches = len(training_imgs) // batch_size\n",
    "\n",
    "for epoch in range(501,epochs):\n",
    "    start = time.time()\n",
    "    print(f'Epoch [{epoch}/{epochs-1}]...'.ljust(20), end = '')\n",
    "\n",
    "    np.random.seed(epoch)\n",
    "    np.random.shuffle(training_imgs)\n",
    "    np.random.seed(epoch)\n",
    "    np.random.shuffle(training_cond)\n",
    "    \n",
    "    loss = 0\n",
    "    for index in range(num_batches):\n",
    "        img_input = training_imgs[index*batch_size: batch_size*(index+1)]\n",
    "        condition_input = training_cond[index*batch_size: batch_size*(index+1)]\n",
    "        loss += vae.train_on_batch([img_input, condition_input], img_input)\n",
    "    \n",
    "    loss /= num_batches\n",
    "    \n",
    "\n",
    "    \n",
    "    print(f'...{time.time()-start:.3f}(s) loss: {loss:.3f}')\n",
    "    loss_curve.append(loss)\n",
    "    if epoch % 100 == 0:\n",
    "        print(f'checkpointing at epoch: {epoch}')\n",
    "        decoder.save_weights(f'./checkpoints/epoch-{epoch}-{model_type}-decoder-weights.h5')\n",
    "        decoder.save(f'./checkpoints/epoch-{epoch}-{model_type}-decoder.h5')\n",
    "        encoder.save_weights(f'./checkpoints/epoch-{epoch}-{model_type}-encoder-weights.h5')\n",
    "        encoder.save(f'./checkpoints/epoch-{epoch}-{model_type}-encoder.h5')\n"
   ]
  },
  {
   "cell_type": "code",
   "execution_count": 369,
   "metadata": {},
   "outputs": [
    {
     "name": "stdout",
     "output_type": "stream",
     "text": [
      "Epoch [0/200]...    ...129.188(s) loss: 64.591\n",
      " epoch 0, beta = 0.0\n",
      "checkpointing at epoch: 0\n",
      "Epoch [1/200]...    ...127.882(s) loss: 40.910\n",
      " epoch 1, beta = 0.013333333656191826\n",
      "Epoch [2/200]...    ...127.819(s) loss: 40.244\n",
      " epoch 2, beta = 0.02666666731238365\n",
      "Epoch [3/200]...    ...127.028(s) loss: 40.986\n",
      " epoch 3, beta = 0.03999999910593033\n",
      "Epoch [4/200]...    ...127.328(s) loss: 42.132\n",
      " epoch 4, beta = 0.0533333346247673\n",
      "Epoch [5/200]...    ...126.995(s) loss: 43.623\n",
      " epoch 5, beta = 0.06666667014360428\n",
      "Epoch [6/200]...    ...126.871(s) loss: 45.060\n",
      " epoch 6, beta = 0.07999999821186066\n",
      "Epoch [7/200]...    ...125.397(s) loss: 46.454\n",
      " epoch 7, beta = 0.09333333373069763\n",
      "Epoch [8/200]...    ...125.170(s) loss: 47.718\n",
      " epoch 8, beta = 0.1066666692495346\n",
      "Epoch [9/200]...    ...124.939(s) loss: 48.952\n",
      " epoch 9, beta = 0.11999999731779099\n",
      "Epoch [10/200]...   ...125.261(s) loss: 50.150\n",
      " epoch 10, beta = 0.13333334028720856\n",
      "Epoch [11/200]...   ...125.157(s) loss: 51.284\n",
      " epoch 11, beta = 0.14666666090488434\n",
      "Epoch [12/200]...   ...125.440(s) loss: 52.379\n",
      " epoch 12, beta = 0.1599999964237213\n",
      "Epoch [13/200]...   ...125.113(s) loss: 53.410\n",
      " epoch 13, beta = 0.1733333319425583\n",
      "Epoch [14/200]...   ...125.370(s) loss: 54.463\n",
      " epoch 14, beta = 0.18666666746139526\n",
      "Epoch [15/200]...   ...125.510(s) loss: 55.465\n",
      " epoch 15, beta = 0.20000000298023224\n",
      "Epoch [16/200]...   ...125.181(s) loss: 56.421\n",
      " epoch 16, beta = 0.2133333384990692\n",
      "Epoch [17/200]...   ...125.580(s) loss: 57.310\n",
      " epoch 17, beta = 0.2266666740179062\n",
      "Epoch [18/200]...   ...125.327(s) loss: 58.239\n",
      " epoch 18, beta = 0.23999999463558197\n",
      "Epoch [19/200]...   ...139.899(s) loss: 59.127\n",
      " epoch 19, beta = 0.25333333015441895\n",
      "Epoch [20/200]...   ...125.286(s) loss: 59.973\n",
      " epoch 20, beta = 0.2666666805744171\n",
      "Epoch [21/200]...   ...125.294(s) loss: 60.804\n",
      " epoch 21, beta = 0.2800000011920929\n",
      "Epoch [22/200]...   ...125.405(s) loss: 61.647\n",
      " epoch 22, beta = 0.2933333218097687\n",
      "Epoch [23/200]...   ...124.876(s) loss: 62.460\n",
      " epoch 23, beta = 0.30666667222976685\n",
      "Epoch [24/200]...   ...125.369(s) loss: 63.238\n",
      " epoch 24, beta = 0.3199999928474426\n",
      "Epoch [25/200]...   ...125.264(s) loss: 63.976\n",
      " epoch 25, beta = 0.3333333432674408\n",
      "Epoch [26/200]...   ...124.957(s) loss: 64.756\n",
      " epoch 26, beta = 0.3466666638851166\n",
      "Epoch [27/200]...   ...125.267(s) loss: 65.474\n",
      " epoch 27, beta = 0.36000001430511475\n",
      "Epoch [28/200]...   ...125.562(s) loss: 66.215\n",
      " epoch 28, beta = 0.3733333349227905\n",
      "Epoch [29/200]...   ...125.613(s) loss: 66.903\n",
      " epoch 29, beta = 0.3866666555404663\n",
      "Epoch [30/200]...   ...125.402(s) loss: 67.619\n",
      " epoch 30, beta = 0.4000000059604645\n",
      "Epoch [31/200]...   ...125.417(s) loss: 68.318\n",
      " epoch 31, beta = 0.41333332657814026\n",
      "Epoch [32/200]...   ...125.490(s) loss: 68.974\n",
      " epoch 32, beta = 0.4266666769981384\n",
      "Epoch [33/200]...   ...124.960(s) loss: 69.616\n",
      " epoch 33, beta = 0.4399999976158142\n",
      "Epoch [34/200]...   ...124.641(s) loss: 70.253\n",
      " epoch 34, beta = 0.4533333480358124\n",
      "Epoch [35/200]...   ...125.257(s) loss: 70.876\n",
      " epoch 35, beta = 0.46666666865348816\n",
      "Epoch [36/200]...   ...125.117(s) loss: 71.536\n",
      " epoch 36, beta = 0.47999998927116394\n",
      "Epoch [37/200]...   ...125.293(s) loss: 72.112\n",
      " epoch 37, beta = 0.4933333396911621\n",
      "Epoch [38/200]...   ...125.458(s) loss: 72.726\n",
      " epoch 38, beta = 0.5066666603088379\n",
      "Epoch [39/200]...   ...124.746(s) loss: 73.284\n",
      " epoch 39, beta = 0.5199999809265137\n",
      "Epoch [40/200]...   ...125.312(s) loss: 73.877\n",
      " epoch 40, beta = 0.5333333611488342\n",
      "Epoch [41/200]...   ...125.126(s) loss: 74.438\n",
      " epoch 41, beta = 0.54666668176651\n",
      "Epoch [42/200]...   ...125.313(s) loss: 74.971\n",
      " epoch 42, beta = 0.5600000023841858\n",
      "Epoch [43/200]...   ...125.048(s) loss: 75.515\n",
      " epoch 43, beta = 0.5733333230018616\n",
      "Epoch [44/200]...   ...125.478(s) loss: 76.047\n",
      " epoch 44, beta = 0.5866666436195374\n",
      "Epoch [45/200]...   ...125.466(s) loss: 76.582\n",
      " epoch 45, beta = 0.6000000238418579\n",
      "Epoch [46/200]...   ...125.015(s) loss: 77.089\n",
      " epoch 46, beta = 0.6133333444595337\n",
      "Epoch [47/200]...   ...125.389(s) loss: 77.633\n",
      " epoch 47, beta = 0.6266666650772095\n",
      "Epoch [48/200]...   ...125.401(s) loss: 78.088\n",
      " epoch 48, beta = 0.6399999856948853\n",
      "Epoch [49/200]...   ...124.864(s) loss: 78.595\n",
      " epoch 49, beta = 0.653333306312561\n",
      "Epoch [50/200]...   ...125.196(s) loss: 79.104\n",
      " epoch 50, beta = 0.6666666865348816\n",
      "Epoch [51/200]...   ...125.314(s) loss: 79.571\n",
      " epoch 51, beta = 0.6800000071525574\n",
      "Epoch [52/200]...   ...125.258(s) loss: 80.015\n",
      " epoch 52, beta = 0.6933333277702332\n",
      "Epoch [53/200]...   ...124.888(s) loss: 80.456\n",
      " epoch 53, beta = 0.7066666483879089\n",
      "Epoch [54/200]...   ...125.186(s) loss: 80.908\n",
      " epoch 54, beta = 0.7200000286102295\n",
      "Epoch [55/200]...   ...125.248(s) loss: 81.359\n",
      " epoch 55, beta = 0.7333333492279053\n",
      "Epoch [56/200]...   ...124.958(s) loss: 81.787\n",
      " epoch 56, beta = 0.746666669845581\n",
      "Epoch [57/200]...   ...125.363(s) loss: 82.252\n",
      " epoch 57, beta = 0.7599999904632568\n",
      "Epoch [58/200]...   ...125.227(s) loss: 82.625\n",
      " epoch 58, beta = 0.7733333110809326\n",
      "Epoch [59/200]...   ...124.772(s) loss: 83.047\n",
      " epoch 59, beta = 0.7866666913032532\n",
      "Epoch [60/200]...   ...125.157(s) loss: 83.445\n",
      " epoch 60, beta = 0.800000011920929\n",
      "Epoch [61/200]...   ...125.012(s) loss: 83.847\n",
      " epoch 61, beta = 0.8133333325386047\n",
      "Epoch [62/200]...   ...125.176(s) loss: 84.219\n",
      " epoch 62, beta = 0.8266666531562805\n",
      "Epoch [63/200]...   ...124.576(s) loss: 84.603\n",
      " epoch 63, beta = 0.8399999737739563\n",
      "Epoch [64/200]...   ...125.306(s) loss: 84.995\n",
      " epoch 64, beta = 0.8533333539962769\n",
      "Epoch [65/200]...   ...125.069(s) loss: 85.332\n",
      " epoch 65, beta = 0.8666666746139526\n",
      "Epoch [66/200]...   ...124.932(s) loss: 85.747\n",
      " epoch 66, beta = 0.8799999952316284\n",
      "Epoch [67/200]...   ...125.350(s) loss: 86.057\n",
      " epoch 67, beta = 0.8933333158493042\n",
      "Epoch [68/200]...   ...125.211(s) loss: 86.423\n",
      " epoch 68, beta = 0.9066666960716248\n",
      "Epoch [69/200]...   ...125.062(s) loss: 86.789\n",
      " epoch 69, beta = 0.9200000166893005\n",
      "Epoch [70/200]...   ...125.388(s) loss: 87.129\n",
      " epoch 70, beta = 0.9333333373069763\n",
      "Epoch [71/200]...   ...125.344(s) loss: 87.489\n",
      " epoch 71, beta = 0.9466666579246521\n",
      "Epoch [72/200]...   ...125.566(s) loss: 87.797\n",
      " epoch 72, beta = 0.9599999785423279\n",
      "Epoch [73/200]...   ...124.926(s) loss: 88.124\n",
      " epoch 73, beta = 0.9733333587646484\n",
      "Epoch [74/200]...   ...125.702(s) loss: 88.447\n",
      " epoch 74, beta = 0.9866666793823242\n",
      "Epoch [75/200]...   ...125.595(s) loss: 88.696\n",
      " epoch 75, beta = 1.0\n",
      "Epoch [76/200]...   ...125.208(s) loss: 89.070\n",
      " epoch 76, beta = 1.0\n",
      "Epoch [77/200]...   ...125.566(s) loss: 89.023\n",
      " epoch 77, beta = 1.0\n",
      "Epoch [78/200]...   ...125.647(s) loss: 89.041\n",
      " epoch 78, beta = 1.0\n",
      "Epoch [79/200]...   ...125.519(s) loss: 89.019\n",
      " epoch 79, beta = 1.0\n",
      "Epoch [80/200]...   ...125.011(s) loss: 89.029\n",
      " epoch 80, beta = 1.0\n",
      "Epoch [81/200]...   ...125.511(s) loss: 89.043\n",
      " epoch 81, beta = 1.0\n",
      "Epoch [82/200]...   ...125.419(s) loss: 89.007\n",
      " epoch 82, beta = 1.0\n",
      "Epoch [83/200]...   ...124.956(s) loss: 89.023\n",
      " epoch 83, beta = 1.0\n",
      "Epoch [84/200]...   ...125.363(s) loss: 89.008\n",
      " epoch 84, beta = 1.0\n",
      "Epoch [85/200]...   ...125.513(s) loss: 89.062\n",
      " epoch 85, beta = 1.0\n",
      "Epoch [86/200]...   ...125.132(s) loss: 89.003\n",
      " epoch 86, beta = 1.0\n",
      "Epoch [87/200]...   ...125.681(s) loss: 88.997\n",
      " epoch 87, beta = 1.0\n",
      "Epoch [88/200]...   ...126.558(s) loss: 88.999\n",
      " epoch 88, beta = 1.0\n",
      "Epoch [89/200]...   ...127.000(s) loss: 89.052\n",
      " epoch 89, beta = 1.0\n",
      "Epoch [90/200]...   ...127.269(s) loss: 88.977\n",
      " epoch 90, beta = 1.0\n",
      "Epoch [91/200]...   ...127.216(s) loss: 89.008\n",
      " epoch 91, beta = 1.0\n",
      "Epoch [92/200]...   ...127.367(s) loss: 88.976\n",
      " epoch 92, beta = 1.0\n",
      "Epoch [93/200]...   ...126.821(s) loss: 88.970\n",
      " epoch 93, beta = 1.0\n",
      "Epoch [94/200]...   ...127.496(s) loss: 88.979\n",
      " epoch 94, beta = 1.0\n",
      "Epoch [95/200]...   ...126.611(s) loss: 88.980\n",
      " epoch 95, beta = 1.0\n",
      "Epoch [96/200]...   ...125.801(s) loss: 88.975\n",
      " epoch 96, beta = 1.0\n",
      "Epoch [97/200]...   ...127.313(s) loss: 89.003\n",
      " epoch 97, beta = 1.0\n",
      "Epoch [98/200]...   ...127.544(s) loss: 88.997\n",
      " epoch 98, beta = 1.0\n",
      "Epoch [99/200]...   ...127.646(s) loss: 88.964\n",
      " epoch 99, beta = 1.0\n",
      "Epoch [100/200]...  ...127.248(s) loss: 89.025\n",
      " epoch 100, beta = 1.0\n",
      "checkpointing at epoch: 100\n",
      "Epoch [101/200]...  ...127.605(s) loss: 88.965\n",
      " epoch 101, beta = 1.0\n"
     ]
    },
    {
     "name": "stdout",
     "output_type": "stream",
     "text": [
      "Epoch [102/200]...  ...127.548(s) loss: 88.973\n",
      " epoch 102, beta = 1.0\n",
      "Epoch [103/200]...  ...125.420(s) loss: 88.954\n",
      " epoch 103, beta = 1.0\n",
      "Epoch [104/200]...  ...127.123(s) loss: 88.961\n",
      " epoch 104, beta = 1.0\n",
      "Epoch [105/200]...  ...127.379(s) loss: 88.969\n",
      " epoch 105, beta = 1.0\n",
      "Epoch [106/200]...  ...127.408(s) loss: 88.948\n",
      " epoch 106, beta = 1.0\n",
      "Epoch [107/200]...  ...127.727(s) loss: 88.920\n",
      " epoch 107, beta = 1.0\n",
      "Epoch [108/200]...  ...128.137(s) loss: 88.935\n",
      " epoch 108, beta = 1.0\n",
      "Epoch [109/200]...  ...128.353(s) loss: 88.963\n",
      " epoch 109, beta = 1.0\n",
      "Epoch [110/200]...  ...127.575(s) loss: 88.915\n",
      " epoch 110, beta = 1.0\n",
      "Epoch [111/200]...  ...128.022(s) loss: 88.965\n",
      " epoch 111, beta = 1.0\n",
      "Epoch [112/200]...  ...128.069(s) loss: 88.944\n",
      " epoch 112, beta = 1.0\n",
      "Epoch [113/200]...  ...127.167(s) loss: 88.915\n",
      " epoch 113, beta = 1.0\n",
      "Epoch [114/200]...  ...127.874(s) loss: 88.936\n",
      " epoch 114, beta = 1.0\n",
      "Epoch [115/200]...  ...128.051(s) loss: 88.917\n",
      " epoch 115, beta = 1.0\n",
      "Epoch [116/200]...  ...127.450(s) loss: 88.909\n",
      " epoch 116, beta = 1.0\n",
      "Epoch [117/200]...  ...127.399(s) loss: 88.944\n",
      " epoch 117, beta = 1.0\n",
      "Epoch [118/200]...  ...128.044(s) loss: 88.903\n",
      " epoch 118, beta = 1.0\n",
      "Epoch [119/200]...  ...128.435(s) loss: 88.881\n",
      " epoch 119, beta = 1.0\n",
      "Epoch [120/200]...  ...125.955(s) loss: 88.887\n",
      " epoch 120, beta = 1.0\n",
      "Epoch [121/200]...  ...125.723(s) loss: 88.908\n",
      " epoch 121, beta = 1.0\n",
      "Epoch [122/200]...  ...125.627(s) loss: 88.901\n",
      " epoch 122, beta = 1.0\n",
      "Epoch [123/200]...  ...127.571(s) loss: 88.912\n",
      " epoch 123, beta = 1.0\n",
      "Epoch [124/200]...  ...127.944(s) loss: 88.905\n",
      " epoch 124, beta = 1.0\n",
      "Epoch [125/200]...  ...127.767(s) loss: 88.906\n",
      " epoch 125, beta = 1.0\n",
      "Epoch [126/200]...  ...127.427(s) loss: 88.919\n",
      " epoch 126, beta = 1.0\n",
      "Epoch [127/200]...  ...127.752(s) loss: 88.886\n",
      " epoch 127, beta = 1.0\n",
      "Epoch [128/200]...  ...127.338(s) loss: 88.900\n",
      " epoch 128, beta = 1.0\n",
      "Epoch [129/200]...  ...127.574(s) loss: 88.899\n",
      " epoch 129, beta = 1.0\n",
      "Epoch [130/200]...  ...127.301(s) loss: 88.919\n",
      " epoch 130, beta = 1.0\n",
      "Epoch [131/200]...  ...127.359(s) loss: 88.907\n",
      " epoch 131, beta = 1.0\n",
      "Epoch [132/200]...  ...127.607(s) loss: 88.931\n",
      " epoch 132, beta = 1.0\n",
      "Epoch [133/200]...  ...127.029(s) loss: 88.916\n",
      " epoch 133, beta = 1.0\n",
      "Epoch [134/200]...  ...127.663(s) loss: 88.953\n",
      " epoch 134, beta = 1.0\n",
      "Epoch [135/200]...  ...127.099(s) loss: 88.925\n",
      " epoch 135, beta = 1.0\n",
      "Epoch [136/200]...  ...127.174(s) loss: 88.902\n",
      " epoch 136, beta = 1.0\n",
      "Epoch [137/200]...  ...127.400(s) loss: 88.907\n",
      " epoch 137, beta = 1.0\n",
      "Epoch [138/200]...  ...127.413(s) loss: 88.890\n",
      " epoch 138, beta = 1.0\n",
      "Epoch [139/200]...  ...127.733(s) loss: 88.910\n",
      " epoch 139, beta = 1.0\n",
      "Epoch [140/200]...  ...127.132(s) loss: 88.888\n",
      " epoch 140, beta = 1.0\n",
      "Epoch [141/200]...  ...127.996(s) loss: 88.885\n",
      " epoch 141, beta = 1.0\n",
      "Epoch [142/200]...  ...127.394(s) loss: 88.886\n",
      " epoch 142, beta = 1.0\n",
      "Epoch [143/200]...  ...127.450(s) loss: 88.904\n",
      " epoch 143, beta = 1.0\n",
      "Epoch [144/200]...  ...127.663(s) loss: 88.922\n",
      " epoch 144, beta = 1.0\n",
      "Epoch [145/200]...  ...127.666(s) loss: 88.841\n",
      " epoch 145, beta = 1.0\n",
      "Epoch [146/200]...  ...127.290(s) loss: 88.898\n",
      " epoch 146, beta = 1.0\n",
      "Epoch [147/200]...  ...127.681(s) loss: 88.874\n",
      " epoch 147, beta = 1.0\n",
      "Epoch [148/200]...  ...127.917(s) loss: 88.921\n",
      " epoch 148, beta = 1.0\n",
      "Epoch [149/200]...  ...127.694(s) loss: 88.890\n",
      " epoch 149, beta = 1.0\n",
      "Epoch [150/200]...  ...127.597(s) loss: 88.863\n",
      " epoch 150, beta = 1.0\n",
      "Epoch [151/200]...  ...128.080(s) loss: 88.852\n",
      " epoch 151, beta = 1.0\n",
      "Epoch [152/200]...  ...127.275(s) loss: 88.859\n",
      " epoch 152, beta = 1.0\n",
      "Epoch [153/200]...  ...125.558(s) loss: 88.868\n",
      " epoch 153, beta = 1.0\n",
      "Epoch [154/200]...  ...125.768(s) loss: 88.847\n",
      " epoch 154, beta = 1.0\n",
      "Epoch [155/200]...  ...125.520(s) loss: 88.883\n",
      " epoch 155, beta = 1.0\n",
      "Epoch [156/200]...  ...128.050(s) loss: 88.847\n",
      " epoch 156, beta = 1.0\n",
      "Epoch [157/200]...  ...128.231(s) loss: 88.849\n",
      " epoch 157, beta = 1.0\n",
      "Epoch [158/200]...  ...127.974(s) loss: 88.850\n",
      " epoch 158, beta = 1.0\n",
      "Epoch [159/200]...  ...128.045(s) loss: 88.872\n",
      " epoch 159, beta = 1.0\n",
      "Epoch [160/200]...  ...127.598(s) loss: 88.885\n",
      " epoch 160, beta = 1.0\n",
      "Epoch [161/200]...  ...127.742(s) loss: 88.866\n",
      " epoch 161, beta = 1.0\n",
      "Epoch [162/200]...  ...127.843(s) loss: 88.838\n",
      " epoch 162, beta = 1.0\n",
      "Epoch [163/200]...  ...127.529(s) loss: 88.840\n",
      " epoch 163, beta = 1.0\n",
      "Epoch [164/200]...  ...127.942(s) loss: 88.898\n",
      " epoch 164, beta = 1.0\n",
      "Epoch [165/200]...  ...127.821(s) loss: 88.866\n",
      " epoch 165, beta = 1.0\n",
      "Epoch [166/200]...  ...127.490(s) loss: 88.821\n",
      " epoch 166, beta = 1.0\n",
      "Epoch [167/200]...  ...127.952(s) loss: 88.868\n",
      " epoch 167, beta = 1.0\n",
      "Epoch [168/200]...  ...126.389(s) loss: 88.814\n",
      " epoch 168, beta = 1.0\n",
      "Epoch [169/200]...  ...125.715(s) loss: 88.812\n",
      " epoch 169, beta = 1.0\n",
      "Epoch [170/200]...  ...125.414(s) loss: 88.855\n",
      " epoch 170, beta = 1.0\n",
      "Epoch [171/200]...  ...127.954(s) loss: 88.835\n",
      " epoch 171, beta = 1.0\n",
      "Epoch [172/200]...  ...127.848(s) loss: 88.833\n",
      " epoch 172, beta = 1.0\n",
      "Epoch [173/200]...  ...126.956(s) loss: 88.819\n",
      " epoch 173, beta = 1.0\n",
      "Epoch [174/200]...  ...127.919(s) loss: 88.844\n",
      " epoch 174, beta = 1.0\n",
      "Epoch [175/200]...  ...127.575(s) loss: 88.834\n",
      " epoch 175, beta = 1.0\n",
      "Epoch [176/200]...  ...127.198(s) loss: 88.855\n",
      " epoch 176, beta = 1.0\n",
      "Epoch [177/200]...  ...127.904(s) loss: 88.834\n",
      " epoch 177, beta = 1.0\n",
      "Epoch [178/200]...  ...128.140(s) loss: 88.834\n",
      " epoch 178, beta = 1.0\n",
      "Epoch [179/200]...  ...127.949(s) loss: 88.857\n",
      " epoch 179, beta = 1.0\n",
      "Epoch [180/200]...  ...127.241(s) loss: 88.862\n",
      " epoch 180, beta = 1.0\n",
      "Epoch [181/200]...  ...128.046(s) loss: 88.870\n",
      " epoch 181, beta = 1.0\n",
      "Epoch [182/200]...  ...127.685(s) loss: 88.862\n",
      " epoch 182, beta = 1.0\n",
      "Epoch [183/200]...  ...127.530(s) loss: 88.824\n",
      " epoch 183, beta = 1.0\n",
      "Epoch [184/200]...  ...127.771(s) loss: 88.808\n",
      " epoch 184, beta = 1.0\n",
      "Epoch [185/200]...  ...127.692(s) loss: 88.856\n",
      " epoch 185, beta = 1.0\n",
      "Epoch [186/200]...  ...127.163(s) loss: 88.854\n",
      " epoch 186, beta = 1.0\n",
      "Epoch [187/200]...  ...127.588(s) loss: 88.819\n",
      " epoch 187, beta = 1.0\n",
      "Epoch [188/200]...  ...127.132(s) loss: 88.833\n",
      " epoch 188, beta = 1.0\n",
      "Epoch [189/200]...  ...127.490(s) loss: 88.824\n",
      " epoch 189, beta = 1.0\n",
      "Epoch [190/200]...  ...127.186(s) loss: 88.843\n",
      " epoch 190, beta = 1.0\n",
      "Epoch [191/200]...  ...127.891(s) loss: 88.829\n",
      " epoch 191, beta = 1.0\n",
      "Epoch [192/200]...  ...127.664(s) loss: 88.841\n",
      " epoch 192, beta = 1.0\n",
      "Epoch [193/200]...  ...125.530(s) loss: 88.819\n",
      " epoch 193, beta = 1.0\n",
      "Epoch [194/200]...  ...125.956(s) loss: 88.807\n",
      " epoch 194, beta = 1.0\n",
      "Epoch [195/200]...  ...127.811(s) loss: 88.798\n",
      " epoch 195, beta = 1.0\n",
      "Epoch [196/200]...  ...127.238(s) loss: 88.811\n",
      " epoch 196, beta = 1.0\n",
      "Epoch [197/200]...  ...127.546(s) loss: 88.862\n",
      " epoch 197, beta = 1.0\n",
      "Epoch [198/200]...  ...127.892(s) loss: 88.829\n",
      " epoch 198, beta = 1.0\n",
      "Epoch [199/200]...  ...127.857(s) loss: 88.796\n",
      " epoch 199, beta = 1.0\n",
      "Epoch [200/200]...  ...127.525(s) loss: 88.854\n",
      " epoch 200, beta = 1.0\n",
      "checkpointing at epoch: 200\n"
     ]
    }
   ],
   "source": [
    "import time\n",
    "start_epoch = 0\n",
    "epochs = 201\n",
    "warmup_epoch = 75\n",
    "batch_size = 64\n",
    "\n",
    "model_type = '200kimgs-cond-inner-vae'\n",
    "\n",
    "training_imgs = training_data[0]\n",
    "training_cond = training_data[1]\n",
    "num_batches = len(training_imgs) // batch_size\n",
    "\n",
    "for epoch in range(start_epoch,epochs):\n",
    "    start = time.time()\n",
    "    print(f'Epoch [{epoch}/{epochs-1}]...'.ljust(20), end = '')\n",
    "\n",
    "    np.random.seed(epoch)\n",
    "    np.random.shuffle(training_imgs)\n",
    "    np.random.seed(epoch)\n",
    "    np.random.shuffle(training_cond)\n",
    "    \n",
    "    loss = 0\n",
    "    for index in range(num_batches):\n",
    "        img_input = training_imgs[index*batch_size: batch_size*(index+1)]\n",
    "        condition_input = training_cond[index*batch_size: batch_size*(index+1)]\n",
    "        z_input = encoder.predict([img_input, condition_input])[2]\n",
    "        loss += inner_vae.train_on_batch(z_input, z_input)\n",
    "    \n",
    "    \n",
    "    \n",
    "    \n",
    "    loss /= num_batches\n",
    "    print(f'...{time.time()-start:.3f}(s) loss: {loss:.3f}')\n",
    "    \n",
    "    # beta warmup\n",
    "    value = (epoch/warmup_epoch) * (epoch <= warmup_epoch) + 1.0 * (epoch > warmup_epoch)\n",
    "    K.set_value(inner_beta, value)\n",
    "    print(f' epoch {epoch}, beta = {K.get_value(inner_beta)}')\n",
    "    \n",
    "    \n",
    "    loss_curve.append(loss)\n",
    "    if epoch % 100 == 0:\n",
    "        print(f'checkpointing at epoch: {epoch}')\n",
    "        decoder.save_weights(f'./checkpoints/epoch-{epoch}-{model_type}-decoder-weights.h5')\n",
    "        decoder.save(f'./checkpoints/epoch-{epoch}-{model_type}-decoder.h5')\n",
    "        encoder.save_weights(f'./checkpoints/epoch-{epoch}-{model_type}-encoder-weights.h5')\n",
    "        encoder.save(f'./checkpoints/epoch-{epoch}-{model_type}-encoder.h5')\n"
   ]
  },
  {
   "cell_type": "code",
   "execution_count": 522,
   "metadata": {},
   "outputs": [],
   "source": [
    "inner_decoder.save_weights(f'./checkpoints/epoch-100-inner-decoder-weights.h5')\n",
    "inner_decoder.save(f'./checkpoints/epoch-100-inner-decoder.h5')\n",
    "inner_encoder.save_weights(f'./checkpoints/epoch-100-inner-encoder-weights.h5')\n",
    "inner_encoder.save(f'./checkpoints/epoch-100-inner-encoder.h5')"
   ]
  },
  {
   "cell_type": "code",
   "execution_count": 79,
   "metadata": {},
   "outputs": [
    {
     "data": {
      "text/plain": [
       "(32, 100)"
      ]
     },
     "execution_count": 79,
     "metadata": {},
     "output_type": "execute_result"
    }
   ],
   "source": [
    "z_input.shape"
   ]
  },
  {
   "cell_type": "code",
   "execution_count": 62,
   "metadata": {},
   "outputs": [
    {
     "data": {
      "text/plain": [
       "[<matplotlib.lines.Line2D at 0x6e0c2d48>]"
      ]
     },
     "execution_count": 62,
     "metadata": {},
     "output_type": "execute_result"
    },
    {
     "data": {
      "image/png": "[encoded data removed]",
      "text/plain": [
       "<Figure size 432x288 with 1 Axes>"
      ]
     },
     "metadata": {
      "needs_background": "light"
     },
     "output_type": "display_data"
    }
   ],
   "source": [
    "plt.plot(loss_curve)"
   ]
  },
  {
   "cell_type": "code",
   "execution_count": 635,
   "metadata": {},
   "outputs": [],
   "source": [
    "val_imgs = X_c[0][15000:15010]\n",
    "val_conds = X_c[1][15000:15010]"
   ]
  },
  {
   "cell_type": "code",
   "execution_count": 662,
   "metadata": {},
   "outputs": [
    {
     "data": {
      "image/png": "[encoded data removed]",
      "text/plain": [
       "<Figure size 432x288 with 1 Axes>"
      ]
     },
     "metadata": {
      "needs_background": "light"
     },
     "output_type": "display_data"
    },
    {
     "name": "stdout",
     "output_type": "stream",
     "text": [
      "Bags_Under_Eyes\n",
      "Brown_Hair\n",
      "High_Cheekbones\n",
      "Mouth_Slightly_Open\n",
      "No_Beard\n",
      "Oval_Face\n",
      "Smiling\n",
      "Straight_Hair\n",
      "Young\n",
      "None\n"
     ]
    },
    {
     "data": {
      "image/png": "[encoded data removed]",
      "text/plain": [
       "<Figure size 432x288 with 1 Axes>"
      ]
     },
     "metadata": {
      "needs_background": "light"
     },
     "output_type": "display_data"
    },
    {
     "data": {
      "image/png": "[encoded data removed]",
      "text/plain": [
       "<Figure size 432x288 with 1 Axes>"
      ]
     },
     "metadata": {
      "needs_background": "light"
     },
     "output_type": "display_data"
    },
    {
     "name": "stdout",
     "output_type": "stream",
     "text": [
      "Arched_Eyebrows\n",
      "Attractive\n",
      "Big_Lips\n",
      "Big_Nose\n",
      "Blond_Hair\n",
      "High_Cheekbones\n",
      "Mouth_Slightly_Open\n",
      "Narrow_Eyes\n",
      "No_Beard\n",
      "Smiling\n",
      "Wavy_Hair\n",
      "Wearing_Earrings\n",
      "Wearing_Lipstick\n",
      "Young\n",
      "None\n"
     ]
    },
    {
     "data": {
      "image/png": "[encoded data removed]",
      "text/plain": [
       "<Figure size 432x288 with 1 Axes>"
      ]
     },
     "metadata": {
      "needs_background": "light"
     },
     "output_type": "display_data"
    },
    {
     "data": {
      "image/png": "[encoded data removed]",
      "text/plain": [
       "<Figure size 432x288 with 1 Axes>"
      ]
     },
     "metadata": {
      "needs_background": "light"
     },
     "output_type": "display_data"
    },
    {
     "name": "stdout",
     "output_type": "stream",
     "text": [
      "Attractive\n",
      "Heavy_Makeup\n",
      "No_Beard\n",
      "Wavy_Hair\n",
      "Wearing_Lipstick\n",
      "Young\n",
      "None\n"
     ]
    },
    {
     "data": {
      "image/png": "[encoded data removed]",
      "text/plain": [
       "<Figure size 432x288 with 1 Axes>"
      ]
     },
     "metadata": {
      "needs_background": "light"
     },
     "output_type": "display_data"
    },
    {
     "data": {
      "image/png": "[encoded data removed]",
      "text/plain": [
       "<Figure size 432x288 with 1 Axes>"
      ]
     },
     "metadata": {
      "needs_background": "light"
     },
     "output_type": "display_data"
    },
    {
     "name": "stdout",
     "output_type": "stream",
     "text": [
      "Bangs\n",
      "Black_Hair\n",
      "Heavy_Makeup\n",
      "No_Beard\n",
      "Pale_Skin\n",
      "Straight_Hair\n",
      "Young\n",
      "None\n"
     ]
    },
    {
     "data": {
      "image/png": "[encoded data removed]",
      "text/plain": [
       "<Figure size 432x288 with 1 Axes>"
      ]
     },
     "metadata": {
      "needs_background": "light"
     },
     "output_type": "display_data"
    },
    {
     "data": {
      "image/png": "[encoded data removed]",
      "text/plain": [
       "<Figure size 432x288 with 1 Axes>"
      ]
     },
     "metadata": {
      "needs_background": "light"
     },
     "output_type": "display_data"
    },
    {
     "name": "stdout",
     "output_type": "stream",
     "text": [
      "Black_Hair\n",
      "Bushy_Eyebrows\n",
      "High_Cheekbones\n",
      "Male\n",
      "Mouth_Slightly_Open\n",
      "Mustache\n",
      "Oval_Face\n",
      "Smiling\n",
      "Young\n",
      "None\n"
     ]
    },
    {
     "data": {
      "image/png": "[encoded data removed]",
      "text/plain": [
       "<Figure size 432x288 with 1 Axes>"
      ]
     },
     "metadata": {
      "needs_background": "light"
     },
     "output_type": "display_data"
    },
    {
     "data": {
      "image/png": "[encoded data removed]",
      "text/plain": [
       "<Figure size 432x288 with 1 Axes>"
      ]
     },
     "metadata": {
      "needs_background": "light"
     },
     "output_type": "display_data"
    },
    {
     "name": "stdout",
     "output_type": "stream",
     "text": [
      "Black_Hair\n",
      "Male\n",
      "No_Beard\n",
      "Oval_Face\n",
      "Straight_Hair\n",
      "Young\n",
      "None\n"
     ]
    },
    {
     "data": {
      "image/png": "[encoded data removed]",
      "text/plain": [
       "<Figure size 432x288 with 1 Axes>"
      ]
     },
     "metadata": {
      "needs_background": "light"
     },
     "output_type": "display_data"
    },
    {
     "data": {
      "image/png": "[encoded data removed]",
      "text/plain": [
       "<Figure size 432x288 with 1 Axes>"
      ]
     },
     "metadata": {
      "needs_background": "light"
     },
     "output_type": "display_data"
    },
    {
     "name": "stdout",
     "output_type": "stream",
     "text": [
      "Blurry\n",
      "Male\n",
      "Narrow_Eyes\n",
      "No_Beard\n",
      "None\n"
     ]
    },
    {
     "data": {
      "image/png": "[encoded data removed]",
      "text/plain": [
       "<Figure size 432x288 with 1 Axes>"
      ]
     },
     "metadata": {
      "needs_background": "light"
     },
     "output_type": "display_data"
    },
    {
     "data": {
      "image/png": "[encoded data removed]",
      "text/plain": [
       "<Figure size 432x288 with 1 Axes>"
      ]
     },
     "metadata": {
      "needs_background": "light"
     },
     "output_type": "display_data"
    },
    {
     "name": "stdout",
     "output_type": "stream",
     "text": [
      "Attractive\n",
      "Black_Hair\n",
      "Heavy_Makeup\n",
      "No_Beard\n",
      "Pointy_Nose\n",
      "Wearing_Lipstick\n",
      "Young\n",
      "None\n"
     ]
    },
    {
     "data": {
      "image/png": "[encoded data removed]",
      "text/plain": [
       "<Figure size 432x288 with 1 Axes>"
      ]
     },
     "metadata": {
      "needs_background": "light"
     },
     "output_type": "display_data"
    },
    {
     "data": {
      "image/png": "[encoded data removed]",
      "text/plain": [
       "<Figure size 432x288 with 1 Axes>"
      ]
     },
     "metadata": {
      "needs_background": "light"
     },
     "output_type": "display_data"
    },
    {
     "name": "stdout",
     "output_type": "stream",
     "text": [
      "Arched_Eyebrows\n",
      "Attractive\n",
      "Big_Lips\n",
      "Heavy_Makeup\n",
      "High_Cheekbones\n",
      "Mouth_Slightly_Open\n",
      "No_Beard\n",
      "Oval_Face\n",
      "Pointy_Nose\n",
      "Rosy_Cheeks\n",
      "Smiling\n",
      "Wavy_Hair\n",
      "Wearing_Earrings\n",
      "Wearing_Lipstick\n",
      "Young\n",
      "None\n"
     ]
    },
    {
     "data": {
      "image/png": "[encoded data removed]",
      "text/plain": [
       "<Figure size 432x288 with 1 Axes>"
      ]
     },
     "metadata": {
      "needs_background": "light"
     },
     "output_type": "display_data"
    },
    {
     "data": {
      "image/png": "[encoded data removed]",
      "text/plain": [
       "<Figure size 432x288 with 1 Axes>"
      ]
     },
     "metadata": {
      "needs_background": "light"
     },
     "output_type": "display_data"
    },
    {
     "name": "stdout",
     "output_type": "stream",
     "text": [
      "Attractive\n",
      "Bangs\n",
      "Blond_Hair\n",
      "Mouth_Slightly_Open\n",
      "No_Beard\n",
      "Pointy_Nose\n",
      "Wearing_Lipstick\n",
      "Young\n",
      "None\n"
     ]
    },
    {
     "data": {
      "image/png": "[encoded data removed]",
      "text/plain": [
       "<Figure size 432x288 with 1 Axes>"
      ]
     },
     "metadata": {
      "needs_background": "light"
     },
     "output_type": "display_data"
    }
   ],
   "source": [
    "for image, cond in zip(val_imgs, val_conds):\n",
    "    plt.imshow(unnormalize_tanh(image))\n",
    "    plt.show()\n",
    "    print(encode_to_attribs(cond))\n",
    "    plt.imshow(unnormalize_tanh(vae.predict([np.array([image]),np.array([cond])])[0]))\n",
    "    \n",
    "    \n",
    "    plt.show()"
   ]
  },
  {
   "cell_type": "code",
   "execution_count": 576,
   "metadata": {},
   "outputs": [
    {
     "data": {
      "text/plain": [
       "(40,)"
      ]
     },
     "execution_count": 576,
     "metadata": {},
     "output_type": "execute_result"
    }
   ],
   "source": [
    "mu, sigma = 0, 1 #mean and standard deviation\n",
    "s = np.random.normal(mu, sigma, latent_dim)\n",
    "plt.imshow(decoder.predict([np.array([s]),np.array([conditions])])[0])\n",
    "plt.show()"
   ]
  },
  {
   "cell_type": "code",
   "execution_count": 93,
   "metadata": {},
   "outputs": [],
   "source": [
    "from __future__ import print_function\n",
    "from ipywidgets import interact, interactive, fixed, interact_manual\n",
    "import ipywidgets as widgets\n",
    "from IPython.display import display\n",
    "from ipywidgets import HBox, Label"
   ]
  },
  {
   "cell_type": "code",
   "execution_count": 412,
   "metadata": {},
   "outputs": [
    {
     "name": "stdout",
     "output_type": "stream",
     "text": [
      "5oClockShadow=1, Arched_Eyebrows=1, Attractive=1, Bags_Under_Eyes=1, Bald=1, Bangs=1, Big_Lips=1, Big_Nose=1, Black_Hair=1, Blond_Hair=1, Blurry=1, Brown_Hair=1, Bushy_Eyebrows=1, Chubby=1, Double_Chin=1, Eyeglasses=1, Goatee=1, Gray_Hair=1, Heavy_Makeup=1, High_Cheekbones=1, Male=1, Mouth_Slightly_Open=1, Mustache=1, Narrow_Eyes=1, No_Beard=1, Oval_Face=1, Pale_Skin=1, Pointy_Nose=1, Receding_Hairline=1, Rosy_Cheeks=1, Sideburns=1, Smiling=1, Straight_Hair=1, Wavy_Hair=1, Wearing_Earrings=1, Wearing_Hat=1, Wearing_Lipstick=1, Wearing_Necklace=1, Wearing_Necktie=1, Young\n"
     ]
    }
   ],
   "source": [
    "attribs = '''5oClockShadow=1, Arched_Eyebrows=1, Attractive=1, Bags_Under_Eyes=1, Bald=1, Bangs=1, Big_Lips=1, Big_Nose=1, Black_Hair=1, Blond_Hair=1, Blurry=1, Brown_Hair=1, Bushy_Eyebrows=1, Chubby=1, Double_Chin=1, Eyeglasses=1, Goatee=1, Gray_Hair=1, Heavy_Makeup=1, High_Cheekbones=1, Male=1, Mouth_Slightly_Open=1, Mustache=1, Narrow_Eyes=1, No_Beard=1, Oval_Face=1, Pale_Skin=1, Pointy_Nose=1, Receding_Hairline=1, Rosy_Cheeks=1, Sideburns=1, Smiling=1, Straight_Hair=1, Wavy_Hair=1, Wearing_Earrings=1, Wearing_Hat=1, Wearing_Lipstick=1, Wearing_Necklace=1, Wearing_Necktie=1, Young'''\n",
    "attribs = attribs.split('=1,')\n",
    "attribs = [attrib.strip() for attrib in attribs]\n",
    "print(f\"=1, \".join(attribs))"
   ]
  },
  {
   "cell_type": "code",
   "execution_count": 413,
   "metadata": {},
   "outputs": [],
   "source": [
    "attrib_dict = {attrib:i for i,attrib in enumerate(attribs)}"
   ]
  },
  {
   "cell_type": "code",
   "execution_count": 115,
   "metadata": {
    "scrolled": true
   },
   "outputs": [
    {
     "data": {
      "application/vnd.jupyter.widget-view+json": {
       "model_id": "e1659948f0404e8dad3f7199c381b94d",
       "version_major": 2,
       "version_minor": 0
      },
      "text/plain": [
       "Label(value='5_o_Clock_Shadow')"
      ]
     },
     "metadata": {},
     "output_type": "display_data"
    },
    {
     "data": {
      "application/vnd.jupyter.widget-view+json": {
       "model_id": "e032f928fe5a4321a08a3b4bed6bf132",
       "version_major": 2,
       "version_minor": 0
      },
      "text/plain": [
       "FloatSlider(value=-1.0, max=3.0, min=-3.0, step=0.5)"
      ]
     },
     "metadata": {},
     "output_type": "display_data"
    },
    {
     "data": {
      "application/vnd.jupyter.widget-view+json": {
       "model_id": "21c27b29886246e9b58bf37688047fd8",
       "version_major": 2,
       "version_minor": 0
      },
      "text/plain": [
       "Label(value=' Arched_Eyebrows')"
      ]
     },
     "metadata": {},
     "output_type": "display_data"
    },
    {
     "data": {
      "application/vnd.jupyter.widget-view+json": {
       "model_id": "f82ee2b392354ff3bd0b5bf5478778a5",
       "version_major": 2,
       "version_minor": 0
      },
      "text/plain": [
       "FloatSlider(value=-1.0, max=3.0, min=-3.0, step=0.5)"
      ]
     },
     "metadata": {},
     "output_type": "display_data"
    },
    {
     "data": {
      "application/vnd.jupyter.widget-view+json": {
       "model_id": "6fa15a12a36e4f50a50872b606d29f37",
       "version_major": 2,
       "version_minor": 0
      },
      "text/plain": [
       "Label(value=' Attractive')"
      ]
     },
     "metadata": {},
     "output_type": "display_data"
    },
    {
     "data": {
      "application/vnd.jupyter.widget-view+json": {
       "model_id": "a2f6539f120f4de7958a5658e0223097",
       "version_major": 2,
       "version_minor": 0
      },
      "text/plain": [
       "FloatSlider(value=-1.0, max=3.0, min=-3.0, step=0.5)"
      ]
     },
     "metadata": {},
     "output_type": "display_data"
    },
    {
     "data": {
      "application/vnd.jupyter.widget-view+json": {
       "model_id": "39002b009d114b08996bab9f08dd0257",
       "version_major": 2,
       "version_minor": 0
      },
      "text/plain": [
       "Label(value=' Bags_Under_Eyes')"
      ]
     },
     "metadata": {},
     "output_type": "display_data"
    },
    {
     "data": {
      "application/vnd.jupyter.widget-view+json": {
       "model_id": "d914d77b833e4e329f44b876c2182913",
       "version_major": 2,
       "version_minor": 0
      },
      "text/plain": [
       "FloatSlider(value=-1.0, max=3.0, min=-3.0, step=0.5)"
      ]
     },
     "metadata": {},
     "output_type": "display_data"
    },
    {
     "data": {
      "application/vnd.jupyter.widget-view+json": {
       "model_id": "3d0cb654423d41a7b40372810e9d034a",
       "version_major": 2,
       "version_minor": 0
      },
      "text/plain": [
       "Label(value=' Bald')"
      ]
     },
     "metadata": {},
     "output_type": "display_data"
    },
    {
     "data": {
      "application/vnd.jupyter.widget-view+json": {
       "model_id": "903399ae025642dba5baf70da63de018",
       "version_major": 2,
       "version_minor": 0
      },
      "text/plain": [
       "FloatSlider(value=-1.0, max=3.0, min=-3.0, step=0.5)"
      ]
     },
     "metadata": {},
     "output_type": "display_data"
    },
    {
     "data": {
      "application/vnd.jupyter.widget-view+json": {
       "model_id": "9024b33c1903406facabe78def6a3565",
       "version_major": 2,
       "version_minor": 0
      },
      "text/plain": [
       "Label(value=' Bangs')"
      ]
     },
     "metadata": {},
     "output_type": "display_data"
    },
    {
     "data": {
      "application/vnd.jupyter.widget-view+json": {
       "model_id": "9199221407a7490e9381ea219168189d",
       "version_major": 2,
       "version_minor": 0
      },
      "text/plain": [
       "FloatSlider(value=-1.0, max=3.0, min=-3.0, step=0.5)"
      ]
     },
     "metadata": {},
     "output_type": "display_data"
    },
    {
     "data": {
      "application/vnd.jupyter.widget-view+json": {
       "model_id": "8c52e83c846b450887100e0684ec4c09",
       "version_major": 2,
       "version_minor": 0
      },
      "text/plain": [
       "Label(value=' Big_Lips')"
      ]
     },
     "metadata": {},
     "output_type": "display_data"
    },
    {
     "data": {
      "application/vnd.jupyter.widget-view+json": {
       "model_id": "838123505b3c45b68a418923f36c1729",
       "version_major": 2,
       "version_minor": 0
      },
      "text/plain": [
       "FloatSlider(value=-1.0, max=3.0, min=-3.0, step=0.5)"
      ]
     },
     "metadata": {},
     "output_type": "display_data"
    },
    {
     "data": {
      "application/vnd.jupyter.widget-view+json": {
       "model_id": "563fbc5a37f34925934cadb8a19ecf61",
       "version_major": 2,
       "version_minor": 0
      },
      "text/plain": [
       "Label(value=' Big_Nose')"
      ]
     },
     "metadata": {},
     "output_type": "display_data"
    },
    {
     "data": {
      "application/vnd.jupyter.widget-view+json": {
       "model_id": "14a9353fa0e54299b71147f095f3e070",
       "version_major": 2,
       "version_minor": 0
      },
      "text/plain": [
       "FloatSlider(value=-1.0, max=3.0, min=-3.0, step=0.5)"
      ]
     },
     "metadata": {},
     "output_type": "display_data"
    },
    {
     "data": {
      "application/vnd.jupyter.widget-view+json": {
       "model_id": "f8d02b4b8ba34f9cb83684e6a0e35e85",
       "version_major": 2,
       "version_minor": 0
      },
      "text/plain": [
       "Label(value=' Black_Hair')"
      ]
     },
     "metadata": {},
     "output_type": "display_data"
    },
    {
     "data": {
      "application/vnd.jupyter.widget-view+json": {
       "model_id": "8e476079ae314f74a277128bc6995854",
       "version_major": 2,
       "version_minor": 0
      },
      "text/plain": [
       "FloatSlider(value=-1.0, max=3.0, min=-3.0, step=0.5)"
      ]
     },
     "metadata": {},
     "output_type": "display_data"
    },
    {
     "data": {
      "application/vnd.jupyter.widget-view+json": {
       "model_id": "0ff56e5a95dd4bed9ddbfdf1a0dcf180",
       "version_major": 2,
       "version_minor": 0
      },
      "text/plain": [
       "Label(value=' Blond_Hair')"
      ]
     },
     "metadata": {},
     "output_type": "display_data"
    },
    {
     "data": {
      "application/vnd.jupyter.widget-view+json": {
       "model_id": "791a7ef8dc384823b8113364724e16e8",
       "version_major": 2,
       "version_minor": 0
      },
      "text/plain": [
       "FloatSlider(value=-1.0, max=3.0, min=-3.0, step=0.5)"
      ]
     },
     "metadata": {},
     "output_type": "display_data"
    },
    {
     "data": {
      "application/vnd.jupyter.widget-view+json": {
       "model_id": "7d797e04b27745c6ba39a2b8fc30c643",
       "version_major": 2,
       "version_minor": 0
      },
      "text/plain": [
       "Label(value=' Blurry')"
      ]
     },
     "metadata": {},
     "output_type": "display_data"
    },
    {
     "data": {
      "application/vnd.jupyter.widget-view+json": {
       "model_id": "25a4f6952276483f9f00260da1a0186c",
       "version_major": 2,
       "version_minor": 0
      },
      "text/plain": [
       "FloatSlider(value=-1.0, max=3.0, min=-3.0, step=0.5)"
      ]
     },
     "metadata": {},
     "output_type": "display_data"
    },
    {
     "data": {
      "application/vnd.jupyter.widget-view+json": {
       "model_id": "0ab9ee78ae3e4cefacac4972bfa77ea9",
       "version_major": 2,
       "version_minor": 0
      },
      "text/plain": [
       "Label(value=' Brown_Hair')"
      ]
     },
     "metadata": {},
     "output_type": "display_data"
    },
    {
     "data": {
      "application/vnd.jupyter.widget-view+json": {
       "model_id": "72611b9a8bcc4220966afc6150b599bd",
       "version_major": 2,
       "version_minor": 0
      },
      "text/plain": [
       "FloatSlider(value=-1.0, max=3.0, min=-3.0, step=0.5)"
      ]
     },
     "metadata": {},
     "output_type": "display_data"
    },
    {
     "data": {
      "application/vnd.jupyter.widget-view+json": {
       "model_id": "5f81c66e1f554b5c916d7f234c2b354a",
       "version_major": 2,
       "version_minor": 0
      },
      "text/plain": [
       "Label(value=' Bushy_Eyebrows')"
      ]
     },
     "metadata": {},
     "output_type": "display_data"
    },
    {
     "data": {
      "application/vnd.jupyter.widget-view+json": {
       "model_id": "a0a3d033a383400f9971ade2c9c1b362",
       "version_major": 2,
       "version_minor": 0
      },
      "text/plain": [
       "FloatSlider(value=-1.0, max=3.0, min=-3.0, step=0.5)"
      ]
     },
     "metadata": {},
     "output_type": "display_data"
    },
    {
     "data": {
      "application/vnd.jupyter.widget-view+json": {
       "model_id": "7e8e7a708f0a497d96cdc5cf246f9cb1",
       "version_major": 2,
       "version_minor": 0
      },
      "text/plain": [
       "Label(value=' Chubby')"
      ]
     },
     "metadata": {},
     "output_type": "display_data"
    },
    {
     "data": {
      "application/vnd.jupyter.widget-view+json": {
       "model_id": "bc38a85b82e64ca8a1cbce9bb7cc211f",
       "version_major": 2,
       "version_minor": 0
      },
      "text/plain": [
       "FloatSlider(value=-1.0, max=3.0, min=-3.0, step=0.5)"
      ]
     },
     "metadata": {},
     "output_type": "display_data"
    },
    {
     "data": {
      "application/vnd.jupyter.widget-view+json": {
       "model_id": "3374adf8acd6474091bdb0651760c02e",
       "version_major": 2,
       "version_minor": 0
      },
      "text/plain": [
       "Label(value=' Double_Chin')"
      ]
     },
     "metadata": {},
     "output_type": "display_data"
    },
    {
     "data": {
      "application/vnd.jupyter.widget-view+json": {
       "model_id": "2d292ccd7e504402bf731b71c826f324",
       "version_major": 2,
       "version_minor": 0
      },
      "text/plain": [
       "FloatSlider(value=-1.0, max=3.0, min=-3.0, step=0.5)"
      ]
     },
     "metadata": {},
     "output_type": "display_data"
    },
    {
     "data": {
      "application/vnd.jupyter.widget-view+json": {
       "model_id": "caba2f531f8045d5bed8dab434575a08",
       "version_major": 2,
       "version_minor": 0
      },
      "text/plain": [
       "Label(value=' Eyeglasses')"
      ]
     },
     "metadata": {},
     "output_type": "display_data"
    },
    {
     "data": {
      "application/vnd.jupyter.widget-view+json": {
       "model_id": "6147683bb77849449e4ad10238cfca2e",
       "version_major": 2,
       "version_minor": 0
      },
      "text/plain": [
       "FloatSlider(value=-1.0, max=3.0, min=-3.0, step=0.5)"
      ]
     },
     "metadata": {},
     "output_type": "display_data"
    },
    {
     "data": {
      "application/vnd.jupyter.widget-view+json": {
       "model_id": "c8419c3f84244413900c98fd894ae421",
       "version_major": 2,
       "version_minor": 0
      },
      "text/plain": [
       "Label(value=' Goatee')"
      ]
     },
     "metadata": {},
     "output_type": "display_data"
    },
    {
     "data": {
      "application/vnd.jupyter.widget-view+json": {
       "model_id": "0552693e93014b95912e876b5c933c06",
       "version_major": 2,
       "version_minor": 0
      },
      "text/plain": [
       "FloatSlider(value=-1.0, max=3.0, min=-3.0, step=0.5)"
      ]
     },
     "metadata": {},
     "output_type": "display_data"
    },
    {
     "data": {
      "application/vnd.jupyter.widget-view+json": {
       "model_id": "144eb4ae114948b3b1e45963fd14c81c",
       "version_major": 2,
       "version_minor": 0
      },
      "text/plain": [
       "Label(value=' Gray_Hair')"
      ]
     },
     "metadata": {},
     "output_type": "display_data"
    },
    {
     "data": {
      "application/vnd.jupyter.widget-view+json": {
       "model_id": "e3257b4c9f6849c7bb809c0fd316fcae",
       "version_major": 2,
       "version_minor": 0
      },
      "text/plain": [
       "FloatSlider(value=-1.0, max=3.0, min=-3.0, step=0.5)"
      ]
     },
     "metadata": {},
     "output_type": "display_data"
    },
    {
     "data": {
      "application/vnd.jupyter.widget-view+json": {
       "model_id": "edb93e07a2ed45109cf18066b476860d",
       "version_major": 2,
       "version_minor": 0
      },
      "text/plain": [
       "Label(value=' Heavy_Makeup')"
      ]
     },
     "metadata": {},
     "output_type": "display_data"
    },
    {
     "data": {
      "application/vnd.jupyter.widget-view+json": {
       "model_id": "913b0d8e972244f890a69ff653a54efd",
       "version_major": 2,
       "version_minor": 0
      },
      "text/plain": [
       "FloatSlider(value=-1.0, max=3.0, min=-3.0, step=0.5)"
      ]
     },
     "metadata": {},
     "output_type": "display_data"
    },
    {
     "data": {
      "application/vnd.jupyter.widget-view+json": {
       "model_id": "00dfdef412af460b9ef47f02c31b4ee7",
       "version_major": 2,
       "version_minor": 0
      },
      "text/plain": [
       "Label(value=' High_Cheekbones')"
      ]
     },
     "metadata": {},
     "output_type": "display_data"
    },
    {
     "data": {
      "application/vnd.jupyter.widget-view+json": {
       "model_id": "ac67523c095747f19d188b5a1b155a73",
       "version_major": 2,
       "version_minor": 0
      },
      "text/plain": [
       "FloatSlider(value=-1.0, max=3.0, min=-3.0, step=0.5)"
      ]
     },
     "metadata": {},
     "output_type": "display_data"
    },
    {
     "data": {
      "application/vnd.jupyter.widget-view+json": {
       "model_id": "b02e00f12cd74d3cbaa9cf3c4dad1eca",
       "version_major": 2,
       "version_minor": 0
      },
      "text/plain": [
       "Label(value=' Male')"
      ]
     },
     "metadata": {},
     "output_type": "display_data"
    },
    {
     "data": {
      "application/vnd.jupyter.widget-view+json": {
       "model_id": "732a2a4da2114f0ea89ced6ba30a89ea",
       "version_major": 2,
       "version_minor": 0
      },
      "text/plain": [
       "FloatSlider(value=-1.0, max=3.0, min=-3.0, step=0.5)"
      ]
     },
     "metadata": {},
     "output_type": "display_data"
    },
    {
     "data": {
      "application/vnd.jupyter.widget-view+json": {
       "model_id": "a9d44663afcc47dc95ef6a5309ea92c6",
       "version_major": 2,
       "version_minor": 0
      },
      "text/plain": [
       "Label(value=' Mouth_Slightly_Open')"
      ]
     },
     "metadata": {},
     "output_type": "display_data"
    },
    {
     "data": {
      "application/vnd.jupyter.widget-view+json": {
       "model_id": "5df643626a884a0b80d893a854c7abce",
       "version_major": 2,
       "version_minor": 0
      },
      "text/plain": [
       "FloatSlider(value=-1.0, max=3.0, min=-3.0, step=0.5)"
      ]
     },
     "metadata": {},
     "output_type": "display_data"
    },
    {
     "data": {
      "application/vnd.jupyter.widget-view+json": {
       "model_id": "f4c44b3e5d8e4388ae9739b75110ba16",
       "version_major": 2,
       "version_minor": 0
      },
      "text/plain": [
       "Label(value=' Mustache')"
      ]
     },
     "metadata": {},
     "output_type": "display_data"
    },
    {
     "data": {
      "application/vnd.jupyter.widget-view+json": {
       "model_id": "0c52a5e9cb4e4369a3e6c5ba7a26aeb8",
       "version_major": 2,
       "version_minor": 0
      },
      "text/plain": [
       "FloatSlider(value=-1.0, max=3.0, min=-3.0, step=0.5)"
      ]
     },
     "metadata": {},
     "output_type": "display_data"
    },
    {
     "data": {
      "application/vnd.jupyter.widget-view+json": {
       "model_id": "d0db746e057948cc86dd91f1ec9d2985",
       "version_major": 2,
       "version_minor": 0
      },
      "text/plain": [
       "Label(value=' Narrow_Eyes')"
      ]
     },
     "metadata": {},
     "output_type": "display_data"
    },
    {
     "data": {
      "application/vnd.jupyter.widget-view+json": {
       "model_id": "1314e998c1d440e9bbb004aa968f582e",
       "version_major": 2,
       "version_minor": 0
      },
      "text/plain": [
       "FloatSlider(value=-1.0, max=3.0, min=-3.0, step=0.5)"
      ]
     },
     "metadata": {},
     "output_type": "display_data"
    },
    {
     "data": {
      "application/vnd.jupyter.widget-view+json": {
       "model_id": "a419c3b5ead944289d93053d50b65166",
       "version_major": 2,
       "version_minor": 0
      },
      "text/plain": [
       "Label(value=' No_Beard')"
      ]
     },
     "metadata": {},
     "output_type": "display_data"
    },
    {
     "data": {
      "application/vnd.jupyter.widget-view+json": {
       "model_id": "c8b72a6ff8f64edb8c7ae741b3c14f78",
       "version_major": 2,
       "version_minor": 0
      },
      "text/plain": [
       "FloatSlider(value=-1.0, max=3.0, min=-3.0, step=0.5)"
      ]
     },
     "metadata": {},
     "output_type": "display_data"
    },
    {
     "data": {
      "application/vnd.jupyter.widget-view+json": {
       "model_id": "7eb0a157e4d84d4a85443b114b58c28f",
       "version_major": 2,
       "version_minor": 0
      },
      "text/plain": [
       "Label(value=' Oval_Face')"
      ]
     },
     "metadata": {},
     "output_type": "display_data"
    },
    {
     "data": {
      "application/vnd.jupyter.widget-view+json": {
       "model_id": "cb1791830b2d49cfb377be287ee585b1",
       "version_major": 2,
       "version_minor": 0
      },
      "text/plain": [
       "FloatSlider(value=-1.0, max=3.0, min=-3.0, step=0.5)"
      ]
     },
     "metadata": {},
     "output_type": "display_data"
    },
    {
     "data": {
      "application/vnd.jupyter.widget-view+json": {
       "model_id": "dfa09831761b4b1f957595f3f322aaac",
       "version_major": 2,
       "version_minor": 0
      },
      "text/plain": [
       "Label(value=' Pale_Skin')"
      ]
     },
     "metadata": {},
     "output_type": "display_data"
    },
    {
     "data": {
      "application/vnd.jupyter.widget-view+json": {
       "model_id": "d29ef40a9ebc42aa8bee7a7b0e19a7ef",
       "version_major": 2,
       "version_minor": 0
      },
      "text/plain": [
       "FloatSlider(value=-1.0, max=3.0, min=-3.0, step=0.5)"
      ]
     },
     "metadata": {},
     "output_type": "display_data"
    },
    {
     "data": {
      "application/vnd.jupyter.widget-view+json": {
       "model_id": "75a2af50f92d4d85ba6743284ea11355",
       "version_major": 2,
       "version_minor": 0
      },
      "text/plain": [
       "Label(value=' Pointy_Nose')"
      ]
     },
     "metadata": {},
     "output_type": "display_data"
    },
    {
     "data": {
      "application/vnd.jupyter.widget-view+json": {
       "model_id": "f0df2f4b370a4019aea980a68609c279",
       "version_major": 2,
       "version_minor": 0
      },
      "text/plain": [
       "FloatSlider(value=-1.0, max=3.0, min=-3.0, step=0.5)"
      ]
     },
     "metadata": {},
     "output_type": "display_data"
    },
    {
     "data": {
      "application/vnd.jupyter.widget-view+json": {
       "model_id": "6da99bfe36064274a0aac9ade0a93feb",
       "version_major": 2,
       "version_minor": 0
      },
      "text/plain": [
       "Label(value=' Receding_Hairline')"
      ]
     },
     "metadata": {},
     "output_type": "display_data"
    },
    {
     "data": {
      "application/vnd.jupyter.widget-view+json": {
       "model_id": "099693cdbd2f42febfe9902afce4a318",
       "version_major": 2,
       "version_minor": 0
      },
      "text/plain": [
       "FloatSlider(value=-1.0, max=3.0, min=-3.0, step=0.5)"
      ]
     },
     "metadata": {},
     "output_type": "display_data"
    },
    {
     "data": {
      "application/vnd.jupyter.widget-view+json": {
       "model_id": "2602a07a7f10499ea6c2770a6df3abb7",
       "version_major": 2,
       "version_minor": 0
      },
      "text/plain": [
       "Label(value=' Rosy_Cheeks')"
      ]
     },
     "metadata": {},
     "output_type": "display_data"
    },
    {
     "data": {
      "application/vnd.jupyter.widget-view+json": {
       "model_id": "c5b0924db2a24f7d885cb22d9273dbde",
       "version_major": 2,
       "version_minor": 0
      },
      "text/plain": [
       "FloatSlider(value=-1.0, max=3.0, min=-3.0, step=0.5)"
      ]
     },
     "metadata": {},
     "output_type": "display_data"
    },
    {
     "data": {
      "application/vnd.jupyter.widget-view+json": {
       "model_id": "9f1608102abd4690ac0fd7a013c1b976",
       "version_major": 2,
       "version_minor": 0
      },
      "text/plain": [
       "Label(value=' Sideburns')"
      ]
     },
     "metadata": {},
     "output_type": "display_data"
    },
    {
     "data": {
      "application/vnd.jupyter.widget-view+json": {
       "model_id": "29683c5c57ba4b92a114ef579cad287a",
       "version_major": 2,
       "version_minor": 0
      },
      "text/plain": [
       "FloatSlider(value=-1.0, max=3.0, min=-3.0, step=0.5)"
      ]
     },
     "metadata": {},
     "output_type": "display_data"
    },
    {
     "data": {
      "application/vnd.jupyter.widget-view+json": {
       "model_id": "252969059d2f4c4993c1dc86982970c1",
       "version_major": 2,
       "version_minor": 0
      },
      "text/plain": [
       "Label(value=' Smiling')"
      ]
     },
     "metadata": {},
     "output_type": "display_data"
    },
    {
     "data": {
      "application/vnd.jupyter.widget-view+json": {
       "model_id": "f68dd196ab224f039ce7954550bdadc3",
       "version_major": 2,
       "version_minor": 0
      },
      "text/plain": [
       "FloatSlider(value=-1.0, max=3.0, min=-3.0, step=0.5)"
      ]
     },
     "metadata": {},
     "output_type": "display_data"
    },
    {
     "data": {
      "application/vnd.jupyter.widget-view+json": {
       "model_id": "947d9b20f5f647c3a82944a00158c87b",
       "version_major": 2,
       "version_minor": 0
      },
      "text/plain": [
       "Label(value=' Straight_Hair')"
      ]
     },
     "metadata": {},
     "output_type": "display_data"
    },
    {
     "data": {
      "application/vnd.jupyter.widget-view+json": {
       "model_id": "d484ce75a8374dcfba85361ac88ea418",
       "version_major": 2,
       "version_minor": 0
      },
      "text/plain": [
       "FloatSlider(value=-1.0, max=3.0, min=-3.0, step=0.5)"
      ]
     },
     "metadata": {},
     "output_type": "display_data"
    },
    {
     "data": {
      "application/vnd.jupyter.widget-view+json": {
       "model_id": "8515d77ee28e4805bf086f8919f3b5bd",
       "version_major": 2,
       "version_minor": 0
      },
      "text/plain": [
       "Label(value=' Wavy_Hair')"
      ]
     },
     "metadata": {},
     "output_type": "display_data"
    },
    {
     "data": {
      "application/vnd.jupyter.widget-view+json": {
       "model_id": "af6df9b3053c4745ac91319d4078c606",
       "version_major": 2,
       "version_minor": 0
      },
      "text/plain": [
       "FloatSlider(value=-1.0, max=3.0, min=-3.0, step=0.5)"
      ]
     },
     "metadata": {},
     "output_type": "display_data"
    },
    {
     "data": {
      "application/vnd.jupyter.widget-view+json": {
       "model_id": "025009b6e56f4a39962a1e3b2b18e1eb",
       "version_major": 2,
       "version_minor": 0
      },
      "text/plain": [
       "Label(value=' Wearing_Earrings')"
      ]
     },
     "metadata": {},
     "output_type": "display_data"
    },
    {
     "data": {
      "application/vnd.jupyter.widget-view+json": {
       "model_id": "b1859785d85b4771a8a30546aecc025d",
       "version_major": 2,
       "version_minor": 0
      },
      "text/plain": [
       "FloatSlider(value=-1.0, max=3.0, min=-3.0, step=0.5)"
      ]
     },
     "metadata": {},
     "output_type": "display_data"
    },
    {
     "data": {
      "application/vnd.jupyter.widget-view+json": {
       "model_id": "a8c786783a6c4a989bc21915b1258714",
       "version_major": 2,
       "version_minor": 0
      },
      "text/plain": [
       "Label(value=' Wearing_Hat')"
      ]
     },
     "metadata": {},
     "output_type": "display_data"
    },
    {
     "data": {
      "application/vnd.jupyter.widget-view+json": {
       "model_id": "4145f4a0aaa448109d4f718a2fc5f208",
       "version_major": 2,
       "version_minor": 0
      },
      "text/plain": [
       "FloatSlider(value=-1.0, max=3.0, min=-3.0, step=0.5)"
      ]
     },
     "metadata": {},
     "output_type": "display_data"
    },
    {
     "data": {
      "application/vnd.jupyter.widget-view+json": {
       "model_id": "575b2a0110c04a78929a40913561b49d",
       "version_major": 2,
       "version_minor": 0
      },
      "text/plain": [
       "Label(value=' Wearing_Lipstick')"
      ]
     },
     "metadata": {},
     "output_type": "display_data"
    },
    {
     "data": {
      "application/vnd.jupyter.widget-view+json": {
       "model_id": "eb96aa6ce26c4eeba1a880003016794e",
       "version_major": 2,
       "version_minor": 0
      },
      "text/plain": [
       "FloatSlider(value=-1.0, max=3.0, min=-3.0, step=0.5)"
      ]
     },
     "metadata": {},
     "output_type": "display_data"
    },
    {
     "data": {
      "application/vnd.jupyter.widget-view+json": {
       "model_id": "a20ebbed5d714b6ca83fffba6e2f20a9",
       "version_major": 2,
       "version_minor": 0
      },
      "text/plain": [
       "Label(value=' Wearing_Necklace')"
      ]
     },
     "metadata": {},
     "output_type": "display_data"
    },
    {
     "data": {
      "application/vnd.jupyter.widget-view+json": {
       "model_id": "1849d8779e434ff4b9072432552d66ea",
       "version_major": 2,
       "version_minor": 0
      },
      "text/plain": [
       "FloatSlider(value=-1.0, max=3.0, min=-3.0, step=0.5)"
      ]
     },
     "metadata": {},
     "output_type": "display_data"
    },
    {
     "data": {
      "application/vnd.jupyter.widget-view+json": {
       "model_id": "680afb3646a849e9aa0027e7dc724a1b",
       "version_major": 2,
       "version_minor": 0
      },
      "text/plain": [
       "Label(value=' Wearing_Necktie')"
      ]
     },
     "metadata": {},
     "output_type": "display_data"
    },
    {
     "data": {
      "application/vnd.jupyter.widget-view+json": {
       "model_id": "972eef4e31e64227b4f685d957da869b",
       "version_major": 2,
       "version_minor": 0
      },
      "text/plain": [
       "FloatSlider(value=-1.0, max=3.0, min=-3.0, step=0.5)"
      ]
     },
     "metadata": {},
     "output_type": "display_data"
    },
    {
     "data": {
      "application/vnd.jupyter.widget-view+json": {
       "model_id": "3ce1c4cecaa94b539ad2105f160880ea",
       "version_major": 2,
       "version_minor": 0
      },
      "text/plain": [
       "Label(value=' Young')"
      ]
     },
     "metadata": {},
     "output_type": "display_data"
    },
    {
     "data": {
      "application/vnd.jupyter.widget-view+json": {
       "model_id": "e16aa91a2491443b9a5d1b5d52ee1ddf",
       "version_major": 2,
       "version_minor": 0
      },
      "text/plain": [
       "FloatSlider(value=-1.0, max=3.0, min=-3.0, step=0.5)"
      ]
     },
     "metadata": {},
     "output_type": "display_data"
    }
   ],
   "source": [
    "sliders = []\n",
    "labels = []\n",
    "for attrib in attribs:\n",
    "    slider = widgets.FloatSlider(\n",
    "        min=-3,\n",
    "        max=3,\n",
    "        step=0.5,\n",
    "        value=-1\n",
    "    )\n",
    "    labels.append(Label(attrib))\n",
    "    sliders.append(slider)\n",
    "for label, slider in zip(labels,sliders):\n",
    "    display(label)\n",
    "    display(slider)"
   ]
  },
  {
   "cell_type": "code",
   "execution_count": 497,
   "metadata": {},
   "outputs": [
    {
     "data": {
      "image/png": "[encoded data removed]",
      "text/plain": [
       "<Figure size 432x288 with 1 Axes>"
      ]
     },
     "metadata": {
      "needs_background": "light"
     },
     "output_type": "display_data"
    }
   ],
   "source": [
    "conditions = np.array([slider.value for slider in sliders])\n",
    "mu, sigma = 0, 1 #mean and standard deviation\n",
    "#s = np.random.normal(mu, sigma,latent_dim)\n",
    "gen_img = unnormalize_tanh( decoder_big.predict([np.array([s]),np.array([conditions])])[0])\n",
    "plt.imshow(gen_img)\n",
    "plt.show()"
   ]
  },
  {
   "cell_type": "code",
   "execution_count": 488,
   "metadata": {},
   "outputs": [],
   "source": [
    "import os\n",
    "\n",
    "def attrib_sweep(model, attribs,  noise, init_conditions, start, stop, steps, wieghts=[], save=False, show=True, make_gif=False):\n",
    "    \n",
    "    conditions = init_conditions.copy()\n",
    "    if wieghts == []:\n",
    "        wieghts = [1] * len(attribs)\n",
    "    print(f'Sweeping {\"&\".join(attribs)} from {start} to {stop} in {steps} steps.')\n",
    "    if save:\n",
    "        try:\n",
    "            os.mkdir(f'./attribute_sweeps/{attrib}/')\n",
    "        except OSError as error: \n",
    "            print(error)\n",
    "    frames = []\n",
    "    for j,i in enumerate(np.linspace(start,stop,steps)):\n",
    "        for attrib, wieght in zip(attribs,wieghts):\n",
    "            idx = attrib_dict[attrib]\n",
    "            conditions[idx] = i*wieght\n",
    "        gen_img = unnormalize_tanh( model.predict([np.array([s]),np.array([conditions])])[0])\n",
    "        if show:\n",
    "            plt.imshow(gen_img)\n",
    "            plt.axis('off')\n",
    "            if save:\n",
    "                plt.savefig(f'./attribute_sweeps/{\"_\".join(attribs)}/({j})_{i}_{\"_\".join(attribs)}.png')\n",
    "            plt.show()\n",
    "        if make_gif:\n",
    "            frames.append(Image.fromarray((gen_img * 255).astype(np.uint8)).resize((256,256)))\n",
    "            \n",
    "    if make_gif:\n",
    "        frames[0].save(f'{\"&\".join(attribs)}.gif', format='GIF',\n",
    "               append_images=frames[1:],\n",
    "               save_all=True,\n",
    "               duration=100, loop=0)"
   ]
  },
  {
   "cell_type": "code",
   "execution_count": 498,
   "metadata": {},
   "outputs": [
    {
     "name": "stdout",
     "output_type": "stream",
     "text": [
      "Sweeping 5oClockShadow from -5 to 5 in 20 steps.\n",
      "Sweeping Arched_Eyebrows from -5 to 5 in 20 steps.\n",
      "Sweeping Attractive from -5 to 5 in 20 steps.\n",
      "Sweeping Bags_Under_Eyes from -5 to 5 in 20 steps.\n",
      "Sweeping Bald from -5 to 5 in 20 steps.\n",
      "Sweeping Bangs from -5 to 5 in 20 steps.\n",
      "Sweeping Big_Lips from -5 to 5 in 20 steps.\n",
      "Sweeping Big_Nose from -5 to 5 in 20 steps.\n",
      "Sweeping Black_Hair from -5 to 5 in 20 steps.\n",
      "Sweeping Blond_Hair from -5 to 5 in 20 steps.\n",
      "Sweeping Blurry from -5 to 5 in 20 steps.\n",
      "Sweeping Brown_Hair from -5 to 5 in 20 steps.\n",
      "Sweeping Bushy_Eyebrows from -5 to 5 in 20 steps.\n",
      "Sweeping Chubby from -5 to 5 in 20 steps.\n",
      "Sweeping Double_Chin from -5 to 5 in 20 steps.\n",
      "Sweeping Eyeglasses from -5 to 5 in 20 steps.\n",
      "Sweeping Goatee from -5 to 5 in 20 steps.\n",
      "Sweeping Gray_Hair from -5 to 5 in 20 steps.\n",
      "Sweeping Heavy_Makeup from -5 to 5 in 20 steps.\n",
      "Sweeping High_Cheekbones from -5 to 5 in 20 steps.\n",
      "Sweeping Male from -5 to 5 in 20 steps.\n",
      "Sweeping Mouth_Slightly_Open from -5 to 5 in 20 steps.\n",
      "Sweeping Mustache from -5 to 5 in 20 steps.\n",
      "Sweeping Narrow_Eyes from -5 to 5 in 20 steps.\n",
      "Sweeping No_Beard from -5 to 5 in 20 steps.\n",
      "Sweeping Oval_Face from -5 to 5 in 20 steps.\n",
      "Sweeping Pale_Skin from -5 to 5 in 20 steps.\n",
      "Sweeping Pointy_Nose from -5 to 5 in 20 steps.\n",
      "Sweeping Receding_Hairline from -5 to 5 in 20 steps.\n",
      "Sweeping Rosy_Cheeks from -5 to 5 in 20 steps.\n",
      "Sweeping Sideburns from -5 to 5 in 20 steps.\n",
      "Sweeping Smiling from -5 to 5 in 20 steps.\n",
      "Sweeping Straight_Hair from -5 to 5 in 20 steps.\n",
      "Sweeping Wavy_Hair from -5 to 5 in 20 steps.\n",
      "Sweeping Wearing_Earrings from -5 to 5 in 20 steps.\n",
      "Sweeping Wearing_Hat from -5 to 5 in 20 steps.\n",
      "Sweeping Wearing_Lipstick from -5 to 5 in 20 steps.\n",
      "Sweeping Wearing_Necklace from -5 to 5 in 20 steps.\n",
      "Sweeping Wearing_Necktie from -5 to 5 in 20 steps.\n",
      "Sweeping Young from -5 to 5 in 20 steps.\n"
     ]
    }
   ],
   "source": [
    "# sweep attribs with wieghts\n",
    "\n",
    "for attrib in attribs:\n",
    "    attrib_sweep(decoder_big, [attrib], s, conditions, -5,5,20,wieghts=wieghts,show=False, save=False, make_gif=True)"
   ]
  },
  {
   "cell_type": "code",
   "execution_count": 216,
   "metadata": {},
   "outputs": [
    {
     "data": {
      "text/plain": [
       "'5_o_Clock_Shadow  Arched_Eyebrows  Attractive  Bags_Under_Eyes  Bald  Bangs  Big_Lips  Big_Nose  Black_Hair  Blond_Hair  Blurry  Brown_Hair  Bushy_Eyebrows  Chubby  Double_Chin  Eyeglasses  Goatee  Gray_Hair  Heavy_Makeup  High_Cheekbones  Male  Mouth_Slightly_Open  Mustache  Narrow_Eyes  No_Beard  Oval_Face  Pale_Skin  Pointy_Nose  Receding_Hairline  Rosy_Cheeks  Sideburns  Smiling  Straight_Hair  Wavy_Hair  Wearing_Earrings  Wearing_Hat  Wearing_Lipstick  Wearing_Necklace  Wearing_Necktie  Young'"
      ]
     },
     "execution_count": 216,
     "metadata": {},
     "output_type": "execute_result"
    }
   ],
   "source": [
    "# attribs to choose from\n",
    "\" \".join(attribs)"
   ]
  },
  {
   "cell_type": "code",
   "execution_count": 410,
   "metadata": {},
   "outputs": [],
   "source": []
  },
  {
   "cell_type": "code",
   "execution_count": 281,
   "metadata": {},
   "outputs": [],
   "source": [
    "def make_gif(attrib):\n",
    "    frames = []\n",
    "    print(attrib)\n",
    "    imgs = glob.glob(f\"./attribute_sweeps/{attrib}/*.png\")\n",
    "    imgs = sorted(imgs, key=lambda x: int(re.search(r'\\(([0-9]+)\\)', x).group(1)))\n",
    "\n",
    "    for i in imgs:\n",
    "        print(f'processing {i}')\n",
    "        new_frame = Image.open(i)\n",
    "        frames.append(new_frame)\n",
    "\n",
    "    frames[0].save(f'{attrib}.gif', format='GIF',\n",
    "               append_images=frames[1:],\n",
    "               save_all=True,\n",
    "               duration=100, loop=0)"
   ]
  },
  {
   "cell_type": "code",
   "execution_count": 517,
   "metadata": {},
   "outputs": [
    {
     "data": {
      "image/png": "[encoded data removed]",
      "text/plain": [
       "<Figure size 432x288 with 1 Axes>"
      ]
     },
     "metadata": {
      "needs_background": "light"
     },
     "output_type": "display_data"
    }
   ],
   "source": [
    "mu, sigma = 0, 1 #mean and standard deviation\n",
    "z = np.random.normal(mu, sigma,64)\n",
    "u = inner_decoder.predict(np.array([z]))\n",
    "plt.imshow(unnormalize_tanh( decoder.predict([u,np.array([conditions])])[0]))\n",
    "plt.show()"
   ]
  },
  {
   "cell_type": "code",
   "execution_count": 92,
   "metadata": {},
   "outputs": [
    {
     "data": {
      "text/plain": [
       "(1, 100)"
      ]
     },
     "execution_count": 92,
     "metadata": {},
     "output_type": "execute_result"
    }
   ],
   "source": []
  },
  {
   "cell_type": "code",
   "execution_count": null,
   "metadata": {},
   "outputs": [],
   "source": []
  }
 ],
 "metadata": {
  "kernelspec": {
   "display_name": "Python 3",
   "language": "python",
   "name": "python3"
  },
  "language_info": {
   "codemirror_mode": {
    "name": "ipython",
    "version": 3
   },
   "file_extension": ".py",
   "mimetype": "text/x-python",
   "name": "python",
   "nbconvert_exporter": "python",
   "pygments_lexer": "ipython3",
   "version": "3.7.6"
  }
 },
 "nbformat": 4,
 "nbformat_minor": 4
}
