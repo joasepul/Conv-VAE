{
 "cells": [
  {
   "cell_type": "code",
   "execution_count": 30,
   "metadata": {},
   "outputs": [],
   "source": [
    "import tensorflow as tf\n",
    "from tensorflow.keras.preprocessing.image import ImageDataGenerator\n",
    "from tensorflow.keras.layers import Concatenate, GaussianNoise, UpSampling2D, Conv2DTranspose, Conv2D, Dense, Lambda, Input, Flatten, Reshape, BatchNormalization, ReLU, Dropout, LeakyReLU, MaxPooling2D\n",
    "from tensorflow.keras.models import Model, load_model\n",
    "import tensorflow.keras.layers as layers\n",
    "import tensorflow.keras.backend as K\n",
    "from tensorflow.keras.losses import mse, binary_crossentropy\n",
    "from tensorflow.keras.datasets import mnist\n",
    "from tensorflow.keras.optimizers import Adam\n",
    "import matplotlib.pyplot as plt\n",
    "import pandas as pd\n",
    "import numpy as np\n",
    "\n",
    "\n",
    "\n",
    "import os\n",
    "import glob"
   ]
  },
  {
   "cell_type": "code",
   "execution_count": 18,
   "metadata": {},
   "outputs": [],
   "source": [
    "def normalize_for_tanh(img):\n",
    "    return (img - 127.5) / 127.5\n",
    "\n",
    "def unnormalize_tanh(img):\n",
    "    return (img + 1) / 2"
   ]
  },
  {
   "cell_type": "code",
   "execution_count": 36,
   "metadata": {},
   "outputs": [],
   "source": [
    "width = 64\n",
    "height = 64\n",
    "\n",
    "inputs = Input(shape=(width,height,3), name='encoder_input')\n",
    "\n",
    "x = Conv2D(16, 3, strides=2, padding='same', name='conv_1')(inputs)\n",
    "x = BatchNormalization()(x)\n",
    "x = LeakyReLU(0.1)(x)\n",
    "x = Dropout(0.3)(x)\n",
    "\n",
    "x = Conv2D(32, 3, strides=2, padding='same', name='conv_2')(x)\n",
    "x = BatchNormalization()(x)\n",
    "x = LeakyReLU(0.1)(x)\n",
    "x = Dropout(0.3)(x)\n",
    "                 \n",
    "x = Conv2D(64, 3, strides=2, padding='same', name='conv_3')(x)\n",
    "x = BatchNormalization()(x)\n",
    "x = LeakyReLU(0.1)(x)\n",
    "x = Dropout(0.3)(x)\n",
    "\n",
    "\n",
    "x = Conv2D(128, 3, strides=2, padding='same', name='conv_4')(x)\n",
    "x = BatchNormalization()(x)\n",
    "x = LeakyReLU(0.1)(x)\n",
    "x = Dropout(0.3)(x)\n",
    "\n",
    "x = Flatten()(x)\n",
    "\n",
    "x = Dense(128)(x)\n",
    "x = LeakyReLU(0.1)(x)\n",
    "x = Dropout(0.3)(x)\n",
    "\n",
    "\n",
    "x = Dense(40, activation='tanh')(x)\n",
    "\n",
    "dfc_celeba = Model(inputs, x)"
   ]
  },
  {
   "cell_type": "code",
   "execution_count": 27,
   "metadata": {},
   "outputs": [
    {
     "name": "stdout",
     "output_type": "stream",
     "text": [
      "Model: \"model_3\"\n",
      "_________________________________________________________________\n",
      "Layer (type)                 Output Shape              Param #   \n",
      "=================================================================\n",
      "encoder_input (InputLayer)   [(None, 64, 64, 3)]       0         \n",
      "_________________________________________________________________\n",
      "conv_1 (Conv2D)              (None, 32, 32, 16)        448       \n",
      "_________________________________________________________________\n",
      "batch_normalization_13 (Batc (None, 32, 32, 16)        64        \n",
      "_________________________________________________________________\n",
      "leaky_re_lu_13 (LeakyReLU)   (None, 32, 32, 16)        0         \n",
      "_________________________________________________________________\n",
      "dropout (Dropout)            (None, 32, 32, 16)        0         \n",
      "_________________________________________________________________\n",
      "conv_2 (Conv2D)              (None, 16, 16, 32)        4640      \n",
      "_________________________________________________________________\n",
      "batch_normalization_14 (Batc (None, 16, 16, 32)        128       \n",
      "_________________________________________________________________\n",
      "leaky_re_lu_14 (LeakyReLU)   (None, 16, 16, 32)        0         \n",
      "_________________________________________________________________\n",
      "dropout_1 (Dropout)          (None, 16, 16, 32)        0         \n",
      "_________________________________________________________________\n",
      "conv_3 (Conv2D)              (None, 8, 8, 64)          18496     \n",
      "_________________________________________________________________\n",
      "batch_normalization_15 (Batc (None, 8, 8, 64)          256       \n",
      "_________________________________________________________________\n",
      "leaky_re_lu_15 (LeakyReLU)   (None, 8, 8, 64)          0         \n",
      "_________________________________________________________________\n",
      "dropout_2 (Dropout)          (None, 8, 8, 64)          0         \n",
      "_________________________________________________________________\n",
      "conv_4 (Conv2D)              (None, 4, 4, 128)         73856     \n",
      "_________________________________________________________________\n",
      "batch_normalization_16 (Batc (None, 4, 4, 128)         512       \n",
      "_________________________________________________________________\n",
      "leaky_re_lu_16 (LeakyReLU)   (None, 4, 4, 128)         0         \n",
      "_________________________________________________________________\n",
      "dropout_3 (Dropout)          (None, 4, 4, 128)         0         \n",
      "_________________________________________________________________\n",
      "flatten_2 (Flatten)          (None, 2048)              0         \n",
      "_________________________________________________________________\n",
      "dense_4 (Dense)              (None, 128)               262272    \n",
      "_________________________________________________________________\n",
      "leaky_re_lu_17 (LeakyReLU)   (None, 128)               0         \n",
      "_________________________________________________________________\n",
      "dropout_4 (Dropout)          (None, 128)               0         \n",
      "_________________________________________________________________\n",
      "dense_5 (Dense)              (None, 40)                5160      \n",
      "=================================================================\n",
      "Total params: 365,832\n",
      "Trainable params: 365,352\n",
      "Non-trainable params: 480\n",
      "_________________________________________________________________\n"
     ]
    }
   ],
   "source": [
    "classifier.summary()"
   ]
  },
  {
   "cell_type": "code",
   "execution_count": 14,
   "metadata": {},
   "outputs": [],
   "source": [
    "df = pd.read_csv('./celeba-attribs.csv')"
   ]
  },
  {
   "cell_type": "code",
   "execution_count": 34,
   "metadata": {},
   "outputs": [
    {
     "name": "stdout",
     "output_type": "stream",
     "text": [
      "Found 60780 validated image filenames.\n"
     ]
    }
   ],
   "source": [
    "training_split = 0.3\n",
    "\n",
    "training_data_generator = ImageDataGenerator(\n",
    "    validation_split=1-training_split,\n",
    "    horizontal_flip=False,\n",
    "    preprocessing_function=normalize_for_tanh)\n",
    "\n",
    "training_generator = training_data_generator.flow_from_dataframe(\n",
    "    dataframe=df,\n",
    "    directory='../celeba-clean-64/',\n",
    "    x_col=\"img\",\n",
    "    y_col=list(df.columns[1:]),\n",
    "    target_size=(64, 64),\n",
    "    subset='training',\n",
    "    shuffle=True,\n",
    "    batch_size=int(202599 * traning_split),\n",
    "    class_mode='raw')\n",
    "\n",
    "# validation_generator = training_data_generator.flow_from_dataframe(\n",
    "#     dataframe=df,\n",
    "#     directory='../celeba-clean-64/',\n",
    "#     x_col=\"img\",\n",
    "#     y_col=list(df.columns[1:]),\n",
    "#     target_size=(64, 64),\n",
    "#     subset='validation',\n",
    "#     shuffle=True,\n",
    "#     batch_size=int(202599 * (1 - traning_split)),\n",
    "#     class_mode='raw')\n"
   ]
  },
  {
   "cell_type": "code",
   "execution_count": 35,
   "metadata": {},
   "outputs": [],
   "source": [
    "training_data = training_generator.next()"
   ]
  },
  {
   "cell_type": "code",
   "execution_count": 32,
   "metadata": {},
   "outputs": [],
   "source": []
  },
  {
   "cell_type": "code",
   "execution_count": 37,
   "metadata": {},
   "outputs": [],
   "source": [
    "optimizer = Adam(0.0008)\n",
    "dfc_celeba.compile(optimizer=optimizer, loss='mean_squared_error')\n",
    "loss_curve = []"
   ]
  },
  {
   "cell_type": "code",
   "execution_count": 39,
   "metadata": {},
   "outputs": [
    {
     "name": "stdout",
     "output_type": "stream",
     "text": [
      "Epoch [100/100]...  ...12.272(s) loss: 0.300\n",
      "checkpointing at epoch: 100\n"
     ]
    }
   ],
   "source": [
    "import time\n",
    "start_epoch = 100\n",
    "epochs = 101\n",
    "batch_size = 32\n",
    "\n",
    "model_type = 'dfc-celeba'\n",
    "\n",
    "training_imgs = training_data[0]\n",
    "training_cond = training_data[1]\n",
    "num_batches = len(training_imgs) // batch_size\n",
    "\n",
    "for epoch in range(start_epoch,epochs):\n",
    "    start = time.time()\n",
    "    print(f'Epoch [{epoch}/{epochs-1}]...'.ljust(20), end = '')\n",
    "\n",
    "    np.random.seed(epoch)\n",
    "    np.random.shuffle(training_imgs)\n",
    "    np.random.seed(epoch)\n",
    "    np.random.shuffle(training_cond)\n",
    "    \n",
    "    loss = 0\n",
    "    for index in range(num_batches):\n",
    "        img_input = training_imgs[index*batch_size: batch_size*(index+1)]\n",
    "        attribute_label = training_cond[index*batch_size: batch_size*(index+1)]\n",
    "        loss += dfc_celeba.train_on_batch(img_input, attribute_label)\n",
    "    \n",
    "    loss /= num_batches\n",
    "    \n",
    "\n",
    "    \n",
    "    print(f'...{time.time()-start:.3f}(s) loss: {loss:.3f}')\n",
    "    loss_curve.append(loss)\n",
    "    if epoch % 100 == 0:\n",
    "        print(f'checkpointing at epoch: {epoch}')\n",
    "        dfc_celeba.save_weights(f'./checkpoints/epoch-{epoch}-{model_type}-weights.h5')\n",
    "        dfc_celeba.save(f'./checkpoints/epoch-{epoch}-{model_type}.h5')\n",
    "\n"
   ]
  },
  {
   "cell_type": "code",
   "execution_count": 40,
   "metadata": {},
   "outputs": [
    {
     "data": {
      "text/plain": [
       "[<matplotlib.lines.Line2D at 0x4038d248>]"
      ]
     },
     "execution_count": 40,
     "metadata": {},
     "output_type": "execute_result"
    },
    {
     "data": {
      "image/png": "[encoded data removed]",
      "text/plain": [
       "<Figure size 432x288 with 1 Axes>"
      ]
     },
     "metadata": {
      "needs_background": "light"
     },
     "output_type": "display_data"
    }
   ],
   "source": [
    "plt.plot(loss_curve)"
   ]
  },
  {
   "cell_type": "code",
   "execution_count": 47,
   "metadata": {},
   "outputs": [
    {
     "name": "stdout",
     "output_type": "stream",
     "text": [
      "Found 141819 validated image filenames.\n"
     ]
    }
   ],
   "source": [
    "validation_generator = training_data_generator.flow_from_dataframe(\n",
    "    dataframe=df,\n",
    "    directory='../celeba-clean-64/',\n",
    "    x_col=\"img\",\n",
    "    y_col=list(df.columns[1:]),\n",
    "    target_size=(64, 64),\n",
    "    subset='validation',\n",
    "    shuffle=True,\n",
    "    batch_size=3000,\n",
    "    class_mode='raw')\n"
   ]
  },
  {
   "cell_type": "code",
   "execution_count": 48,
   "metadata": {},
   "outputs": [],
   "source": [
    "val_data = validation_generator.next()"
   ]
  },
  {
   "cell_type": "code",
   "execution_count": 49,
   "metadata": {},
   "outputs": [],
   "source": [
    "val_imgs = val_data[0]\n",
    "val_label = val_data[1]"
   ]
  },
  {
   "cell_type": "code",
   "execution_count": 50,
   "metadata": {},
   "outputs": [
    {
     "name": "stdout",
     "output_type": "stream",
     "text": [
      "3000/3000 [==============================] - 0s 132us/sample - loss: 0.2820\n"
     ]
    },
    {
     "data": {
      "text/plain": [
       "0.28200156819820404"
      ]
     },
     "execution_count": 50,
     "metadata": {},
     "output_type": "execute_result"
    }
   ],
   "source": [
    "dfc_celeba.evaluate(val_imgs, val_label)"
   ]
  },
  {
   "cell_type": "code",
   "execution_count": 53,
   "metadata": {},
   "outputs": [],
   "source": [
    "pred = dfc_celeba.predict(val_imgs[0].reshape(-1,64,64,3))\n",
    "tru_label = val_label[0]"
   ]
  },
  {
   "cell_type": "code",
   "execution_count": 54,
   "metadata": {},
   "outputs": [
    {
     "name": "stdout",
     "output_type": "stream",
     "text": [
      "[[-0.99985224 -0.08938473  0.97040904 -0.70440346 -0.99999917 -0.99965036\n",
      "  -0.42848286 -0.95455724 -0.9996165   0.93835014 -0.9895698  -0.9256031\n",
      "  -0.9931181  -0.99929774 -0.9994859  -0.9999709  -0.99987483 -0.9998915\n",
      "   0.89238536  0.9987409  -0.99998957  0.99789155 -0.9998701  -0.88813955\n",
      "   0.9999919   0.47865447 -0.9863472  -0.28151008 -0.9967086  -0.8825431\n",
      "  -0.9999674   0.99999547 -0.11113485 -0.15879342 -0.8694774  -0.9999678\n",
      "   0.98694485 -0.551671   -0.9999953   0.9885746 ]]\n",
      "[-1  1  1 -1 -1 -1 -1 -1 -1  1 -1  1 -1 -1 -1 -1 -1 -1  1  1 -1  1 -1 -1\n",
      "  1  1 -1 -1 -1  1 -1  1 -1 -1 -1 -1  1 -1 -1  1]\n"
     ]
    }
   ],
   "source": [
    "print(pred)\n",
    "print(tru_label)"
   ]
  },
  {
   "cell_type": "code",
   "execution_count": null,
   "metadata": {},
   "outputs": [],
   "source": []
  }
 ],
 "metadata": {
  "kernelspec": {
   "display_name": "Python 3",
   "language": "python",
   "name": "python3"
  },
  "language_info": {
   "codemirror_mode": {
    "name": "ipython",
    "version": 3
   },
   "file_extension": ".py",
   "mimetype": "text/x-python",
   "name": "python",
   "nbconvert_exporter": "python",
   "pygments_lexer": "ipython3",
   "version": "3.7.7"
  }
 },
 "nbformat": 4,
 "nbformat_minor": 4
}
